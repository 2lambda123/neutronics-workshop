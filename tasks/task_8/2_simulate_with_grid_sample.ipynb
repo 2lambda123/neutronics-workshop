{
 "cells": [
  {
   "cell_type": "code",
   "execution_count": 1,
   "metadata": {},
   "outputs": [
    {
     "name": "stderr",
     "output_type": "stream",
     "text": [
      "\r",
      "  0%|          | 0/2 [00:00<?, ?it/s]"
     ]
    },
    {
     "name": "stdout",
     "output_type": "stream",
     "text": [
      "Available materials ['Pb', 'Be', 'Be12Ti', 'Ba5Pb3', 'Nd5Pb4', 'Zr5Pb3', 'Zr5Pb4', 'WC', 'SiC', 'eurofer', 'SS_316L_N_IG', 'tungsten', 'SS347', 'SS321', 'SS316', 'SS304', 'P91', 'SS316L', 'SST91', 'concrete_ordinary', 'concrete_heavy', 'concrete_boronated_heavy', 'Pb842Li158', 'lithium-lead', 'Li8PbO6', 'Li', 'Li4SiO4', 'Li2SiO3', 'Li2ZrO3', 'Li2TiO3', 'He', 'H2O', 'D2O', 'CO2', 'nitrogen', 'argon', 'xenon', 'DT_plasma', 'Nb3Sn', 'CuCrZr', 'copper', 'ReBCO']\n",
      "running simulations with grid sampling\n"
     ]
    },
    {
     "name": "stderr",
     "output_type": "stream",
     "text": [
      "100%|██████████| 2/2 [04:54<00:00, 147.01s/it]"
     ]
    },
    {
     "name": "stdout",
     "output_type": "stream",
     "text": [
      "results written to output file\n"
     ]
    },
    {
     "name": "stderr",
     "output_type": "stream",
     "text": [
      "\n"
     ]
    }
   ],
   "source": [
    "from pathlib import Path\n",
    "import json\n",
    "import uuid\n",
    "import math\n",
    "import argparse\n",
    "\n",
    "import numpy as np\n",
    "from tqdm import tqdm\n",
    "\n",
    "from openmc_model import find_tbr_hcpb\n",
    "\n",
    "\n",
    "number_of_simulations = 5\n",
    "\n",
    "\n",
    "number_of_steps = math.floor(math.sqrt(number_of_simulations))\n",
    "\n",
    "print(\"running simulations with grid sampling\")\n",
    "\n",
    "for breeder_percent_in_breeder_plus_multiplier_ratio in tqdm(np.linspace(0, 100, number_of_steps)):\n",
    "    for blanket_breeder_li6_enrichment in np.linspace(0, 100, number_of_steps):\n",
    "\n",
    "        result = find_tbr_hcpb(breeder_percent_in_breeder_plus_multiplier_ratio,\n",
    "                               blanket_breeder_li6_enrichment)\n",
    "\n",
    "        result[\"sample\"] = \"grid\"\n",
    "\n",
    "        filename = \"outputs/\" + str(uuid.uuid4()) + \".json\"\n",
    "        Path(filename).parent.mkdir(parents=True, exist_ok=True)\n",
    "        with open(filename, mode=\"w\", encoding=\"utf-8\") as f:\n",
    "            json.dump(result, f, indent=4)\n",
    "            \n",
    "print(\"results saved in outputs folder\")\n"
   ]
  }
 ],
 "metadata": {
  "kernelspec": {
   "display_name": "Python 3",
   "language": "python",
   "name": "python3"
  },
  "language_info": {
   "codemirror_mode": {
    "name": "ipython",
    "version": 3
   },
   "file_extension": ".py",
   "mimetype": "text/x-python",
   "name": "python",
   "nbconvert_exporter": "python",
   "pygments_lexer": "ipython3",
   "version": "3.6.9"
  }
 },
 "nbformat": 4,
 "nbformat_minor": 2
}
