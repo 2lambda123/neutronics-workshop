{
 "cells": [
  {
   "cell_type": "code",
   "execution_count": null,
   "metadata": {},
   "outputs": [],
   "source": [
    "import adaptive\n",
    "import nest_asyncio\n",
    "\n",
    "adaptive.notebook_extension()\n",
    "nest_asyncio.apply()"
   ]
  },
  {
   "cell_type": "code",
   "execution_count": null,
   "metadata": {},
   "outputs": [],
   "source": [
    "from pathlib import Path\n",
    "import json\n",
    "import uuid\n",
    "\n",
    "from openmc_model import find_tbr_hcpb\n",
    "\n",
    "\n",
    "def find_tbr(x):\n",
    "\n",
    "    breeder_percent_in_breeder_plus_multiplier_ratio, blanket_breeder_li6_enrichment = x\n",
    "                           \n",
    "    result = find_tbr_hcpb(breeder_percent_in_breeder_plus_multiplier_ratio,\n",
    "                           blanket_breeder_li6_enrichment)\n",
    "\n",
    "    result[\"sample\"] = \"adaptive\"\n",
    "\n",
    "    filename = \"outputs/\" + str(uuid.uuid4()) + \".json\"\n",
    "    Path(filename).parent.mkdir(parents=True, exist_ok=True)\n",
    "    with open(filename, mode=\"w\", encoding=\"utf-8\") as f:\n",
    "        json.dump(result, f, indent=4)\n",
    "\n",
    "    return result[\"tbr\"]\n",
    "\n",
    "\n",
    "number_of_simulations = 4\n",
    "\n",
    "\n",
    "print(\"running simulations with adaptive sampling\")\n",
    "\n",
    "learner = adaptive.Learner2D(find_tbr, bounds=[(0, 100), (0, 100)])\n",
    "\n",
    "runner = adaptive.Runner(learner, ntasks=1, goal=lambda l: l.npoints > number_of_simulations)\n",
    "\n",
    "# example goal setting for acceptable coverage error is also possible\n",
    "# runner = adaptive.Runner(learner, ntasks=1, goal=lambda l: l.loss() < 0.01)\n",
    "\n",
    "# runner.live_info()\n",
    "# runner.live_plot()\n",
    "\n",
    "runner.ioloop.run_until_complete(runner.task)\n",
    "\n",
    "print(\"results saved in outputs folder\")\n"
   ]
  }
 ],
 "metadata": {
  "kernelspec": {
   "display_name": "Python 3",
   "language": "python",
   "name": "python3"
  },
  "language_info": {
   "codemirror_mode": {
    "name": "ipython",
    "version": 3
   },
   "file_extension": ".py",
   "mimetype": "text/x-python",
   "name": "python",
   "nbconvert_exporter": "python",
   "pygments_lexer": "ipython3",
   "version": "3.6.9"
  }
 },
 "nbformat": 4,
 "nbformat_minor": 2
}
