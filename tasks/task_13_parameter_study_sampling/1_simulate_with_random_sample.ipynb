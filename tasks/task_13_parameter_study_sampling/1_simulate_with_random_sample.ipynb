{
 "cells": [
  {
   "cell_type": "markdown",
   "metadata": {},
   "source": [
    "# Sampling parameter space - Random Sampling\n",
    "\n",
    "A parameter space may be surveyed for several reasons. In the context of tritium breeding, this may be to measure the impact of a parameter on tritium breeding.\n",
    "\n",
    "There are many ways to sample a parameter space, but some provide significant advantages to others.\n",
    "\n",
    "The easiest way to sample a parameter space is to use random sampling - where values are chosen at random from the parameter space."
   ]
  },
  {
   "cell_type": "markdown",
   "metadata": {},
   "source": [
    "The following section runs neutronics simulations and randomly varies the input parameters of the model. It varies blanket enrichment and breeder percent in breeder plus multiplier volumes."
   ]
  },
  {
   "cell_type": "code",
   "execution_count": null,
   "metadata": {},
   "outputs": [],
   "source": [
    "from pathlib import Path\n",
    "import json\n",
    "import uuid\n",
    "import argparse\n",
    "\n",
    "import numpy as np\n",
    "from tqdm import tqdm\n",
    "\n",
    "from openmc_model import find_tbr_hcpb\n",
    "\n",
    "\n",
    "number_of_simulations = 16\n",
    "\n",
    "\n",
    "print(\"running simulations with random sampling\")\n",
    "\n",
    "for i in tqdm(range(number_of_simulations)):\n",
    "\n",
    "    breeder_percent_in_breeder_plus_multiplier_ratio = np.random.uniform(0, 100)\n",
    "    blanket_breeder_li6_enrichment = np.random.uniform(1, 100)\n",
    "\n",
    "    result = find_tbr_hcpb(breeder_percent_in_breeder_plus_multiplier_ratio,\n",
    "                           blanket_breeder_li6_enrichment)\n",
    "\n",
    "    result[\"sample\"] = \"random\"\n",
    "\n",
    "    filename = \"outputs/\" + str(uuid.uuid4()) + \".json\"\n",
    "    Path(filename).parent.mkdir(parents=True, exist_ok=True)\n",
    "    with open(filename, mode=\"w\", encoding=\"utf-8\") as f:\n",
    "        json.dump(result, f, indent=4)\n",
    "        \n",
    "print(\"results saved in outputs folder\")\n"
   ]
  },
  {
   "cell_type": "code",
   "execution_count": null,
   "metadata": {},
   "outputs": [],
   "source": []
  }
 ],
 "metadata": {
  "kernelspec": {
   "display_name": "Python 3",
   "language": "python",
   "name": "python3"
  },
  "language_info": {
   "codemirror_mode": {
    "name": "ipython",
    "version": 3
   },
   "file_extension": ".py",
   "mimetype": "text/x-python",
   "name": "python",
   "nbconvert_exporter": "python",
   "pygments_lexer": "ipython3",
   "version": "3.8.3"
  }
 },
 "nbformat": 4,
 "nbformat_minor": 2
}
