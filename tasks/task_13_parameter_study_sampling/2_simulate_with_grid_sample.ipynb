{
 "cells": [
  {
   "cell_type": "markdown",
   "metadata": {},
   "source": [
    "# Techniques for sampling parameter space - Grid Sampling\n",
    "\n",
    "Another sampling technique is 'grid sampling', where samples are taken at regular grid intervals across the parameter space.\n",
    "\n",
    "This is an example of 'biased sampling' because the samples are ordered according to the grid specified."
   ]
  },
  {
   "cell_type": "markdown",
   "metadata": {},
   "source": [
    "The following code runs a neutronics simulation using a simple pre-defined model. The code varies the input parameters according to a specified grid. \n",
    "Li6 enrichment and breeder percent in breeder plus multiplier ratio are both varied between 0 and 100."
   ]
  },
  {
   "cell_type": "code",
   "execution_count": null,
   "metadata": {},
   "outputs": [],
   "source": [
    "from pathlib import Path\n",
    "import json\n",
    "import uuid\n",
    "import math\n",
    "import argparse\n",
    "\n",
    "import numpy as np\n",
    "from tqdm import tqdm\n",
    "\n",
    "from openmc_model import find_tbr_hcpb\n",
    "from plot_sampling_coordinates import plot_simulation_results, read_in_data\n",
    "from new_interpolated_results import plot_interpolated_results\n",
    "\n",
    "\n",
    "number_of_simulations = 16\n",
    "\n",
    "number_of_steps = math.floor(math.sqrt(number_of_simulations))\n",
    "\n",
    "\n",
    "print(\"running simulations with grid sampling\")\n",
    "\n",
    "for breeder_percent_in_breeder_plus_multiplier_ratio in tqdm(np.linspace(0.1, 100, number_of_steps)):\n",
    "    for blanket_breeder_li6_enrichment in np.linspace(0.1, 100, number_of_steps):\n",
    "\n",
    "        result = find_tbr_hcpb(breeder_percent_in_breeder_plus_multiplier_ratio,\n",
    "                               blanket_breeder_li6_enrichment)\n",
    "        \n",
    "        result[\"sample\"] = \"grid\"\n",
    "        \n",
    "        filename = \"outputs/\" + str(uuid.uuid4()) + \".json\"\n",
    "        Path(filename).parent.mkdir(parents=True, exist_ok=True)\n",
    "        with open(filename, mode=\"w\", encoding=\"utf-8\") as f:\n",
    "            json.dump(result, f, indent=4)\n",
    "\n",
    "print(\"results saved in output file\")\n",
    "\n",
    "results_df = read_in_data()\n",
    "filtered_results_df = results_df[results_df[\"sample\"] == \"grid\"]"
   ]
  },
  {
   "cell_type": "code",
   "execution_count": null,
   "metadata": {},
   "outputs": [],
   "source": [
    "# plot results\n",
    "\n",
    "plot_simulation_results(filtered_results_df)"
   ]
  },
  {
   "cell_type": "code",
   "execution_count": null,
   "metadata": {},
   "outputs": [],
   "source": [
    "# plot interpolated results\n",
    "\n",
    "plot_interpolated_results(filtered_results_df)"
   ]
  },
  {
   "cell_type": "markdown",
   "metadata": {},
   "source": [
    "Grid sampling maximises the spatial distribution of sample points across the parameter space by avoiding point clustering and, therefore, maximises the amount of useful information obtained from each simulation. As a result, grid sampling is a highly efficient sampling technique for covering a parameter space."
   ]
  },
  {
   "cell_type": "markdown",
   "metadata": {},
   "source": [
    "However, as simulations are performed in order according to the defined grid, they are biased towards the first parameter values in the grid, I.e. they are biased towards one area of parameter space. For example, the code abbove performs simulations with breeder percent in breeder plus multiplier ratio = 0 for all Li6 enrichments before breeder percent in breeder plus multiplier ratio is changed. This means that all simulations across the grid must be performed before a data trend across the entire parameter space can be observed. This is the main disadvantage of grid sampling as more simulations than are necessary may be performed, and it is difficult to efficiently add sample points to the existing data without performing a complete new grid search 'in-between' the existing data points. On the other hand, random sampling is unbiased meaning the data trend across the parameter space can be observed with a small number of simulations and additional sample points can be added easily."
   ]
  },
  {
   "cell_type": "markdown",
   "metadata": {},
   "source": [
    "Overall, grid sampling is a more efficient sampling technique than random sampling, but its bias towards initial parameter values makes it unsuitable for most applications. Instead, we tend to use more advanced 'quasi-random' or 'adaptive' techniques to improve sampling efficiency."
   ]
  }
 ],
 "metadata": {
  "kernelspec": {
   "display_name": "Python 3",
   "language": "python",
   "name": "python3"
  },
  "language_info": {
   "codemirror_mode": {
    "name": "ipython",
    "version": 3
   },
   "file_extension": ".py",
   "mimetype": "text/x-python",
   "name": "python",
   "nbconvert_exporter": "python",
   "pygments_lexer": "ipython3",
   "version": "3.8.3"
  }
 },
 "nbformat": 4,
 "nbformat_minor": 2
}
