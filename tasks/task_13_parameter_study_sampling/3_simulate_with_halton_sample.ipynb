{
 "cells": [
  {
   "cell_type": "markdown",
   "metadata": {},
   "source": [
    "# Techniques for sampling parameter space - Halton Sampling\n",
    "\n",
    "Halton sampling is a quasi-random sampling technique based on the halton sequence. Using a quasi-random number sequence based on coprime numbers, halton sampling allows entire parameter spaces to be sampled efficiently and with an element of random nature. Like random sampling, halton sampling allows data trends across the entire parameter space to be observed with a small number of samples, but distributes the sample points more efficiently throughout the parameter space."
   ]
  },
  {
   "cell_type": "markdown",
   "metadata": {},
   "source": [
    "The following code runs a neutronics simulation using a simple pre-defined model. The code varies the input parameters according to the halton sequence. Li6 enrichment and breeder percent in breeder plus multiplier ratio are both varied between 0 and 100."
   ]
  },
  {
   "cell_type": "code",
   "execution_count": null,
   "metadata": {},
   "outputs": [],
   "source": [
    "from pathlib import Path\n",
    "import json\n",
    "import uuid\n",
    "import argparse\n",
    "\n",
    "import ghalton\n",
    "from tqdm import tqdm\n",
    "\n",
    "from openmc_model import find_tbr_hcpb\n",
    "\n",
    "\n",
    "number_of_simulations = 16\n",
    "\n",
    "\n",
    "sequencer = ghalton.Halton(2)\n",
    "coords = sequencer.get(number_of_simulations)\n",
    "\n",
    "print(\"running simulations with halton sampling\")\n",
    "\n",
    "for coord in tqdm(coords):\n",
    "\n",
    "    breeder_percent_in_breeder_plus_multiplier_ratio = coord[0] * 100  # scales sampling from 0 to 100\n",
    "    blanket_breeder_li6_enrichment = coord[1] * 100  # scales sampling from 0 to 100\n",
    "\n",
    "    result = find_tbr_hcpb(breeder_percent_in_breeder_plus_multiplier_ratio,\n",
    "                           blanket_breeder_li6_enrichment)\n",
    "\n",
    "    result[\"sample\"] = \"halton\"\n",
    "\n",
    "    filename = \"outputs/\" + str(uuid.uuid4()) + \".json\"\n",
    "    Path(filename).parent.mkdir(parents=True, exist_ok=True)\n",
    "    with open(filename, mode=\"w\", encoding=\"utf-8\") as f:\n",
    "        json.dump(result, f, indent=4)\n",
    "\n",
    "print(\"results saved in outputs folder\")"
   ]
  },
  {
   "cell_type": "markdown",
   "metadata": {},
   "source": [
    "As you can see, the sample points have a much better spatial distribution across the parameter shapce than random sampling."
   ]
  },
  {
   "cell_type": "markdown",
   "metadata": {},
   "source": [
    "The main advantage of halton sampling is that it allows the efficient sampling of an entire parameter space. Sample points are not clustered meaning each simulation provides a large amount of additional information about the overall data trend, and its quasi-random nature means additional samples can be added efficiently. However, the main disadvantage of halton sampling is that it still surveys the entire parameter space of interest. This can lead to the excessive sampling of 'flat' regions of the parameter space, i.e. areas where there is little variation in the overall trend, resulting in inefficiency."
   ]
  },
  {
   "cell_type": "markdown",
   "metadata": {},
   "source": [
    "Overall, halton sampling is better than random and grid sampling as it provides good spatial distribution and allows more samples to be added easily and efficiently. Ideally, however, we want to avoid over-sampling flat regions of the parameter space to further improve efficiency and reduce the number of simulations required. This is where 'adaptive' sampling is advantageous."
   ]
  }
 ],
 "metadata": {
  "kernelspec": {
   "display_name": "Python 3",
   "language": "python",
   "name": "python3"
  },
  "language_info": {
   "codemirror_mode": {
    "name": "ipython",
    "version": 3
   },
   "file_extension": ".py",
   "mimetype": "text/x-python",
   "name": "python",
   "nbconvert_exporter": "python",
   "pygments_lexer": "ipython3",
   "version": "3.8.3"
  }
 },
 "nbformat": 4,
 "nbformat_minor": 2
}
