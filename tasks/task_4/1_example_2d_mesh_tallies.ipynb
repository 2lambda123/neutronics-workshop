{
 "cells": [
  {
   "cell_type": "markdown",
   "metadata": {},
   "source": [
    "# 2D mesh tallies\n",
    "\n",
    "### This example makes a simple geometry from a few different materials and plots a 2D regular mesh tally of the results.\n",
    "\n",
    "### A mesh tally allows a visual inspection of the neutron behaviour spatially throughout the geometry.\n",
    "\n",
    "### The geometry is subdivided into many rectangles and the neutron behaviour is recorded (tallied) by the simulation in each of the small rectangles.\n",
    "\n",
    "### This can be formed into a 2D slice of the neutron reactions through the model"
   ]
  },
  {
   "cell_type": "code",
   "execution_count": null,
   "metadata": {},
   "outputs": [],
   "source": [
    "import openmc\n",
    "import matplotlib.pyplot as plt\n",
    "\n",
    "# MATERIALS\n",
    "\n",
    "# creates two materials, one is a neutron multiplier (lead) and the other an \n",
    "mats = openmc.Materials()\n",
    " \n",
    "breeder_material = openmc.Material(name=\"breeder\") \n",
    "breeder_material.add_element('Li', 1, percent_type='ao')\n",
    "breeder_material.set_density('g/cm3', 2.0)\n",
    "\n",
    "multiplier_material = openmc.Material(name=\"multiplier\") \n",
    "multiplier_material.add_element('Pb', 1, percent_type='ao')\n",
    "multiplier_material.set_density('g/cm3', 11.0)\n",
    "\n",
    "mats = [breeder_material, multiplier_material]\n",
    "\n",
    "\n",
    "\n",
    "# GEOMETRY\n",
    "\n",
    "# surfaces\n",
    "sph1 = openmc.Sphere(r=50)\n",
    "sph2 = openmc.Sphere(r=90, boundary_type='vacuum')\n",
    "plane1 = openmc.XPlane(20)\n",
    "\n",
    "# cells\n",
    "breeder_cell = openmc.Cell(region=+sph1 & -sph2 & -plane1)\n",
    "breeder_cell.fill = breeder_material\n",
    "\n",
    "multiplier_cell = openmc.Cell(region=+sph1 & -sph2 & +plane1)\n",
    "multiplier_cell.fill = multiplier_material\n",
    "\n",
    "inner_vacuum_cell = openmc.Cell(region=-sph1)\n",
    "\n",
    "universe = openmc.Universe(cells=[inner_vacuum_cell, breeder_cell, multiplier_cell])\n",
    "\n",
    "geom = openmc.Geometry(universe)\n",
    "\n",
    "\n",
    "# SETTINGS\n",
    "\n",
    "# Instantiate a Settings object\n",
    "sett = openmc.Settings()\n",
    "sett.batches = 100\n",
    "sett.inactive = 0\n",
    "sett.particles = 50\n",
    "sett.particle = \"neutron\"\n",
    "sett.run_mode = 'fixed source'\n",
    "\n",
    "# creates a 14MeV point source\n",
    "source = openmc.Source()\n",
    "source.space = openmc.stats.Point((0, 0, 0))\n",
    "source.angle = openmc.stats.Isotropic()\n",
    "source.energy = openmc.stats.Discrete([14e6], [1])\n",
    "sett.source = source\n",
    "\n",
    "\n",
    "# Create mesh which will be used for tally\n",
    "mesh = openmc.RegularMesh()\n",
    "mesh_height = 100\n",
    "mesh_width = mesh_height\n",
    "mesh.dimension = [mesh_width, mesh_height]\n",
    "mesh.lower_left = [-200, -200]\n",
    "mesh.upper_right = [200, 200]\n",
    "\n",
    "\n",
    "tallies = openmc.Tallies()\n",
    "# Create mesh filter for tally\n",
    "mesh_filter = openmc.MeshFilter(mesh)\n",
    "mesh_tally = openmc.Tally(name='tallies_on_mesh')\n",
    "mesh_tally.filters = [mesh_filter]\n",
    "mesh_tally.scores = ['flux', 'absorption', '(n,2n)']  # change flux to absorption\n",
    "tallies.append(mesh_tally)\n",
    "\n",
    "# combines the geometry, materials, settings and tallies to create a neutronics model\n",
    "model = openmc.model.Model(geom, mats, sett, tallies)\n",
    "\n",
    "plt.show(universe.plot(width=(180, 180), basis='xz'))"
   ]
  },
  {
   "cell_type": "markdown",
   "metadata": {},
   "source": [
    "### This performs the simulation and loads up the results for inspection"
   ]
  },
  {
   "cell_type": "code",
   "execution_count": null,
   "metadata": {},
   "outputs": [],
   "source": [
    "# deletes old files\n",
    "!rm summary.h5\n",
    "!rm statepoint.*.h5\n",
    "\n",
    "# runs the simulation\n",
    "output_filename = model.run()\n",
    "\n",
    "# open the results file\n",
    "results = openmc.StatePoint(output_filename)"
   ]
  },
  {
   "cell_type": "markdown",
   "metadata": {},
   "source": [
    "### This filters the results to show the neutron flux recorded on the mesh tally"
   ]
  },
  {
   "cell_type": "code",
   "execution_count": null,
   "metadata": {},
   "outputs": [],
   "source": [
    "# access the flux tally\n",
    "my_tally = results.get_tally(scores=['flux'])\n",
    "my_slice = my_tally.get_slice(scores=['flux'])\n",
    "my_slice.mean.shape = (mesh_width, mesh_height)\n",
    "\n",
    "fig = plt.subplot()\n",
    "\n",
    "plt.show(fig.imshow(my_slice.mean))\n",
    "\n",
    "# notice that neutrons are produced and emitted isotropically from a point source.\n",
    "# There is a slight increase in flux within the neutron multiplier."
   ]
  },
  {
   "cell_type": "markdown",
   "metadata": {},
   "source": [
    "### This filters the results to show the neutron absorption recorded on the mesh tally"
   ]
  },
  {
   "cell_type": "code",
   "execution_count": null,
   "metadata": {},
   "outputs": [],
   "source": [
    "# access the absorption tally\n",
    "my_tally = results.get_tally(scores=['absorption'])\n",
    "my_slice = my_tally.get_slice(scores=['absorption'])\n",
    "my_slice.mean.shape = (mesh_width, mesh_height)\n",
    "\n",
    "fig = plt.subplot()\n",
    "\n",
    "plt.show(fig.imshow(my_slice.mean))\n",
    "\n",
    "# notice that neutrons are being absorpted on the left hand side of the model"
   ]
  },
  {
   "cell_type": "markdown",
   "metadata": {},
   "source": [
    "### This filters the results to show the neutron multiplication recorded on the mesh tally"
   ]
  },
  {
   "cell_type": "code",
   "execution_count": null,
   "metadata": {},
   "outputs": [],
   "source": [
    "# access the neutron multiplication tally\n",
    "my_tally = results.get_tally(scores=['(n,2n)'])\n",
    "my_slice = my_tally.get_slice(scores=['(n,2n)'])\n",
    "my_slice.mean.shape = (mesh_width, mesh_height)\n",
    "\n",
    "fig = plt.subplot()\n",
    "\n",
    "plt.show(fig.imshow(my_slice.mean))\n",
    "\n",
    "# notice that neutrons are being muliplied on the right hand side of the model"
   ]
  }
 ],
 "metadata": {
  "kernelspec": {
   "display_name": "Python 3",
   "language": "python",
   "name": "python3"
  },
  "language_info": {
   "codemirror_mode": {
    "name": "ipython",
    "version": 3
   },
   "file_extension": ".py",
   "mimetype": "text/x-python",
   "name": "python",
   "nbconvert_exporter": "python",
   "pygments_lexer": "ipython3",
   "version": "3.7.8"
  }
 },
 "nbformat": 4,
 "nbformat_minor": 4
}
