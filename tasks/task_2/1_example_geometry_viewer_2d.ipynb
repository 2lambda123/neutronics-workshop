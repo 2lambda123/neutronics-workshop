{
 "cells": [
  {
   "cell_type": "markdown",
   "metadata": {},
   "source": [
    "This example task plots few 2D views of a simple geometry.\n"
   ]
  },
  {
   "cell_type": "code",
   "execution_count": null,
   "metadata": {},
   "outputs": [],
   "source": [
    "import os\n",
    "import openmc\n",
    "import matplotlib.pyplot as plt\n",
    "\n",
    "mats = openmc.Materials()\n",
    "\n",
    "natural_lead = openmc.Material(1, \"natural_lead\")\n",
    "natural_lead.add_element('Pb', 1, percent_type='ao')\n",
    "natural_lead.set_density('g/cm3', 11.34)\n",
    "mats.append(natural_lead)\n",
    "\n",
    "\n",
    "# HINT: this is an example material made from copper\n",
    "# natural_copper = openmc.Material(2, \"natural_copper\")\n",
    "# natural_copper.add_element('Cu', 1, percent_type='ao')\n",
    "# natural_copper.set_density('g/cm3', 8.96)\n",
    "# mats.append(natural_copper)\n",
    "\n",
    "\n",
    "mats.export_to_xml()\n",
    "\n",
    "\n",
    "# example surfaces\n",
    "surface_sph1 = openmc.Sphere(r=500)\n",
    "surface_sph2 = openmc.Sphere(r=600)\n",
    "\n",
    "# add more surfaces here using https://openmc.readthedocs.io/en/stable/usersguide/geometry.html#surfaces-and-regions\n",
    "# for the first wall you will need another sphere\n",
    "# for the center column you will need a cylinder\n",
    "\n",
    "blanket_region = +surface_sph1 & -surface_sph2  # above (+) surface_sph and below (-) surface_sph2\n",
    "\n",
    "\n",
    "# example cell\n",
    "cell_1 = openmc.Cell(region=blanket_region)\n",
    "cell_1.fill = natural_lead   # assigning a material to a cell\n",
    "\n",
    "# add more cells here for the first wall and the center column\n",
    "\n",
    "universe = openmc.Universe(cells=[cell_1])  # HINT: this list will need to include the new cell\n",
    "\n",
    "# shows the plots\n",
    "plt.show(universe.plot(width=(1200, 1200), basis='xz', colors={cell_1: 'blue'}))\n",
    "plt.show(universe.plot(width=(1200, 1200), basis='xy', colors={cell_1: 'blue'}))\n",
    "plt.show(universe.plot(width=(1200, 1200), basis='yz', colors={cell_1: 'blue'}))\n",
    "\n",
    "# saves the plots\n",
    "universe.plot(width=(1200, 1200), basis='xz', colors={cell_1: 'blue'}).get_figure().savefig('xz_sphere.png')\n",
    "universe.plot(width=(1200, 1200), basis='xy', colors={cell_1: 'blue'}).get_figure().savefig('xy_sphere.png')\n",
    "universe.plot(width=(1200, 1200), basis='yz', colors={cell_1: 'blue'}).get_figure().savefig('yz_sphere.png')\n",
    "\n",
    "os.system('cp xz_sphere.png /my_openmc_workshop')\n",
    "os.system('cp xy_sphere.png /my_openmc_workshop')\n",
    "os.system('cp yz_sphere.png /my_openmc_workshop')\n",
    "\n",
    "geom = openmc.Geometry(universe)\n"
   ]
  },
  {
   "cell_type": "code",
   "execution_count": null,
   "metadata": {},
   "outputs": [],
   "source": []
  }
 ],
 "metadata": {
  "kernelspec": {
   "display_name": "Python 3",
   "language": "python",
   "name": "python3"
  },
  "language_info": {
   "codemirror_mode": {
    "name": "ipython",
    "version": 3
   },
   "file_extension": ".py",
   "mimetype": "text/x-python",
   "name": "python",
   "nbconvert_exporter": "python",
   "pygments_lexer": "ipython3",
   "version": "3.7.7"
  }
 },
 "nbformat": 4,
 "nbformat_minor": 4
}
