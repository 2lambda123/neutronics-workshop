{
 "cells": [
  {
   "cell_type": "markdown",
   "metadata": {},
   "source": [
    "# Constructing simple CSG geometry.\n",
    "\n",
    "This example allows a user to make a simple constructive solid geometry (CSG) and plot some 2D slices through the geometry\n"
   ]
  },
  {
   "cell_type": "code",
   "execution_count": null,
   "metadata": {},
   "outputs": [],
   "source": [
    "import openmc\n",
    "import matplotlib.pyplot as plt\n",
    "\n",
    "# example surfaces\n",
    "inner_sphere_surface = openmc.Sphere(r=500)\n",
    "outer_sphere_surface = openmc.Sphere(r=600)\n",
    "\n",
    "# above (+) inner_sphere_surface and below (-) outer_sphere_surface\n",
    "blanket_region = +inner_sphere_surface & -outer_sphere_surface  \n",
    "\n",
    "# example cell\n",
    "blanket_cell = openmc.Cell(region=blanket_region)\n",
    "\n",
    "# makes a universe to cotain all the cells\n",
    "universe = openmc.Universe(cells=[blanket_cell])  \n",
    "\n",
    "# shows the plots, as the geometry is symmetrical the plots look the same\n",
    "color_assignment = {blanket_cell: 'blue'}\n",
    "plt.show(universe.plot(width=(1200, 1200), basis='xz', colors=color_assignment))\n",
    "plt.show(universe.plot(width=(1200, 1200), basis='xy', colors=color_assignment))\n",
    "plt.show(universe.plot(width=(1200, 1200), basis='yz', colors=color_assignment))"
   ]
  },
  {
   "cell_type": "markdown",
   "metadata": {},
   "source": [
    "### This next section adds a firstwall cell to the inner surface of the sphere"
   ]
  },
  {
   "cell_type": "code",
   "execution_count": null,
   "metadata": {},
   "outputs": [],
   "source": [
    "# example surfaces\n",
    "inner_sphere_surface = openmc.Sphere(r=480)\n",
    "middle_sphere_surface = openmc.Sphere(r=500) # note the extra surface\n",
    "outer_sphere_surface = openmc.Sphere(r=600)\n",
    "\n",
    "# above (+) middle_sphere_surface and below (-) outer_sphere_surface\n",
    "blanket_region = +middle_sphere_surface & -outer_sphere_surface\n",
    "# above (+) inner_sphere_surface and below (-) middle_sphere_surface\n",
    "firstwall_region = +inner_sphere_surface & -middle_sphere_surface\n",
    "\n",
    "# now we have two cells\n",
    "blanket_cell = openmc.Cell(region=blanket_region)\n",
    "firstwall_cell = openmc.Cell(region=firstwall_region)\n",
    "\n",
    "# there are now two cells in the list\n",
    "universe = openmc.Universe(cells=[blanket_cell, firstwall_cell])  \n",
    "\n",
    "# shows the plots, which still look the same for all directions\n",
    "color_assignment = {blanket_cell: 'blue', firstwall_cell: 'red'}\n",
    "plt.show(universe.plot(width=(1200, 1200), basis='xz', colors=color_assignment))\n",
    "plt.show(universe.plot(width=(1200, 1200), basis='xy', colors=color_assignment))\n",
    "plt.show(universe.plot(width=(1200, 1200), basis='yz', colors=color_assignment))"
   ]
  },
  {
   "cell_type": "markdown",
   "metadata": {},
   "source": [
    "### There is another key aspect of the geometry needed when we want to use the geometry for simulating particle movement and interactions the entire geometry must be defined\n",
    "\n",
    "### This includes areas with no materials, which are also called voids. By default cells are all voids until a material is assigned to those cells.\n",
    "\n",
    "\n",
    "\n",
    "### Also the outer most surface must be identified with the boundary_type='vacuum' keyword which tells OpenMC to not compute the movement of particles beyond this surface"
   ]
  },
  {
   "cell_type": "code",
   "execution_count": null,
   "metadata": {},
   "outputs": [],
   "source": [
    "# surfaces\n",
    "inner_sphere_surface = openmc.Sphere(r=480)\n",
    "middle_sphere_surface = openmc.Sphere(r=500)\n",
    "outer_sphere_surface = openmc.Sphere(r=600, boundary_type='vacuum') # note the extra keyword\n",
    "\n",
    "# regions\n",
    "blanket_region = +middle_sphere_surface & -outer_sphere_surface\n",
    "firstwall_region = +inner_sphere_surface & -middle_sphere_surface\n",
    "inner_vessel_region = -inner_sphere_surface # this is the void region\n",
    "\n",
    "# cells\n",
    "blanket_cell = openmc.Cell(region=blanket_region)\n",
    "firstwall_cell = openmc.Cell(region=firstwall_region)\n",
    "inner_vessel_cell = openmc.Cell(region=inner_vessel_region) # here as the cell is th new void cell\n",
    "\n",
    "universe = openmc.Universe(cells=[blanket_cell, firstwall_cell, inner_vessel_cell])  \n",
    "\n",
    "# note the new color scheme is based on materials not cells\n",
    "color_assignment = {blanket_cell: 'blue', firstwall_cell: 'red', inner_vessel_cell:'grey'}\n",
    "# note the additional argument color_by, normally this defaults to 'cell'\n",
    "plt.show(universe.plot(width=(1200, 1200), basis='xz', colors=color_assignment))\n",
    "plt.show(universe.plot(width=(1200, 1200), basis='xy', colors=color_assignment))\n",
    "plt.show(universe.plot(width=(1200, 1200), basis='yz', colors=color_assignment))"
   ]
  },
  {
   "cell_type": "markdown",
   "metadata": {},
   "source": [
    "### Assigning materials is also nessecary when wanting to use the geometry for particle transport\n",
    "\n",
    "### Material creation was covered in an earlier task so these are just minimal materials to demonstrate the assigning of materials to cells.\n",
    "\n",
    "### Additionally this plot uses the color_by='material' argument to colour the plots by materials insead of cells"
   ]
  },
  {
   "cell_type": "code",
   "execution_count": null,
   "metadata": {},
   "outputs": [],
   "source": [
    "inner_sphere_surface = openmc.Sphere(r=480)\n",
    "middle_sphere_surface = openmc.Sphere(r=500)\n",
    "outer_sphere_surface = openmc.Sphere(r=600)\n",
    "\n",
    "blanket_region = +middle_sphere_surface & -outer_sphere_surface\n",
    "firstwall_region = +inner_sphere_surface & -middle_sphere_surface\n",
    "inner_vessel_region = -inner_sphere_surface # this is the void region, it will not have a material\n",
    "\n",
    "# This makes a minimal material \n",
    "lithium_mat = openmc.Material(name='lithium')\n",
    "lithium_mat.set_density('g/cm3', 2)\n",
    "lithium_mat.add_element('Li', 1.0)\n",
    "\n",
    "# This makes another minimal material \n",
    "tungsten_mat = openmc.Material(name='tungsten')\n",
    "tungsten_mat.set_density('g/cm3', 19)\n",
    "tungsten_mat.add_element('W', 1.0)\n",
    "\n",
    "blanket_cell = openmc.Cell(region=blanket_region)\n",
    "blanket_cell.fill = lithium_mat  # this assigns a material to a cell\n",
    "\n",
    "firstwall_cell = openmc.Cell(region=firstwall_region)\n",
    "firstwall_cell.fill = tungsten_mat  # this assigns a material to a cell\n",
    "\n",
    "inner_vessel_cell = openmc.Cell(region=inner_vessel_region)\n",
    "# note there is no material assignment here as the cell a void cell\n",
    "\n",
    "universe = openmc.Universe(cells=[blanket_cell, firstwall_cell, inner_vessel_cell])  \n",
    "\n",
    "# note the new color scheme is based on materials not cells\n",
    "color_assignment = {lithium_mat: 'green', tungsten_mat: 'yellow'}\n",
    "\n",
    "# note the additional argument color_by, normally this defaults to 'cell'\n",
    "plt.show(universe.plot(width=(1200, 1200), basis='xz', color_by='material', colors=color_assignment))\n",
    "plt.show(universe.plot(width=(1200, 1200), basis='xy', color_by='material', colors=color_assignment))\n",
    "plt.show(universe.plot(width=(1200, 1200), basis='yz', color_by='material', colors=color_assignment))"
   ]
  },
  {
   "cell_type": "markdown",
   "metadata": {},
   "source": [
    "Learning Outcomes\n",
    "\n",
    "- Construction of simple Constructive Solid Geometry (CSG) geometry.\n",
    "- Visualisation of models using 2D slices.\n",
    "- Coloring models by cell or by material.\n",
    "- Assigining materials to cells.\n",
    "- Defining the complete geometry including void cells.\n",
    "- Defining the edge of the model with the boundary keyword"
   ]
  }
 ],
 "metadata": {
  "kernelspec": {
   "display_name": "Python 3",
   "language": "python",
   "name": "python3"
  },
  "language_info": {
   "codemirror_mode": {
    "name": "ipython",
    "version": 3
   },
   "file_extension": ".py",
   "mimetype": "text/x-python",
   "name": "python",
   "nbconvert_exporter": "python",
   "pygments_lexer": "ipython3",
   "version": "3.7.8"
  }
 },
 "nbformat": 4,
 "nbformat_minor": 4
}
