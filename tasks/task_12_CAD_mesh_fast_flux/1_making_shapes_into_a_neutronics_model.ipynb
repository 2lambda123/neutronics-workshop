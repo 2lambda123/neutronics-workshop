{
 "cells": [
  {
   "cell_type": "markdown",
   "source": [
    "# Heating Mesh Tally on CAD geometry made from Shapes\n",
    "\n",
    "This constructs a reactor geometry from 3 Shape objects each made from points.\n",
    "\n",
    "The Shapes made include a breeder blanket, PF coil and a central column shield.\n",
    "\n",
    "2D and 3D Meshes tally are then simulated to show nuclear heating, flux and tritium_production across the model."
   ],
   "metadata": {}
  },
  {
   "cell_type": "markdown",
   "source": [
    "This makes a 3D geometry and material for PF coil"
   ],
   "metadata": {}
  },
  {
   "cell_type": "code",
   "execution_count": null,
   "source": [
    "import paramak\n",
    "\n",
    "pf_coil = paramak.RotateStraightShape(\n",
    "    points=[\n",
    "        (700, 0),\n",
    "        (750, 0),\n",
    "        (750, 50),\n",
    "        (700, 50)\n",
    "    ],\n",
    "    stp_filename = 'pf_coil.stp',\n",
    "    material_tag = 'pf_coil_material'\n",
    ")\n",
    "\n",
    "pf_coil.show()"
   ],
   "outputs": [],
   "metadata": {}
  },
  {
   "cell_type": "markdown",
   "source": [
    "This makes a 3D geometry and material for the centre column"
   ],
   "metadata": {}
  },
  {
   "cell_type": "code",
   "execution_count": null,
   "source": [
    "center_column = paramak.RotateMixedShape(\n",
    "    points=[\n",
    "        (50, 600, 'straight'),\n",
    "        (150, 600, 'spline'),\n",
    "        (100, 0, 'spline'),\n",
    "        (150, -600, 'straight'),\n",
    "        (50, -600, 'straight')\n",
    "    ],\n",
    "    stp_filename = 'center_column.stp',\n",
    "    material_tag = 'center_column_material'\n",
    ")\n",
    "\n",
    "center_column.show()"
   ],
   "outputs": [],
   "metadata": {}
  },
  {
   "cell_type": "markdown",
   "source": [
    "This makes a 3D geometry and material for breeder blanket. The azimuth_placement_angle argument is used to repeat the geometry around the Z axis at specified angles."
   ],
   "metadata": {}
  },
  {
   "cell_type": "code",
   "execution_count": null,
   "source": [
    "blanket = paramak.RotateSplineShape(\n",
    "    points=[\n",
    "        (600, 0),\n",
    "        (600, -20),\n",
    "        (500, -300),\n",
    "        (400, -300),\n",
    "        (400, 0),\n",
    "        (400, 300),\n",
    "        (500, 300),\n",
    "        (600, 20)\n",
    "    ],\n",
    "    rotation_angle=40,\n",
    "    azimuth_placement_angle=[0, 45, 90, 135, 180, 225, 270, 315],\n",
    "    stp_filename = 'blanket.stp',\n",
    "    material_tag = 'blanket_material'\n",
    ")\n",
    "\n",
    "blanket.show()"
   ],
   "outputs": [],
   "metadata": {}
  },
  {
   "cell_type": "markdown",
   "source": [
    "This makes a reactor object from the three components"
   ],
   "metadata": {}
  },
  {
   "cell_type": "code",
   "execution_count": null,
   "source": [
    "my_reactor = paramak.Reactor([blanket, pf_coil,center_column])\n",
    "\n",
    "my_reactor.solid"
   ],
   "outputs": [],
   "metadata": {}
  },
  {
   "cell_type": "markdown",
   "source": [
    "At this stage we can export the reactor geometry as stp files and make them avaialbe from download and viewing in FreeCAD."
   ],
   "metadata": {}
  },
  {
   "cell_type": "code",
   "execution_count": null,
   "source": [
    "my_reactor.export_stp()\n",
    "\n",
    "from IPython.display import FileLink\n",
    "display(FileLink('blanket.stp'))\n",
    "display(FileLink('pf_coil.stp'))\n",
    "display(FileLink('center_column.stp'))\n",
    "display(FileLink('Graveyard.stp'))"
   ],
   "outputs": [],
   "metadata": {}
  },
  {
   "cell_type": "markdown",
   "source": [
    "The next section defines the materials. This can be done using openmc.Materials or in this case strings that look up materials from the neutronics material maker."
   ],
   "metadata": {}
  },
  {
   "cell_type": "code",
   "execution_count": null,
   "source": [
    "from neutronics_material_maker import Material\n",
    "\n",
    "mat1 = Material.from_library(name='Li4SiO4')\n",
    "\n",
    "mat2 = Material.from_library(name='copper')\n",
    "\n",
    "mat3 = Material.from_library(name='WC')"
   ],
   "outputs": [],
   "metadata": {}
  },
  {
   "cell_type": "markdown",
   "source": [
    "This next step makes a simple point source"
   ],
   "metadata": {}
  },
  {
   "cell_type": "code",
   "execution_count": null,
   "source": [
    "import openmc\n",
    "\n",
    "# initialises a new source object\n",
    "source = openmc.Source()\n",
    "\n",
    "# sets the location of the source to x=0 y=0 z=0\n",
    "source.space = openmc.stats.Point((100, 0, 0))\n",
    "\n",
    "# sets the direction to isotropic\n",
    "source.angle = openmc.stats.Isotropic()\n",
    "\n",
    "# sets the energy distribution to 100% 14MeV neutrons\n",
    "source.energy = openmc.stats.Discrete([14e6], [1])"
   ],
   "outputs": [],
   "metadata": {}
  },
  {
   "cell_type": "markdown",
   "source": [
    "This next section combines the geometry with the materials and specifies a few mesh tallies"
   ],
   "metadata": {}
  },
  {
   "cell_type": "code",
   "execution_count": null,
   "source": [
    "import paramak_neutronics\n",
    "\n",
    "neutronics_model = paramak_neutronics.NeutronicsModel(\n",
    "    geometry=my_reactor,\n",
    "    mesh_tally_2d=['heating', 'flux', '(n,Xt)'],\n",
    "    mesh_tally_3d=['heating', 'flux', '(n,Xt)'],\n",
    "    source=source,\n",
    "    simulation_batches=10,\n",
    "    simulation_particles_per_batch=1000,\n",
    "    materials={\n",
    "        'blanket_material': mat1,\n",
    "        'pf_coil_material': mat2,\n",
    "        'center_column_material': mat3,\n",
    "    }\n",
    ")\n",
    "\n",
    "neutronics_model.simulate()"
   ],
   "outputs": [],
   "metadata": {}
  },
  {
   "cell_type": "markdown",
   "source": [
    "The next section produces download links for:\n",
    "\n",
    "- vtk files that contain the 3D mesh results (open with Paraview)\n",
    "- png images that show the resuls of the 2D mesh tally"
   ],
   "metadata": {}
  },
  {
   "cell_type": "code",
   "execution_count": null,
   "source": [
    "from IPython.display import FileLink\n",
    "display(FileLink('heating_on_3D_mesh.vtk'))\n",
    "display(FileLink('flux_on_3D_mesh.vtk'))\n",
    "display(FileLink('tritium_production_on_3D_mesh.vtk'))\n",
    "display(FileLink('flux_on_2D_mesh_xy.png'))\n",
    "display(FileLink('flux_on_2D_mesh_xz.png'))\n",
    "display(FileLink('flux_on_2D_mesh_yz.png'))\n",
    "display(FileLink('heating_on_2D_mesh_xy.png'))\n",
    "display(FileLink('heating_on_2D_mesh_xz.png'))\n",
    "display(FileLink('heating_on_2D_mesh_yz.png'))\n",
    "display(FileLink('tritium_production_on_2D_mesh_yz.png'))\n",
    "display(FileLink('tritium_production_on_2D_mesh_xz.png'))\n",
    "display(FileLink('tritium_production_on_2D_mesh_yz.png'))"
   ],
   "outputs": [],
   "metadata": {}
  }
 ],
 "metadata": {
  "kernelspec": {
   "display_name": "Python 3",
   "language": "python",
   "name": "python3"
  },
  "language_info": {
   "codemirror_mode": {
    "name": "ipython",
    "version": 3
   },
   "file_extension": ".py",
   "mimetype": "text/x-python",
   "name": "python",
   "nbconvert_exporter": "python",
   "pygments_lexer": "ipython3",
   "version": "3.8.3"
  }
 },
 "nbformat": 4,
 "nbformat_minor": 4
}