{
 "cells": [
  {
   "cell_type": "markdown",
   "metadata": {},
   "source": [
    "# This task is not quite ready as we don't have an open source route for simulating geometry that requires imprinting and merging. However this simulation can be carried out using Trelis."
   ]
  },
  {
   "cell_type": "markdown",
   "metadata": {},
   "source": [
    "# Heating Mesh Tally on CAD geometry made from Components\n",
    "\n",
    "This constructs a reactor geometry from 3 Component objects each made from points.\n",
    "\n",
    "The Component made include a breeder blanket, PF coil and a central column shield.\n",
    "\n",
    "2D and 3D Meshes tally are then simulated to show nuclear heating, flux and tritium_production across the model."
   ]
  },
  {
   "cell_type": "markdown",
   "metadata": {},
   "source": [
    "This section makes the 3d geometry for the entire reactor from a input parameters."
   ]
  },
  {
   "cell_type": "code",
   "execution_count": null,
   "metadata": {},
   "outputs": [],
   "source": [
    "import paramak\n",
    "\n",
    "my_reactor = paramak.BallReactor(\n",
    "    inner_bore_radial_thickness=50,\n",
    "    inboard_tf_leg_radial_thickness=55,\n",
    "    center_column_shield_radial_thickness=50,\n",
    "    divertor_radial_thickness=50,\n",
    "    inner_plasma_gap_radial_thickness=50,\n",
    "    plasma_radial_thickness=100,\n",
    "    outer_plasma_gap_radial_thickness=50,\n",
    "    firstwall_radial_thickness=1,\n",
    "    blanket_radial_thickness=100,\n",
    "    blanket_rear_wall_radial_thickness=10,\n",
    "    elongation=2,\n",
    "    triangularity=0.55,\n",
    "    number_of_tf_coils=16,\n",
    "    rotation_angle=180,\n",
    ")\n",
    "\n",
    "# TF and PF coils can be added with additional arguments.\n",
    "# see the documentation for more details \n",
    "# https://paramak.readthedocs.io/en/main/paramak.parametric_reactors.html\n",
    "\n",
    "my_reactor.show()"
   ]
  },
  {
   "cell_type": "markdown",
   "metadata": {},
   "source": [
    "Exports the 3D geometry to a DAGMC neutronics geometry. The plasma is not included as not many neutron interactions occur in the low density plasma"
   ]
  },
  {
   "cell_type": "code",
   "execution_count": null,
   "metadata": {},
   "outputs": [],
   "source": [
    "my_reactor.export_dagmc_h5m('dagmc_3.h5m', exclude='plasma')"
   ]
  },
  {
   "cell_type": "markdown",
   "metadata": {},
   "source": [
    "The next section defines the materials. This can be done using openmc.Materials or in this case strings that look up materials from the neutronics material maker."
   ]
  },
  {
   "cell_type": "code",
   "execution_count": null,
   "metadata": {},
   "outputs": [],
   "source": [
    "from neutronics_material_maker import Material\n",
    "\n",
    "mat1 = Material.from_library(name='Li4SiO4')\n",
    "\n",
    "mat2 = Material.from_library(name='copper')\n",
    "\n",
    "mat3 = Material.from_library(name='WC')\n",
    "\n",
    "mat4 = Material.from_library(name='eurofer')"
   ]
  },
  {
   "cell_type": "markdown",
   "metadata": {},
   "source": [
    "This next section combines the geometry with the materials and specifies a few mesh tallies"
   ]
  },
  {
   "cell_type": "code",
   "execution_count": null,
   "metadata": {},
   "outputs": [],
   "source": [
    "# makes use of the previously created neutronics geometry (h5m file) and assigns\n",
    "# actual materials to the material tags. \n",
    "\n",
    "import openmc_dagmc_wrapper as odw\n",
    "import neutronics_material_maker as nmm\n",
    "\n",
    "# this links the material tags in the dagmc h5m file with materials.\n",
    "# these materials are input as strings so they will be looked up in the\n",
    "# neutronics material maker package\n",
    "material_tag_to_material_dict = {\n",
    "    'mat_blanket': mat1,\n",
    "    'mat_blanket_rear_wall':mat4,\n",
    "    'mat_center_column_shield':mat3,\n",
    "    'mat_divertor_lower':mat4,\n",
    "    'mat_divertor_upper':mat4,\n",
    "    'mat_firstwall':mat4,\n",
    "    'mat_inboard_tf_coils':mat2,\n",
    "    'mat_plasma':mat2 # todo remove\n",
    "}\n",
    "\n",
    "geometry = odw.Geometry(h5m_filename='dagmc_3.h5m')\n",
    "\n",
    "materials = odw.Materials(\n",
    "    h5m_filename='dagmc_3.h5m',\n",
    "    correspondence_dict=material_tag_to_material_dict\n",
    ")"
   ]
  },
  {
   "cell_type": "markdown",
   "metadata": {},
   "source": [
    "This next step makes a simple point source."
   ]
  },
  {
   "cell_type": "code",
   "execution_count": null,
   "metadata": {},
   "outputs": [],
   "source": [
    "\n",
    "import openmc\n",
    "\n",
    "# initialises a new source object\n",
    "source = openmc.Source()\n",
    "\n",
    "# sets the location of the source to x=0 y=0 z=0\n",
    "source.space = openmc.stats.Point((100, 0, 0))\n",
    "\n",
    "# sets the direction to isotropic\n",
    "source.angle = openmc.stats.Isotropic()\n",
    "\n",
    "# sets the energy distribution to 100% 14MeV neutrons\n",
    "source.energy = openmc.stats.Discrete([14e6], [1])"
   ]
  },
  {
   "cell_type": "markdown",
   "metadata": {},
   "source": [
    "Makes a 3D mesh tally"
   ]
  },
  {
   "cell_type": "code",
   "execution_count": null,
   "metadata": {},
   "outputs": [],
   "source": []
  },
  {
   "cell_type": "markdown",
   "metadata": {},
   "source": [
    "starts the simulation"
   ]
  },
  {
   "cell_type": "code",
   "execution_count": null,
   "metadata": {},
   "outputs": [],
   "source": []
  },
  {
   "cell_type": "markdown",
   "metadata": {},
   "source": [
    "extracts the 3d mesh tally result and plots it as a vtk"
   ]
  },
  {
   "cell_type": "code",
   "execution_count": null,
   "metadata": {},
   "outputs": [],
   "source": [
    "# from openmc_mesh_tally_to_vtk import write_mesh_tally_to_vtk\n",
    "# import openmc\n",
    "\n",
    "# # assumes you have a statepoint file from the OpenMC simulation\n",
    "# statepoint = openmc.StatePoint('statepoint.3.h5')\n",
    "\n",
    "# # assumes the statepoint file has a RegularMesh tally with a certain name\n",
    "# my_tally = statepoint.get_tally(name='tally_on_regular_mesh')\n",
    "\n",
    "# # converts the tally result into a VTK file\n",
    "# write_mesh_tally_to_vtk(\n",
    "#     tally=my_tally,\n",
    "#     filename = \"vtk_file_from_openmc_mesh.vtk\",\n",
    "# )"
   ]
  },
  {
   "cell_type": "markdown",
   "metadata": {},
   "source": [
    "The next section produces download links for:\n",
    "\n",
    "- vtk files that contain the 3D mesh results (open with Paraview)\n",
    "- png images that show the resuls of the 2D mesh tally"
   ]
  },
  {
   "cell_type": "code",
   "execution_count": null,
   "metadata": {},
   "outputs": [],
   "source": [
    "from IPython.display import FileLink\n",
    "display(FileLink('heating_on_3D_mesh.vtk'))"
   ]
  },
  {
   "cell_type": "code",
   "execution_count": null,
   "metadata": {},
   "outputs": [],
   "source": []
  }
 ],
 "metadata": {
  "kernelspec": {
   "display_name": "Python 3 (ipykernel)",
   "language": "python",
   "name": "python3"
  },
  "language_info": {
   "codemirror_mode": {
    "name": "ipython",
    "version": 3
   },
   "file_extension": ".py",
   "mimetype": "text/x-python",
   "name": "python",
   "nbconvert_exporter": "python",
   "pygments_lexer": "ipython3",
   "version": "3.8.12"
  }
 },
 "nbformat": 4,
 "nbformat_minor": 4
}
