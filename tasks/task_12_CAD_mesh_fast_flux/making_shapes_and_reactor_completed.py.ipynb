{
 "cells": [
  {
   "cell_type": "markdown",
   "metadata": {},
   "source": [
    "# Heating Mesh Tally\n",
    "\n",
    "***This constructs a reactor geomerty and material from 3 volumes, the breeder blanket, the PF magnets and a central column shield. It simulates this using a mesh tally producing the nuclear hetaing in the form of mesh.***"
   ]
  },
  {
   "cell_type": "markdown",
   "metadata": {},
   "source": [
    "This makes a 3D geometry and material for PF coil"
   ]
  },
  {
   "cell_type": "code",
   "execution_count": null,
   "metadata": {},
   "outputs": [],
   "source": [
    "import paramak\n",
    "\n",
    "\n",
    "pf_coil = paramak.RotateStraightShape(\n",
    "    points=[\n",
    "        (500, 500),\n",
    "        (550, 500),\n",
    "        (550, 550),\n",
    "        (500, 550)],\n",
    "    stp_filename = 'pf_coil.stp',\n",
    "    material_tag = 'pf_coil_material')\n",
    "\n",
    "pf_coil.solid"
   ]
  },
  {
   "cell_type": "markdown",
   "metadata": {},
   "source": [
    "This makes a 3D geometry and material for the centre column"
   ]
  },
  {
   "cell_type": "code",
   "execution_count": null,
   "metadata": {},
   "outputs": [],
   "source": [
    "center_column = paramak.RotateMixedShape(\n",
    "    points=[\n",
    "        (50, 600, 'straight'),\n",
    "        (150, 600, 'spline'),\n",
    "        (100, 0, 'spline'),\n",
    "        (150, -600, 'straight'),\n",
    "        (50, -600, 'straight')],\n",
    "    stp_filename = 'center_column.stp',\n",
    "    material_tag = 'center_column_material')\n",
    "\n",
    "center_column.solid"
   ]
  },
  {
   "cell_type": "markdown",
   "metadata": {},
   "source": [
    "This makes a 3D geometry and material for breeder blanket"
   ]
  },
  {
   "cell_type": "code",
   "execution_count": null,
   "metadata": {},
   "outputs": [],
   "source": [
    "blanket = paramak.RotateSplineShape(\n",
    "    points=[\n",
    "        (600, 0),\n",
    "        (600, -20),\n",
    "        (500, -300),\n",
    "        (400, -300),\n",
    "        (400, 0),\n",
    "        (400, 300),\n",
    "        (500, 300),\n",
    "        (600, 20)],\n",
    "    rotation_angle=40,\n",
    "    azimuth_placement_angle=[0, 45, 90, 135, 180, 225, 270, 315],\n",
    "    stp_filename = 'blanket.stp',\n",
    "    material_tag = 'blanket_material')\n",
    "blanket.solid"
   ]
  },
  {
   "cell_type": "code",
   "execution_count": null,
   "metadata": {},
   "outputs": [],
   "source": [
    "my_reactor = paramak.Reactor([blanket, pf_coil,center_column])"
   ]
  },
  {
   "cell_type": "code",
   "execution_count": null,
   "metadata": {},
   "outputs": [],
   "source": [
    "my_reactor.export_stp()"
   ]
  },
  {
   "cell_type": "code",
   "execution_count": null,
   "metadata": {},
   "outputs": [],
   "source": [
    "!ls"
   ]
  },
  {
   "cell_type": "code",
   "execution_count": null,
   "metadata": {},
   "outputs": [],
   "source": []
  },
  {
   "cell_type": "code",
   "execution_count": null,
   "metadata": {},
   "outputs": [],
   "source": []
  },
  {
   "cell_type": "code",
   "execution_count": null,
   "metadata": {},
   "outputs": [],
   "source": [
    "from neutronics_material_maker import Material\n",
    "\n",
    "mat1 = Material(material_name='Li4SiO4',\n",
    "                material_tag='blanket_material')\n",
    "\n",
    "mat2 = Material(material_name='copper',\n",
    "                material_tag='pf_coil_material')\n",
    "\n",
    "mat3 = Material(material_name='WC',\n",
    "                material_tag='center_column_material')"
   ]
  },
  {
   "cell_type": "code",
   "execution_count": null,
   "metadata": {},
   "outputs": [],
   "source": [
    "from parametric_plasma_source import PlasmaSource, SOURCE_SAMPLING_PATH\n",
    "import openmc\n",
    "\n",
    "my_plasma = PlasmaSource(\n",
    "    ion_density_origin=1.09e20,\n",
    "    ion_density_peaking_factor=1,\n",
    "    ion_density_pedestal=1.09e20,\n",
    "    ion_density_separatrix=3e19,\n",
    "    ion_temperature_origin=45.9,\n",
    "    ion_temperature_peaking_factor=8.06,\n",
    "    ion_temperature_pedestal=6.09,\n",
    "    ion_temperature_separatrix=0.1,\n",
    "    elongation=1.3,\n",
    "    triangularity=0.5,\n",
    "    major_radius=200/100,\n",
    "    minor_radius=50/100,\n",
    "    pedestal_radius=(0.8 * 100)/100,\n",
    "    plasma_id=1,\n",
    "    shafranov_shift=0.44789,\n",
    "    ion_temperature_beta=6\n",
    ")\n",
    "\n",
    "source = openmc.Source()\n",
    "source.library = SOURCE_SAMPLING_PATH\n",
    "source.parameters = str(my_plasma)"
   ]
  },
  {
   "cell_type": "code",
   "execution_count": null,
   "metadata": {},
   "outputs": [],
   "source": [
    "neutronics_model = paramak.NeutronicsModel(\n",
    "    geometry=my_reactor,\n",
    "    cell_tallies=['heating'],\n",
    "    source=source,\n",
    "    simulation_batches=10,\n",
    "    simulation_particles_per_batch=10,\n",
    "    materials={\n",
    "        'blanket_material': mat1,\n",
    "        'pf_coil_material': mat2,\n",
    "        'center_column_material': mat3,\n",
    "    }\n",
    ")\n",
    "\n",
    "neutronics_model.simulate(method='pymoab')"
   ]
  },
  {
   "cell_type": "code",
   "execution_count": null,
   "metadata": {},
   "outputs": [],
   "source": [
    "neutronics_model.results"
   ]
  },
  {
   "cell_type": "code",
   "execution_count": null,
   "metadata": {},
   "outputs": [],
   "source": []
  },
  {
   "cell_type": "code",
   "execution_count": null,
   "metadata": {},
   "outputs": [],
   "source": []
  },
  {
   "cell_type": "code",
   "execution_count": null,
   "metadata": {},
   "outputs": [],
   "source": []
  },
  {
   "cell_type": "code",
   "execution_count": null,
   "metadata": {},
   "outputs": [],
   "source": []
  },
  {
   "cell_type": "code",
   "execution_count": null,
   "metadata": {},
   "outputs": [],
   "source": []
  },
  {
   "cell_type": "code",
   "execution_count": null,
   "metadata": {},
   "outputs": [],
   "source": []
  }
 ],
 "metadata": {
  "kernelspec": {
   "display_name": "Python 3",
   "language": "python",
   "name": "python3"
  },
  "language_info": {
   "codemirror_mode": {
    "name": "ipython",
    "version": 3
   },
   "file_extension": ".py",
   "mimetype": "text/x-python",
   "name": "python",
   "nbconvert_exporter": "python",
   "pygments_lexer": "ipython3",
   "version": "3.7.6"
  }
 },
 "nbformat": 4,
 "nbformat_minor": 4
}
