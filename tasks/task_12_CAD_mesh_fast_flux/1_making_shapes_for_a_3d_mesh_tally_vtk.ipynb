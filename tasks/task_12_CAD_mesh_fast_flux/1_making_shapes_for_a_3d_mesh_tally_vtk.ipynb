{
 "cells": [
  {
   "cell_type": "markdown",
   "metadata": {},
   "source": [
    "# Heating Mesh Tally on CAD geometry made from Shapes\n",
    "\n",
    "This constructs a reactor geometry from 3 Shape objects each made from points.\n",
    "\n",
    "The Shapes made include a breeder blanket, PF coil and a central column shield.\n",
    "\n",
    "2D and 3D Meshes tally are then simulated to show nuclear heating, flux and tritium_production across the model."
   ]
  },
  {
   "cell_type": "markdown",
   "metadata": {},
   "source": [
    "This makes a 3D geometry and material for the centre column"
   ]
  },
  {
   "cell_type": "code",
   "execution_count": null,
   "metadata": {},
   "outputs": [],
   "source": [
    "import paramak\n",
    "\n",
    "center_column = paramak.RotateMixedShape(\n",
    "    points=[\n",
    "        (50, 600, 'straight'),\n",
    "        (150, 600, 'spline'),\n",
    "        (100, 0, 'spline'),\n",
    "        (150, -600, 'straight'),\n",
    "        (50, -600, 'straight')\n",
    "    ],\n",
    "    name='center_column'\n",
    ")"
   ]
  },
  {
   "cell_type": "markdown",
   "metadata": {},
   "source": [
    "This makes a 3D geometry and material for breeder blanket. The azimuth_placement_angle argument is used to repeat the geometry around the Z axis at specified angles."
   ]
  },
  {
   "cell_type": "code",
   "execution_count": null,
   "metadata": {},
   "outputs": [],
   "source": [
    "blanket = paramak.RotateSplineShape(\n",
    "    points=[\n",
    "        (600, 0),\n",
    "        (600, -20),\n",
    "        (500, -300),\n",
    "        (400, -300),\n",
    "        (400, 0),\n",
    "        (400, 300),\n",
    "        (500, 300),\n",
    "        (600, 20)\n",
    "    ],\n",
    "    name='blanket',\n",
    "    rotation_angle=40,\n",
    "    azimuth_placement_angle=[0, 45, 90, 135, 180, 225, 270, 315],\n",
    ")"
   ]
  },
  {
   "cell_type": "markdown",
   "metadata": {},
   "source": [
    "This makes a reactor object from the three components"
   ]
  },
  {
   "cell_type": "code",
   "execution_count": null,
   "metadata": {},
   "outputs": [],
   "source": [
    "my_reactor = paramak.Reactor([blanket, center_column])\n",
    "\n",
    "my_reactor.show()"
   ]
  },
  {
   "cell_type": "markdown",
   "metadata": {},
   "source": [
    "This section forms the neutronics model by combining the 3D model, the plasma source and some assigned materials. Additionally, the tallies to record the heating are specified."
   ]
  },
  {
   "cell_type": "code",
   "execution_count": null,
   "metadata": {},
   "outputs": [],
   "source": [
    "my_reactor.export_dagmc_h5m()"
   ]
  },
  {
   "cell_type": "markdown",
   "metadata": {},
   "source": [
    "This next section combines the geometry with the materials and specifies a few mesh tallies"
   ]
  },
  {
   "cell_type": "code",
   "execution_count": null,
   "metadata": {},
   "outputs": [],
   "source": [
    "# makes use of the previously created neutronics geometry (h5m file) and assigns\n",
    "# actual materials to the material tags. \n",
    "\n",
    "import openmc_dagmc_wrapper as odw\n",
    "\n",
    "import neutronics_material_maker as nmm\n",
    "\n",
    "# this links the material tags in the dagmc h5m file with materials.\n",
    "# these materials are input as strings so they will be looked up in the\n",
    "# neutronics material maker package\n",
    "material_tag_to_material_dict = {\n",
    "    'mat_blanket': nmm.Material.from_library(name='DT_plasma'),\n",
    "    'mat_center_column': nmm.Material.from_library(name='Li4SiO4'),\n",
    "}\n",
    "\n",
    "geometry = odw.Geometry(h5m_filename='dagmc.h5m')\n",
    "\n",
    "materials = odw.Materials(\n",
    "    h5m_filename='dagmc.h5m',\n",
    "    correspondence_dict=material_tag_to_material_dict\n",
    ")"
   ]
  },
  {
   "cell_type": "markdown",
   "metadata": {},
   "source": [
    "This section sets the the neutronics results to record (know as tallies)."
   ]
  },
  {
   "cell_type": "code",
   "execution_count": null,
   "metadata": {},
   "outputs": [],
   "source": [
    "from dagmc_bounding_box import DagmcBoundingBox\n",
    "\n",
    "# finds bounding box size from the geometry size\n",
    "corners = DagmcBoundingBox('dagmc.h5m').corners()\n",
    "\n",
    "tally1 = odw.MeshTally3D(\n",
    "    mesh_resolution=(100, 100, 100),\n",
    "    bounding_box= corners,\n",
    "    tally_type=\"(n,Xa)\",\n",
    ")\n",
    "\n",
    "\n",
    "import openmc\n",
    "tallies = openmc.Tallies([tally1])"
   ]
  },
  {
   "cell_type": "markdown",
   "metadata": {},
   "source": [
    "Sets simulation intensity, combines the geometry, materials, tallies and settings into a single object and runs the simulation"
   ]
  },
  {
   "cell_type": "code",
   "execution_count": null,
   "metadata": {},
   "outputs": [],
   "source": [
    "import openmc_plasma_source as ops\n",
    "\n",
    "settings = odw.FusionSettings()\n",
    "settings.batches = 4\n",
    "settings.particles = 1000\n",
    "\n",
    "# assigns a ring source of DT energy neutrons to the source using the\n",
    "# openmc_plasma_source package, more details here\n",
    "# https://github.com/fusion-energy/openmc-plasma-source/\n",
    "settings.source = ops.FusionRingSource(fuel=\"DT\", radius=350)\n",
    "\n",
    "\n",
    "my_model = openmc.Model(\n",
    "    materials=materials,\n",
    "    geometry=geometry,\n",
    "    settings=settings,\n",
    "    tallies=tallies\n",
    ")\n",
    "!rm *.h5  # just removes old summary.h5 or statepoint files\n",
    "statepoint_file = my_model.run()"
   ]
  },
  {
   "cell_type": "markdown",
   "metadata": {},
   "source": [
    "The following section opens the statepoint and converts the tally result into a VTK file. VTK files can be opened in paraview"
   ]
  },
  {
   "cell_type": "code",
   "execution_count": null,
   "metadata": {},
   "outputs": [],
   "source": [
    "from openmc_mesh_tally_to_vtk import write_mesh_tally_to_vtk\n",
    "# importing a package for converting regular mesh tallies to vtk files\n",
    "# more details here https://github.com/fusion-energy/openmc_mesh_tally_to_vtk\n",
    "\n",
    "\n",
    "# assumes you have a statepoint file from the OpenMC simulation\n",
    "statepoint = openmc.StatePoint('statepoint.4.h5')\n",
    "\n",
    "# this shows the tallies present in the statepoint file\n",
    "print(statepoint.tallies)\n",
    "\n",
    "# loads up a tally from the statepoint using it's name\n",
    "my_tally = statepoint.get_tally(name='(n,Xa)_on_3D_mesh')\n",
    "\n",
    "# converts the tally result into a VTK file\n",
    "write_mesh_tally_to_vtk(\n",
    "    tally=my_tally,\n",
    "    filename = \"vtk_file_from_openmc_mesh.vtk\",\n",
    ")"
   ]
  },
  {
   "cell_type": "markdown",
   "metadata": {},
   "source": [
    "The next section produces download links for:\n",
    "\n",
    "- vtk files that contain the 3D mesh results (open with Paraview)\n",
    "- png images that show the resuls of the 2D mesh tally"
   ]
  },
  {
   "cell_type": "code",
   "execution_count": null,
   "metadata": {},
   "outputs": [],
   "source": [
    "from IPython.display import FileLink\n",
    "display(FileLink('vtk_file_from_openmc_mesh.vtk'))"
   ]
  }
 ],
 "metadata": {
  "kernelspec": {
   "display_name": "Python 3 (ipykernel)",
   "language": "python",
   "name": "python3"
  },
  "language_info": {
   "codemirror_mode": {
    "name": "ipython",
    "version": 3
   },
   "file_extension": ".py",
   "mimetype": "text/x-python",
   "name": "python",
   "nbconvert_exporter": "python",
   "pygments_lexer": "ipython3",
   "version": "3.8.12"
  }
 },
 "nbformat": 4,
 "nbformat_minor": 4
}
