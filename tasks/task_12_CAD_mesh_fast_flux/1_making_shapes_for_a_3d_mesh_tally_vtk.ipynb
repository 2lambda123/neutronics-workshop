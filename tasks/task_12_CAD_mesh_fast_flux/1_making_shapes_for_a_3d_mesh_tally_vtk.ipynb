{
 "cells": [
  {
   "cell_type": "markdown",
   "metadata": {},
   "source": [
    "# Heating Mesh Tally on CAD geometry made from Shapes\n",
    "\n",
    "This constructs a reactor geometry from 3 Shape objects each made from points.\n",
    "\n",
    "The Shapes made include a breeder blanket, PF coil and a central column shield.\n",
    "\n",
    "2D and 3D Meshes tally are then simulated to show nuclear heating, flux and tritium_production across the model."
   ]
  },
  {
   "cell_type": "markdown",
   "metadata": {},
   "source": [
    "This makes a 3D geometry and material for the centre column"
   ]
  },
  {
   "cell_type": "code",
   "execution_count": 1,
   "metadata": {},
   "outputs": [],
   "source": [
    "import paramak\n",
    "\n",
    "center_column = paramak.RotateMixedShape(\n",
    "    points=[\n",
    "        (50, 600, 'straight'),\n",
    "        (150, 600, 'spline'),\n",
    "        (100, 0, 'spline'),\n",
    "        (150, -600, 'straight'),\n",
    "        (50, -600, 'straight')\n",
    "    ],\n",
    "    name='center_column'\n",
    ")"
   ]
  },
  {
   "cell_type": "markdown",
   "metadata": {},
   "source": [
    "This makes a 3D geometry and material for breeder blanket. The azimuth_placement_angle argument is used to repeat the geometry around the Z axis at specified angles."
   ]
  },
  {
   "cell_type": "code",
   "execution_count": 2,
   "metadata": {},
   "outputs": [],
   "source": [
    "blanket = paramak.RotateSplineShape(\n",
    "    points=[\n",
    "        (600, 0),\n",
    "        (600, -20),\n",
    "        (500, -300),\n",
    "        (400, -300),\n",
    "        (400, 0),\n",
    "        (400, 300),\n",
    "        (500, 300),\n",
    "        (600, 20)\n",
    "    ],\n",
    "    name='blanket',\n",
    "    rotation_angle=40,\n",
    "    azimuth_placement_angle=[0, 45, 90, 135, 180, 225, 270, 315],\n",
    ")"
   ]
  },
  {
   "cell_type": "markdown",
   "metadata": {},
   "source": [
    "This makes a reactor object from the three components"
   ]
  },
  {
   "cell_type": "code",
   "execution_count": 3,
   "metadata": {},
   "outputs": [
    {
     "name": "stdout",
     "output_type": "stream",
     "text": [
      "Overwriting auto display for cadquery Workplane and Shape\n",
      "100% ⋮————————————————————————————————————————————————————————————⋮ (2/2)  0.18s\n"
     ]
    },
    {
     "data": {
      "application/vnd.jupyter.widget-view+json": {
       "model_id": "26bd4b0b50d64667a84d0bca556a6e3f",
       "version_major": 2,
       "version_minor": 0
      },
      "text/plain": [
       "CadViewerWidget(anchor=None, cad_width=800, glass=False, height=600, pinning=False, theme='light', title=None,…"
      ]
     },
     "metadata": {},
     "output_type": "display_data"
    },
    {
     "data": {
      "text/html": [
       "<div></div>"
      ],
      "text/plain": [
       "<IPython.core.display.HTML object>"
      ]
     },
     "metadata": {},
     "output_type": "display_data"
    },
    {
     "data": {
      "text/plain": [
       "<cad_viewer_widget.widget.CadViewer at 0x7f29d1570c70>"
      ]
     },
     "execution_count": 3,
     "metadata": {},
     "output_type": "execute_result"
    }
   ],
   "source": [
    "my_reactor = paramak.Reactor([blanket, center_column])\n",
    "\n",
    "my_reactor.show()"
   ]
  },
  {
   "cell_type": "markdown",
   "metadata": {},
   "source": [
    "This section forms the neutronics model by combining the 3D model, the plasma source and some assigned materials. Additionally, the tallies to record the heating are specified."
   ]
  },
  {
   "cell_type": "code",
   "execution_count": 4,
   "metadata": {},
   "outputs": [
    {
     "name": "stdout",
     "output_type": "stream",
     "text": [
      "['blanket', 'center_column']\n",
      "Info    : Meshing 1D...\n",
      "Info    : [  0%] Meshing curve 1 (Circle)\n",
      "Info    : [ 10%] Meshing curve 2 (Circle)\n",
      "Info    : [ 10%] Meshing curve 3 (Circle)\n",
      "Info    : [ 10%] Meshing curve 4 (BSpline)\n",
      "Info    : [ 20%] Meshing curve 5 (Circle)\n",
      "Info    : [ 20%] Meshing curve 6 (Line)\n",
      "Info    : [ 20%] Meshing curve 7 (Circle)\n",
      "Info    : [ 30%] Meshing curve 8 (BSpline)\n",
      "Info    : [ 30%] Meshing curve 9 (BSpline)\n",
      "Info    : [ 30%] Meshing curve 10 (Circle)\n",
      "Info    : [ 40%] Meshing curve 11 (BSpline)\n",
      "Info    : [ 40%] Meshing curve 12 (BSpline)\n",
      "Info    : [ 40%] Meshing curve 13 (Circle)\n",
      "Info    : [ 50%] Meshing curve 14 (BSpline)\n",
      "Info    : [ 50%] Meshing curve 15 (BSpline)\n",
      "Info    : [ 50%] Meshing curve 16 (Circle)\n",
      "Info    : [ 60%] Meshing curve 17 (BSpline)\n",
      "Info    : [ 60%] Meshing curve 18 (BSpline)\n",
      "Info    : [ 60%] Meshing curve 19 (Circle)\n",
      "Info    : [ 70%] Meshing curve 20 (BSpline)\n",
      "Info    : [ 70%] Meshing curve 21 (BSpline)\n",
      "Info    : [ 70%] Meshing curve 22 (Circle)\n",
      "Info    : [ 80%] Meshing curve 23 (BSpline)\n",
      "Info    : [ 80%] Meshing curve 24 (BSpline)\n",
      "Info    : [ 80%] Meshing curve 25 (Circle)\n",
      "Info    : [ 90%] Meshing curve 26 (BSpline)\n",
      "Info    : [ 90%] Meshing curve 27 (BSpline)\n",
      "Info    : [ 90%] Meshing curve 28 (Circle)\n",
      "Info    : [100%] Meshing curve 29 (BSpline)\n",
      "Info    : [100%] Meshing curve 30 (BSpline)\n",
      "Info    : Done meshing 1D (Wall 0.450336s, CPU 0.45225s)\n",
      "Info    : Meshing 2D...\n",
      "Info    : [  0%] Meshing surface 1 (Plane, MeshAdapt)\n",
      "Info    : [ 10%] Meshing surface 2 (Surface of Revolution, MeshAdapt)\n",
      "Info    : [ 10%] Meshing surface 3 (Plane, MeshAdapt)\n",
      "Info    : [ 20%] Meshing surface 4 (Cylinder, MeshAdapt)\n",
      "Info    : [ 20%] Meshing surface 5 (Surface of Revolution, MeshAdapt)\n",
      "Info    : [ 20%] Meshing surface 6 (Plane, MeshAdapt)\n",
      "Info    : [ 30%] Meshing surface 7 (Plane, MeshAdapt)\n",
      "Info    : [ 30%] Meshing surface 8 (Surface of Revolution, MeshAdapt)\n",
      "Info    : [ 30%] Meshing surface 9 (Plane, MeshAdapt)\n",
      "Info    : [ 40%] Meshing surface 10 (Plane, MeshAdapt)\n",
      "Info    : [ 40%] Meshing surface 11 (Surface of Revolution, MeshAdapt)\n",
      "Info    : [ 40%] Meshing surface 12 (Plane, MeshAdapt)\n",
      "Info    : [ 50%] Meshing surface 13 (Plane, MeshAdapt)\n",
      "Info    : [ 50%] Meshing surface 14 (Surface of Revolution, MeshAdapt)\n",
      "Info    : [ 50%] Meshing surface 15 (Plane, MeshAdapt)\n",
      "Info    : [ 60%] Meshing surface 16 (Plane, MeshAdapt)\n",
      "Info    : [ 60%] Meshing surface 17 (Surface of Revolution, MeshAdapt)\n",
      "Info    : [ 70%] Meshing surface 18 (Plane, MeshAdapt)\n",
      "Info    : [ 70%] Meshing surface 19 (Plane, MeshAdapt)\n",
      "Info    : [ 70%] Meshing surface 20 (Surface of Revolution, MeshAdapt)\n",
      "Info    : [ 80%] Meshing surface 21 (Plane, MeshAdapt)\n",
      "Info    : [ 80%] Meshing surface 22 (Plane, MeshAdapt)\n",
      "Info    : [ 80%] Meshing surface 23 (Surface of Revolution, MeshAdapt)\n",
      "Info    : [ 90%] Meshing surface 24 (Plane, MeshAdapt)\n",
      "Info    : [ 90%] Meshing surface 25 (Plane, MeshAdapt)\n",
      "Info    : [ 90%] Meshing surface 26 (Surface of Revolution, MeshAdapt)\n",
      "Info    : [100%] Meshing surface 27 (Plane, MeshAdapt)\n",
      "Info    : [100%] Meshing surface 28 (Plane, MeshAdapt)\n",
      "Info    : Done meshing 2D (Wall 84.4866s, CPU 84.4333s)\n",
      "Info    : 24153 nodes 49927 elements\n",
      "Info    : Writing '/tmp/volume_1xtcuzus4.stl'...\n",
      "Info    : Done writing '/tmp/volume_1xtcuzus4.stl'\n",
      "Info    : Writing '/tmp/volume_2csa3erb1.stl'...\n",
      "Info    : Done writing '/tmp/volume_2csa3erb1.stl'\n",
      "Info    : Writing '/tmp/volume_32zgy7mak.stl'...\n",
      "Info    : Done writing '/tmp/volume_32zgy7mak.stl'\n",
      "Info    : Writing '/tmp/volume_4or68bam0.stl'...\n",
      "Info    : Done writing '/tmp/volume_4or68bam0.stl'\n",
      "Info    : Writing '/tmp/volume_52bfbsuc7.stl'...\n",
      "Info    : Done writing '/tmp/volume_52bfbsuc7.stl'\n",
      "Info    : Writing '/tmp/volume_68rfcfuz9.stl'...\n",
      "Info    : Done writing '/tmp/volume_68rfcfuz9.stl'\n",
      "Info    : Writing '/tmp/volume_7f5gnuctr.stl'...\n",
      "Info    : Done writing '/tmp/volume_7f5gnuctr.stl'\n",
      "Info    : Writing '/tmp/volume_8hr808fsj.stl'...\n",
      "Info    : Done writing '/tmp/volume_8hr808fsj.stl'\n",
      "Info    : Writing '/tmp/volume_9edblhcga.stl'...\n",
      "Info    : Done writing '/tmp/volume_9edblhcga.stl'\n"
     ]
    },
    {
     "data": {
      "text/plain": [
       "'dagmc.h5m'"
      ]
     },
     "execution_count": 4,
     "metadata": {},
     "output_type": "execute_result"
    }
   ],
   "source": [
    "my_reactor.export_dagmc_h5m(filename='dagmc.h5m')"
   ]
  },
  {
   "cell_type": "markdown",
   "metadata": {},
   "source": [
    "This next section combines the geometry with the materials and specifies a few mesh tallies"
   ]
  },
  {
   "cell_type": "code",
   "execution_count": 5,
   "metadata": {
    "tags": []
   },
   "outputs": [],
   "source": [
    "# makes use of the previously created neutronics geometry (h5m file) and assigns\n",
    "# actual materials to the material tags. \n",
    "\n",
    "import openmc_dagmc_wrapper as odw\n",
    "\n",
    "import neutronics_material_maker as nmm\n",
    "\n",
    "# this links the material tags in the dagmc h5m file with materials.\n",
    "# these materials are input as strings so they will be looked up in the\n",
    "# neutronics material maker package\n",
    "material_tag_to_material_dict = {\n",
    "    'blanket': nmm.Material.from_library(name='DT_plasma'),\n",
    "    'center_column': nmm.Material.from_library(name='Li4SiO4'),\n",
    "}\n",
    "\n",
    "geometry = odw.Geometry(h5m_filename='dagmc.h5m')\n",
    "\n",
    "materials = odw.Materials(\n",
    "    h5m_filename='dagmc.h5m',\n",
    "    correspondence_dict=material_tag_to_material_dict\n",
    ")"
   ]
  },
  {
   "cell_type": "markdown",
   "metadata": {},
   "source": [
    "This section sets the the neutronics results to record (know as tallies)."
   ]
  },
  {
   "cell_type": "code",
   "execution_count": 7,
   "metadata": {},
   "outputs": [
    {
     "name": "stderr",
     "output_type": "stream",
     "text": [
      "/opt/conda/lib/python3.8/site-packages/openmc/mixin.py:67: IDWarning: Another Tally instance already exists with id=1.\n",
      "  warn(msg, IDWarning)\n"
     ]
    }
   ],
   "source": [
    "from dagmc_bounding_box import DagmcBoundingBox\n",
    "import openmc\n",
    "\n",
    "# finds bounding box size from the geometry size\n",
    "corners = DagmcBoundingBox('dagmc.h5m').corners()\n",
    "\n",
    "mesh = openmc.RegularMesh()\n",
    "mesh.dimension = [100, 100, 100]  # number of mesh cells in each dimension (resolution)\n",
    "\n",
    "mesh.lower_left = corners[0] # x,y,z coordinates\n",
    "mesh.upper_right = corners[0] # x,y,z coordinates\n",
    "\n",
    "mesh_filter = openmc.MeshFilter(mesh)\n",
    "\n",
    "# Create flux mesh tally to score alpha production\n",
    "mesh_tally = openmc.Tally(tally_id=1, name='alpha_production_on_mesh')  # note the tally_id is specified\n",
    "mesh_tally.filters = [mesh_filter]\n",
    "mesh_tally.scores = ['(n,Xa)']  # where X is a wild card\n",
    "\n",
    "\n",
    "tallies = openmc.Tallies([mesh_tally])"
   ]
  },
  {
   "cell_type": "markdown",
   "metadata": {},
   "source": [
    "Sets simulation intensity, combines the geometry, materials, tallies and settings into a single object and runs the simulation"
   ]
  },
  {
   "cell_type": "code",
   "execution_count": 8,
   "metadata": {},
   "outputs": [
    {
     "name": "stdout",
     "output_type": "stream",
     "text": [
      "rm: cannot remove '*.h5': No such file or directory\n",
      "                                %%%%%%%%%%%%%%%\n",
      "                           %%%%%%%%%%%%%%%%%%%%%%%%\n",
      "                        %%%%%%%%%%%%%%%%%%%%%%%%%%%%%%\n",
      "                      %%%%%%%%%%%%%%%%%%%%%%%%%%%%%%%%%%\n",
      "                    %%%%%%%%%%%%%%%%%%%%%%%%%%%%%%%%%%%%%%\n",
      "                   %%%%%%%%%%%%%%%%%%%%%%%%%%%%%%%%%%%%%%%%\n",
      "                                    %%%%%%%%%%%%%%%%%%%%%%%%\n",
      "                                     %%%%%%%%%%%%%%%%%%%%%%%%\n",
      "                 ###############      %%%%%%%%%%%%%%%%%%%%%%%%\n",
      "                ##################     %%%%%%%%%%%%%%%%%%%%%%%\n",
      "                ###################     %%%%%%%%%%%%%%%%%%%%%%%\n",
      "                ####################     %%%%%%%%%%%%%%%%%%%%%%\n",
      "                #####################     %%%%%%%%%%%%%%%%%%%%%\n",
      "                ######################     %%%%%%%%%%%%%%%%%%%%\n",
      "                #######################     %%%%%%%%%%%%%%%%%%\n",
      "                 #######################     %%%%%%%%%%%%%%%%%\n",
      "                 ######################     %%%%%%%%%%%%%%%%%\n",
      "                  ####################     %%%%%%%%%%%%%%%%%\n",
      "                    #################     %%%%%%%%%%%%%%%%%\n",
      "                     ###############     %%%%%%%%%%%%%%%%\n",
      "                       ############     %%%%%%%%%%%%%%%\n",
      "                          ########     %%%%%%%%%%%%%%\n",
      "                                      %%%%%%%%%%%\n",
      "\n",
      "                 | The OpenMC Monte Carlo Code\n",
      "       Copyright | 2011-2022 MIT, UChicago Argonne LLC, and contributors\n",
      "         License | https://docs.openmc.org/en/latest/license.html\n",
      "         Version | 0.13.1-dev\n",
      "        Git SHA1 | 6549067c43bb00750fe4f3d772795217575380ea\n",
      "       Date/Time | 2022-07-11 12:33:16\n",
      "  OpenMP Threads | 4\n",
      "\n",
      " Reading settings XML file...\n",
      " Reading cross sections XML file...\n",
      " Reading materials XML file...\n",
      " Reading geometry XML file...\n",
      "Set overlap thickness = 0\n",
      "Set numerical precision = 0.001\n",
      "Loading file dagmc.h5m\n",
      "Initializing the GeomQueryTool...\n",
      "Using faceting tolerance: 0\n",
      "Building acceleration data structures...\n",
      "Implicit Complement assumed to be Vacuum\n",
      " Reading H2 from /nuclear_data/ENDFB-7.1-NNDC_H2.h5\n",
      " Reading H3 from /nuclear_data/ENDFB-7.1-NNDC_H3.h5\n",
      " Reading Li7 from /nuclear_data/ENDFB-7.1-NNDC_Li7.h5\n",
      " Reading Li6 from /nuclear_data/ENDFB-7.1-NNDC_Li6.h5\n",
      " Reading Si30 from /nuclear_data/ENDFB-7.1-NNDC_Si30.h5\n",
      " Reading Si28 from /nuclear_data/ENDFB-7.1-NNDC_Si28.h5\n",
      " Reading Si29 from /nuclear_data/ENDFB-7.1-NNDC_Si29.h5\n",
      " Reading O17 from /nuclear_data/ENDFB-7.1-NNDC_O17.h5\n",
      " Reading O18 from /nuclear_data/TENDL-2019_O18.h5\n",
      " Reading O16 from /nuclear_data/ENDFB-7.1-NNDC_O16.h5\n",
      " Minimum neutron data temperature: 294 K\n",
      " Maximum neutron data temperature: 294 K\n",
      " Reading tallies XML file...\n",
      " Preparing distributed cell instances...\n",
      " Reading plot XML file...\n",
      " Writing summary.h5 file...\n",
      " Maximum neutron transport energy: 20000000 eV for H3\n",
      "\n",
      " ===============>     FIXED SOURCE TRANSPORT SIMULATION     <===============\n",
      "\n",
      " Simulating batch 1\n"
     ]
    },
    {
     "ename": "KeyboardInterrupt",
     "evalue": "",
     "output_type": "error",
     "traceback": [
      "\u001b[0;31m---------------------------------------------------------------------------\u001b[0m",
      "\u001b[0;31mKeyboardInterrupt\u001b[0m                         Traceback (most recent call last)",
      "\u001b[1;32m/workspaces/neutronics-workshop/tasks/task_12_CAD_mesh_fast_flux/1_making_shapes_for_a_3d_mesh_tally_vtk.ipynb Cell 15\u001b[0m in \u001b[0;36m<cell line: 22>\u001b[0;34m()\u001b[0m\n\u001b[1;32m     <a href='vscode-notebook-cell://codespaces%2Bfirstlightfusion-neutronics-workshop-pj4j6jprfgwr/workspaces/neutronics-workshop/tasks/task_12_CAD_mesh_fast_flux/1_making_shapes_for_a_3d_mesh_tally_vtk.ipynb#ch0000014vscode-remote?line=14'>15</a>\u001b[0m my_model \u001b[39m=\u001b[39m openmc\u001b[39m.\u001b[39mModel(\n\u001b[1;32m     <a href='vscode-notebook-cell://codespaces%2Bfirstlightfusion-neutronics-workshop-pj4j6jprfgwr/workspaces/neutronics-workshop/tasks/task_12_CAD_mesh_fast_flux/1_making_shapes_for_a_3d_mesh_tally_vtk.ipynb#ch0000014vscode-remote?line=15'>16</a>\u001b[0m     materials\u001b[39m=\u001b[39mmaterials,\n\u001b[1;32m     <a href='vscode-notebook-cell://codespaces%2Bfirstlightfusion-neutronics-workshop-pj4j6jprfgwr/workspaces/neutronics-workshop/tasks/task_12_CAD_mesh_fast_flux/1_making_shapes_for_a_3d_mesh_tally_vtk.ipynb#ch0000014vscode-remote?line=16'>17</a>\u001b[0m     geometry\u001b[39m=\u001b[39mgeometry,\n\u001b[1;32m     <a href='vscode-notebook-cell://codespaces%2Bfirstlightfusion-neutronics-workshop-pj4j6jprfgwr/workspaces/neutronics-workshop/tasks/task_12_CAD_mesh_fast_flux/1_making_shapes_for_a_3d_mesh_tally_vtk.ipynb#ch0000014vscode-remote?line=17'>18</a>\u001b[0m     settings\u001b[39m=\u001b[39msettings,\n\u001b[1;32m     <a href='vscode-notebook-cell://codespaces%2Bfirstlightfusion-neutronics-workshop-pj4j6jprfgwr/workspaces/neutronics-workshop/tasks/task_12_CAD_mesh_fast_flux/1_making_shapes_for_a_3d_mesh_tally_vtk.ipynb#ch0000014vscode-remote?line=18'>19</a>\u001b[0m     tallies\u001b[39m=\u001b[39mtallies\n\u001b[1;32m     <a href='vscode-notebook-cell://codespaces%2Bfirstlightfusion-neutronics-workshop-pj4j6jprfgwr/workspaces/neutronics-workshop/tasks/task_12_CAD_mesh_fast_flux/1_making_shapes_for_a_3d_mesh_tally_vtk.ipynb#ch0000014vscode-remote?line=19'>20</a>\u001b[0m )\n\u001b[1;32m     <a href='vscode-notebook-cell://codespaces%2Bfirstlightfusion-neutronics-workshop-pj4j6jprfgwr/workspaces/neutronics-workshop/tasks/task_12_CAD_mesh_fast_flux/1_making_shapes_for_a_3d_mesh_tally_vtk.ipynb#ch0000014vscode-remote?line=20'>21</a>\u001b[0m get_ipython()\u001b[39m.\u001b[39msystem(\u001b[39m'\u001b[39m\u001b[39mrm *.h5  # just removes old summary.h5 or statepoint files\u001b[39m\u001b[39m'\u001b[39m)\n\u001b[0;32m---> <a href='vscode-notebook-cell://codespaces%2Bfirstlightfusion-neutronics-workshop-pj4j6jprfgwr/workspaces/neutronics-workshop/tasks/task_12_CAD_mesh_fast_flux/1_making_shapes_for_a_3d_mesh_tally_vtk.ipynb#ch0000014vscode-remote?line=21'>22</a>\u001b[0m statepoint_file \u001b[39m=\u001b[39m my_model\u001b[39m.\u001b[39;49mrun()\n",
      "File \u001b[0;32m/opt/conda/lib/python3.8/site-packages/openmc/model/model.py:584\u001b[0m, in \u001b[0;36mModel.run\u001b[0;34m(self, particles, threads, geometry_debug, restart_file, tracks, output, cwd, openmc_exec, mpi_args, event_based)\u001b[0m\n\u001b[1;32m    581\u001b[0m \u001b[39melse\u001b[39;00m:\n\u001b[1;32m    582\u001b[0m     \u001b[39m# Then run via the command line\u001b[39;00m\n\u001b[1;32m    583\u001b[0m     \u001b[39mself\u001b[39m\u001b[39m.\u001b[39mexport_to_xml()\n\u001b[0;32m--> 584\u001b[0m     openmc\u001b[39m.\u001b[39;49mrun(particles, threads, geometry_debug, restart_file,\n\u001b[1;32m    585\u001b[0m                tracks, output, Path(\u001b[39m'\u001b[39;49m\u001b[39m.\u001b[39;49m\u001b[39m'\u001b[39;49m), openmc_exec, mpi_args,\n\u001b[1;32m    586\u001b[0m                event_based)\n\u001b[1;32m    588\u001b[0m \u001b[39m# Get output directory and return the last statepoint written\u001b[39;00m\n\u001b[1;32m    589\u001b[0m \u001b[39mif\u001b[39;00m \u001b[39mself\u001b[39m\u001b[39m.\u001b[39msettings\u001b[39m.\u001b[39moutput \u001b[39mand\u001b[39;00m \u001b[39m'\u001b[39m\u001b[39mpath\u001b[39m\u001b[39m'\u001b[39m \u001b[39min\u001b[39;00m \u001b[39mself\u001b[39m\u001b[39m.\u001b[39msettings\u001b[39m.\u001b[39moutput:\n",
      "File \u001b[0;32m/opt/conda/lib/python3.8/site-packages/openmc/executor.py:276\u001b[0m, in \u001b[0;36mrun\u001b[0;34m(particles, threads, geometry_debug, restart_file, tracks, output, cwd, openmc_exec, mpi_args, event_based)\u001b[0m\n\u001b[1;32m    232\u001b[0m \u001b[39m\"\"\"Run an OpenMC simulation.\u001b[39;00m\n\u001b[1;32m    233\u001b[0m \n\u001b[1;32m    234\u001b[0m \u001b[39mParameters\u001b[39;00m\n\u001b[0;32m   (...)\u001b[0m\n\u001b[1;32m    268\u001b[0m \n\u001b[1;32m    269\u001b[0m \u001b[39m\"\"\"\u001b[39;00m\n\u001b[1;32m    271\u001b[0m args \u001b[39m=\u001b[39m _process_CLI_arguments(\n\u001b[1;32m    272\u001b[0m     volume\u001b[39m=\u001b[39m\u001b[39mFalse\u001b[39;00m, geometry_debug\u001b[39m=\u001b[39mgeometry_debug, particles\u001b[39m=\u001b[39mparticles,\n\u001b[1;32m    273\u001b[0m     restart_file\u001b[39m=\u001b[39mrestart_file, threads\u001b[39m=\u001b[39mthreads, tracks\u001b[39m=\u001b[39mtracks,\n\u001b[1;32m    274\u001b[0m     event_based\u001b[39m=\u001b[39mevent_based, openmc_exec\u001b[39m=\u001b[39mopenmc_exec, mpi_args\u001b[39m=\u001b[39mmpi_args)\n\u001b[0;32m--> 276\u001b[0m _run(args, output, cwd)\n",
      "File \u001b[0;32m/opt/conda/lib/python3.8/site-packages/openmc/executor.py:95\u001b[0m, in \u001b[0;36m_run\u001b[0;34m(args, output, cwd)\u001b[0m\n\u001b[1;32m     92\u001b[0m lines \u001b[39m=\u001b[39m []\n\u001b[1;32m     93\u001b[0m \u001b[39mwhile\u001b[39;00m \u001b[39mTrue\u001b[39;00m:\n\u001b[1;32m     94\u001b[0m     \u001b[39m# If OpenMC is finished, break loop\u001b[39;00m\n\u001b[0;32m---> 95\u001b[0m     line \u001b[39m=\u001b[39m p\u001b[39m.\u001b[39;49mstdout\u001b[39m.\u001b[39;49mreadline()\n\u001b[1;32m     96\u001b[0m     \u001b[39mif\u001b[39;00m \u001b[39mnot\u001b[39;00m line \u001b[39mand\u001b[39;00m p\u001b[39m.\u001b[39mpoll() \u001b[39mis\u001b[39;00m \u001b[39mnot\u001b[39;00m \u001b[39mNone\u001b[39;00m:\n\u001b[1;32m     97\u001b[0m         \u001b[39mbreak\u001b[39;00m\n",
      "\u001b[0;31mKeyboardInterrupt\u001b[0m: "
     ]
    }
   ],
   "source": [
    "import openmc_plasma_source as ops\n",
    "\n",
    "settings = openmc.Settings()\n",
    "settings.inactive = 0\n",
    "settings.run_mode = 'fixed source'\n",
    "settings.batches = 4\n",
    "settings.particles = 1000\n",
    "\n",
    "# assigns a ring source of DT energy neutrons to the source using the\n",
    "# openmc_plasma_source package, more details here\n",
    "# https://github.com/fusion-energy/openmc-plasma-source/\n",
    "settings.source = ops.FusionRingSource(fuel=\"DT\", radius=350)\n",
    "\n",
    "\n",
    "my_model = openmc.Model(\n",
    "    materials=materials,\n",
    "    geometry=geometry,\n",
    "    settings=settings,\n",
    "    tallies=tallies\n",
    ")\n",
    "!rm *.h5  # just removes old summary.h5 or statepoint files\n",
    "statepoint_file = my_model.run()"
   ]
  },
  {
   "cell_type": "markdown",
   "metadata": {},
   "source": [
    "The following section opens the statepoint and converts the tally result into a VTK file. VTK files can be opened in paraview"
   ]
  },
  {
   "cell_type": "code",
   "execution_count": null,
   "metadata": {},
   "outputs": [],
   "source": [
    "\n",
    "# assumes you have a statepoint file from the OpenMC simulation\n",
    "statepoint = openmc.StatePoint('statepoint.4.h5')\n",
    "\n",
    "# this shows the tallies present in the statepoint file\n",
    "print(statepoint.tallies)\n",
    "\n",
    "# loads up a tally from the statepoint using it's name\n",
    "my_tally = statepoint.get_tally(name='alpha_production_on_mesh')\n",
    "\n",
    "# converts the tally result into a VTK file\n",
    "mesh.write_data_to_vtk(\n",
    "    datasets={'mean': my_tally.mean},\n",
    "    filename = \"vtk_file_from_openmc_mesh.vtk\",\n",
    ")"
   ]
  },
  {
   "cell_type": "markdown",
   "metadata": {},
   "source": [
    "Now download the VTK file by moving to the file explorer, right mouse clicking on the file and selecting Download.\n",
    "\n",
    "Open the file in Paraview or another VTK file viewer on your local computer"
   ]
  },
  {
   "cell_type": "markdown",
   "metadata": {},
   "source": []
  }
 ],
 "metadata": {
  "kernelspec": {
   "display_name": "Python 3.8.13 ('base')",
   "language": "python",
   "name": "python3"
  },
  "language_info": {
   "codemirror_mode": {
    "name": "ipython",
    "version": 3
   },
   "file_extension": ".py",
   "mimetype": "text/x-python",
   "name": "python",
   "nbconvert_exporter": "python",
   "pygments_lexer": "ipython3",
   "version": "3.8.13"
  },
  "vscode": {
   "interpreter": {
    "hash": "d4d1e4263499bec80672ea0156c357c1ee493ec2b1c70f0acce89fc37c4a6abe"
   }
  }
 },
 "nbformat": 4,
 "nbformat_minor": 4
}
