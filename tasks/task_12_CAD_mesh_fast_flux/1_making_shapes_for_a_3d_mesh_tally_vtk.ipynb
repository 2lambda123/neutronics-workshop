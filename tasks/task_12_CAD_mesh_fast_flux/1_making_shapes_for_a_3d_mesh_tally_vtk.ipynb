{
 "cells": [
  {
   "cell_type": "markdown",
   "metadata": {},
   "source": [
    "# Heating Mesh Tally on CAD geometry made from Shapes\n",
    "\n",
    "This constructs a reactor geometry from 3 Shape objects each made from points.\n",
    "\n",
    "The Shapes made include a breeder blanket, PF coil and a central column shield.\n",
    "\n",
    "2D and 3D Meshes tally are then simulated to show nuclear heating, flux and tritium_production across the model."
   ]
  },
  {
   "cell_type": "markdown",
   "metadata": {},
   "source": [
    "This makes a 3D geometry and material for the centre column"
   ]
  },
  {
   "cell_type": "code",
   "execution_count": 1,
   "metadata": {},
   "outputs": [],
   "source": [
    "import paramak\n",
    "\n",
    "center_column = paramak.RotateMixedShape(\n",
    "    points=[\n",
    "        (50, 600, 'straight'),\n",
    "        (150, 600, 'spline'),\n",
    "        (100, 0, 'spline'),\n",
    "        (150, -600, 'straight'),\n",
    "        (50, -600, 'straight')\n",
    "    ],\n",
    "    name='center_column'\n",
    ")"
   ]
  },
  {
   "cell_type": "markdown",
   "metadata": {},
   "source": [
    "This makes a 3D geometry and material for breeder blanket. The azimuth_placement_angle argument is used to repeat the geometry around the Z axis at specified angles."
   ]
  },
  {
   "cell_type": "code",
   "execution_count": 2,
   "metadata": {},
   "outputs": [],
   "source": [
    "blanket = paramak.RotateSplineShape(\n",
    "    points=[\n",
    "        (600, 0),\n",
    "        (600, -20),\n",
    "        (500, -300),\n",
    "        (400, -300),\n",
    "        (400, 0),\n",
    "        (400, 300),\n",
    "        (500, 300),\n",
    "        (600, 20)\n",
    "    ],\n",
    "    name='blanket',\n",
    "    rotation_angle=40,\n",
    "    azimuth_placement_angle=[0, 45, 90, 135, 180, 225, 270, 315],\n",
    ")"
   ]
  },
  {
   "cell_type": "markdown",
   "metadata": {},
   "source": [
    "This makes a reactor object from the three components"
   ]
  },
  {
   "cell_type": "code",
   "execution_count": 3,
   "metadata": {},
   "outputs": [
    {
     "name": "stdout",
     "output_type": "stream",
     "text": [
      "Overwriting auto display for cadquery Workplane and Shape\n",
      "  \n"
     ]
    },
    {
     "data": {
      "application/vnd.jupyter.widget-view+json": {
       "model_id": "42977dbd73294681b2a0d1dec58f47be",
       "version_major": 2,
       "version_minor": 0
      },
      "text/plain": [
       "CadViewerWidget(anchor=None, cad_width=800, height=600, pinning=False, theme='light', title=None, tree_width=2…"
      ]
     },
     "metadata": {},
     "output_type": "display_data"
    },
    {
     "data": {
      "text/html": [
       "<div></div>"
      ],
      "text/plain": [
       "<IPython.core.display.HTML object>"
      ]
     },
     "metadata": {},
     "output_type": "display_data"
    },
    {
     "data": {
      "text/plain": [
       "<cad_viewer_widget.widget.CadViewer at 0x7fa79bdca2e0>"
      ]
     },
     "execution_count": 3,
     "metadata": {},
     "output_type": "execute_result"
    }
   ],
   "source": [
    "my_reactor = paramak.Reactor([blanket, center_column])\n",
    "\n",
    "my_reactor.show()"
   ]
  },
  {
   "cell_type": "markdown",
   "metadata": {},
   "source": [
    "This section forms the neutronics model by combining the 3D model, the plasma source and some assigned materials. Additionally, the tallies to record the heating are specified."
   ]
  },
  {
   "cell_type": "code",
   "execution_count": 4,
   "metadata": {},
   "outputs": [
    {
     "name": "stdout",
     "output_type": "stream",
     "text": [
      "Info    : Meshing 1D...\n",
      "Info    : [  0%] Meshing curve 1 (Circle)\n",
      "Info    : [ 10%] Meshing curve 2 (Circle)\n",
      "Info    : [ 10%] Meshing curve 3 (Circle)\n",
      "Info    : [ 10%] Meshing curve 4 (BSpline)\n",
      "Info    : [ 20%] Meshing curve 5 (Circle)\n",
      "Info    : [ 20%] Meshing curve 6 (Line)\n",
      "Info    : [ 20%] Meshing curve 7 (Circle)\n",
      "Info    : [ 30%] Meshing curve 8 (BSpline)\n",
      "Info    : [ 30%] Meshing curve 9 (BSpline)\n",
      "Info    : [ 30%] Meshing curve 10 (Circle)\n",
      "Info    : [ 40%] Meshing curve 11 (BSpline)\n",
      "Info    : [ 40%] Meshing curve 12 (BSpline)\n",
      "Info    : [ 40%] Meshing curve 13 (Circle)\n",
      "Info    : [ 50%] Meshing curve 14 (BSpline)\n",
      "Info    : [ 50%] Meshing curve 15 (BSpline)\n",
      "Info    : [ 50%] Meshing curve 16 (Circle)\n",
      "Info    : [ 60%] Meshing curve 17 (BSpline)\n",
      "Info    : [ 60%] Meshing curve 18 (BSpline)\n",
      "Info    : [ 60%] Meshing curve 19 (Circle)\n",
      "Info    : [ 70%] Meshing curve 20 (BSpline)\n",
      "Info    : [ 70%] Meshing curve 21 (BSpline)\n",
      "Info    : [ 70%] Meshing curve 22 (Circle)\n",
      "Info    : [ 80%] Meshing curve 23 (BSpline)\n",
      "Info    : [ 80%] Meshing curve 24 (BSpline)\n",
      "Info    : [ 80%] Meshing curve 25 (Circle)\n",
      "Info    : [ 90%] Meshing curve 26 (BSpline)\n",
      "Info    : [ 90%] Meshing curve 27 (BSpline)\n",
      "Info    : [ 90%] Meshing curve 28 (Circle)\n",
      "Info    : [100%] Meshing curve 29 (BSpline)\n",
      "Info    : [100%] Meshing curve 30 (BSpline)\n",
      "Info    : Done meshing 1D (Wall 0.448653s, CPU 0.458886s)\n",
      "Info    : Meshing 2D...\n",
      "Info    : [  0%] Meshing surface 1 (Plane, MeshAdapt)\n",
      "Info    : [ 10%] Meshing surface 2 (Surface of Revolution, MeshAdapt)\n",
      "Info    : [ 10%] Meshing surface 3 (Plane, MeshAdapt)\n",
      "Info    : [ 20%] Meshing surface 4 (Cylinder, MeshAdapt)\n",
      "Info    : [ 20%] Meshing surface 5 (Surface of Revolution, MeshAdapt)\n",
      "Info    : [ 20%] Meshing surface 6 (Plane, MeshAdapt)\n",
      "Info    : [ 30%] Meshing surface 7 (Plane, MeshAdapt)\n",
      "Info    : [ 30%] Meshing surface 8 (Surface of Revolution, MeshAdapt)\n",
      "Info    : [ 30%] Meshing surface 9 (Plane, MeshAdapt)\n",
      "Info    : [ 40%] Meshing surface 10 (Plane, MeshAdapt)\n",
      "Info    : [ 40%] Meshing surface 11 (Surface of Revolution, MeshAdapt)\n",
      "Info    : [ 40%] Meshing surface 12 (Plane, MeshAdapt)\n",
      "Info    : [ 50%] Meshing surface 13 (Plane, MeshAdapt)\n",
      "Info    : [ 50%] Meshing surface 14 (Surface of Revolution, MeshAdapt)\n",
      "Info    : [ 50%] Meshing surface 15 (Plane, MeshAdapt)\n",
      "Info    : [ 60%] Meshing surface 16 (Plane, MeshAdapt)\n",
      "Info    : [ 60%] Meshing surface 17 (Surface of Revolution, MeshAdapt)\n",
      "Info    : [ 70%] Meshing surface 18 (Plane, MeshAdapt)\n",
      "Info    : [ 70%] Meshing surface 19 (Plane, MeshAdapt)\n",
      "Info    : [ 70%] Meshing surface 20 (Surface of Revolution, MeshAdapt)\n",
      "Info    : [ 80%] Meshing surface 21 (Plane, MeshAdapt)\n",
      "Info    : [ 80%] Meshing surface 22 (Plane, MeshAdapt)\n",
      "Info    : [ 80%] Meshing surface 23 (Surface of Revolution, MeshAdapt)\n",
      "Info    : [ 90%] Meshing surface 24 (Plane, MeshAdapt)\n",
      "Info    : [ 90%] Meshing surface 25 (Plane, MeshAdapt)\n",
      "Info    : [ 90%] Meshing surface 26 (Surface of Revolution, MeshAdapt)\n",
      "Info    : [100%] Meshing surface 27 (Plane, MeshAdapt)\n",
      "Info    : [100%] Meshing surface 28 (Plane, MeshAdapt)\n",
      "Info    : Done meshing 2D (Wall 33.936s, CPU 33.9505s)\n",
      "Info    : 24134 nodes 49889 elements\n",
      "Info    : Writing '/tmp/volume_1bq63o79p.stl'...\n",
      "Info    : Done writing '/tmp/volume_1bq63o79p.stl'\n",
      "Info    : Writing '/tmp/volume_2_ejip4ld.stl'...\n",
      "Info    : Done writing '/tmp/volume_2_ejip4ld.stl'\n",
      "Info    : Writing '/tmp/volume_3hmrogdya.stl'...\n",
      "Info    : Done writing '/tmp/volume_3hmrogdya.stl'\n",
      "Info    : Writing '/tmp/volume_4kf38_giy.stl'...\n",
      "Info    : Done writing '/tmp/volume_4kf38_giy.stl'\n",
      "Info    : Writing '/tmp/volume_5bbgo9yyp.stl'...\n",
      "Info    : Done writing '/tmp/volume_5bbgo9yyp.stl'\n",
      "Info    : Writing '/tmp/volume_6_enepmdf.stl'...\n",
      "Info    : Done writing '/tmp/volume_6_enepmdf.stl'\n",
      "Info    : Writing '/tmp/volume_7txd91h1s.stl'...\n",
      "Info    : Done writing '/tmp/volume_7txd91h1s.stl'\n",
      "Info    : Writing '/tmp/volume_81iai3es_.stl'...\n",
      "Info    : Done writing '/tmp/volume_81iai3es_.stl'\n",
      "Info    : Writing '/tmp/volume_94ilp2wwx.stl'...\n",
      "Info    : Done writing '/tmp/volume_94ilp2wwx.stl'\n",
      "file /tmp/volume_1bq63o79p.stl is watertight True\n",
      "file /tmp/volume_2_ejip4ld.stl is watertight True\n",
      "file /tmp/volume_3hmrogdya.stl is watertight True\n",
      "file /tmp/volume_4kf38_giy.stl is watertight True\n",
      "file /tmp/volume_5bbgo9yyp.stl is watertight True\n",
      "file /tmp/volume_6_enepmdf.stl is watertight True\n",
      "file /tmp/volume_7txd91h1s.stl is watertight True\n",
      "file /tmp/volume_81iai3es_.stl is watertight True\n",
      "file /tmp/volume_94ilp2wwx.stl is watertight True\n"
     ]
    },
    {
     "data": {
      "text/plain": [
       "'dagmc.h5m'"
      ]
     },
     "execution_count": 4,
     "metadata": {},
     "output_type": "execute_result"
    }
   ],
   "source": [
    "my_reactor.export_dagmc_h5m(filename='dagmc.h5m')"
   ]
  },
  {
   "cell_type": "markdown",
   "metadata": {},
   "source": [
    "This next section combines the geometry with the materials and specifies a few mesh tallies"
   ]
  },
  {
   "cell_type": "code",
   "execution_count": 5,
   "metadata": {
    "tags": []
   },
   "outputs": [
    {
     "ename": "ModuleNotFoundError",
     "evalue": "No module named 'openmc_dagmc_wrapper'",
     "output_type": "error",
     "traceback": [
      "\u001b[0;31m---------------------------------------------------------------------------\u001b[0m",
      "\u001b[0;31mModuleNotFoundError\u001b[0m                       Traceback (most recent call last)",
      "Input \u001b[0;32mIn [5]\u001b[0m, in \u001b[0;36m<module>\u001b[0;34m\u001b[0m\n\u001b[1;32m      1\u001b[0m \u001b[38;5;66;03m# makes use of the previously created neutronics geometry (h5m file) and assigns\u001b[39;00m\n\u001b[1;32m      2\u001b[0m \u001b[38;5;66;03m# actual materials to the material tags. \u001b[39;00m\n\u001b[0;32m----> 4\u001b[0m \u001b[38;5;28;01mimport\u001b[39;00m \u001b[38;5;21;01mopenmc_dagmc_wrapper\u001b[39;00m \u001b[38;5;28;01mas\u001b[39;00m \u001b[38;5;21;01modw\u001b[39;00m\n\u001b[1;32m      6\u001b[0m \u001b[38;5;28;01mimport\u001b[39;00m \u001b[38;5;21;01mneutronics_material_maker\u001b[39;00m \u001b[38;5;28;01mas\u001b[39;00m \u001b[38;5;21;01mnmm\u001b[39;00m\n\u001b[1;32m      8\u001b[0m \u001b[38;5;66;03m# this links the material tags in the dagmc h5m file with materials.\u001b[39;00m\n\u001b[1;32m      9\u001b[0m \u001b[38;5;66;03m# these materials are input as strings so they will be looked up in the\u001b[39;00m\n\u001b[1;32m     10\u001b[0m \u001b[38;5;66;03m# neutronics material maker package\u001b[39;00m\n",
      "\u001b[0;31mModuleNotFoundError\u001b[0m: No module named 'openmc_dagmc_wrapper'"
     ]
    }
   ],
   "source": [
    "# makes use of the previously created neutronics geometry (h5m file) and assigns\n",
    "# actual materials to the material tags. \n",
    "\n",
    "import openmc_dagmc_wrapper as odw\n",
    "\n",
    "import neutronics_material_maker as nmm\n",
    "\n",
    "# this links the material tags in the dagmc h5m file with materials.\n",
    "# these materials are input as strings so they will be looked up in the\n",
    "# neutronics material maker package\n",
    "material_tag_to_material_dict = {\n",
    "    'mat_blanket': nmm.Material.from_library(name='DT_plasma'),\n",
    "    'mat_center_column': nmm.Material.from_library(name='Li4SiO4'),\n",
    "}\n",
    "\n",
    "geometry = odw.Geometry(h5m_filename='dagmc.h5m')\n",
    "\n",
    "materials = odw.Materials(\n",
    "    h5m_filename='dagmc.h5m',\n",
    "    correspondence_dict=material_tag_to_material_dict\n",
    ")"
   ]
  },
  {
   "cell_type": "markdown",
   "metadata": {},
   "source": [
    "This section sets the the neutronics results to record (know as tallies)."
   ]
  },
  {
   "cell_type": "code",
   "execution_count": null,
   "metadata": {},
   "outputs": [],
   "source": [
    "from dagmc_bounding_box import DagmcBoundingBox\n",
    "\n",
    "# finds bounding box size from the geometry size\n",
    "corners = DagmcBoundingBox('dagmc.h5m').corners()\n",
    "\n",
    "tally1 = odw.MeshTally3D(\n",
    "    mesh_resolution=(100, 100, 100),\n",
    "    bounding_box= corners,\n",
    "    tally_type=\"(n,Xa)\",\n",
    ")\n",
    "\n",
    "\n",
    "import openmc\n",
    "tallies = openmc.Tallies([tally1])"
   ]
  },
  {
   "cell_type": "markdown",
   "metadata": {},
   "source": [
    "Sets simulation intensity, combines the geometry, materials, tallies and settings into a single object and runs the simulation"
   ]
  },
  {
   "cell_type": "code",
   "execution_count": null,
   "metadata": {},
   "outputs": [],
   "source": [
    "import openmc_plasma_source as ops\n",
    "\n",
    "settings = odw.FusionSettings()\n",
    "settings.batches = 4\n",
    "settings.particles = 1000\n",
    "\n",
    "# assigns a ring source of DT energy neutrons to the source using the\n",
    "# openmc_plasma_source package, more details here\n",
    "# https://github.com/fusion-energy/openmc-plasma-source/\n",
    "settings.source = ops.FusionRingSource(fuel=\"DT\", radius=350)\n",
    "\n",
    "\n",
    "my_model = openmc.Model(\n",
    "    materials=materials,\n",
    "    geometry=geometry,\n",
    "    settings=settings,\n",
    "    tallies=tallies\n",
    ")\n",
    "!rm *.h5  # just removes old summary.h5 or statepoint files\n",
    "statepoint_file = my_model.run()"
   ]
  },
  {
   "cell_type": "markdown",
   "metadata": {},
   "source": [
    "The following section opens the statepoint and converts the tally result into a VTK file. VTK files can be opened in paraview"
   ]
  },
  {
   "cell_type": "code",
   "execution_count": null,
   "metadata": {},
   "outputs": [],
   "source": [
    "from openmc_mesh_tally_to_vtk import write_mesh_tally_to_vtk\n",
    "# importing a package for converting regular mesh tallies to vtk files\n",
    "# more details here https://github.com/fusion-energy/openmc_mesh_tally_to_vtk\n",
    "\n",
    "\n",
    "# assumes you have a statepoint file from the OpenMC simulation\n",
    "statepoint = openmc.StatePoint('statepoint.4.h5')\n",
    "\n",
    "# this shows the tallies present in the statepoint file\n",
    "print(statepoint.tallies)\n",
    "\n",
    "# loads up a tally from the statepoint using it's name\n",
    "my_tally = statepoint.get_tally(name='(n,Xa)_on_3D_mesh')\n",
    "\n",
    "# converts the tally result into a VTK file\n",
    "write_mesh_tally_to_vtk(\n",
    "    tally=my_tally,\n",
    "    filename = \"vtk_file_from_openmc_mesh.vtk\",\n",
    ")"
   ]
  },
  {
   "cell_type": "markdown",
   "metadata": {},
   "source": [
    "The next section produces download links for:\n",
    "\n",
    "- vtk files that contain the 3D mesh results (open with Paraview)\n",
    "- png images that show the resuls of the 2D mesh tally"
   ]
  },
  {
   "cell_type": "code",
   "execution_count": null,
   "metadata": {},
   "outputs": [],
   "source": [
    "from IPython.display import FileLink\n",
    "display(FileLink('vtk_file_from_openmc_mesh.vtk'))"
   ]
  }
 ],
 "metadata": {
  "kernelspec": {
   "display_name": "Python 3 (ipykernel)",
   "language": "python",
   "name": "python3"
  },
  "language_info": {
   "codemirror_mode": {
    "name": "ipython",
    "version": 3
   },
   "file_extension": ".py",
   "mimetype": "text/x-python",
   "name": "python",
   "nbconvert_exporter": "python",
   "pygments_lexer": "ipython3",
   "version": "3.9.10"
  }
 },
 "nbformat": 4,
 "nbformat_minor": 4
}
