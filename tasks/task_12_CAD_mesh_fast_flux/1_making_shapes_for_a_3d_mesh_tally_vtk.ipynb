{
 "cells": [
  {
   "cell_type": "markdown",
   "metadata": {},
   "source": [
    "# Heating Mesh Tally on CAD geometry made from Shapes\n",
    "\n",
    "This constructs a reactor geometry from 3 Shape objects each made from points.\n",
    "\n",
    "The Shapes made include a breeder blanket, PF coil and a central column shield.\n",
    "\n",
    "2D and 3D Meshes tally are then simulated to show nuclear heating, flux and tritium_production across the model."
   ]
  },
  {
   "cell_type": "markdown",
   "metadata": {},
   "source": [
    "This makes a 3D geometry and material for the centre column"
   ]
  },
  {
   "cell_type": "code",
   "execution_count": 1,
   "metadata": {},
   "outputs": [],
   "source": [
    "import paramak\n",
    "\n",
    "center_column = paramak.RotateMixedShape(\n",
    "    points=[\n",
    "        (50, 600, 'straight'),\n",
    "        (150, 600, 'spline'),\n",
    "        (100, 0, 'spline'),\n",
    "        (150, -600, 'straight'),\n",
    "        (50, -600, 'straight')\n",
    "    ],\n",
    "    name='center_column'\n",
    ")"
   ]
  },
  {
   "cell_type": "markdown",
   "metadata": {},
   "source": [
    "This makes a 3D geometry and material for breeder blanket. The azimuth_placement_angle argument is used to repeat the geometry around the Z axis at specified angles."
   ]
  },
  {
   "cell_type": "code",
   "execution_count": 2,
   "metadata": {},
   "outputs": [],
   "source": [
    "blanket = paramak.RotateSplineShape(\n",
    "    points=[\n",
    "        (600, 0),\n",
    "        (600, -20),\n",
    "        (500, -300),\n",
    "        (400, -300),\n",
    "        (400, 0),\n",
    "        (400, 300),\n",
    "        (500, 300),\n",
    "        (600, 20)\n",
    "    ],\n",
    "    name='blanket',\n",
    "    rotation_angle=40,\n",
    "    azimuth_placement_angle=[0, 45, 90, 135, 180, 225, 270, 315],\n",
    ")"
   ]
  },
  {
   "cell_type": "markdown",
   "metadata": {},
   "source": [
    "This makes a reactor object from the three components"
   ]
  },
  {
   "cell_type": "code",
   "execution_count": 3,
   "metadata": {},
   "outputs": [
    {
     "name": "stdout",
     "output_type": "stream",
     "text": [
      "Overwriting auto display for cadquery Workplane and Shape\n"
     ]
    },
    {
     "data": {
      "application/vnd.jupyter.widget-view+json": {
       "model_id": "3955b2abc1ff4ee8879a1f953ba247f6",
       "version_major": 2,
       "version_minor": 0
      },
      "text/plain": [
       "HBox(children=(VBox(children=(HBox(children=(Checkbox(value=False, description='Axes', indent=False, _dom_clas…"
      ]
     },
     "metadata": {},
     "output_type": "display_data"
    },
    {
     "data": {
      "text/html": [
       "<style>\n",
       ".scroll-area {\n",
       "    overflow: scroll !important;\n",
       "    border: unset !important;\n",
       "}\n",
       "\n",
       ".mac-scrollbar::-webkit-scrollbar {\n",
       "    width: 5px !important;\n",
       "    height: 5px !important;\n",
       "}\n",
       "\n",
       ".mac-scrollbar::-webkit-scrollbar-track {\n",
       "    background-color: transparent !important;\n",
       "}\n",
       "\n",
       ".mac-scrollbar .widget-html-content {\n",
       "    overflow-x: visible;\n",
       "    overflow-y: visible;\n",
       "}\n",
       "\n",
       ".tab-content-no-padding .widget-tab-contents {\n",
       "    overflow-x: visible !important;\n",
       "    overflow-y: visible !important;\n",
       "    padding-bottom: 0px !important;\n",
       "}\n",
       "\n",
       ".view_renderer {\n",
       "    border: 1px solid var(--jp-border-color1);\n",
       "    margin-top: 3px;\n",
       "    margin-left: 2px;\n",
       "}\n",
       "\n",
       ".view_tree {\n",
       "    padding: 0px !important;\n",
       "}\n",
       "\n",
       ".view_axes {\n",
       "    width: 60px !important;\n",
       "    margin-left: 5px !important;\n",
       "}\n",
       "\n",
       ".view_zero {\n",
       "    width: 55px !important;\n",
       "}\n",
       "\n",
       ".view_grid {\n",
       "    width: 56px !important;\n",
       "}\n",
       "\n",
       ".view_ortho {\n",
       "    width: 64px !important;\n",
       "}\n",
       "\n",
       ".view_transparent {\n",
       "    width: 125px !important;\n",
       "}\n",
       "\n",
       ".view_black_edges {\n",
       "    width: 105px !important;\n",
       "}\n",
       "\n",
       ".view_button {\n",
       "    padding: 0px !important;\n",
       "}\n",
       "\n",
       ".view_button>img {\n",
       "    height: 28px;\n",
       "    width: 36px;\n",
       "}\n",
       "\n",
       ".node_entry_wrap {\n",
       "    white-space: pre;\n",
       "}\n",
       "\n",
       ".node_entry {\n",
       "    white-space: nowrap;\n",
       "    padding-top: 4px;\n",
       "}\n",
       "\n",
       ".t-caret {\n",
       "    cursor: pointer;\n",
       "    -webkit-user-select: none;\n",
       "    /* Safari 3.1+ */\n",
       "    -moz-user-select: none;\n",
       "    /* Firefox 2+ */\n",
       "    -ms-user-select: none;\n",
       "    /* IE 10+ */\n",
       "    user-select: none;\n",
       "}\n",
       "\n",
       ".t-caret-down::before {\n",
       "    -ms-transform: rotate(90deg);\n",
       "    /* IE 9 */\n",
       "    -webkit-transform: rotate(90deg);\n",
       "    /* Safari */\n",
       "    transform: rotate(90deg);\n",
       "}\n",
       "\n",
       ".toplevel {\n",
       "    list-style-type: none;\n",
       "    padding-inline-start: 0px;\n",
       "}\n",
       "\n",
       ".nested {\n",
       "    display: none;\n",
       "    list-style-type: none;\n",
       "    padding-inline-start: 16px;\n",
       "}\n",
       "\n",
       ".active {\n",
       "    display: block;\n",
       "}\n",
       "\n",
       ".icon {\n",
       "    width: 28px !important;\n",
       "    height: 22px !important;\n",
       "    padding-right: 2px;\n",
       "    vertical-align: middle;\n",
       "}\n",
       "\n",
       ".indent {\n",
       "    margin-left: 12px;\n",
       "}\n",
       "\n",
       ".tree_label {\n",
       "    padding-left: 2px;\n",
       "    font-size: 14px;\n",
       "}\n",
       "\n",
       ".scroll_down {\n",
       "    display: flex;\n",
       "    flex-direction: column-reverse;\n",
       "}\n",
       "\n",
       ".small_table {\n",
       "    line-height: 14px;\n",
       "}\n",
       "\n",
       ".monospace select {\n",
       "    font-family: monospace;\n",
       "}\n",
       "\n",
       "        .t-caret::before {\n",
       "            content: u\"▶\";\n",
       "            font-size: 12px;\n",
       "            color: \"#080808\";\n",
       "            display: inline-block;\n",
       "            margin-right: 2px;\n",
       "        }\n",
       "\n",
       "        .mac-scrollbar::-webkit-scrollbar-thumb {\n",
       "            background-color: rgba(0, 0, 0, 0.2) !important;\n",
       "            border-radius: 100px !important;\n",
       "        }\n",
       "\n",
       "        .mac-scrollbar::-webkit-scrollbar-thumb:hover {\n",
       "            background: rgba(0, 0, 0, 0.4) !important;\n",
       "        }\n",
       "\n",
       "        .mac-scrollbar::-webkit-scrollbar-thumb:active {\n",
       "            background: #181818 !important;\n",
       "        }\n",
       "\n",
       "        .mac-scrollbar::-webkit-scrollbar-corner {\n",
       "            background: white;\n",
       "        }\n",
       "\n",
       "        .view_output {\n",
       "            border: 1px solid var(--jp-border-color1);\n",
       "            margin: 2px 2px 2px 2px !important;\n",
       "            padding-right: 1px !important;\n",
       "            background-color: white;\n",
       "        }\n",
       "    </style>"
      ],
      "text/plain": [
       "<IPython.core.display.HTML object>"
      ]
     },
     "metadata": {},
     "output_type": "display_data"
    },
    {
     "data": {
      "text/plain": [
       "<jupyter_cadquery.cad_display.CadqueryDisplay at 0x7ff2f9eb3490>"
      ]
     },
     "execution_count": 3,
     "metadata": {},
     "output_type": "execute_result"
    }
   ],
   "source": [
    "my_reactor = paramak.Reactor([blanket, center_column])\n",
    "\n",
    "my_reactor.show()"
   ]
  },
  {
   "cell_type": "markdown",
   "metadata": {},
   "source": [
    "This section forms the neutronics model by combining the 3D model, the plasma source and some assigned materials. Additionally, the tallies to record the heating are specified."
   ]
  },
  {
   "cell_type": "code",
   "execution_count": 4,
   "metadata": {},
   "outputs": [
    {
     "name": "stderr",
     "output_type": "stream",
     "text": [
      "/home/jshim/brep_part_finder/brep_part_finder/core.py:75: UserWarning: No parts matching the specified volume +/- tolerances were found\n",
      "  warnings.warn(\n",
      "/home/jshim/brep_part_finder/brep_part_finder/core.py:114: UserWarning: No parts matching the specified bounding boxes were found\n",
      "  warnings.warn(\"No parts matching the specified bounding boxes were found\")\n"
     ]
    },
    {
     "name": "stdout",
     "output_type": "stream",
     "text": [
      "volumes [(3, 1), (3, 2), (3, 3), (3, 4), (3, 5), (3, 6), (3, 7), (3, 8), (3, 9)]\n",
      "Info    : Meshing 1D...\n",
      "Info    : [  0%] Meshing curve 1 (Circle)\n",
      "Info    : [ 10%] Meshing curve 2 (Circle)\n",
      "Info    : [ 10%] Meshing curve 3 (Circle)\n",
      "Info    : [ 10%] Meshing curve 4 (BSpline)\n",
      "Info    : [ 20%] Meshing curve 5 (Circle)\n",
      "Info    : [ 20%] Meshing curve 6 (Line)\n",
      "Info    : [ 20%] Meshing curve 7 (Circle)\n",
      "Info    : [ 30%] Meshing curve 8 (BSpline)\n",
      "Info    : [ 30%] Meshing curve 9 (BSpline)\n",
      "Info    : [ 30%] Meshing curve 10 (Circle)\n",
      "Info    : [ 40%] Meshing curve 11 (BSpline)\n",
      "Info    : [ 40%] Meshing curve 12 (BSpline)\n",
      "Info    : [ 40%] Meshing curve 13 (Circle)\n",
      "Info    : [ 50%] Meshing curve 14 (BSpline)\n",
      "Info    : [ 50%] Meshing curve 15 (BSpline)\n",
      "Info    : [ 50%] Meshing curve 16 (Circle)\n",
      "Info    : [ 60%] Meshing curve 17 (BSpline)\n",
      "Info    : [ 60%] Meshing curve 18 (BSpline)\n",
      "Info    : [ 60%] Meshing curve 19 (Circle)\n",
      "Info    : [ 70%] Meshing curve 20 (BSpline)\n",
      "Info    : [ 70%] Meshing curve 21 (BSpline)\n",
      "Info    : [ 70%] Meshing curve 22 (Circle)\n",
      "Info    : [ 80%] Meshing curve 23 (BSpline)\n",
      "Info    : [ 80%] Meshing curve 24 (BSpline)\n",
      "Info    : [ 80%] Meshing curve 25 (Circle)\n",
      "Info    : [ 90%] Meshing curve 26 (BSpline)\n",
      "Info    : [ 90%] Meshing curve 27 (BSpline)\n",
      "Info    : [ 90%] Meshing curve 28 (Circle)\n",
      "Info    : [100%] Meshing curve 29 (BSpline)\n",
      "Info    : [100%] Meshing curve 30 (BSpline)\n",
      "Info    : Done meshing 1D (Wall 0.55192s, CPU 0.556843s)\n",
      "Info    : Meshing 2D...\n",
      "Info    : [  0%] Meshing surface 1 (Plane, MeshAdapt)\n",
      "Info    : [ 10%] Meshing surface 2 (Surface of Revolution, MeshAdapt)\n",
      "Info    : [ 10%] Meshing surface 3 (Plane, MeshAdapt)\n",
      "Info    : [ 20%] Meshing surface 4 (Cylinder, MeshAdapt)\n",
      "Info    : [ 20%] Meshing surface 5 (Surface of Revolution, MeshAdapt)\n",
      "Info    : [ 20%] Meshing surface 6 (Plane, MeshAdapt)\n",
      "Info    : [ 30%] Meshing surface 7 (Plane, MeshAdapt)\n",
      "Info    : [ 30%] Meshing surface 8 (Surface of Revolution, MeshAdapt)\n",
      "Info    : [ 30%] Meshing surface 9 (Plane, MeshAdapt)\n",
      "Info    : [ 40%] Meshing surface 10 (Plane, MeshAdapt)\n",
      "Info    : [ 40%] Meshing surface 11 (Surface of Revolution, MeshAdapt)\n",
      "Info    : [ 40%] Meshing surface 12 (Plane, MeshAdapt)\n",
      "Info    : [ 50%] Meshing surface 13 (Plane, MeshAdapt)\n",
      "Info    : [ 50%] Meshing surface 14 (Surface of Revolution, MeshAdapt)\n",
      "Info    : [ 50%] Meshing surface 15 (Plane, MeshAdapt)\n",
      "Info    : [ 60%] Meshing surface 16 (Plane, MeshAdapt)\n",
      "Info    : [ 60%] Meshing surface 17 (Surface of Revolution, MeshAdapt)\n",
      "Info    : [ 70%] Meshing surface 18 (Plane, MeshAdapt)\n",
      "Info    : [ 70%] Meshing surface 19 (Plane, MeshAdapt)\n",
      "Info    : [ 70%] Meshing surface 20 (Surface of Revolution, MeshAdapt)\n",
      "Info    : [ 80%] Meshing surface 21 (Plane, MeshAdapt)\n",
      "Info    : [ 80%] Meshing surface 22 (Plane, MeshAdapt)\n",
      "Info    : [ 80%] Meshing surface 23 (Surface of Revolution, MeshAdapt)\n",
      "Info    : [ 90%] Meshing surface 24 (Plane, MeshAdapt)\n",
      "Info    : [ 90%] Meshing surface 25 (Plane, MeshAdapt)\n",
      "Info    : [ 90%] Meshing surface 26 (Surface of Revolution, MeshAdapt)\n",
      "Info    : [100%] Meshing surface 27 (Plane, MeshAdapt)\n",
      "Info    : [100%] Meshing surface 28 (Plane, MeshAdapt)\n",
      "Info    : Done meshing 2D (Wall 32.0506s, CPU 32.0513s)\n",
      "Info    : 24134 nodes 49889 elements\n",
      "Info    : Writing '/tmp/volume_17r9qtjfn.stl'...\n",
      "Info    : Done writing '/tmp/volume_17r9qtjfn.stl'\n",
      "Info    : Writing '/tmp/volume_2hfxtjt03.stl'...\n",
      "Info    : Done writing '/tmp/volume_2hfxtjt03.stl'\n",
      "Info    : Writing '/tmp/volume_3qlwtchp4.stl'...\n",
      "Info    : Done writing '/tmp/volume_3qlwtchp4.stl'\n",
      "Info    : Writing '/tmp/volume_4_omz93ti.stl'...\n",
      "Info    : Done writing '/tmp/volume_4_omz93ti.stl'\n",
      "Info    : Writing '/tmp/volume_5w5mf0r2n.stl'...\n",
      "Info    : Done writing '/tmp/volume_5w5mf0r2n.stl'\n",
      "Info    : Writing '/tmp/volume_67oxaamie.stl'...\n",
      "Info    : Done writing '/tmp/volume_67oxaamie.stl'\n",
      "Info    : Writing '/tmp/volume_71rvjpx0x.stl'...\n",
      "Info    : Done writing '/tmp/volume_71rvjpx0x.stl'\n",
      "Info    : Writing '/tmp/volume_88vts1mml.stl'...\n",
      "Info    : Done writing '/tmp/volume_88vts1mml.stl'\n",
      "Info    : Writing '/tmp/volume_95chc2uth.stl'...\n",
      "Info    : Done writing '/tmp/volume_95chc2uth.stl'\n",
      "file /tmp/volume_17r9qtjfn.stl is watertight True\n"
     ]
    },
    {
     "data": {
      "text/plain": [
       "'dagmc.h5m'"
      ]
     },
     "execution_count": 4,
     "metadata": {},
     "output_type": "execute_result"
    }
   ],
   "source": [
    "my_reactor.export_dagmc_h5m()"
   ]
  },
  {
   "cell_type": "markdown",
   "metadata": {},
   "source": [
    "This next section combines the geometry with the materials and specifies a few mesh tallies"
   ]
  },
  {
   "cell_type": "code",
   "execution_count": 5,
   "metadata": {},
   "outputs": [
    {
     "ename": "ValueError",
     "evalue": "material with tag mat_blanket was not found in the dagmc h5m file. The DAGMC file dagmc.h5m contains the following material tags ['mat_center_column'].",
     "output_type": "error",
     "traceback": [
      "\u001b[0;31m---------------------------------------------------------------------------\u001b[0m",
      "\u001b[0;31mValueError\u001b[0m                                Traceback (most recent call last)",
      "\u001b[0;32m/tmp/ipykernel_66164/1142178510.py\u001b[0m in \u001b[0;36m<module>\u001b[0;34m\u001b[0m\n\u001b[1;32m     16\u001b[0m \u001b[0mgeometry\u001b[0m \u001b[0;34m=\u001b[0m \u001b[0modw\u001b[0m\u001b[0;34m.\u001b[0m\u001b[0mGeometry\u001b[0m\u001b[0;34m(\u001b[0m\u001b[0mh5m_filename\u001b[0m\u001b[0;34m=\u001b[0m\u001b[0;34m'dagmc.h5m'\u001b[0m\u001b[0;34m)\u001b[0m\u001b[0;34m\u001b[0m\u001b[0;34m\u001b[0m\u001b[0m\n\u001b[1;32m     17\u001b[0m \u001b[0;34m\u001b[0m\u001b[0m\n\u001b[0;32m---> 18\u001b[0;31m materials = odw.Materials(\n\u001b[0m\u001b[1;32m     19\u001b[0m     \u001b[0mh5m_filename\u001b[0m\u001b[0;34m=\u001b[0m\u001b[0;34m'dagmc.h5m'\u001b[0m\u001b[0;34m,\u001b[0m\u001b[0;34m\u001b[0m\u001b[0;34m\u001b[0m\u001b[0m\n\u001b[1;32m     20\u001b[0m     \u001b[0mcorrespondence_dict\u001b[0m\u001b[0;34m=\u001b[0m\u001b[0mmaterial_tag_to_material_dict\u001b[0m\u001b[0;34m\u001b[0m\u001b[0;34m\u001b[0m\u001b[0m\n",
      "\u001b[0;32m~/openmc-dagmc-wrapper/openmc_dagmc_wrapper/Materials.py\u001b[0m in \u001b[0;36m__init__\u001b[0;34m(self, h5m_filename, correspondence_dict)\u001b[0m\n\u001b[1;32m     22\u001b[0m         \u001b[0mself\u001b[0m\u001b[0;34m.\u001b[0m\u001b[0mcorrespondence_dict\u001b[0m \u001b[0;34m=\u001b[0m \u001b[0mcorrespondence_dict\u001b[0m\u001b[0;34m\u001b[0m\u001b[0;34m\u001b[0m\u001b[0m\n\u001b[1;32m     23\u001b[0m         \u001b[0mself\u001b[0m\u001b[0;34m.\u001b[0m\u001b[0mh5m_filename\u001b[0m \u001b[0;34m=\u001b[0m \u001b[0mh5m_filename\u001b[0m\u001b[0;34m\u001b[0m\u001b[0;34m\u001b[0m\u001b[0m\n\u001b[0;32m---> 24\u001b[0;31m         \u001b[0mself\u001b[0m\u001b[0;34m.\u001b[0m\u001b[0mchecks\u001b[0m\u001b[0;34m(\u001b[0m\u001b[0;34m)\u001b[0m\u001b[0;34m\u001b[0m\u001b[0;34m\u001b[0m\u001b[0m\n\u001b[0m\u001b[1;32m     25\u001b[0m         \u001b[0mself\u001b[0m\u001b[0;34m.\u001b[0m\u001b[0mset_openmc_materials\u001b[0m\u001b[0;34m(\u001b[0m\u001b[0;34m)\u001b[0m\u001b[0;34m\u001b[0m\u001b[0;34m\u001b[0m\u001b[0m\n\u001b[1;32m     26\u001b[0m         \u001b[0msuper\u001b[0m\u001b[0;34m(\u001b[0m\u001b[0;34m)\u001b[0m\u001b[0;34m.\u001b[0m\u001b[0m__init__\u001b[0m\u001b[0;34m(\u001b[0m\u001b[0mlist\u001b[0m\u001b[0;34m(\u001b[0m\u001b[0mself\u001b[0m\u001b[0;34m.\u001b[0m\u001b[0mopenmc_materials\u001b[0m\u001b[0;34m.\u001b[0m\u001b[0mvalues\u001b[0m\u001b[0;34m(\u001b[0m\u001b[0;34m)\u001b[0m\u001b[0;34m)\u001b[0m\u001b[0;34m)\u001b[0m\u001b[0;34m\u001b[0m\u001b[0;34m\u001b[0m\u001b[0m\n",
      "\u001b[0;32m~/openmc-dagmc-wrapper/openmc_dagmc_wrapper/Materials.py\u001b[0m in \u001b[0;36mchecks\u001b[0;34m(self)\u001b[0m\n\u001b[1;32m     54\u001b[0m                     \u001b[0;34mf\"contains the following material tags {materials_in_h5m}.\"\u001b[0m\u001b[0;34m\u001b[0m\u001b[0;34m\u001b[0m\u001b[0m\n\u001b[1;32m     55\u001b[0m                 )\n\u001b[0;32m---> 56\u001b[0;31m                 \u001b[0;32mraise\u001b[0m \u001b[0mValueError\u001b[0m\u001b[0;34m(\u001b[0m\u001b[0mmsg\u001b[0m\u001b[0;34m)\u001b[0m\u001b[0;34m\u001b[0m\u001b[0;34m\u001b[0m\u001b[0m\n\u001b[0m\u001b[1;32m     57\u001b[0m \u001b[0;34m\u001b[0m\u001b[0m\n\u001b[1;32m     58\u001b[0m         \u001b[0;32mif\u001b[0m \u001b[0;34m\"graveyard\"\u001b[0m \u001b[0;32min\u001b[0m \u001b[0mmaterials_in_h5m\u001b[0m\u001b[0;34m:\u001b[0m\u001b[0;34m\u001b[0m\u001b[0;34m\u001b[0m\u001b[0m\n",
      "\u001b[0;31mValueError\u001b[0m: material with tag mat_blanket was not found in the dagmc h5m file. The DAGMC file dagmc.h5m contains the following material tags ['mat_center_column']."
     ]
    }
   ],
   "source": [
    "# makes use of the previously created neutronics geometry (h5m file) and assigns\n",
    "# actual materials to the material tags. \n",
    "\n",
    "import openmc_dagmc_wrapper as odw\n",
    "\n",
    "import neutronics_material_maker as nmm\n",
    "\n",
    "# this links the material tags in the dagmc h5m file with materials.\n",
    "# these materials are input as strings so they will be looked up in the\n",
    "# neutronics material maker package\n",
    "material_tag_to_material_dict = {\n",
    "    'mat_blanket': nmm.Material.from_library(name='DT_plasma'),\n",
    "    'mat_center_column': nmm.Material.from_library(name='Li4SiO4'),\n",
    "}\n",
    "\n",
    "geometry = odw.Geometry(h5m_filename='dagmc.h5m')\n",
    "\n",
    "materials = odw.Materials(\n",
    "    h5m_filename='dagmc.h5m',\n",
    "    correspondence_dict=material_tag_to_material_dict\n",
    ")"
   ]
  },
  {
   "cell_type": "markdown",
   "metadata": {},
   "source": [
    "This section sets the the neutronics results to record (know as tallies)."
   ]
  },
  {
   "cell_type": "code",
   "execution_count": null,
   "metadata": {},
   "outputs": [],
   "source": [
    "from dagmc_bounding_box import DagmcBoundingBox\n",
    "\n",
    "# finds bounding box size from the geometry size\n",
    "corners = DagmcBoundingBox('dagmc.h5m').corners()\n",
    "\n",
    "tally1 = odw.MeshTally3D(\n",
    "    mesh_resolution=(100, 100, 100),\n",
    "    bounding_box= corners,\n",
    "    tally_type=\"(n,Xa)\",\n",
    ")\n",
    "\n",
    "\n",
    "import openmc\n",
    "tallies = openmc.Tallies([tally1])"
   ]
  },
  {
   "cell_type": "markdown",
   "metadata": {},
   "source": [
    "Sets simulation intensity, combines the geometry, materials, tallies and settings into a single object and runs the simulation"
   ]
  },
  {
   "cell_type": "code",
   "execution_count": null,
   "metadata": {},
   "outputs": [],
   "source": [
    "import openmc_plasma_source as ops\n",
    "\n",
    "settings = odw.FusionSettings()\n",
    "settings.batches = 4\n",
    "settings.particles = 1000\n",
    "\n",
    "# assigns a ring source of DT energy neutrons to the source using the\n",
    "# openmc_plasma_source package, more details here\n",
    "# https://github.com/fusion-energy/openmc-plasma-source/\n",
    "settings.source = ops.FusionRingSource(fuel=\"DT\", radius=350)\n",
    "\n",
    "\n",
    "my_model = openmc.Model(\n",
    "    materials=materials,\n",
    "    geometry=geometry,\n",
    "    settings=settings,\n",
    "    tallies=tallies\n",
    ")\n",
    "!rm *.h5  # just removes old summary.h5 or statepoint files\n",
    "statepoint_file = my_model.run()"
   ]
  },
  {
   "cell_type": "markdown",
   "metadata": {},
   "source": [
    "The following section opens the statepoint and converts the tally result into a VTK file. VTK files can be opened in paraview"
   ]
  },
  {
   "cell_type": "code",
   "execution_count": null,
   "metadata": {},
   "outputs": [],
   "source": [
    "from openmc_mesh_tally_to_vtk import write_mesh_tally_to_vtk\n",
    "# importing a package for converting regular mesh tallies to vtk files\n",
    "# more details here https://github.com/fusion-energy/openmc_mesh_tally_to_vtk\n",
    "\n",
    "\n",
    "# assumes you have a statepoint file from the OpenMC simulation\n",
    "statepoint = openmc.StatePoint('statepoint.4.h5')\n",
    "\n",
    "# this shows the tallies present in the statepoint file\n",
    "print(statepoint.tallies)\n",
    "\n",
    "# loads up a tally from the statepoint using it's name\n",
    "my_tally = statepoint.get_tally(name='(n,Xa)_on_3D_mesh')\n",
    "\n",
    "# converts the tally result into a VTK file\n",
    "write_mesh_tally_to_vtk(\n",
    "    tally=my_tally,\n",
    "    filename = \"vtk_file_from_openmc_mesh.vtk\",\n",
    ")"
   ]
  },
  {
   "cell_type": "markdown",
   "metadata": {},
   "source": [
    "The next section produces download links for:\n",
    "\n",
    "- vtk files that contain the 3D mesh results (open with Paraview)\n",
    "- png images that show the resuls of the 2D mesh tally"
   ]
  },
  {
   "cell_type": "code",
   "execution_count": null,
   "metadata": {},
   "outputs": [],
   "source": [
    "from IPython.display import FileLink\n",
    "display(FileLink('vtk_file_from_openmc_mesh.vtk'))"
   ]
  }
 ],
 "metadata": {
  "kernelspec": {
   "display_name": "Python 3 (ipykernel)",
   "language": "python",
   "name": "python3"
  },
  "language_info": {
   "codemirror_mode": {
    "name": "ipython",
    "version": 3
   },
   "file_extension": ".py",
   "mimetype": "text/x-python",
   "name": "python",
   "nbconvert_exporter": "python",
   "pygments_lexer": "ipython3",
   "version": "3.8.11"
  }
 },
 "nbformat": 4,
 "nbformat_minor": 4
}
