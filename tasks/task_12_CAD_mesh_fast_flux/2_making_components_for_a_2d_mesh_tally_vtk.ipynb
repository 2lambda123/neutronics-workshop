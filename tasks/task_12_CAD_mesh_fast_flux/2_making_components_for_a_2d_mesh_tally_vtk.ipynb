{
 "cells": [
  {
   "cell_type": "markdown",
   "metadata": {},
   "source": [
    "# Heating Mesh Tally on CAD geometry made from Components\n",
    "\n",
    "This constructs a reactor geometry from 3 Component objects each made from points.\n",
    "\n",
    "The Component made include a breeder blanket, PF coil and a central column shield.\n",
    "\n",
    "2D and 3D Meshes tally are then simulated to show nuclear heating, flux and tritium_production across the model."
   ]
  },
  {
   "cell_type": "markdown",
   "metadata": {},
   "source": [
    "This makes a 3D geometry and material for PF coil"
   ]
  },
  {
   "cell_type": "code",
   "execution_count": 1,
   "metadata": {},
   "outputs": [],
   "source": [
    "import paramak\n",
    "\n",
    "\n",
    "pf_coil = paramak. PoloidalFieldCoil(\n",
    "    height=50,\n",
    "    width=50,\n",
    "    center_point=(725, 25),\n",
    "    name='pf_coil'\n",
    ")"
   ]
  },
  {
   "cell_type": "markdown",
   "metadata": {},
   "source": [
    "This makes a 3D geometry and material for the centre column"
   ]
  },
  {
   "cell_type": "code",
   "execution_count": 2,
   "metadata": {},
   "outputs": [],
   "source": [
    "center_column = paramak.CenterColumnShieldHyperbola(\n",
    "    height=1200,\n",
    "    inner_radius=50,\n",
    "    mid_radius=100,\n",
    "    outer_radius=150,\n",
    "    name='center_column'\n",
    ")"
   ]
  },
  {
   "cell_type": "markdown",
   "metadata": {},
   "source": [
    "This makes a 3D geometry and material for breeder blanket. The azimuth_placement_angle argument is used to repeat the geometry around the Z axis at specified angles."
   ]
  },
  {
   "cell_type": "code",
   "execution_count": 3,
   "metadata": {},
   "outputs": [],
   "source": [
    "blanket = paramak.BlanketConstantThicknessArcH(\n",
    "    inner_mid_point=(500, 0),\n",
    "    inner_upper_point=(400, 300),\n",
    "    inner_lower_point=(400, -300),\n",
    "    thickness= 100,\n",
    "    rotation_angle=40,\n",
    "    azimuth_placement_angle=[0, 45, 90, 135, 180, 225, 270, 315],\n",
    "    name='blanket'\n",
    ")"
   ]
  },
  {
   "cell_type": "markdown",
   "metadata": {},
   "source": [
    "This makes a reactor object from the three components"
   ]
  },
  {
   "cell_type": "code",
   "execution_count": 4,
   "metadata": {},
   "outputs": [
    {
     "name": "stdout",
     "output_type": "stream",
     "text": [
      "Overwriting auto display for cadquery Workplane and Shape\n"
     ]
    },
    {
     "data": {
      "application/vnd.jupyter.widget-view+json": {
       "model_id": "8104656955214838ab77ce2008ab30a8",
       "version_major": 2,
       "version_minor": 0
      },
      "text/plain": [
       "HBox(children=(VBox(children=(HBox(children=(Checkbox(value=False, description='Axes', indent=False, _dom_clas…"
      ]
     },
     "metadata": {},
     "output_type": "display_data"
    },
    {
     "data": {
      "text/html": [
       "<style>\n",
       ".scroll-area {\n",
       "    overflow: scroll !important;\n",
       "    border: unset !important;\n",
       "}\n",
       "\n",
       ".mac-scrollbar::-webkit-scrollbar {\n",
       "    width: 5px !important;\n",
       "    height: 5px !important;\n",
       "}\n",
       "\n",
       ".mac-scrollbar::-webkit-scrollbar-track {\n",
       "    background-color: transparent !important;\n",
       "}\n",
       "\n",
       ".mac-scrollbar .widget-html-content {\n",
       "    overflow-x: visible;\n",
       "    overflow-y: visible;\n",
       "}\n",
       "\n",
       ".tab-content-no-padding .widget-tab-contents {\n",
       "    overflow-x: visible !important;\n",
       "    overflow-y: visible !important;\n",
       "    padding-bottom: 0px !important;\n",
       "}\n",
       "\n",
       ".view_renderer {\n",
       "    border: 1px solid var(--jp-border-color1);\n",
       "    margin-top: 3px;\n",
       "    margin-left: 2px;\n",
       "}\n",
       "\n",
       ".view_tree {\n",
       "    padding: 0px !important;\n",
       "}\n",
       "\n",
       ".view_axes {\n",
       "    width: 60px !important;\n",
       "    margin-left: 5px !important;\n",
       "}\n",
       "\n",
       ".view_zero {\n",
       "    width: 55px !important;\n",
       "}\n",
       "\n",
       ".view_grid {\n",
       "    width: 56px !important;\n",
       "}\n",
       "\n",
       ".view_ortho {\n",
       "    width: 64px !important;\n",
       "}\n",
       "\n",
       ".view_transparent {\n",
       "    width: 125px !important;\n",
       "}\n",
       "\n",
       ".view_black_edges {\n",
       "    width: 105px !important;\n",
       "}\n",
       "\n",
       ".view_button {\n",
       "    padding: 0px !important;\n",
       "}\n",
       "\n",
       ".view_button>img {\n",
       "    height: 28px;\n",
       "    width: 36px;\n",
       "}\n",
       "\n",
       ".node_entry_wrap {\n",
       "    white-space: pre;\n",
       "}\n",
       "\n",
       ".node_entry {\n",
       "    white-space: nowrap;\n",
       "    padding-top: 4px;\n",
       "}\n",
       "\n",
       ".t-caret {\n",
       "    cursor: pointer;\n",
       "    -webkit-user-select: none;\n",
       "    /* Safari 3.1+ */\n",
       "    -moz-user-select: none;\n",
       "    /* Firefox 2+ */\n",
       "    -ms-user-select: none;\n",
       "    /* IE 10+ */\n",
       "    user-select: none;\n",
       "}\n",
       "\n",
       ".t-caret-down::before {\n",
       "    -ms-transform: rotate(90deg);\n",
       "    /* IE 9 */\n",
       "    -webkit-transform: rotate(90deg);\n",
       "    /* Safari */\n",
       "    transform: rotate(90deg);\n",
       "}\n",
       "\n",
       ".toplevel {\n",
       "    list-style-type: none;\n",
       "    padding-inline-start: 0px;\n",
       "}\n",
       "\n",
       ".nested {\n",
       "    display: none;\n",
       "    list-style-type: none;\n",
       "    padding-inline-start: 16px;\n",
       "}\n",
       "\n",
       ".active {\n",
       "    display: block;\n",
       "}\n",
       "\n",
       ".icon {\n",
       "    width: 28px !important;\n",
       "    height: 22px !important;\n",
       "    padding-right: 2px;\n",
       "    vertical-align: middle;\n",
       "}\n",
       "\n",
       ".indent {\n",
       "    margin-left: 12px;\n",
       "}\n",
       "\n",
       ".tree_label {\n",
       "    padding-left: 2px;\n",
       "    font-size: 14px;\n",
       "}\n",
       "\n",
       ".scroll_down {\n",
       "    display: flex;\n",
       "    flex-direction: column-reverse;\n",
       "}\n",
       "\n",
       ".small_table {\n",
       "    line-height: 14px;\n",
       "}\n",
       "\n",
       ".monospace select {\n",
       "    font-family: monospace;\n",
       "}\n",
       "\n",
       "        .t-caret::before {\n",
       "            content: u\"▶\";\n",
       "            font-size: 12px;\n",
       "            color: \"#080808\";\n",
       "            display: inline-block;\n",
       "            margin-right: 2px;\n",
       "        }\n",
       "\n",
       "        .mac-scrollbar::-webkit-scrollbar-thumb {\n",
       "            background-color: rgba(0, 0, 0, 0.2) !important;\n",
       "            border-radius: 100px !important;\n",
       "        }\n",
       "\n",
       "        .mac-scrollbar::-webkit-scrollbar-thumb:hover {\n",
       "            background: rgba(0, 0, 0, 0.4) !important;\n",
       "        }\n",
       "\n",
       "        .mac-scrollbar::-webkit-scrollbar-thumb:active {\n",
       "            background: #181818 !important;\n",
       "        }\n",
       "\n",
       "        .mac-scrollbar::-webkit-scrollbar-corner {\n",
       "            background: white;\n",
       "        }\n",
       "\n",
       "        .view_output {\n",
       "            border: 1px solid var(--jp-border-color1);\n",
       "            margin: 2px 2px 2px 2px !important;\n",
       "            padding-right: 1px !important;\n",
       "            background-color: white;\n",
       "        }\n",
       "    </style>"
      ],
      "text/plain": [
       "<IPython.core.display.HTML object>"
      ]
     },
     "metadata": {},
     "output_type": "display_data"
    },
    {
     "data": {
      "text/plain": [
       "<jupyter_cadquery.cad_display.CadqueryDisplay at 0x7fc49dfe29a0>"
      ]
     },
     "execution_count": 4,
     "metadata": {},
     "output_type": "execute_result"
    }
   ],
   "source": [
    "my_reactor = paramak.Reactor([blanket, pf_coil,center_column])\n",
    "\n",
    "my_reactor.show()"
   ]
  },
  {
   "cell_type": "markdown",
   "metadata": {},
   "source": [
    "At this stage we can export the reactor geometry as stp files and make them avaialbe from download and viewing in FreeCAD."
   ]
  },
  {
   "cell_type": "code",
   "execution_count": 5,
   "metadata": {},
   "outputs": [
    {
     "name": "stdout",
     "output_type": "stream",
     "text": [
      "\u001b[32;1m\n",
      "*******************************************************************\n",
      "******        Statistics on Transfer (Write)                 ******\u001b[0m\n",
      "\u001b[32;1m\n",
      "*******************************************************************\n",
      "******        Transfer Mode = 0  I.E.  As Is       ******\u001b[0m\n",
      "\u001b[32;1m******        Transferring Shape, ShapeType = 0                      ******\u001b[0m\n"
     ]
    },
    {
     "data": {
      "text/html": [
       "<a href='my_reactor.stp' target='_blank'>my_reactor.stp</a><br>"
      ],
      "text/plain": [
       "/home/jshim/neutronics-workshop/tasks/task_12_CAD_mesh_fast_flux/my_reactor.stp"
      ]
     },
     "metadata": {},
     "output_type": "display_data"
    },
    {
     "name": "stdout",
     "output_type": "stream",
     "text": [
      "\u001b[32;1m** WorkSession : Sending all data\u001b[0m\n",
      "\u001b[32;1m Step File Name : my_reactor.stp(3447 ents)  Write  Done\u001b[0m\n"
     ]
    }
   ],
   "source": [
    "my_reactor.export_stp('my_reactor.stp')\n",
    "\n",
    "from IPython.display import FileLink\n",
    "display(FileLink('my_reactor.stp'))"
   ]
  },
  {
   "cell_type": "markdown",
   "metadata": {},
   "source": [
    "Combines and converts the stl file into a DAGMC h5m file that can be used for the model geometry"
   ]
  },
  {
   "cell_type": "code",
   "execution_count": 6,
   "metadata": {},
   "outputs": [
    {
     "name": "stderr",
     "output_type": "stream",
     "text": [
      "/home/jshim/brep_part_finder/brep_part_finder/core.py:75: UserWarning: No parts matching the specified volume +/- tolerances were found\n",
      "  warnings.warn(\n",
      "/home/jshim/brep_part_finder/brep_part_finder/core.py:114: UserWarning: No parts matching the specified bounding boxes were found\n",
      "  warnings.warn(\"No parts matching the specified bounding boxes were found\")\n"
     ]
    },
    {
     "name": "stdout",
     "output_type": "stream",
     "text": [
      "Info    : Meshing 1D...\n",
      "Info    : [  0%] Meshing curve 1 (Circle)\n",
      "Info    : [ 10%] Meshing curve 2 (Circle)\n",
      "Info    : [ 10%] Meshing curve 3 (Line)\n",
      "Info    : [ 10%] Meshing curve 4 (Circle)\n",
      "Info    : [ 10%] Meshing curve 5 (Circle)\n",
      "Info    : [ 10%] Meshing curve 6 (Line)\n",
      "Info    : [ 10%] Meshing curve 7 (Circle)\n",
      "Info    : [ 10%] Meshing curve 8 (Line)\n",
      "Info    : [ 10%] Meshing curve 9 (Circle)\n",
      "Info    : [ 10%] Meshing curve 10 (Circle)\n",
      "Info    : [ 10%] Meshing curve 11 (Circle)\n",
      "Info    : [ 20%] Meshing curve 12 (BSpline)\n",
      "Info    : [ 20%] Meshing curve 13 (Circle)\n",
      "Info    : [ 20%] Meshing curve 14 (Circle)\n",
      "Info    : [ 20%] Meshing curve 15 (Circle)\n",
      "Info    : [ 20%] Meshing curve 16 (Circle)\n",
      "Info    : [ 20%] Meshing curve 17 (Circle)\n",
      "Info    : [ 20%] Meshing curve 18 (Line)\n",
      "Info    : [ 20%] Meshing curve 19 (Line)\n",
      "Info    : [ 20%] Meshing curve 20 (Circle)\n",
      "Info    : [ 20%] Meshing curve 21 (Circle)\n",
      "Info    : [ 20%] Meshing curve 22 (Circle)\n",
      "Info    : [ 30%] Meshing curve 23 (Line)\n",
      "Info    : [ 30%] Meshing curve 24 (Line)\n",
      "Info    : [ 30%] Meshing curve 25 (Circle)\n",
      "Info    : [ 30%] Meshing curve 26 (Circle)\n",
      "Info    : [ 30%] Meshing curve 27 (Circle)\n",
      "Info    : [ 30%] Meshing curve 28 (Circle)\n",
      "Info    : [ 30%] Meshing curve 29 (Circle)\n",
      "Info    : [ 30%] Meshing curve 30 (Line)\n",
      "Info    : [ 30%] Meshing curve 31 (Line)\n",
      "Info    : [ 30%] Meshing curve 32 (Circle)\n",
      "Info    : [ 30%] Meshing curve 33 (Circle)\n",
      "Info    : [ 40%] Meshing curve 34 (Circle)\n",
      "Info    : [ 40%] Meshing curve 35 (Line)\n",
      "Info    : [ 40%] Meshing curve 36 (Line)\n",
      "Info    : [ 40%] Meshing curve 37 (Circle)\n",
      "Info    : [ 40%] Meshing curve 38 (Circle)\n",
      "Info    : [ 40%] Meshing curve 39 (Circle)\n",
      "Info    : [ 40%] Meshing curve 40 (Circle)\n",
      "Info    : [ 40%] Meshing curve 41 (Circle)\n",
      "Info    : [ 40%] Meshing curve 42 (Line)\n",
      "Info    : [ 40%] Meshing curve 43 (Line)\n",
      "Info    : [ 40%] Meshing curve 44 (Circle)\n",
      "Info    : [ 50%] Meshing curve 45 (Circle)\n",
      "Info    : [ 50%] Meshing curve 46 (Circle)\n",
      "Info    : [ 50%] Meshing curve 47 (Line)\n",
      "Info    : [ 50%] Meshing curve 48 (Line)\n",
      "Info    : [ 50%] Meshing curve 49 (Circle)\n",
      "Info    : [ 50%] Meshing curve 50 (Circle)\n",
      "Info    : [ 50%] Meshing curve 51 (Circle)\n",
      "Info    : [ 50%] Meshing curve 52 (Circle)\n",
      "Info    : [ 50%] Meshing curve 53 (Circle)\n",
      "Info    : [ 50%] Meshing curve 54 (Line)\n",
      "Info    : [ 50%] Meshing curve 55 (Line)\n",
      "Info    : [ 60%] Meshing curve 56 (Circle)\n",
      "Info    : [ 60%] Meshing curve 57 (Circle)\n",
      "Info    : [ 60%] Meshing curve 58 (Circle)\n",
      "Info    : [ 60%] Meshing curve 59 (Line)\n",
      "Info    : [ 60%] Meshing curve 60 (Line)\n",
      "Info    : [ 60%] Meshing curve 61 (Circle)\n",
      "Info    : [ 60%] Meshing curve 62 (Circle)\n",
      "Info    : [ 60%] Meshing curve 63 (Circle)\n",
      "Info    : [ 60%] Meshing curve 64 (Circle)\n",
      "Info    : [ 60%] Meshing curve 65 (Circle)\n",
      "Info    : [ 70%] Meshing curve 66 (Line)\n",
      "Info    : [ 70%] Meshing curve 67 (Line)\n",
      "Info    : [ 70%] Meshing curve 68 (Circle)\n",
      "Info    : [ 70%] Meshing curve 69 (Circle)\n",
      "Info    : [ 70%] Meshing curve 70 (Circle)\n",
      "Info    : [ 70%] Meshing curve 71 (Line)\n",
      "Info    : [ 70%] Meshing curve 72 (Line)\n",
      "Info    : [ 70%] Meshing curve 73 (Circle)\n",
      "Info    : [ 70%] Meshing curve 74 (Circle)\n",
      "Info    : [ 70%] Meshing curve 75 (Circle)\n",
      "Info    : [ 70%] Meshing curve 76 (Circle)\n",
      "Info    : [ 80%] Meshing curve 77 (Circle)\n",
      "Info    : [ 80%] Meshing curve 78 (Line)\n",
      "Info    : [ 80%] Meshing curve 79 (Line)\n",
      "Info    : [ 80%] Meshing curve 80 (Circle)\n",
      "Info    : [ 80%] Meshing curve 81 (Circle)\n",
      "Info    : [ 80%] Meshing curve 82 (Circle)\n",
      "Info    : [ 80%] Meshing curve 83 (Line)\n",
      "Info    : [ 80%] Meshing curve 84 (Line)\n",
      "Info    : [ 80%] Meshing curve 85 (Circle)\n",
      "Info    : [ 80%] Meshing curve 86 (Circle)\n",
      "Info    : [ 80%] Meshing curve 87 (Circle)\n",
      "Info    : [ 90%] Meshing curve 88 (Circle)\n",
      "Info    : [ 90%] Meshing curve 89 (Circle)\n",
      "Info    : [ 90%] Meshing curve 90 (Line)\n",
      "Info    : [ 90%] Meshing curve 91 (Line)\n",
      "Info    : [ 90%] Meshing curve 92 (Circle)\n",
      "Info    : [ 90%] Meshing curve 93 (Circle)\n",
      "Info    : [ 90%] Meshing curve 94 (Circle)\n",
      "Info    : [ 90%] Meshing curve 95 (Line)\n",
      "Info    : [ 90%] Meshing curve 96 (Line)\n",
      "Info    : [ 90%] Meshing curve 97 (Circle)\n",
      "Info    : [ 90%] Meshing curve 98 (Circle)\n",
      "Info    : [100%] Meshing curve 99 (Circle)\n",
      "Info    : [100%] Meshing curve 100 (Circle)\n",
      "Info    : [100%] Meshing curve 101 (Circle)\n",
      "Info    : [100%] Meshing curve 102 (Line)\n",
      "Info    : [100%] Meshing curve 103 (Line)\n",
      "Info    : [100%] Meshing curve 104 (Circle)\n",
      "Info    : [100%] Meshing curve 105 (Circle)\n",
      "Info    : [100%] Meshing curve 106 (Circle)\n",
      "Info    : [100%] Meshing curve 107 (Line)\n",
      "Info    : [100%] Meshing curve 108 (Line)\n",
      "Info    : Done meshing 1D (Wall 0.0166881s, CPU 0.026631s)\n",
      "Info    : Meshing 2D...\n",
      "Info    : [  0%] Meshing surface 1 (Cylinder, MeshAdapt)\n",
      "Info    : [ 10%] Meshing surface 2 (Plane, MeshAdapt)\n",
      "Info    : [ 10%] Meshing surface 3 (Cylinder, MeshAdapt)\n",
      "Info    : [ 10%] Meshing surface 4 (Plane, MeshAdapt)\n",
      "Info    : [ 10%] Meshing surface 5 (Cylinder, MeshAdapt)\n",
      "Info    : [ 10%] Meshing surface 6 (Plane, MeshAdapt)\n",
      "Info    : [ 20%] Meshing surface 7 (Surface of Revolution, MeshAdapt)\n",
      "Info    : [ 20%] Meshing surface 8 (Plane, MeshAdapt)\n",
      "Info    : [ 20%] Meshing surface 9 (Sphere, MeshAdapt)\n",
      "Info    : [ 20%] Meshing surface 10 (Plane, MeshAdapt)\n",
      "Info    : [ 20%] Meshing surface 11 (Surface of Revolution, MeshAdapt)\n",
      "Info    : [ 20%] Meshing surface 12 (Plane, MeshAdapt)\n",
      "Info    : [ 30%] Meshing surface 13 (Plane, MeshAdapt)\n",
      "Info    : [ 30%] Meshing surface 14 (Plane, MeshAdapt)\n",
      "Info    : [ 30%] Meshing surface 15 (Sphere, MeshAdapt)\n",
      "Info    : [ 30%] Meshing surface 16 (Plane, MeshAdapt)\n",
      "Info    : [ 30%] Meshing surface 17 (Surface of Revolution, MeshAdapt)\n",
      "Info    : [ 40%] Meshing surface 18 (Plane, MeshAdapt)\n",
      "Info    : [ 40%] Meshing surface 19 (Plane, MeshAdapt)\n",
      "Info    : [ 40%] Meshing surface 20 (Plane, MeshAdapt)\n",
      "Info    : [ 40%] Meshing surface 21 (Sphere, MeshAdapt)\n",
      "Info    : [ 40%] Meshing surface 22 (Plane, MeshAdapt)\n",
      "Info    : [ 40%] Meshing surface 23 (Surface of Revolution, MeshAdapt)\n",
      "Info    : [ 50%] Meshing surface 24 (Plane, MeshAdapt)\n",
      "Info    : [ 50%] Meshing surface 25 (Plane, MeshAdapt)\n",
      "Info    : [ 50%] Meshing surface 26 (Plane, MeshAdapt)\n",
      "Info    : [ 50%] Meshing surface 27 (Sphere, MeshAdapt)\n",
      "Info    : [ 50%] Meshing surface 28 (Plane, MeshAdapt)\n",
      "Info    : [ 50%] Meshing surface 29 (Surface of Revolution, MeshAdapt)\n",
      "Info    : [ 60%] Meshing surface 30 (Plane, MeshAdapt)\n",
      "Info    : [ 60%] Meshing surface 31 (Plane, MeshAdapt)\n",
      "Info    : [ 60%] Meshing surface 32 (Plane, MeshAdapt)\n",
      "Info    : [ 60%] Meshing surface 33 (Sphere, MeshAdapt)\n",
      "Info    : [ 60%] Meshing surface 34 (Plane, MeshAdapt)\n",
      "Info    : [ 70%] Meshing surface 35 (Surface of Revolution, MeshAdapt)\n",
      "Info    : [ 70%] Meshing surface 36 (Plane, MeshAdapt)\n",
      "Info    : [ 70%] Meshing surface 37 (Plane, MeshAdapt)\n",
      "Info    : [ 70%] Meshing surface 38 (Plane, MeshAdapt)\n",
      "Info    : [ 70%] Meshing surface 39 (Sphere, MeshAdapt)\n",
      "Info    : [ 70%] Meshing surface 40 (Plane, MeshAdapt)\n",
      "Info    : [ 80%] Meshing surface 41 (Surface of Revolution, MeshAdapt)\n",
      "Info    : [ 80%] Meshing surface 42 (Plane, MeshAdapt)\n",
      "Info    : [ 80%] Meshing surface 43 (Plane, MeshAdapt)\n",
      "Info    : [ 80%] Meshing surface 44 (Plane, MeshAdapt)\n",
      "Info    : [ 80%] Meshing surface 45 (Sphere, MeshAdapt)\n",
      "Info    : [ 90%] Meshing surface 46 (Plane, MeshAdapt)\n",
      "Info    : [ 90%] Meshing surface 47 (Surface of Revolution, MeshAdapt)\n",
      "Info    : [ 90%] Meshing surface 48 (Plane, MeshAdapt)\n",
      "Info    : [ 90%] Meshing surface 49 (Plane, MeshAdapt)\n",
      "Info    : [ 90%] Meshing surface 50 (Plane, MeshAdapt)\n",
      "Info    : [ 90%] Meshing surface 51 (Sphere, MeshAdapt)\n",
      "Info    : [100%] Meshing surface 52 (Plane, MeshAdapt)\n",
      "Info    : [100%] Meshing surface 53 (Surface of Revolution, MeshAdapt)\n",
      "Info    : [100%] Meshing surface 54 (Plane, MeshAdapt)\n",
      "Info    : [100%] Meshing surface 55 (Plane, MeshAdapt)\n",
      "Info    : [100%] Meshing surface 56 (Plane, MeshAdapt)\n",
      "Info    : Done meshing 2D (Wall 14.6143s, CPU 14.6311s)\n",
      "Info    : 24024 nodes 50983 elements\n",
      "Info    : Writing '/tmp/volume_1_yuxossg.stl'...\n",
      "Info    : Done writing '/tmp/volume_1_yuxossg.stl'\n",
      "Info    : Writing '/tmp/volume_2d72ej6m7.stl'...\n",
      "Info    : Done writing '/tmp/volume_2d72ej6m7.stl'\n",
      "Info    : Writing '/tmp/volume_3eseweav4.stl'...\n",
      "Info    : Done writing '/tmp/volume_3eseweav4.stl'\n",
      "Info    : Writing '/tmp/volume_4fw4s7z6v.stl'...\n",
      "Info    : Done writing '/tmp/volume_4fw4s7z6v.stl'\n",
      "Info    : Writing '/tmp/volume_5v8kkgwcd.stl'...\n",
      "Info    : Done writing '/tmp/volume_5v8kkgwcd.stl'\n",
      "Info    : Writing '/tmp/volume_6ri1kpiz5.stl'...\n",
      "Info    : Done writing '/tmp/volume_6ri1kpiz5.stl'\n",
      "Info    : Writing '/tmp/volume_77467y6bm.stl'...\n",
      "Info    : Done writing '/tmp/volume_77467y6bm.stl'\n",
      "Info    : Writing '/tmp/volume_8bn6d5kqs.stl'...\n",
      "Info    : Done writing '/tmp/volume_8bn6d5kqs.stl'\n",
      "Info    : Writing '/tmp/volume_9jglwod6q.stl'...\n",
      "Info    : Done writing '/tmp/volume_9jglwod6q.stl'\n",
      "Info    : Writing '/tmp/volume_10udltgkpa.stl'...\n",
      "Info    : Done writing '/tmp/volume_10udltgkpa.stl'\n",
      "file /tmp/volume_1_yuxossg.stl is watertight True\n",
      "file /tmp/volume_2d72ej6m7.stl is watertight True\n"
     ]
    }
   ],
   "source": [
    "my_reactor.export_dagmc_h5m('dagmc.h5m')\n",
    "\n",
    "import openmc_dagmc_wrapper as odw\n",
    "geometry = odw.Geometry(h5m_filename='dagmc.h5m')"
   ]
  },
  {
   "cell_type": "markdown",
   "metadata": {},
   "source": [
    "The next section uses materials from the neutronics_material_maker package https://github.com/fusion-energy/neutronics_material_maker/\n",
    "\n",
    "This has an internal database that knows the isotopes and density of various materials.\n",
    "\n",
    "The ```.openmc_material``` obtains an openmc.material object"
   ]
  },
  {
   "cell_type": "code",
   "execution_count": 7,
   "metadata": {},
   "outputs": [
    {
     "name": "stderr",
     "output_type": "stream",
     "text": [
      "/home/jshim/openmc-1/openmc/mixin.py:67: IDWarning: Another Surface instance already exists with id=9999.\n",
      "  warn(msg, IDWarning)\n",
      "/home/jshim/openmc-1/openmc/mixin.py:67: IDWarning: Another Cell instance already exists with id=9999.\n",
      "  warn(msg, IDWarning)\n"
     ]
    },
    {
     "ename": "ValueError",
     "evalue": "material with tag mat_blanket was not found in the dagmc h5m file. The DAGMC file dagmc.h5m contains the following material tags ['mat_center_column', 'mat_pf_coil'].",
     "output_type": "error",
     "traceback": [
      "\u001b[0;31m---------------------------------------------------------------------------\u001b[0m",
      "\u001b[0;31mValueError\u001b[0m                                Traceback (most recent call last)",
      "\u001b[0;32m/tmp/ipykernel_66680/499989040.py\u001b[0m in \u001b[0;36m<module>\u001b[0;34m\u001b[0m\n\u001b[1;32m     16\u001b[0m \u001b[0mgeometry\u001b[0m \u001b[0;34m=\u001b[0m \u001b[0modw\u001b[0m\u001b[0;34m.\u001b[0m\u001b[0mGeometry\u001b[0m\u001b[0;34m(\u001b[0m\u001b[0mh5m_filename\u001b[0m\u001b[0;34m=\u001b[0m\u001b[0;34m'dagmc.h5m'\u001b[0m\u001b[0;34m)\u001b[0m\u001b[0;34m\u001b[0m\u001b[0;34m\u001b[0m\u001b[0m\n\u001b[1;32m     17\u001b[0m \u001b[0;34m\u001b[0m\u001b[0m\n\u001b[0;32m---> 18\u001b[0;31m materials = odw.Materials(\n\u001b[0m\u001b[1;32m     19\u001b[0m     \u001b[0mh5m_filename\u001b[0m\u001b[0;34m=\u001b[0m\u001b[0;34m'dagmc.h5m'\u001b[0m\u001b[0;34m,\u001b[0m\u001b[0;34m\u001b[0m\u001b[0;34m\u001b[0m\u001b[0m\n\u001b[1;32m     20\u001b[0m     \u001b[0mcorrespondence_dict\u001b[0m\u001b[0;34m=\u001b[0m\u001b[0mmaterial_tag_to_material_dict\u001b[0m\u001b[0;34m\u001b[0m\u001b[0;34m\u001b[0m\u001b[0m\n",
      "\u001b[0;32m~/openmc-dagmc-wrapper/openmc_dagmc_wrapper/Materials.py\u001b[0m in \u001b[0;36m__init__\u001b[0;34m(self, h5m_filename, correspondence_dict)\u001b[0m\n\u001b[1;32m     22\u001b[0m         \u001b[0mself\u001b[0m\u001b[0;34m.\u001b[0m\u001b[0mcorrespondence_dict\u001b[0m \u001b[0;34m=\u001b[0m \u001b[0mcorrespondence_dict\u001b[0m\u001b[0;34m\u001b[0m\u001b[0;34m\u001b[0m\u001b[0m\n\u001b[1;32m     23\u001b[0m         \u001b[0mself\u001b[0m\u001b[0;34m.\u001b[0m\u001b[0mh5m_filename\u001b[0m \u001b[0;34m=\u001b[0m \u001b[0mh5m_filename\u001b[0m\u001b[0;34m\u001b[0m\u001b[0;34m\u001b[0m\u001b[0m\n\u001b[0;32m---> 24\u001b[0;31m         \u001b[0mself\u001b[0m\u001b[0;34m.\u001b[0m\u001b[0mchecks\u001b[0m\u001b[0;34m(\u001b[0m\u001b[0;34m)\u001b[0m\u001b[0;34m\u001b[0m\u001b[0;34m\u001b[0m\u001b[0m\n\u001b[0m\u001b[1;32m     25\u001b[0m         \u001b[0mself\u001b[0m\u001b[0;34m.\u001b[0m\u001b[0mset_openmc_materials\u001b[0m\u001b[0;34m(\u001b[0m\u001b[0;34m)\u001b[0m\u001b[0;34m\u001b[0m\u001b[0;34m\u001b[0m\u001b[0m\n\u001b[1;32m     26\u001b[0m         \u001b[0msuper\u001b[0m\u001b[0;34m(\u001b[0m\u001b[0;34m)\u001b[0m\u001b[0;34m.\u001b[0m\u001b[0m__init__\u001b[0m\u001b[0;34m(\u001b[0m\u001b[0mlist\u001b[0m\u001b[0;34m(\u001b[0m\u001b[0mself\u001b[0m\u001b[0;34m.\u001b[0m\u001b[0mopenmc_materials\u001b[0m\u001b[0;34m.\u001b[0m\u001b[0mvalues\u001b[0m\u001b[0;34m(\u001b[0m\u001b[0;34m)\u001b[0m\u001b[0;34m)\u001b[0m\u001b[0;34m)\u001b[0m\u001b[0;34m\u001b[0m\u001b[0;34m\u001b[0m\u001b[0m\n",
      "\u001b[0;32m~/openmc-dagmc-wrapper/openmc_dagmc_wrapper/Materials.py\u001b[0m in \u001b[0;36mchecks\u001b[0;34m(self)\u001b[0m\n\u001b[1;32m     54\u001b[0m                     \u001b[0;34mf\"contains the following material tags {materials_in_h5m}.\"\u001b[0m\u001b[0;34m\u001b[0m\u001b[0;34m\u001b[0m\u001b[0m\n\u001b[1;32m     55\u001b[0m                 )\n\u001b[0;32m---> 56\u001b[0;31m                 \u001b[0;32mraise\u001b[0m \u001b[0mValueError\u001b[0m\u001b[0;34m(\u001b[0m\u001b[0mmsg\u001b[0m\u001b[0;34m)\u001b[0m\u001b[0;34m\u001b[0m\u001b[0;34m\u001b[0m\u001b[0m\n\u001b[0m\u001b[1;32m     57\u001b[0m \u001b[0;34m\u001b[0m\u001b[0m\n\u001b[1;32m     58\u001b[0m         \u001b[0;32mif\u001b[0m \u001b[0;34m\"graveyard\"\u001b[0m \u001b[0;32min\u001b[0m \u001b[0mmaterials_in_h5m\u001b[0m\u001b[0;34m:\u001b[0m\u001b[0;34m\u001b[0m\u001b[0;34m\u001b[0m\u001b[0m\n",
      "\u001b[0;31mValueError\u001b[0m: material with tag mat_blanket was not found in the dagmc h5m file. The DAGMC file dagmc.h5m contains the following material tags ['mat_center_column', 'mat_pf_coil']."
     ]
    }
   ],
   "source": [
    "# makes use of the previously created neutronics geometry (h5m file) and assigns\n",
    "# actual materials to the material tags. \n",
    "\n",
    "import openmc_dagmc_wrapper as odw\n",
    "import neutronics_material_maker as nmm\n",
    "\n",
    "# this links the material tags in the dagmc h5m file with materials.\n",
    "# these materials are input as strings so they will be looked up in the\n",
    "# neutronics material maker package\n",
    "material_tag_to_material_dict = {\n",
    "    'mat_pf_coil': nmm.Material.from_library(name='copper'),\n",
    "    'mat_blanket': nmm.Material.from_library(name='Li4SiO4'),\n",
    "    'mat_center_column': nmm.Material.from_library(name='copper'),\n",
    "}\n",
    "\n",
    "geometry = odw.Geometry(h5m_filename='dagmc.h5m')\n",
    "\n",
    "materials = odw.Materials(\n",
    "    h5m_filename='dagmc.h5m',\n",
    "    correspondence_dict=material_tag_to_material_dict\n",
    ")"
   ]
  },
  {
   "cell_type": "markdown",
   "metadata": {},
   "source": [
    "This next step makes a simple point source. This uses native OpenMC commands but one could also use the openmc-plasma-source package https://github.com/fusion-energy/openmc-plasma-source/"
   ]
  },
  {
   "cell_type": "code",
   "execution_count": null,
   "metadata": {},
   "outputs": [],
   "source": [
    "import openmc\n",
    "\n",
    "# initialises a new source object\n",
    "source = openmc.Source()\n",
    "\n",
    "# sets the location of the source to x=0 y=0 z=0\n",
    "source.space = openmc.stats.Point((100, 0, 0))\n",
    "\n",
    "# sets the direction to isotropic\n",
    "source.angle = openmc.stats.Isotropic()\n",
    "\n",
    "# sets the energy distribution to 100% 14MeV neutrons\n",
    "source.energy = openmc.stats.Discrete([14e6], [1])"
   ]
  },
  {
   "cell_type": "markdown",
   "metadata": {},
   "source": [
    "This next section combines the geometry with the materials and specifies a 2D mesh tally that spans the entire geometry"
   ]
  },
  {
   "cell_type": "code",
   "execution_count": null,
   "metadata": {},
   "outputs": [],
   "source": [
    "from dagmc_bounding_box import DagmcBoundingBox\n",
    "\n",
    "# finds bounding box size from the geometry size\n",
    "corners = DagmcBoundingBox('dagmc.h5m').corners()\n",
    "\n",
    "tally1 = odw.MeshTally2D(\n",
    "    mesh_resolution=(100, 100),\n",
    "    bounding_box= corners,\n",
    "    tally_type=\"(n,Xa)\",\n",
    "    plane='xz'\n",
    ")\n",
    "\n",
    "tallies = openmc.Tallies([tally1])"
   ]
  },
  {
   "cell_type": "markdown",
   "metadata": {},
   "source": [
    "Sets the simulation intensity then combines the materials, geometry, settines and tallies into a neutronics model and runs the simulation."
   ]
  },
  {
   "cell_type": "code",
   "execution_count": null,
   "metadata": {},
   "outputs": [],
   "source": [
    "import openmc_plasma_source as ops\n",
    "\n",
    "settings = odw.FusionSettings()\n",
    "settings.batches = 4\n",
    "settings.particles = 1000\n",
    "\n",
    "# assigns a ring source of DT energy neutrons to the source using the\n",
    "# openmc_plasma_source package, more details here\n",
    "# https://github.com/fusion-energy/openmc-plasma-source/\n",
    "settings.source = ops.FusionRingSource(fuel=\"DT\", radius=350)\n",
    "\n",
    "\n",
    "my_model = openmc.Model(\n",
    "    materials=materials,\n",
    "    geometry=geometry,\n",
    "    settings=settings,\n",
    "    tallies=tallies\n",
    ")\n",
    "\n",
    "!rm *.h5  # just removes old summary.h5 or statepoint files\n",
    "statepoint_file = my_model.run()"
   ]
  },
  {
   "cell_type": "markdown",
   "metadata": {},
   "source": [
    "The next section produces download links for:\n",
    "\n",
    "- vtk files that contain the 3D mesh results (open with Paraview)\n",
    "- png images that show the resuls of the 2D mesh tally"
   ]
  },
  {
   "cell_type": "code",
   "execution_count": null,
   "metadata": {},
   "outputs": [],
   "source": [
    "from openmc_mesh_tally_to_vtk import write_mesh_tally_to_vtk\n",
    "# importing a package for converting regular mesh tallies to vtk files\n",
    "# more details here https://github.com/fusion-energy/openmc_mesh_tally_to_vtk\n",
    "\n",
    "\n",
    "# assumes you have a statepoint file from the OpenMC simulation\n",
    "statepoint = openmc.StatePoint('statepoint.4.h5')\n",
    "\n",
    "# this shows the tallies present in the statepoint file\n",
    "print(statepoint.tallies)\n",
    "\n",
    "# loads up a tally from the statepoint using it's name\n",
    "my_tally = statepoint.get_tally(name='(n,Xa)_on_2D_mesh_xz')\n",
    "\n",
    "# converts the tally result into a VTK file\n",
    "write_mesh_tally_to_vtk(\n",
    "    tally=my_tally,\n",
    "    filename = \"(n,Xa)_on_2D_mesh_xz.vtk\",\n",
    ")"
   ]
  },
  {
   "cell_type": "markdown",
   "metadata": {},
   "source": [
    "The code block below provides a download link for a VTK which can be opened with Paraview\n"
   ]
  },
  {
   "cell_type": "code",
   "execution_count": null,
   "metadata": {},
   "outputs": [],
   "source": [
    "from IPython.display import FileLink\n",
    "display(FileLink('n,Xa)_on_2D_mesh_xz.vtk'))"
   ]
  }
 ],
 "metadata": {
  "kernelspec": {
   "display_name": "Python 3 (ipykernel)",
   "language": "python",
   "name": "python3"
  },
  "language_info": {
   "codemirror_mode": {
    "name": "ipython",
    "version": 3
   },
   "file_extension": ".py",
   "mimetype": "text/x-python",
   "name": "python",
   "nbconvert_exporter": "python",
   "pygments_lexer": "ipython3",
   "version": "3.8.11"
  }
 },
 "nbformat": 4,
 "nbformat_minor": 4
}
