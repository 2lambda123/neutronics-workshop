{
 "cells": [
  {
   "cell_type": "markdown",
   "metadata": {},
   "source": [
    "# Heating Mesh Tally on CAD geometry made from Components\n",
    "\n",
    "This constructs a reactor geometry from 3 Component objects each made from points.\n",
    "\n",
    "The Component made include a breeder blanket, PF coil and a central column shield.\n",
    "\n",
    "2D and 3D Meshes tally are then simulated to show nuclear heating, flux and tritium_production across the model."
   ]
  },
  {
   "cell_type": "markdown",
   "metadata": {},
   "source": [
    "This makes a 3D geometry and material for PF coil"
   ]
  },
  {
   "cell_type": "code",
   "execution_count": null,
   "metadata": {},
   "outputs": [],
   "source": [
    "import paramak\n",
    "\n",
    "pf_coil = paramak. PoloidalFieldCoil(\n",
    "    height=50,\n",
    "    width=50,\n",
    "    center_point=(725, 25),\n",
    "    name='pf_coil'\n",
    ")"
   ]
  },
  {
   "cell_type": "markdown",
   "metadata": {},
   "source": [
    "This makes a 3D geometry and material for the centre column"
   ]
  },
  {
   "cell_type": "code",
   "execution_count": null,
   "metadata": {},
   "outputs": [],
   "source": [
    "center_column = paramak.CenterColumnShieldHyperbola(\n",
    "    height=1200,\n",
    "    inner_radius=50,\n",
    "    mid_radius=100,\n",
    "    outer_radius=150,\n",
    "    name='center_column'\n",
    ")"
   ]
  },
  {
   "cell_type": "markdown",
   "metadata": {},
   "source": [
    "This makes a 3D geometry and material for breeder blanket. The azimuth_placement_angle argument is used to repeat the geometry around the Z axis at specified angles."
   ]
  },
  {
   "cell_type": "code",
   "execution_count": null,
   "metadata": {},
   "outputs": [],
   "source": [
    "blanket = paramak.BlanketConstantThicknessArcH(\n",
    "    inner_mid_point=(500, 0),\n",
    "    inner_upper_point=(400, 300),\n",
    "    inner_lower_point=(400, -300),\n",
    "    thickness= 100,\n",
    "    rotation_angle=40,\n",
    "    azimuth_placement_angle=[0, 45, 90, 135, 180, 225, 270, 315],\n",
    "    name='blanket'\n",
    ")"
   ]
  },
  {
   "cell_type": "markdown",
   "metadata": {},
   "source": [
    "This makes a reactor object from the three components"
   ]
  },
  {
   "cell_type": "code",
   "execution_count": null,
   "metadata": {},
   "outputs": [],
   "source": [
    "my_reactor = paramak.Reactor([blanket, pf_coil,center_column])\n",
    "\n",
    "my_reactor.show()"
   ]
  },
  {
   "cell_type": "markdown",
   "metadata": {},
   "source": [
    "At this stage we can export the reactor geometry as stp files and make them avaialbe from download and viewing in FreeCAD."
   ]
  },
  {
   "cell_type": "code",
   "execution_count": null,
   "metadata": {},
   "outputs": [],
   "source": [
    "my_reactor.export_stp('my_reactor.stp')\n",
    "\n",
    "from IPython.display import FileLink\n",
    "display(FileLink('my_reactor.stp'))"
   ]
  },
  {
   "cell_type": "markdown",
   "metadata": {},
   "source": [
    "Combines and converts the stl file into a DAGMC h5m file that can be used for the model geometry"
   ]
  },
  {
   "cell_type": "code",
   "execution_count": null,
   "metadata": {},
   "outputs": [],
   "source": [
    "my_reactor.export_dagmc_h5m('dagmc.h5m')\n",
    "\n",
    "import openmc_dagmc_wrapper as odw\n",
    "geometry = odw.Geometry(h5m_filename='dagmc.h5m')"
   ]
  },
  {
   "cell_type": "markdown",
   "metadata": {},
   "source": [
    "The next section uses materials from the neutronics_material_maker package https://github.com/fusion-energy/neutronics_material_maker/\n",
    "\n",
    "This has an internal database that knows the isotopes and density of various materials.\n",
    "\n",
    "The ```.openmc_material``` obtains an openmc.material object"
   ]
  },
  {
   "cell_type": "code",
   "execution_count": null,
   "metadata": {},
   "outputs": [],
   "source": [
    "# makes use of the previously created neutronics geometry (h5m file) and assigns\n",
    "# actual materials to the material tags. \n",
    "\n",
    "import openmc_dagmc_wrapper as odw\n",
    "import neutronics_material_maker as nmm\n",
    "\n",
    "# this links the material tags in the dagmc h5m file with materials.\n",
    "# these materials are input as strings so they will be looked up in the\n",
    "# neutronics material maker package\n",
    "material_tag_to_material_dict = {\n",
    "    'pf_coil': nmm.Material.from_library(name='copper'),\n",
    "    'blanket': nmm.Material.from_library(name='Li4SiO4'),\n",
    "    'center_column': nmm.Material.from_library(name='copper'),\n",
    "}\n",
    "\n",
    "geometry = odw.Geometry(h5m_filename='dagmc.h5m')\n",
    "\n",
    "materials = odw.Materials(\n",
    "    h5m_filename='dagmc.h5m',\n",
    "    correspondence_dict=material_tag_to_material_dict\n",
    ")"
   ]
  },
  {
   "cell_type": "markdown",
   "metadata": {},
   "source": [
    "This next step makes a simple point source. This uses native OpenMC commands but one could also use the openmc-plasma-source package https://github.com/fusion-energy/openmc-plasma-source/"
   ]
  },
  {
   "cell_type": "code",
   "execution_count": null,
   "metadata": {},
   "outputs": [],
   "source": [
    "import openmc\n",
    "\n",
    "# initialises a new source object\n",
    "source = openmc.Source()\n",
    "\n",
    "# sets the location of the source to x=0 y=0 z=0\n",
    "source.space = openmc.stats.Point((100, 0, 0))\n",
    "\n",
    "# sets the direction to isotropic\n",
    "source.angle = openmc.stats.Isotropic()\n",
    "\n",
    "# sets the energy distribution to 100% 14MeV neutrons\n",
    "source.energy = openmc.stats.Discrete([14e6], [1])"
   ]
  },
  {
   "cell_type": "markdown",
   "metadata": {},
   "source": [
    "This next section combines the geometry with the materials and specifies a 2D mesh tally that spans the entire geometry"
   ]
  },
  {
   "cell_type": "code",
   "execution_count": null,
   "metadata": {},
   "outputs": [],
   "source": [
    "from dagmc_bounding_box import DagmcBoundingBox\n",
    "\n",
    "# finds bounding box size from the geometry size\n",
    "corners = DagmcBoundingBox('dagmc.h5m').corners()\n",
    "\n",
    "tally1 = odw.MeshTally3D(\n",
    "    mesh_resolution=(100, 100, 100),\n",
    "    bounding_box= corners,\n",
    "    tally_type=\"(n,Xa)\",\n",
    "    # plane='xz'\n",
    ")\n",
    "\n",
    "tallies = openmc.Tallies([tally1])"
   ]
  },
  {
   "cell_type": "markdown",
   "metadata": {},
   "source": [
    "Sets the simulation intensity then combines the materials, geometry, settines and tallies into a neutronics model and runs the simulation."
   ]
  },
  {
   "cell_type": "code",
   "execution_count": null,
   "metadata": {},
   "outputs": [],
   "source": [
    "import openmc_plasma_source as ops\n",
    "\n",
    "settings = openmc.Settings()\n",
    "settings.inactive = 0\n",
    "settings.run_mode = 'fixed source'\n",
    "settings.batches = 10\n",
    "settings.particles = 2000\n",
    "\n",
    "# assigns a ring source of DT energy neutrons to the source using the\n",
    "# openmc_plasma_source package, more details here\n",
    "# https://github.com/fusion-energy/openmc-plasma-source/\n",
    "settings.source = ops.FusionRingSource(fuel=\"DT\", radius=350)\n",
    "\n",
    "my_model = openmc.Model(\n",
    "    materials=materials,\n",
    "    geometry=geometry,\n",
    "    settings=settings,\n",
    "    tallies=tallies\n",
    ")\n",
    "\n",
    "!rm *.h5  # just removes old summary.h5 or statepoint files\n",
    "statepoint_file = my_model.run()"
   ]
  },
  {
   "cell_type": "markdown",
   "metadata": {},
   "source": [
    "The next section produces download links for:\n",
    "\n",
    "- vtk files that contain the 3D mesh results (open with Paraview)\n",
    "- png images that show the resuls of the 2D mesh tally"
   ]
  },
  {
   "cell_type": "code",
   "execution_count": null,
   "metadata": {},
   "outputs": [],
   "source": [
    "# importing a package for converting regular mesh tallies to vtk files\n",
    "# more details here https://github.com/fusion-energy/openmc_mesh_tally_to_vtk\n",
    "from openmc_mesh_tally_to_vtk import write_mesh_tally_to_vtk\n",
    "\n",
    "# assumes you have a statepoint file from the OpenMC simulation\n",
    "statepoint = openmc.StatePoint(statepoint_file)\n",
    "\n",
    "# this shows the tallies present in the statepoint file\n",
    "print(statepoint.tallies)\n",
    "\n",
    "# loads up a tally from the statepoint using it's name\n",
    "my_tally = statepoint.get_tally(name='(n,Xa)_on_3D_mesh')\n",
    "\n",
    "# converts the tally result into a VTK file\n",
    "write_mesh_tally_to_vtk(\n",
    "    tally=my_tally,\n",
    "    filename = \"n_Xa_on_3D_mesh.vtk\",\n",
    ")"
   ]
  },
  {
   "cell_type": "markdown",
   "metadata": {},
   "source": [
    "The output file vtk file called \"n_Xa_on_3D_mesh.vtk\" should now appear in the left hand side sidebar. The file can be downloaded to your local computer by right mouse clicking on the file and selecting download."
   ]
  }
 ],
 "metadata": {
  "kernelspec": {
   "display_name": "Python 3 (ipykernel)",
   "language": "python",
   "name": "python3"
  },
  "language_info": {
   "codemirror_mode": {
    "name": "ipython",
    "version": 3
   },
   "file_extension": ".py",
   "mimetype": "text/x-python",
   "name": "python",
   "nbconvert_exporter": "python",
   "pygments_lexer": "ipython3",
   "version": "3.9.7"
  }
 },
 "nbformat": 4,
 "nbformat_minor": 4
}
