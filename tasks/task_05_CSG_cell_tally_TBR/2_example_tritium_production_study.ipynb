{
 "cells": [
  {
   "cell_type": "markdown",
   "metadata": {},
   "source": [
    "# Simulates the Tritium Breeding Ratio as a function of lithium enrichment\n",
    "\n",
    "- Lithium isotopes have a natural abundances of 7.59% Li6 and 92.41% Li7.\n",
    "- However, due to the different cross sections of the two isotopes it is often beneficial (for TBR) to enrich the Li6 content.\n",
    "- This example makes a simple model with a lithium containing blanket and a controllable enrichment.\n",
    "- Simulations are performed for several different Li6 enrichments and the TBR as a function of enrichment is found."
   ]
  },
  {
   "cell_type": "markdown",
   "metadata": {},
   "source": [
    "This section creates a neutronics model for the provided enrichment value, runs the simulation and returns the TBR value obtained."
   ]
  },
  {
   "cell_type": "code",
   "execution_count": null,
   "metadata": {},
   "outputs": [],
   "source": [
    "import openmc\n",
    "import plotly.graph_objects as go\n",
    "from tqdm import tqdm\n",
    "\n",
    "\n",
    "def make_materials_geometry_tallies(enrichment):\n",
    "    \"\"\"Makes a neutronics model of a blanket and simulates the TBR value.\n",
    "\n",
    "    Arguments:\n",
    "        enrichment (float): the enrichment percentage of Li6 in the breeder material\n",
    "    \n",
    "    Returns:\n",
    "        resutsl (dict): simulation tally results for TBR along with the standard deviation and enrichment\n",
    "    \"\"\"\n",
    "\n",
    "    # MATERIALS\n",
    "\n",
    "    breeder_material = openmc.Material(1, \"PbLi\")  # Pb84.2Li15.8\n",
    "    breeder_material.add_element('Pb', 84.2, percent_type='ao')\n",
    "    breeder_material.add_element('Li', 15.8, percent_type='ao', enrichment=enrichment, enrichment_target='Li6', enrichment_type='ao')\n",
    "    breeder_material.set_density('atom/b-cm', 3.2720171e-2)  # around 11 g/cm3\n",
    "\n",
    "\n",
    "    steel = openmc.Material(name='steel')\n",
    "    steel.set_density('g/cm3', 7.75)\n",
    "    steel.add_element('Fe', 0.95, percent_type='wo')\n",
    "    steel.add_element('C', 0.05, percent_type='wo')\n",
    "\n",
    "    mats = openmc.Materials([breeder_material, steel])\n",
    "\n",
    "\n",
    "    # GEOMETRY\n",
    "\n",
    "    # surfaces\n",
    "    vessel_inner = openmc.Sphere(r=500)\n",
    "    first_wall_outer_surface = openmc.Sphere(r=510)\n",
    "    breeder_blanket_outer_surface = openmc.Sphere(r=610, boundary_type='vacuum')\n",
    "\n",
    "\n",
    "    # cells\n",
    "    inner_vessel_region = -vessel_inner\n",
    "    inner_vessel_cell = openmc.Cell(region=inner_vessel_region)\n",
    "\n",
    "    first_wall_region = -first_wall_outer_surface & +vessel_inner\n",
    "    first_wall_cell = openmc.Cell(region=first_wall_region)\n",
    "    first_wall_cell.fill = steel\n",
    "\n",
    "    breeder_blanket_region = +first_wall_outer_surface & -breeder_blanket_outer_surface\n",
    "    breeder_blanket_cell = openmc.Cell(region=breeder_blanket_region)\n",
    "    breeder_blanket_cell.fill = breeder_material\n",
    "\n",
    "    universe = openmc.Universe(cells=[inner_vessel_cell, first_wall_cell, breeder_blanket_cell])\n",
    "    geom = openmc.Geometry(universe)\n",
    "\n",
    "\n",
    "    # SIMULATION SETTINGS\n",
    "    sett = openmc.Settings()\n",
    "    sett.batches = 10  # this is minimum number of batches that will be run\n",
    "    sett.trigger_active = True\n",
    "    sett.trigger_max_batches =  100  # this is maximum number of batches that will be run\n",
    "    sett.inactive = 0\n",
    "    sett.particles = 1000\n",
    "    sett.run_mode = 'fixed source'\n",
    "\n",
    "    source = openmc.Source()\n",
    "    source.space = openmc.stats.Point((0, 0, 0))\n",
    "    source.angle = openmc.stats.Isotropic()\n",
    "    source.energy = openmc.stats.Discrete([14e6], [1])\n",
    "    sett.source = source\n",
    "\n",
    "    # TALLIES\n",
    "\n",
    "    tallies = openmc.Tallies()\n",
    "\n",
    "    cell_filter = openmc.CellFilter(breeder_blanket_cell)\n",
    "    tbr_tally = openmc.Tally(name='TBR')\n",
    "    tbr_tally.filters = [cell_filter]\n",
    "    tbr_tally.scores = ['(n,Xt)']  # Where X is a wildcard character, this catches any tritium production\n",
    "    tbr_tally.triggers = [openmc.Trigger(trigger_type='std_dev', threshold=0.01)]  # This stops the simulation if the threshold is meet\n",
    "    tallies.append(tbr_tally)\n",
    "\n",
    "    # RUN OPENMC\n",
    "    model = openmc.model.Model(geom, mats, sett, tallies)\n",
    "    !rm *.h5\n",
    "    sp_filename = model.run(output=False)  # runs with reduced amount of output printing\n",
    "\n",
    "    # OPEN OUPUT FILE\n",
    "    sp = openmc.StatePoint(sp_filename)\n",
    "\n",
    "    tbr_tally = sp.get_tally(name='TBR')\n",
    "\n",
    "    df = tbr_tally.get_pandas_dataframe()\n",
    "\n",
    "    tbr_tally_result = df['mean'].sum()\n",
    "    tbr_tally_std_dev = df['std. dev.'].sum()\n",
    "\n",
    "    return {'enrichment': enrichment,\n",
    "            'tbr_tally_result': tbr_tally_result,\n",
    "            'tbr_tally_std_dev': tbr_tally_std_dev}"
   ]
  },
  {
   "cell_type": "markdown",
   "metadata": {},
   "source": [
    "Obtains TBR results for a range of different blanket enrichments."
   ]
  },
  {
   "cell_type": "code",
   "execution_count": null,
   "metadata": {},
   "outputs": [],
   "source": [
    "results = []\n",
    "for enrichment in tqdm([0, 25, 50, 75, 100]):  # percentage enrichment from 0% Li6 to 100% Li6\n",
    "    results.append(make_materials_geometry_tallies(enrichment))\n",
    "\n",
    "results"
   ]
  },
  {
   "cell_type": "markdown",
   "metadata": {},
   "source": [
    "Plots a figure showing TBR as a function of Li6 enrichment."
   ]
  },
  {
   "cell_type": "code",
   "execution_count": null,
   "metadata": {},
   "outputs": [],
   "source": [
    "fig = go.Figure()\n",
    "\n",
    "# PLOTS RESULTS\n",
    "fig.add_trace(\n",
    "    go.Scatter(\n",
    "        x=[entry['enrichment'] for entry in results],\n",
    "        y=[entry['tbr_tally_result'] for entry in results],\n",
    "        mode='lines',\n",
    "        error_y={'array': [entry['tbr_tally_std_dev'] for entry in results]},\n",
    "        )\n",
    ")\n",
    "\n",
    "fig.update_layout(\n",
    "      xaxis={'title': 'Li6 enrichment (%)'},\n",
    "      yaxis={'title': 'TBR'}\n",
    ")\n",
    "\n",
    "fig.show()"
   ]
  },
  {
   "cell_type": "markdown",
   "metadata": {},
   "source": [
    "**Learning Outcomes for Task 5**\n",
    "- Finding TBR with OpenMC.\n",
    "- Simple methods of increasing the TBR using lithium enrichment."
   ]
  }
 ],
 "metadata": {
  "kernelspec": {
   "display_name": "Python 3",
   "language": "python",
   "name": "python3"
  },
  "language_info": {
   "codemirror_mode": {
    "name": "ipython",
    "version": 3
   },
   "file_extension": ".py",
   "mimetype": "text/x-python",
   "name": "python",
   "nbconvert_exporter": "python",
   "pygments_lexer": "ipython3",
   "version": "3.8.3"
  }
 },
 "nbformat": 4,
 "nbformat_minor": 4
}
