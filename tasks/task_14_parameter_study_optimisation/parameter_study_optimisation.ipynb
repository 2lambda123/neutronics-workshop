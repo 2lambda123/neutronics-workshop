{
 "cells": [
  {
   "cell_type": "markdown",
   "metadata": {},
   "source": [
    "# Task 14 - Parameter Study Optimisation\n",
    "\n",
    "The previous task sampled from the available parameters and aimed to cover the parameter space efficiently. This task uses Scikit-opt Gaussian Processing to home-in on the optimal solution. In optimisation algorithms it is common to see a combination of exploration and exploitation to find the optimal value."
   ]
  },
  {
   "cell_type": "code",
   "execution_count": null,
   "metadata": {},
   "outputs": [],
   "source": [
    "# Install dependencies\n",
    "\n",
    "import json\n",
    "import numpy as np\n",
    "import pandas as pd\n",
    "import adaptive\n",
    "import holoviews\n",
    "import ipywidgets\n",
    "import nest_asyncio\n",
    "import plotly.graph_objects as go\n",
    "\n",
    "from tqdm import tqdm\n",
    "from pathlib import Path\n",
    "from skopt import gp_minimize\n",
    "from skopt.utils import dump, load\n",
    "from scipy.interpolate import griddata\n",
    "\n",
    "from openmc_model import objective\n",
    "\n",
    "adaptive.notebook_extension()\n",
    "nest_asyncio.apply()\n",
    "\n",
    "# method for saving results in json file\n",
    "def output_result(filepath, result):\n",
    "    filename = filepath\n",
    "    Path(filename).parent.mkdir(parents=True, exist_ok=True)\n",
    "    with open(filename, mode=\"w\", encoding=\"utf-8\") as f:\n",
    "        json.dump(result, f, indent=4)"
   ]
  },
  {
   "cell_type": "markdown",
   "metadata": {},
   "source": [
    "So that we have data to compare our optimisation values to, first we will perform a sweep to see how TBR varies across the parameter space. In these simulations, we will use a pre-defined model to see how TBR varies as a function of breeder_percent_in_breeder_plus_multiplier.\n",
    "\n",
    "Run the code below to perform this 1D parameter sweep."
   ]
  },
  {
   "cell_type": "code",
   "execution_count": null,
   "metadata": {},
   "outputs": [],
   "source": [
    "# get_true_values_1D\n",
    "\n",
    "tbr_values = []\n",
    "for breeder_percent_in_breeder_plus_multiplier in tqdm(np.linspace(0, 100, 101)):\n",
    "    tbr_values.append({'breeder_percent_in_breeder_plus_multiplier':breeder_percent_in_breeder_plus_multiplier,\n",
    "                       'tbr':-objective([breeder_percent_in_breeder_plus_multiplier])})\n",
    "    \n",
    "output_result(\"outputs/1d_tbr_values.json\", tbr_values)"
   ]
  },
  {
   "cell_type": "markdown",
   "metadata": {},
   "source": [
    "The code block below runs an optimised simualation. First, the simulation takes some sample points of the parameter space and fits the data using gaussian processing. It will then run a simulation at the point where TBR is maximum and fit again. It does this iteratively for a set number of times - should get close to the maximum TBR across that parameter space.\n",
    "Enough simulations must be run to get to the correct point in the parameter space.\n",
    "This is using the same adaptive sampling techniques as task 13."
   ]
  },
  {
   "cell_type": "code",
   "execution_count": null,
   "metadata": {},
   "outputs": [],
   "source": [
    "# get_optimised_values_1d\n",
    "\n",
    "learner = adaptive.SKOptLearner(objective,\n",
    "                                dimensions=[(0., 100.)],\n",
    "                                base_estimator=\"GP\",\n",
    "                                acq_func=\"gp_hedge\",\n",
    "                                acq_optimizer=\"lbfgs\",\n",
    "                               )\n",
    "runner = adaptive.Runner(learner, ntasks=1, goal=lambda l: l.npoints > 40)\n",
    "\n",
    "runner.live_info()\n",
    "\n",
    "runner.ioloop.run_until_complete(runner.task)\n",
    "\n",
    "output_result(\"outputs/1d_optimised_values.json\", dict(learner.data))"
   ]
  },
  {
   "cell_type": "markdown",
   "metadata": {},
   "source": [
    "We can then plot the true data (from the parameter sweep) and the optimisation data to see whether in fact the optimisation has reached the correct point where TBR is maximum."
   ]
  },
  {
   "cell_type": "code",
   "execution_count": null,
   "metadata": {},
   "outputs": [],
   "source": [
    "# 1_plot_1d_optimisation\n",
    "# Note, optimisation functions tend to minimise the value therefore there are a few negative signs in these scripts\n",
    "\n",
    "# Loads true data for comparison\n",
    "data = pd.read_json('outputs/1d_tbr_values.json')\n",
    "\n",
    "x_data=data['breeder_percent_in_breeder_plus_multiplier']\n",
    "fx=-data['tbr']\n",
    "\n",
    "\n",
    "# Load optimisation data\n",
    "\n",
    "with open('outputs/1d_optimised_values.json', 'r') as f: data = json.load(f).items()\n",
    "\n",
    "x_vals = [i[0] for i in data]\n",
    "tbr_vals = [-i[1] for i in data]\n",
    "\n",
    "# Print max TBR from optimisation data\n",
    "print('Maximum TBR of ', tbr_vals[-1], 'found with a breeder percent in breeder plus multiplier of ', x_vals[-1])\n",
    "\n",
    "\n",
    "fig = go.Figure()\n",
    "\n",
    "# Plot samples from optimsation points\n",
    "fig.add_trace(go.Scatter(x = x_vals,\n",
    "                         y = tbr_vals,\n",
    "                         name=\"Samples from optimisation\",\n",
    "                         mode='markers',\n",
    "                         marker=dict(color='red', size=10)\n",
    "                        )\n",
    "                )\n",
    "\n",
    "# Plot true function.\n",
    "fig.add_trace(go.Scatter(name=\"True value (unknown)\",\n",
    "                          x = x_data,\n",
    "                          y = [-i for i in fx],\n",
    "                          mode='lines',\n",
    "                          line = {'shape': 'spline'},\n",
    "                          marker=dict(color='green')\n",
    "                         )\n",
    "              )\n",
    "\n",
    "fig.update_layout(title='Optimal breeder percent in breeder plus multiplier',\n",
    "                  xaxis={'title': 'breeder percent in breeder plus multiplier', 'range': [0, 100]},\n",
    "                  yaxis={'title': 'TBR', 'range': [0.1, 2]}\n",
    "                 )\n",
    "\n",
    "fig.show()"
   ]
  },
  {
   "cell_type": "markdown",
   "metadata": {},
   "source": [
    "As you can see, the optimisation samples are spread across the parameter space, but get more dense towards a single point. This is because the optimisation is homing-in on the parameter space where TBR is maximum so more samples will be taken here until we get very close to the max TBR."
   ]
  },
  {
   "cell_type": "markdown",
   "metadata": {},
   "source": [
    "The same techniques can be applied to N dimensional problems but the number of simulations required increases. The next example is a 2-dimensional problem where the optimal breeder to multiplier ratio and enrichment are being found."
   ]
  },
  {
   "cell_type": "markdown",
   "metadata": {},
   "source": [
    "First, a sweep of the parameter space is performed to obtain TBR as a function of breeder to multiplier ratio and enrichment across the entire parameter space."
   ]
  },
  {
   "cell_type": "code",
   "execution_count": null,
   "metadata": {},
   "outputs": [],
   "source": [
    "# get_true_values_2D\n",
    "\n",
    "tbr_values = []\n",
    "for breeder_percent_in_breeder_plus_multiplier in tqdm(np.linspace(0, 100, 10)):\n",
    "    for blanket_breeder_li6_enrichment in np.linspace(0, 100, 10):\n",
    "        tbr_values.append({'breeder_percent_in_breeder_plus_multiplier': breeder_percent_in_breeder_plus_multiplier,\n",
    "                           'blanket_breeder_li6_enrichment': blanket_breeder_li6_enrichment,\n",
    "                           'tbr': -objective([breeder_percent_in_breeder_plus_multiplier,\n",
    "                                              blanket_breeder_li6_enrichment])\n",
    "                          })\n",
    "\n",
    "output_result(\"outputs/2d_tbr_values.json\", tbr_values)"
   ]
  },
  {
   "cell_type": "markdown",
   "metadata": {},
   "source": [
    "Then we run an optimised simulation. First we use adaptive sampling like before, but this time in 2D, and then we can also use gp_optimisation in 2D?\n",
    "Not really too sure why two optimisations seemed to be used here."
   ]
  },
  {
   "cell_type": "code",
   "execution_count": null,
   "metadata": {},
   "outputs": [],
   "source": [
    "# get_optimised_values_2d\n",
    "\n",
    "# Uses adaptive sampling methods from task X to obtain starting points for the optimiser\n",
    "learner = adaptive.Learner2D(objective, bounds=[(0, 100), (0, 100)])\n",
    "runner = adaptive.Runner(learner, ntasks=1, goal=lambda l: l.npoints > 40)\n",
    "runner.live_info()\n",
    "runner.ioloop.run_until_complete(runner.task)\n",
    "\n",
    "\n",
    "# Gaussian Processes based optimisation that returns an SciPy optimisation object\n",
    "res = gp_minimize(objective,          # the function to minimize\n",
    "                  dimensions=[(0., 100.), (0., 100.)],       # the bounds on each dimension of x\n",
    "                  n_calls=40,         # the number of evaluations of f\n",
    "                  n_random_starts=0,  # the number of random initialization points\n",
    "                  verbose=True,\n",
    "                  x0=[i for i in list(learner.data.keys())], # initial data from the adaptive sampling method\n",
    "                  y0=list(learner.data.values()) # initial data from the adaptive sampling method\n",
    "                  )\n",
    "\n",
    "# saves 2d optimisation results in .dat file\n",
    "dump(res, \"outputs/2d_optimised_values.dat\")"
   ]
  },
  {
   "cell_type": "markdown",
   "metadata": {},
   "source": [
    "Plot the true and optimised data on the same graph to show whether the optimisation data got close to the true max TBR across the parameter space."
   ]
  },
  {
   "cell_type": "code",
   "execution_count": null,
   "metadata": {},
   "outputs": [],
   "source": [
    "# 2d_plot_2d_optimisation_scatter.py\n",
    "\n",
    "# load true data for comparison\n",
    "data = pd.read_json('outputs/2d_tbr_values.json')\n",
    "x=data['breeder_percent_in_breeder_plus_multiplier']\n",
    "y=data['blanket_breeder_li6_enrichment']\n",
    "z=data['tbr']\n",
    "\n",
    "# Print max TBR from optimisation data\n",
    "print('Optimal breeder_percent_in_breeder_plus_multiplier_ratio = ', res.x[0])\n",
    "print('Optimal Li6 enrichment = ', res.x[1])\n",
    "print('Maximum TBR = ', -res.fun)\n",
    "\n",
    "fig = go.Figure()\n",
    "\n",
    "fig.add_trace(go.Scatter3d(name='TBR values found during optimisation',\n",
    "                           x=[x[0] for x in res.x_iters],\n",
    "                           y=[x[1] for x in res.x_iters],\n",
    "                           z=-res.func_vals,\n",
    "                           mode='markers',\n",
    "                           marker=dict(size=7)\n",
    "                          )\n",
    "             )\n",
    "\n",
    "fig.add_trace(go.Scatter3d(name='True values',\n",
    "                           x=x,\n",
    "                           y=y,\n",
    "                           z=z,\n",
    "                           mode='markers',\n",
    "                           marker=dict(size=7)\n",
    "                          )\n",
    "             )\n",
    "\n",
    "\n",
    "fig.add_trace(go.Scatter3d(name='Maximum TBR value found',\n",
    "                           x=[res.x[0]],\n",
    "                           y=[res.x[1]],\n",
    "                           z=[-res.fun],\n",
    "                           mode='markers',\n",
    "                           marker=dict(size=7)\n",
    "                          )\n",
    "             )\n",
    "\n",
    "fig.update_layout(title='Optimal Li6 enrichment and breeder percent in breeder plus multiplier',\n",
    "                  scene={'yaxis': {'title': 'Li6 enrichment percent'},\n",
    "                         'zaxis': {'title': 'breeder percent in breeder plus multiplier'},\n",
    "                         'zaxis': {'title': 'TBR'}\n",
    "                        }\n",
    "                 )\n",
    "\n",
    "fig.show()"
   ]
  },
  {
   "cell_type": "markdown",
   "metadata": {},
   "source": [
    "Can also produce a contour plot to show a similar comparison."
   ]
  },
  {
   "cell_type": "code",
   "execution_count": null,
   "metadata": {},
   "outputs": [],
   "source": [
    "# 2_plot_2d_optimisation_contour\n",
    "\n",
    "# Print max TBR from optimisation data\n",
    "print('Optimal Li6 enrichment = ', res.x[0])\n",
    "print('Optimal breeder percent in breeder plus multiplier = ', res.x[1])\n",
    "print('Maximum TBR = ', -res.fun)\n",
    "\n",
    "\n",
    "# creates a grid and interploates values on it\n",
    "xi = np.linspace(0, 100, 100)\n",
    "yi = np.linspace(0, 100, 100)\n",
    "zi = griddata((x, y), z, (xi[None,:], yi[:,None]), method='linear')\n",
    "\n",
    "\n",
    "fig = go.Figure()\n",
    "\n",
    "# plots interpolated values as colour map plot\n",
    "fig.add_trace(trace = go.Contour(\n",
    "                z=zi,\n",
    "                x=yi,\n",
    "                y=xi,\n",
    "        colorscale=\"Viridis\",\n",
    "        opacity=0.9,\n",
    "        line=dict(width=0, smoothing=0.85),\n",
    "        contours=dict(\n",
    "            showlines=False,\n",
    "            showlabels=False,\n",
    "            size=0,\n",
    "            labelfont=dict(size=15,),\n",
    "        ),\n",
    "    ))\n",
    "\n",
    "fig.add_trace(go.Scatter(name='TBR values found during optimisation',\n",
    "                         x=[x[0] for x in res.x_iters],\n",
    "                         y=[x[1] for x in res.x_iters],\n",
    "                         hovertext=-res.func_vals,\n",
    "                         hoverinfo=\"text\",\n",
    "                         marker={\"size\": 8},\n",
    "                         mode='markers'\n",
    "                        )\n",
    "             )\n",
    "\n",
    "\n",
    "# This add the final optimal value found during the optimisation as a seperate scatter point on the graph\n",
    "fig.add_trace(go.Scatter(name='Maximum TBR value found',\n",
    "                         x=[res.x[0]],\n",
    "                         y=[res.x[1]],\n",
    "                         hovertext=[-res.fun],\n",
    "                         hoverinfo=\"text\",\n",
    "                         marker={\"size\": 8},\n",
    "                         mode='markers'\n",
    "                        )\n",
    "             )\n",
    "\n",
    "fig.update_layout(title='',\n",
    "                  xaxis={'title': 'breeder percent in breeder plus multiplier', 'range':(-1, 101)},\n",
    "                  yaxis={'title': 'blanket breeder li6 enrichment', 'range':(-1, 101)},\n",
    "                  legend_orientation=\"h\"\n",
    "                 )\n",
    "\n",
    "fig.show()"
   ]
  },
  {
   "cell_type": "markdown",
   "metadata": {},
   "source": [
    "As you can see, the optimisation points are spread across the parameter space but are more dense in towards the area of maximum TBR (as given by the real data)."
   ]
  }
 ],
 "metadata": {
  "kernelspec": {
   "display_name": "Python 3",
   "language": "python",
   "name": "python3"
  },
  "language_info": {
   "codemirror_mode": {
    "name": "ipython",
    "version": 3
   },
   "file_extension": ".py",
   "mimetype": "text/x-python",
   "name": "python",
   "nbconvert_exporter": "python",
   "pygments_lexer": "ipython3",
   "version": "3.8.3"
  }
 },
 "nbformat": 4,
 "nbformat_minor": 4
}
