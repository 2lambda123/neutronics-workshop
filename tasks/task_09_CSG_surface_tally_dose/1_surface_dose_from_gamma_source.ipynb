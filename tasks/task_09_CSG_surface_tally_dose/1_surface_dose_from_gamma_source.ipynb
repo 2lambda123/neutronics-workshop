{
 "cells": [
  {
   "cell_type": "markdown",
   "metadata": {},
   "source": [
    "# Simulations of effective dose on a surface\n",
    "\n",
    "\n",
    "Effective dose is used to assess the potential for long-term effects that might occur in the future.\n",
    "\n",
    "Effective dose provides a sinlge number that reflects the exposure to radiation. To quote ICRP who deffine the quantity \"It sums up any number of different exposures into a single number that reflects, in a general way, the overall risk\"\n",
    "\n",
    "Effective dose is a calculated value, measured in milli Sv. Effective dose is calculated for the whole body. The sum of equivalent doses to all organs, each adjusted to account for the sensitivity of the organ to radiation. Read more about equivalent dose, absorbed dose and effective dose on the ICRP website.\n",
    "\n",
    "http://icrpaedia.org/Absorbed,_Equivalent,_and_Effective_Dose"
   ]
  },
  {
   "cell_type": "code",
   "execution_count": null,
   "metadata": {},
   "outputs": [],
   "source": [
    "The amount of effective dose deposited by a neutron or photon depends on the energy of the particle. The dose coeffients provided by ICRP are energy dependant.\n",
    "\n",
    "The following section plots the "
   ]
  },
  {
   "cell_type": "code",
   "execution_count": 1,
   "metadata": {},
   "outputs": [
    {
     "ename": "IndentationError",
     "evalue": "unexpected indent (<ipython-input-1-379a1c1400a0>, line 2)",
     "output_type": "error",
     "traceback": [
      "\u001b[0;36m  File \u001b[0;32m\"<ipython-input-1-379a1c1400a0>\"\u001b[0;36m, line \u001b[0;32m2\u001b[0m\n\u001b[0;31m    energy_bins_p, dose_coeffs_p = openmc.data.dose_coefficients(particle='photon', geometry='AP')\u001b[0m\n\u001b[0m    ^\u001b[0m\n\u001b[0;31mIndentationError\u001b[0m\u001b[0;31m:\u001b[0m unexpected indent\n"
     ]
    }
   ],
   "source": [
    "energy_bins_n, dose_coeffs_n = openmc.data.dose_coefficients(particle='neutron', geometry='AP')\n",
    "    energy_bins_p, dose_coeffs_p = openmc.data.dose_coefficients(particle='photon', geometry='AP')\n",
    "    energy_function_filter_n = openmc.EnergyFunctionFilter(energy_bins_n, dose_coeffs_n)\n",
    "    energy_function_filter_p = openmc.EnergyFunctionFilter(energy_bins_p, dose_coeffs_p)\n"
   ]
  },
  {
   "cell_type": "code",
   "execution_count": null,
   "metadata": {},
   "outputs": [],
   "source": []
  }
 ],
 "metadata": {
  "kernelspec": {
   "display_name": "Python 3",
   "language": "python",
   "name": "python3"
  },
  "language_info": {
   "codemirror_mode": {
    "name": "ipython",
    "version": 3
   },
   "file_extension": ".py",
   "mimetype": "text/x-python",
   "name": "python",
   "nbconvert_exporter": "python",
   "pygments_lexer": "ipython3",
   "version": "3.8.3"
  }
 },
 "nbformat": 4,
 "nbformat_minor": 4
}
