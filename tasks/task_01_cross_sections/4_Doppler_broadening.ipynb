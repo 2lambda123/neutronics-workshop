{
 "cells": [
  {
   "cell_type": "markdown",
   "source": [
    "# Part 4 - Plotting Doppler broadened cross sections\n",
    "\n",
    "Interaction cross sections are affected by the temperature of the target atom. The relative motion of the target can result in the target moving towards or away from the incident particle causing them to collide with different energies.\n",
    "\n",
    "This python notebook allows users to plot neutron interaction cross sections using OpenMC taking Doppler broadening into account."
   ],
   "metadata": {}
  },
  {
   "cell_type": "code",
   "execution_count": null,
   "source": [
    "from IPython.display import IFrame\n",
    "IFrame(src=\"https://www.youtube.com/embed/mkl1mVnTO6g\", width=560, height=340)"
   ],
   "outputs": [],
   "metadata": {}
  },
  {
   "cell_type": "markdown",
   "source": [
    "This code block plots the total neutron cross section for Tungsten-186 at 3 different temperatures."
   ],
   "metadata": {}
  },
  {
   "cell_type": "code",
   "execution_count": null,
   "source": [
    "from plotting_utils import create_temperature_plot_for_isotope\n",
    "create_temperature_plot_for_isotope(\n",
    "    isotope='W186',\n",
    "    temperatures=[300, 700, 1000],   # temperatures in Kelvin\n",
    "    reaction='(n,total)'\n",
    ")"
   ],
   "outputs": [],
   "metadata": {}
  },
  {
   "cell_type": "markdown",
   "source": [
    "Zoom in on one of the spectral peaks to observe how increasing temperature causes Doppler broadening."
   ],
   "metadata": {}
  },
  {
   "cell_type": "markdown",
   "source": [
    "The next code block plots the total neutron cross section for Iron-56 at 2 different temperatures for a specified energy range that captures a particular resonance. Doppler broadening of the resonance peak should be observed."
   ],
   "metadata": {}
  },
  {
   "cell_type": "code",
   "execution_count": null,
   "source": [
    "create_temperature_plot_for_isotope(\n",
    "    isotope='Fe56',\n",
    "    temperatures=[300, 1000],   # temperatures in Kelvin\n",
    "    reaction='(n,total)',\n",
    "    min_energy=1100,\n",
    "    max_energy=1200\n",
    ")"
   ],
   "outputs": [],
   "metadata": {}
  },
  {
   "cell_type": "markdown",
   "source": [
    "**Learning Outcomes from Part 4:**\n",
    "- The relative motion of colliding nuclei causes Doppler broadening of interaction cross sections."
   ],
   "metadata": {}
  }
 ],
 "metadata": {
  "kernelspec": {
   "display_name": "Python 3 (ipykernel)",
   "language": "python",
   "name": "python3"
  },
  "language_info": {
   "codemirror_mode": {
    "name": "ipython",
    "version": 3
   },
   "file_extension": ".py",
   "mimetype": "text/x-python",
   "name": "python",
   "nbconvert_exporter": "python",
   "pygments_lexer": "ipython3",
   "version": "3.9.5"
  }
 },
 "nbformat": 4,
 "nbformat_minor": 4
}