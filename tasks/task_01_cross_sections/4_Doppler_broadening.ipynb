{
 "cells": [
  {
   "cell_type": "markdown",
   "metadata": {},
   "source": [
    "# Part 4 - Plotting Doppler broadened cross sections\n",
    "\n",
    "Interaction cross sections are affected by the temperature of the target atom. The relative motion of the target can result in the target moving towards or away from the incident particle causing them to collide with different energies.\n",
    "\n",
    "This python notebook allows users to plot neutron interaction cross sections using OpenMC taking Doppler broadening into account."
   ]
  },
  {
   "cell_type": "code",
   "execution_count": null,
   "metadata": {},
   "outputs": [],
   "source": [
    "from IPython.display import IFrame\n",
    "IFrame(src=\"https://www.youtube.com/embed/mkl1mVnTO6g\", width=560, height=340)"
   ]
  },
  {
   "cell_type": "markdown",
   "metadata": {},
   "source": [
    "This code block plots the total neutron cross section for Tungsten-186 at 3 different temperatures."
   ]
  },
  {
   "cell_type": "code",
   "execution_count": 15,
   "metadata": {},
   "outputs": [
    {
     "ename": "NameError",
     "evalue": "name 'isotope' is not defined",
     "output_type": "error",
     "traceback": [
      "\u001b[0;31m---------------------------------------------------------------------------\u001b[0m",
      "\u001b[0;31mNameError\u001b[0m                                 Traceback (most recent call last)",
      "Input \u001b[0;32mIn [15]\u001b[0m, in \u001b[0;36m<cell line: 16>\u001b[0;34m()\u001b[0m\n\u001b[1;32m     12\u001b[0m isotope_multipole \u001b[38;5;241m=\u001b[39m openmc\u001b[38;5;241m.\u001b[39mdata\u001b[38;5;241m.\u001b[39mWindowedMultipole\u001b[38;5;241m.\u001b[39mfrom_hdf5(h5_file)\n\u001b[1;32m     14\u001b[0m temperature \u001b[38;5;241m=\u001b[39m \u001b[38;5;241m200\u001b[39m\n\u001b[1;32m     16\u001b[0m plt\u001b[38;5;241m.\u001b[39mplot(\n\u001b[1;32m     17\u001b[0m     x\u001b[38;5;241m=\u001b[39menergy,\n\u001b[1;32m     18\u001b[0m     y\u001b[38;5;241m=\u001b[39misotope_multipole(energy, temperature)[mt_number],\n\u001b[0;32m---> 19\u001b[0m     lable\u001b[38;5;241m=\u001b[39m\u001b[43misotope\u001b[49m \u001b[38;5;241m+\u001b[39m \u001b[38;5;124m\"\u001b[39m\u001b[38;5;124m \u001b[39m\u001b[38;5;124m\"\u001b[39m \u001b[38;5;241m+\u001b[39m reaction \u001b[38;5;241m+\u001b[39m \u001b[38;5;124m\"\u001b[39m\u001b[38;5;124m \u001b[39m\u001b[38;5;124m\"\u001b[39m \u001b[38;5;241m+\u001b[39m \u001b[38;5;28mstr\u001b[39m(temperature) \u001b[38;5;241m+\u001b[39m \u001b[38;5;124m\"\u001b[39m\u001b[38;5;124m Kelvin\u001b[39m\u001b[38;5;124m\"\u001b[39m,\n\u001b[1;32m     20\u001b[0m )\n",
      "\u001b[0;31mNameError\u001b[0m: name 'isotope' is not defined"
     ]
    }
   ],
   "source": [
    "import numpy as np\n",
    "import openmc\n",
    "from openmc.data import REACTION_MT\n",
    "import matplotlib.pyplot as plt\n",
    "\n",
    "energy = np.linspace(1, 2000, 50000)\n",
    "\n",
    "mt_number = REACTION_MT[\"(n,total)\"]\n",
    "\n",
    "h5_file = f\"/home/jshimwell/WMP_Library/WMP_Library/074186.h5\"\n",
    "\n",
    "isotope_multipole = openmc.data.WindowedMultipole.from_hdf5(h5_file)\n",
    "\n",
    "temperature = 200\n",
    "\n",
    "plt.plot(\n",
    "    x=energy,\n",
    "    y=isotope_multipole(energy, temperature)[mt_number],\n",
    "    lable=isotope + \" \" + reaction + \" \" + str(temperature) + \" Kelvin\",\n",
    ")"
   ]
  },
  {
   "cell_type": "code",
   "execution_count": 11,
   "metadata": {},
   "outputs": [
    {
     "ename": "TypeError",
     "evalue": "gnds_name() missing 2 required positional arguments: 'Z' and 'A'",
     "output_type": "error",
     "traceback": [
      "\u001b[0;31m---------------------------------------------------------------------------\u001b[0m",
      "\u001b[0;31mTypeError\u001b[0m                                 Traceback (most recent call last)",
      "Input \u001b[0;32mIn [11]\u001b[0m, in \u001b[0;36m<cell line: 1>\u001b[0;34m()\u001b[0m\n\u001b[0;32m----> 1\u001b[0m \u001b[43mopenmc\u001b[49m\u001b[38;5;241;43m.\u001b[39;49m\u001b[43mdata\u001b[49m\u001b[38;5;241;43m.\u001b[39;49m\u001b[43mgnds_name\u001b[49m\u001b[43m(\u001b[49m\u001b[43m)\u001b[49m\n",
      "\u001b[0;31mTypeError\u001b[0m: gnds_name() missing 2 required positional arguments: 'Z' and 'A'"
     ]
    }
   ],
   "source": [
    "openmc.data.gnds_name()"
   ]
  },
  {
   "cell_type": "markdown",
   "metadata": {},
   "source": [
    "Zoom in on one of the spectral peaks to observe how increasing temperature causes Doppler broadening."
   ]
  },
  {
   "cell_type": "markdown",
   "metadata": {},
   "source": [
    "The next code block plots the total neutron cross section for Iron-56 at 2 different temperatures for a specified energy range that captures a particular resonance. Doppler broadening of the resonance peak should be observed."
   ]
  },
  {
   "cell_type": "code",
   "execution_count": null,
   "metadata": {},
   "outputs": [],
   "source": [
    "create_temperature_plot_for_isotope(\n",
    "    isotope='Fe56',\n",
    "    temperatures=[300, 1000],   # temperatures in Kelvin\n",
    "    reaction='(n,total)',\n",
    "    min_energy=1100,\n",
    "    max_energy=1200\n",
    ")"
   ]
  },
  {
   "cell_type": "markdown",
   "metadata": {},
   "source": [
    "**Learning Outcomes from Part 4:**\n",
    "- The relative motion of colliding nuclei causes Doppler broadening of interaction cross sections."
   ]
  }
 ],
 "metadata": {
  "kernelspec": {
   "display_name": "Python 3 (ipykernel)",
   "language": "python",
   "name": "python3"
  },
  "language_info": {
   "codemirror_mode": {
    "name": "ipython",
    "version": 3
   },
   "file_extension": ".py",
   "mimetype": "text/x-python",
   "name": "python",
   "nbconvert_exporter": "python",
   "pygments_lexer": "ipython3",
   "version": "3.8.13"
  }
 },
 "nbformat": 4,
 "nbformat_minor": 4
}
