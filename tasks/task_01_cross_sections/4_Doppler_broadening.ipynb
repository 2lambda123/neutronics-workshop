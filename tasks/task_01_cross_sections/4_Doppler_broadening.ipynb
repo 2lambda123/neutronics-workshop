{
 "cells": [
  {
   "cell_type": "markdown",
   "metadata": {},
   "source": [
    "# Plotting Doppler broadened cross sections\n",
    "\n",
    "The temperature of the target atom affects the cross section. The relative motion of the target can result in the target moving towards or away from the incident particle, causing them to collide with different energies."
   ]
  },
  {
   "cell_type": "code",
   "execution_count": null,
   "metadata": {},
   "outputs": [],
   "source": [
    "from plotting_utils import create_temperature_plot_for_isotope"
   ]
  },
  {
   "cell_type": "markdown",
   "metadata": {},
   "source": [
    "This plots the total neutron cross section for Tungsten-186 at 3 different temperatures (Kelvin)."
   ]
  },
  {
   "cell_type": "code",
   "execution_count": null,
   "metadata": {},
   "outputs": [],
   "source": [
    "create_temperature_plot_for_isotope(\n",
    "    isotope='W186',\n",
    "    temperatures=[300, 700, 1000],\n",
    "    reaction='(n,total)'\n",
    ")"
   ]
  },
  {
   "cell_type": "markdown",
   "metadata": {},
   "source": [
    "This plots the total neutron cross section for Iron-56 at 2 different temperatures (Kelvin) for a specified energy range that captures a particular resonance."
   ]
  },
  {
   "cell_type": "code",
   "execution_count": null,
   "metadata": {},
   "outputs": [],
   "source": [
    "create_temperature_plot_for_isotope(\n",
    "    isotope='Fe56',\n",
    "    temperatures=[300, 1000],\n",
    "    reaction='(n,total)',\n",
    "    min_energy=1100,\n",
    "    max_energy=1200\n",
    ")"
   ]
  },
  {
   "cell_type": "markdown",
   "metadata": {},
   "source": [
    "**Learning Outcomes from Task 1**\n",
    "- OpenMC can be used to plot cross-sectional data for a variety of fusion-relevant interactions, e.g. (n,2n), (n,Xt).\n",
    "- Reaction probabilities vary for each isotope depending on the energy of the neutron.\n",
    "- Cross sections can be plotted for specific isotopes, elements and full materials.\n",
    "- Beryllium-9 has the lowest threshold energy for neutron multiplication reactions.\n",
    "- Lithium-6 has the highest probability of producing tritium at low neutron energies.\n",
    "- Lithium enrichment increases tritium production from low energy neutrons.\n",
    "- The relative motion of colliding nuclei causes doppler broadening of interaction cross sections."
   ]
  }
 ],
 "metadata": {
  "kernelspec": {
   "display_name": "Python 3",
   "language": "python",
   "name": "python3"
  },
  "language_info": {
   "codemirror_mode": {
    "name": "ipython",
    "version": 3
   },
   "file_extension": ".py",
   "mimetype": "text/x-python",
   "name": "python",
   "nbconvert_exporter": "python",
   "pygments_lexer": "ipython3",
   "version": "3.8.3"
  }
 },
 "nbformat": 4,
 "nbformat_minor": 4
}
