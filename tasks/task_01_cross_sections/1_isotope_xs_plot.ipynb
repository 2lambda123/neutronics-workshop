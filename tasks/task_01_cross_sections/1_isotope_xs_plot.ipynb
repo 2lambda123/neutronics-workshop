{
 "cells": [
  {
   "cell_type": "markdown",
   "source": [
    "# Part 1 - Plotting isotope cross sections\n",
    "\n",
    "Knowing the interaction probabilities of isotopes and materials in your model can help you understand simulation results. There are several online tools for plotting nuclear cross sections such as [www.xsplot.com](http://xsplot.com), however, OpenMC can also plot cross sections.\n",
    "\n",
    "This python notebook allows users to plot neutron interaction cross sections for specific isotopes using OpenMC.\n",
    "\n",
    "In this first part of the task we are plotting the <b>microscopic</b> cross-section \"<b>σ</b>\".\n",
    "\n",
    "Microscopic cross section is the effective target area in $\\mathrm{m}^2$ presented by a single nucleus to an incident neutron beam.\n",
    "\n",
    "This is used to characterize the probability of reaction between a neutron and an individual nucleus.\n",
    "\n",
    "Microscopic is often stated in units of barns where 1 barn is equal to $10^{−28}$ $\\mathrm{m}^2$ "
   ],
   "metadata": {}
  },
  {
   "cell_type": "code",
   "execution_count": null,
   "source": [
    "from IPython.display import IFrame\n",
    "IFrame(src=\"https://www.youtube.com/embed/eBZ2lY_2v7IA\", width=560, height=340)"
   ],
   "outputs": [],
   "metadata": {}
  },
  {
   "cell_type": "markdown",
   "source": [
    "There is no abundant natural source of tritium on Earth so DT fusion reactors will probably need to be self sufficient in tritium production.\n",
    "\n",
    "Tritium is required as part of the fuel mix for deuterium (D)tritium (T) fusion reactors.\n",
    "\n",
    "Tritium production is one of the most important cross section in fusion.\n",
    "\n",
    "To product sufficient tritium we need a high tritium production cross section.\n",
    "\n",
    "Neutrons from DT fusion are created with around 14.1MeV of energy, which lithium isotope offers the highest probability of tritium production at that energy?"
   ],
   "metadata": {}
  },
  {
   "cell_type": "code",
   "execution_count": null,
   "source": [
    "# the create plot function contains all the OpenMC routines for accessing the cross sections\n",
    "from plotting_utils import create_isotope_plot\n",
    "\n",
    "\n",
    "# these are the two stable isotopes of lithium which both produce tritium\n",
    "isotopes_of_interest = ['Li6', 'Li7']\n",
    "\n",
    "# The (n,2n) is one incident neutron and two neutrons produced\n",
    "reactions_of_interest = '(n,Xt)'\n",
    "\n",
    "create_isotope_plot(\n",
    "    isotopes=isotopes_of_interest,\n",
    "    reaction=reactions_of_interest,\n",
    ")"
   ],
   "outputs": [],
   "metadata": {}
  },
  {
   "cell_type": "markdown",
   "source": [
    "Neutron multiplication is also an important reaction in fusion.\n",
    "\n",
    "Neutron multiplying reactions increase the number of neutrons available for tritium producing reactions.\n",
    "\n",
    "This next code block plots the neutron multiplication (n,2n) cross section of the Be and Pb isotopes.\n",
    "\n",
    "Neutron multiplication is a threshold reaction meaning it only occurs at neutron energies above a certain threshold. You should notice that the threshold energies for Be9 and Pb204 are different.\n",
    "\n",
    "Which isotope offers the lowest threshold and which isotopes offers the highest probability."
   ],
   "metadata": {}
  },
  {
   "cell_type": "markdown",
   "source": [],
   "metadata": {}
  },
  {
   "cell_type": "code",
   "execution_count": null,
   "source": [
    "# these are two candidate neutron multipliers with all their isotopes\n",
    "isotopes_of_interest = ['Be9', 'Pb204', 'Pb206', 'Pb207', 'Pb208']\n",
    "\n",
    "# The (n,2n) is one incident neutron and two neutrons produced\n",
    "reactions_of_interest = '(n,2n)'\n",
    "\n",
    "create_isotope_plot(\n",
    "    isotopes=isotopes_of_interest,\n",
    "    reaction=reactions_of_interest,\n",
    ")"
   ],
   "outputs": [],
   "metadata": {}
  },
  {
   "cell_type": "markdown",
   "source": [],
   "metadata": {}
  },
  {
   "cell_type": "markdown",
   "source": [
    "However, as well as neutron multiplication cross section, other neutronics factors to consider when selecting a multiplier could include:\n",
    "- moderation power (how much they slow down the neutrons)\n",
    "- amount of non useful reactions that don't multiply the neutrons (parasitic reactions)\n",
    "- the transmutation products"
   ],
   "metadata": {}
  },
  {
   "cell_type": "markdown",
   "source": [
    "**Learning Outcomes for Part 1:**\n",
    "- OpenMC can be used to plot interaction cross sections for specific isotopes.\n",
    "- Reaction probabilities vary for each isotope depending on the energy of the neutron.\n",
    "- Li7 and Li6 both offer tritium producing reactions for different energy neutrons.\n",
    "- Be and Pb perform well in terms of neutron multiplication. Be9 has the lowest threshold energy for neutron multiplication reactions."
   ],
   "metadata": {}
  }
 ],
 "metadata": {
  "kernelspec": {
   "display_name": "Python 3 (ipykernel)",
   "language": "python",
   "name": "python3"
  },
  "language_info": {
   "codemirror_mode": {
    "name": "ipython",
    "version": 3
   },
   "file_extension": ".py",
   "mimetype": "text/x-python",
   "name": "python",
   "nbconvert_exporter": "python",
   "pygments_lexer": "ipython3",
   "version": "3.9.5"
  }
 },
 "nbformat": 4,
 "nbformat_minor": 4
}