{
 "cells": [
  {
   "cell_type": "markdown",
   "metadata": {},
   "source": [
    "# Plotting isotope cross sections\n",
    "\n",
    "This python notebook allows users to plot neutron interaction cross sections for specific isotopes using OpenMC."
   ]
  },
  {
   "cell_type": "markdown",
   "metadata": {},
   "source": [
    "This first plot simply plots the neutron multiplicaton of two isotopes"
   ]
  },
  {
   "cell_type": "code",
   "execution_count": null,
   "metadata": {},
   "outputs": [],
   "source": [
    "import plotly.graph_objects as go\n",
    "\n",
    "# the create plot function contains all the OpenMC routines for accessing the cross sections\n",
    "from plotting_utils import create_isotope_plot\n",
    "\n",
    "\n",
    "# these are two candiate neutron mutlipliers\n",
    "isotopes_of_interest = ['Be9', 'Pb204']\n",
    "\n",
    "# The (n,2n) is one incident neutron and two neutrons produced\n",
    "reactions_of_interest = '(n,2n)'\n",
    "\n",
    "create_isotope_plot(\n",
    "    isotopes=isotopes_of_interest,\n",
    "    reaction=reactions_of_interest,\n",
    ")"
   ]
  },
  {
   "cell_type": "markdown",
   "metadata": {},
   "source": [
    "This second plot adds all the isotopes of lead to the plot, users should notice that neutron interactions vary for different isotopes"
   ]
  },
  {
   "cell_type": "code",
   "execution_count": null,
   "metadata": {},
   "outputs": [],
   "source": [
    "# these are two candiate neutron mutlipliers with all their isotopes\n",
    "isotopes_of_interest = ['Be9', 'Pb204', 'Pb206', 'Pb207', 'Pb208']\n",
    "\n",
    "# The (n,2n) is one incident neutron and two neutrons produced\n",
    "reactions_of_interest = '(n,2n)'\n",
    "\n",
    "create_isotope_plot(\n",
    "    isotopes=isotopes_of_interest,\n",
    "    reaction=reactions_of_interest,\n",
    ")"
   ]
  },
  {
   "cell_type": "markdown",
   "metadata": {},
   "source": [
    "This optional final plot allows users to plot the neutron multiplication of every stable isotope, Be and Pb perform well in terms of their neutron multiplication. \n",
    "\n",
    "Other neutronics factors to consider when selecting a multiplier could also include:\n",
    "- moderation power (how much they slow down the neutrons), \n",
    "- amount of non useful reactions that don't multilpy the neutrons (parasitic reactions)\n",
    "- the transmutation products"
   ]
  },
  {
   "cell_type": "code",
   "execution_count": null,
   "metadata": {},
   "outputs": [],
   "source": [
    "# this is a list of every stable isotope, this list will take a long time to process\n",
    "isotopes_of_interest = ['Ag107', 'Ag109', 'Al27', 'Ar36', 'Ar38', 'Ar40', 'As75', 'Au197', 'B10', 'B11', 'Ba130',\n",
    "                        'Ba132', 'Ba134', 'Ba135', 'Ba136', 'Ba137', 'Ba138', 'Be9', 'Bi209','Br79', 'Br81',\n",
    "                        'Ca40', 'Ca42', 'Ca43', 'Ca44', 'Ca46', 'Ca48', 'Cd106', 'Cd108', 'Cd110', 'Cd111',\n",
    "                        'Cd112', 'Cd113', 'Cd114', 'Cd116', 'Ce136', 'Ce138', 'Ce140', 'Ce142', 'Cl35', 'Cl37',\n",
    "                        'Co59', 'Cr50', 'Cr52', 'Cr53', 'Cr54', 'Cs133', 'Cu63', 'Cu65', 'Dy156', 'Dy158',\n",
    "                        'Dy160', 'Dy161', 'Dy162', 'Dy163', 'Dy164', 'Er162', 'Er164', 'Er166', 'Er167', 'Er168',\n",
    "                        'Er170', 'Eu151', 'Eu153', 'F19', 'Fe54', 'Fe56', 'Fe57', 'Fe58', 'Ga69', 'Ga71', 'Gd152',\n",
    "                        'Gd154', 'Gd155', 'Gd156', 'Gd157', 'Gd158', 'Gd160', 'Ge70', 'Ge72', 'Ge73', 'Ge74',\n",
    "                        'Ge76', 'H1', 'H2', 'He3', 'He4', 'Hf174', 'Hf176', 'Hf177', 'Hf178', 'Hf179', 'Hf180',\n",
    "                        'Hg196', 'Hg198', 'Hg199', 'Hg200', 'Hg201', 'Hg202', 'Hg204', 'Ho165', 'I127', 'In113',\n",
    "                        'In115', 'Ir191', 'Ir193', 'K39', 'K40', 'K41', 'Kr78', 'Kr80', 'Kr82', 'Kr83', 'Kr84',\n",
    "                        'Kr86', 'La138', 'La139', 'Li6', 'Li7', 'Lu175', 'Lu176', 'Mg24', 'Mg25', 'Mg26', 'Mn55',\n",
    "                        'Mo100', 'Mo92', 'Mo94', 'Mo95', 'Mo96', 'Mo97', 'Mo98', 'N14', 'N15', 'Na23', 'Nb93',\n",
    "                        'Nd142', 'Nd143', 'Nd144', 'Nd145', 'Nd146', 'Nd148', 'Nd150', 'Ni58', 'Ni60', 'Ni61',\n",
    "                        'Ni62', 'Ni64', 'O16', 'O17', 'P31', 'Pa231', 'Pb204', 'Pb206', 'Pb207', 'Pb208', 'Pd102',\n",
    "                        'Pd104', 'Pd105', 'Pd106', 'Pd108', 'Pd110', 'Pr141', 'Rb85', 'Rb87', 'Re185', 'Re187',\n",
    "                        'Rh103', 'Ru100', 'Ru101', 'Ru102', 'Ru104', 'Ru96', 'Ru98', 'Ru99', 'S32', 'S33', 'S34',\n",
    "                        'S36', 'Sb121', 'Sb123', 'Sc45', 'Se74', 'Se76', 'Se77', 'Se78', 'Se80', 'Se82', 'Si28',\n",
    "                        'Si29', 'Si30', 'Sm144', 'Sm147', 'Sm148', 'Sm149', 'Sm150', 'Sm152', 'Sm154', 'Sn112',\n",
    "                        'Sn114', 'Sn115', 'Sn116', 'Sn117', 'Sn118', 'Sn119', 'Sn120', 'Sn122', 'Sn124', 'Sr84',\n",
    "                        'Sr86', 'Sr87', 'Sr88', 'Ta180', 'Ta181', 'Tb159', 'Te120', 'Te122', 'Te123', 'Te124',\n",
    "                        'Te125', 'Te126', 'Te128', 'Te130', 'Th232', 'Ti46', 'Ti47', 'Ti48', 'Ti49', 'Ti50',\n",
    "                        'Tl203', 'Tl205', 'Tm169', 'U234', 'U235', 'U238', 'V50', 'V51', 'W180', 'W182', 'W183',\n",
    "                        'W184', 'W186', 'Xe124', 'Xe126', 'Xe128', 'Xe129', 'Xe130', 'Xe131', 'Xe132', 'Xe134',\n",
    "                        'Xe136', 'Y89', 'Zn64', 'Zn66', 'Zn67', 'Zn68', 'Zn70', 'Zr90', 'Zr91', 'Zr92', 'Zr94',\n",
    "                        'Zr96']\n",
    "\n",
    "# The (n,2n) is one incident neutron and two neutrons produced\n",
    "reactions_of_interest = '(n,2n)'\n",
    "\n",
    "create_isotope_plot(\n",
    "    isotopes=isotopes_of_interest,\n",
    "    reaction=reactions_of_interest,\n",
    ")"
   ]
  }
 ],
 "metadata": {
  "kernelspec": {
   "display_name": "Python 3",
   "language": "python",
   "name": "python3"
  },
  "language_info": {
   "codemirror_mode": {
    "name": "ipython",
    "version": 3
   },
   "file_extension": ".py",
   "mimetype": "text/x-python",
   "name": "python",
   "nbconvert_exporter": "python",
   "pygments_lexer": "ipython3",
   "version": "3.7.7"
  }
 },
 "nbformat": 4,
 "nbformat_minor": 2
}
