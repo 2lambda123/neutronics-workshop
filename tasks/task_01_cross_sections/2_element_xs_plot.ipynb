{
 "cells": [
  {
   "cell_type": "markdown",
   "source": [
    "# Part 2 - Plotting element cross sections\n",
    "\n",
    "As shown in Part 1, OpenMC is able to plot neutron interaction cross sections for specific isotopes. However, we can also do the same for elements.\n",
    "\n",
    "This python notebook allows users to plot neutron interaction cross sections for specific elements using OpenMC.\n",
    "\n",
    "To plot elemental cross sections, the cross sections of each stable isotope of the element are combined."
   ],
   "metadata": {}
  },
  {
   "cell_type": "code",
   "execution_count": null,
   "source": [
    "from IPython.display import IFrame\n",
    "IFrame(src=\"https://www.youtube.com/embed/ELZNeIdSuMY\", width=560, height=340)"
   ],
   "outputs": [],
   "metadata": {}
  },
  {
   "cell_type": "markdown",
   "source": [
    "This first code block plots the (n,2n) neutron multiplication cross section for all elements."
   ],
   "metadata": {}
  },
  {
   "cell_type": "code",
   "execution_count": null,
   "source": [
    "import plotly.graph_objects as go\n",
    "\n",
    "# the create plot function contains all the OpenMC routines for accessing the cross sections\n",
    "from plotting_utils import create_element_plot\n",
    "\n",
    "elements_of_interest = [\n",
    "    'Ag', 'Al', 'Ar', 'As', 'Au', 'B', 'Ba', 'Be', 'Bi', 'Br', 'C', 'Ca', 'Cd', 'Ce', 'Cl',\n",
    "    'Co', 'Cr', 'Cs', 'Cu', 'Dy', 'Er', 'Eu', 'F', 'Fe', 'Ga', 'Gd', 'Ge', 'H', 'He', 'Hf',\n",
    "    'Hg', 'Ho', 'I',  'In', 'Ir', 'K', 'Kr', 'La', 'Li', 'Lu', 'Mg', 'Mn', 'Mo', 'N', 'Na',\n",
    "    'Nb', 'Nd', 'Ni', 'O', 'P', 'Pa', 'Pb', 'Pd',  'Po', 'Pr', 'Rb',\n",
    "    'Re', 'Rh', 'Rn', 'Ru', 'Sb', 'Sc', 'Se', 'Si', 'Sm', 'Sn', 'Sr', 'Ta', 'Tb',\n",
    "    'Te', 'Th', 'Ti', 'Tl', 'Tm', 'U', 'V', 'W', 'Xe', 'Y', 'Zn', 'Zr'\n",
    "]\n",
    "\n",
    "reaction_of_interest = '(n,2n)'\n",
    "\n",
    "# we could plot all the elements but that would take a long time so we just plot the first 15\n",
    "number_of_elements_to_plot = 15\n",
    "\n",
    "create_element_plot(\n",
    "    elements=elements_of_interest[:number_of_elements_to_plot],\n",
    "    reaction=reaction_of_interest\n",
    ")"
   ],
   "outputs": [],
   "metadata": {
    "scrolled": true
   }
  },
  {
   "cell_type": "markdown",
   "source": [
    "Tritium production is another important reaction in fusion as it affects the rate at which tritium can be bred. When designing breeder blankets we need to use materials which maximise both neutron multiplication AND tritium production.\n",
    "\n",
    "The next code block plots the (n,Xt) tritium production reaction for all elements."
   ],
   "metadata": {}
  },
  {
   "cell_type": "code",
   "execution_count": null,
   "source": [
    "elements_of_interest = [\n",
    "    'Li', 'Ag', 'Al', 'Ar', 'As', 'Au', 'B', 'Ba', 'Be', 'Bi', 'Br', 'C', 'Ca', 'Cd', 'Ce', 'Cl',\n",
    "    'Co', 'Cr', 'Cs', 'Cu', 'Dy', 'Er', 'Eu', 'F', 'Fe', 'Ga', 'Gd', 'Ge', 'H', 'He', 'Hf',\n",
    "    'Hg', 'Ho', 'I',  'In', 'Ir', 'K', 'Kr', 'La', 'Lu', 'Mg', 'Mn', 'Mo', 'N', 'Na',\n",
    "    'Nb', 'Nd', 'Ni', 'O', 'P', 'Pa', 'Pb', 'Pd',  'Po', 'Pr', 'Rb',\n",
    "    'Re', 'Rh', 'Rn', 'Ru', 'Sb', 'Sc', 'Se', 'Si', 'Sm', 'Sn', 'Sr', 'Ta', 'Tb',\n",
    "    'Te', 'Th', 'Ti', 'Tl', 'Tm', 'U', 'V', 'W', 'Xe', 'Y', 'Zn', 'Zr'\n",
    "]\n",
    "\n",
    "reaction_of_interest = '(n,Xt)'  # The X is a wild card / catch all\n",
    "\n",
    "# we could plot all the elements but that would take a long time so we just plot the first 15\n",
    "number_of_elements_to_plot = 15\n",
    "\n",
    "create_element_plot(\n",
    "    elements=elements_of_interest[:number_of_elements_to_plot],\n",
    "    reaction=reaction_of_interest\n",
    ")"
   ],
   "outputs": [],
   "metadata": {}
  },
  {
   "cell_type": "markdown",
   "source": [
    "Lithium is the typical candidate tritium breeder material used in D-T fusion reactor designs. \n",
    "\n",
    "The graph shows that Lithium has a high (n,Xt) cross section for low energy neutrons which decreases as neutron energy increases."
   ],
   "metadata": {}
  },
  {
   "cell_type": "markdown",
   "source": [
    "**Learning Outcomes for Part 2:**\n",
    "- OpenMC can be used to plot interaction cross sections for specific elements.\n",
    "- Tritium production is an important reaction to consider when selecting a breeder material.\n",
    "- Lithium is a good material for tritium production."
   ],
   "metadata": {}
  }
 ],
 "metadata": {
  "kernelspec": {
   "display_name": "Python 3 (ipykernel)",
   "language": "python",
   "name": "python3"
  },
  "language_info": {
   "codemirror_mode": {
    "name": "ipython",
    "version": 3
   },
   "file_extension": ".py",
   "mimetype": "text/x-python",
   "name": "python",
   "nbconvert_exporter": "python",
   "pygments_lexer": "ipython3",
   "version": "3.9.5"
  }
 },
 "nbformat": 4,
 "nbformat_minor": 4
}