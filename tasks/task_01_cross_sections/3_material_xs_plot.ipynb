{
 "cells": [
  {
   "cell_type": "markdown",
   "source": [
    "# Part 3 - Plotting material cross sections\n",
    "\n",
    "OpenMC can also be used to plot neutron interaction cross sections for specific materials.\n",
    "\n",
    "This python notebook allows users to plot neutron interaction cross sections for specific materials using OpenMC.\n",
    "\n",
    "These plots show the <b>Macroscopic</b> cross section which is the the effective target area of all of the nuclei contained in the volume of the material.\n",
    "\n",
    "Macroscopic cross section (Σ) is related to Microscopic cross section (σ) with the following equation.\n",
    "\n",
    "Σ=σ.N\n",
    "\n",
    "Where N is the number density of nuclei in units of nuclei / $\\mathrm{m}^3$.\n",
    "\n",
    "The units of Macroscopic cross section are therefore $\\mathrm{m}^{-1}$."
   ],
   "metadata": {}
  },
  {
   "cell_type": "code",
   "execution_count": null,
   "source": [
    "from IPython.display import IFrame\n",
    "IFrame(src=\"https://www.youtube.com/embed/ec5BLLL6Q_g\", width=560, height=340)"
   ],
   "outputs": [],
   "metadata": {}
  },
  {
   "cell_type": "markdown",
   "source": [
    "This code block imports a function and packages needed for the task."
   ],
   "metadata": {}
  },
  {
   "cell_type": "code",
   "execution_count": null,
   "source": [
    "import plotly.graph_objects as go\n",
    "import openmc\n",
    "from plotting_utils import create_material_plot"
   ],
   "outputs": [],
   "metadata": {}
  },
  {
   "cell_type": "markdown",
   "source": [
    "To plot neutron interaction cross sections for a material we first need to create that material in OpenMC. Making materials is covered in the next task but for now, the following code block makes a steel material from Iron and Carbon."
   ],
   "metadata": {}
  },
  {
   "cell_type": "code",
   "execution_count": null,
   "source": [
    "steel_mat = openmc.Material()\n",
    "steel_mat.add_element('Fe', 0.975)\n",
    "steel_mat.add_element('C', 0.025)\n",
    "steel_mat.set_density('g/cm3', 7.7)"
   ],
   "outputs": [],
   "metadata": {}
  },
  {
   "cell_type": "markdown",
   "source": [
    "This next code block plots the total macroscopic neutron interaction cross section (n,total) for the material we just created."
   ],
   "metadata": {}
  },
  {
   "cell_type": "code",
   "execution_count": null,
   "source": [
    "create_material_plot(\n",
    "    materials=steel_mat,\n",
    "    reaction='(n,total)'\n",
    ")"
   ],
   "outputs": [],
   "metadata": {}
  },
  {
   "cell_type": "markdown",
   "source": [
    "The next code block makes two variations of a Lithium ceramic material. One has natural levels of Li6 and Li7 while the other has an enriched level of Li6."
   ],
   "metadata": {}
  },
  {
   "cell_type": "code",
   "execution_count": null,
   "source": [
    "# creates an openmc material for Li4SiO4\n",
    "natural_Li4SiO4 = openmc.Material(name = 'natural Li4SiO4')\n",
    "natural_Li4SiO4.add_elements_from_formula(\n",
    "    'Li4SiO4',\n",
    "    percent_type='ao'\n",
    ")\n",
    "natural_Li4SiO4.set_density('g/cm3', 1.877)\n",
    "\n",
    "\n",
    "# creates an openmc material for Li4SiO4 with Li6 enrichment of 60%\n",
    "enriched_Li4SiO4 = openmc.Material(name = 'enriched Li4SiO4')\n",
    "enriched_Li4SiO4.add_elements_from_formula(\n",
    "    'Li4SiO4',\n",
    "    percent_type='ao',\n",
    "    enrichment=60,\n",
    "    enrichment_target='Li6',\n",
    "    enrichment_type='ao'\n",
    ")\n",
    "enriched_Li4SiO4.set_density('g/cm3', 1.844)\n",
    "# Note, this density is lower than naturally enriched Li4SiO4\n",
    "# This is because Li6 is lighter than Li7"
   ],
   "outputs": [],
   "metadata": {}
  },
  {
   "cell_type": "markdown",
   "source": [
    "This code block then plots the tritium production cross section for each ceramic."
   ],
   "metadata": {}
  },
  {
   "cell_type": "code",
   "execution_count": null,
   "source": [
    "create_material_plot(\n",
    "    materials=[natural_Li4SiO4, enriched_Li4SiO4],\n",
    "    reaction='(n,Xt)'  # The X in the reaction is a wild card / catch all\n",
    ")"
   ],
   "outputs": [],
   "metadata": {}
  },
  {
   "cell_type": "markdown",
   "source": [
    "The enriched Lithium ceramic has a higher tritium production cross section than the non-enriched Lithium ceramic. This is because Li6 has a much higher (n,Xt) cross section than Li7 (at low energies)."
   ],
   "metadata": {}
  },
  {
   "cell_type": "markdown",
   "source": [
    "**Learning Outcomes for Part 3:**\n",
    "- OpenMC can be used to plot interaction cross sections for materials.\n",
    "- Lithium-6 enrichment increases tritium production from low energy neutrons."
   ],
   "metadata": {}
  }
 ],
 "metadata": {
  "kernelspec": {
   "display_name": "Python 3 (ipykernel)",
   "language": "python",
   "name": "python3"
  },
  "language_info": {
   "codemirror_mode": {
    "name": "ipython",
    "version": 3
   },
   "file_extension": ".py",
   "mimetype": "text/x-python",
   "name": "python",
   "nbconvert_exporter": "python",
   "pygments_lexer": "ipython3",
   "version": "3.9.5"
  }
 },
 "nbformat": 4,
 "nbformat_minor": 4
}