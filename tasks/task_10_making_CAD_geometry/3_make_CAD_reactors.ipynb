{
 "cells": [
  {
   "cell_type": "markdown",
   "metadata": {},
   "source": [
    "# Part 3 - Make a reactor geometry from parameters\n",
    "\n",
    "This notebook allows users to create a more complete 3D CAD model of a reactor using the Paramak and export it to a CAD format and images.\n",
    "\n",
    "There are several reactors available in the Paramak, examples of which are shown below. In this task, we are going to be making the upper left reactor model."
   ]
  },
  {
   "cell_type": "markdown",
   "metadata": {},
   "source": [
    "![cad](https://user-images.githubusercontent.com/8583900/99137324-fddfa200-2621-11eb-9063-f5f7f60ddd8d.png)"
   ]
  },
  {
   "cell_type": "markdown",
   "metadata": {},
   "source": [
    "This digram shows how the parameters impact the 3D volume reated"
   ]
  },
  {
   "cell_type": "markdown",
   "metadata": {},
   "source": [
    "![diagram](https://user-images.githubusercontent.com/8583900/99298720-09a9af00-2842-11eb-816b-86492555f97d.png)"
   ]
  },
  {
   "cell_type": "markdown",
   "metadata": {},
   "source": [
    "This first code block creates a reactor object based on a the predefined deisgn and visulises it. Try running the code block and using the diagram about try changing some of the parameters to see how this impacts the model."
   ]
  },
  {
   "cell_type": "code",
   "execution_count": 1,
   "metadata": {},
   "outputs": [
    {
     "name": "stdout",
     "output_type": "stream",
     "text": [
      "Overwriting auto display for cadquery Workplane and Shape\n"
     ]
    },
    {
     "name": "stderr",
     "output_type": "stream",
     "text": [
      "/home/jshim/paramak/paramak/parametric_components/blanket_fp.py:202: UserWarning: BlanketFP: Some points with negative R coordinate have been ignored.\n",
      "  warnings.warn(msg)\n"
     ]
    },
    {
     "data": {
      "application/vnd.jupyter.widget-view+json": {
       "model_id": "16ca5c631e434dbf8c94fb48bbfd813f",
       "version_major": 2,
       "version_minor": 0
      },
      "text/plain": [
       "HBox(children=(VBox(children=(HBox(children=(Checkbox(value=False, description='Axes', indent=False, _dom_clas…"
      ]
     },
     "metadata": {},
     "output_type": "display_data"
    },
    {
     "data": {
      "text/html": [
       "<style>\n",
       ".scroll-area {\n",
       "    overflow: scroll !important;\n",
       "    border: unset !important;\n",
       "}\n",
       "\n",
       ".mac-scrollbar::-webkit-scrollbar {\n",
       "    width: 5px !important;\n",
       "    height: 5px !important;\n",
       "}\n",
       "\n",
       ".mac-scrollbar::-webkit-scrollbar-track {\n",
       "    background-color: transparent !important;\n",
       "}\n",
       "\n",
       ".mac-scrollbar .widget-html-content {\n",
       "    overflow-x: visible;\n",
       "    overflow-y: visible;\n",
       "}\n",
       "\n",
       ".tab-content-no-padding .widget-tab-contents {\n",
       "    overflow-x: visible !important;\n",
       "    overflow-y: visible !important;\n",
       "    padding-bottom: 0px !important;\n",
       "}\n",
       "\n",
       ".view_renderer {\n",
       "    border: 1px solid var(--jp-border-color1);\n",
       "    margin-top: 3px;\n",
       "    margin-left: 2px;\n",
       "}\n",
       "\n",
       ".view_tree {\n",
       "    padding: 0px !important;\n",
       "}\n",
       "\n",
       ".view_axes {\n",
       "    width: 60px !important;\n",
       "    margin-left: 5px !important;\n",
       "}\n",
       "\n",
       ".view_zero {\n",
       "    width: 55px !important;\n",
       "}\n",
       "\n",
       ".view_grid {\n",
       "    width: 56px !important;\n",
       "}\n",
       "\n",
       ".view_ortho {\n",
       "    width: 64px !important;\n",
       "}\n",
       "\n",
       ".view_transparent {\n",
       "    width: 125px !important;\n",
       "}\n",
       "\n",
       ".view_black_edges {\n",
       "    width: 105px !important;\n",
       "}\n",
       "\n",
       ".view_button {\n",
       "    padding: 0px !important;\n",
       "}\n",
       "\n",
       ".view_button>img {\n",
       "    height: 28px;\n",
       "    width: 36px;\n",
       "}\n",
       "\n",
       ".node_entry_wrap {\n",
       "    white-space: pre;\n",
       "}\n",
       "\n",
       ".node_entry {\n",
       "    white-space: nowrap;\n",
       "    padding-top: 4px;\n",
       "}\n",
       "\n",
       ".t-caret {\n",
       "    cursor: pointer;\n",
       "    -webkit-user-select: none;\n",
       "    /* Safari 3.1+ */\n",
       "    -moz-user-select: none;\n",
       "    /* Firefox 2+ */\n",
       "    -ms-user-select: none;\n",
       "    /* IE 10+ */\n",
       "    user-select: none;\n",
       "}\n",
       "\n",
       ".t-caret-down::before {\n",
       "    -ms-transform: rotate(90deg);\n",
       "    /* IE 9 */\n",
       "    -webkit-transform: rotate(90deg);\n",
       "    /* Safari */\n",
       "    transform: rotate(90deg);\n",
       "}\n",
       "\n",
       ".toplevel {\n",
       "    list-style-type: none;\n",
       "    padding-inline-start: 0px;\n",
       "}\n",
       "\n",
       ".nested {\n",
       "    display: none;\n",
       "    list-style-type: none;\n",
       "    padding-inline-start: 16px;\n",
       "}\n",
       "\n",
       ".active {\n",
       "    display: block;\n",
       "}\n",
       "\n",
       ".icon {\n",
       "    width: 28px !important;\n",
       "    height: 22px !important;\n",
       "    padding-right: 2px;\n",
       "    vertical-align: middle;\n",
       "}\n",
       "\n",
       ".indent {\n",
       "    margin-left: 12px;\n",
       "}\n",
       "\n",
       ".tree_label {\n",
       "    padding-left: 2px;\n",
       "    font-size: 14px;\n",
       "}\n",
       "\n",
       ".scroll_down {\n",
       "    display: flex;\n",
       "    flex-direction: column-reverse;\n",
       "}\n",
       "\n",
       ".small_table {\n",
       "    line-height: 14px;\n",
       "}\n",
       "\n",
       ".monospace select {\n",
       "    font-family: monospace;\n",
       "}\n",
       "\n",
       "        .t-caret::before {\n",
       "            content: u\"▶\";\n",
       "            font-size: 12px;\n",
       "            color: \"#080808\";\n",
       "            display: inline-block;\n",
       "            margin-right: 2px;\n",
       "        }\n",
       "\n",
       "        .mac-scrollbar::-webkit-scrollbar-thumb {\n",
       "            background-color: rgba(0, 0, 0, 0.2) !important;\n",
       "            border-radius: 100px !important;\n",
       "        }\n",
       "\n",
       "        .mac-scrollbar::-webkit-scrollbar-thumb:hover {\n",
       "            background: rgba(0, 0, 0, 0.4) !important;\n",
       "        }\n",
       "\n",
       "        .mac-scrollbar::-webkit-scrollbar-thumb:active {\n",
       "            background: #181818 !important;\n",
       "        }\n",
       "\n",
       "        .mac-scrollbar::-webkit-scrollbar-corner {\n",
       "            background: white;\n",
       "        }\n",
       "\n",
       "        .view_output {\n",
       "            border: 1px solid var(--jp-border-color1);\n",
       "            margin: 2px 2px 2px 2px !important;\n",
       "            padding-right: 1px !important;\n",
       "            background-color: white;\n",
       "        }\n",
       "    </style>"
      ],
      "text/plain": [
       "<IPython.core.display.HTML object>"
      ]
     },
     "metadata": {},
     "output_type": "display_data"
    },
    {
     "data": {
      "text/plain": [
       "<jupyter_cadquery.cad_display.CadqueryDisplay at 0x7f2526bc2b80>"
      ]
     },
     "execution_count": 1,
     "metadata": {},
     "output_type": "execute_result"
    }
   ],
   "source": [
    "import paramak\n",
    "\n",
    "my_reactor = paramak.BallReactor(\n",
    "   inner_bore_radial_thickness=10,\n",
    "   inboard_tf_leg_radial_thickness=30,\n",
    "   center_column_shield_radial_thickness=60,\n",
    "   divertor_radial_thickness=150,\n",
    "   inner_plasma_gap_radial_thickness=30,\n",
    "   plasma_radial_thickness=300,\n",
    "   outer_plasma_gap_radial_thickness=30,\n",
    "   firstwall_radial_thickness=30,\n",
    "   blanket_radial_thickness=50,\n",
    "   blanket_rear_wall_radial_thickness=30,\n",
    "   elongation=2,\n",
    "   triangularity=0.55,\n",
    "   number_of_tf_coils=16,\n",
    "   rotation_angle=90,\n",
    "   pf_coil_case_thicknesses=[10, 10, 10, 10],\n",
    "   pf_coil_radial_thicknesses=[20, 50, 50, 20],\n",
    "   pf_coil_vertical_thicknesses=[20, 50, 50, 20],\n",
    "   pf_coil_radial_position=[500, 575, 575, 500],\n",
    "   pf_coil_vertical_position=[300, 100, -100, -300],\n",
    "   rear_blanket_to_tf_gap=50,\n",
    "   outboard_tf_coil_radial_thickness=100,\n",
    "   outboard_tf_coil_poloidal_thickness=50\n",
    ")\n",
    "\n",
    "my_reactor.show()"
   ]
  },
  {
   "cell_type": "markdown",
   "metadata": {},
   "source": [
    "This exports the 3D CAD files in STP format and a picture of the model as an SVG image"
   ]
  },
  {
   "cell_type": "code",
   "execution_count": null,
   "metadata": {},
   "outputs": [],
   "source": [
    "my_reactor.export_svg('reactor.svg')\n",
    "filenames = my_reactor.export_stp()"
   ]
  },
  {
   "cell_type": "markdown",
   "metadata": {},
   "source": [
    "This code block generates the download links for all the different components that have just been made."
   ]
  },
  {
   "cell_type": "code",
   "execution_count": null,
   "metadata": {},
   "outputs": [],
   "source": [
    "from IPython.display import FileLink\n",
    "display(FileLink('reactor.svg'))\n",
    "for file in filenames:\n",
    "    display(FileLink(str(file)))"
   ]
  },
  {
   "cell_type": "markdown",
   "metadata": {},
   "source": [
    "This model could then be used in neutronics simulations with some additional stages, see https://paramak-neutronics.readthedocs.io more details. The next few tasks also cover CAD based simulations."
   ]
  },
  {
   "cell_type": "markdown",
   "metadata": {},
   "source": [
    "**Learning Outcomes for Part 2:**\n",
    "\n",
    "- The Paramak tool allows CAD models of more complex reactor designs to be created easily."
   ]
  }
 ],
 "metadata": {
  "kernelspec": {
   "display_name": "Python 3 (ipykernel)",
   "language": "python",
   "name": "python3"
  },
  "language_info": {
   "codemirror_mode": {
    "name": "ipython",
    "version": 3
   },
   "file_extension": ".py",
   "mimetype": "text/x-python",
   "name": "python",
   "nbconvert_exporter": "python",
   "pygments_lexer": "ipython3",
   "version": "3.8.11"
  }
 },
 "nbformat": 4,
 "nbformat_minor": 4
}
