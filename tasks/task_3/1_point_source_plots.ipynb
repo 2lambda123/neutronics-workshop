{
 "cells": [
  {
   "cell_type": "markdown",
   "metadata": {},
   "source": [
    "# This script plots the energy, position and directions of a simple openmc point source"
   ]
  },
  {
   "cell_type": "code",
   "execution_count": null,
   "metadata": {},
   "outputs": [],
   "source": [
    "import openmc\n",
    "\n",
    "# imports plotting functions\n",
    "from source_extraction_utils import *"
   ]
  },
  {
   "cell_type": "markdown",
   "metadata": {},
   "source": [
    "### Creates an isotropic point source with monoenergetic 14MeV neutrons"
   ]
  },
  {
   "cell_type": "code",
   "execution_count": null,
   "metadata": {},
   "outputs": [],
   "source": [
    "# initialises a new source object\n",
    "source = openmc.Source()\n",
    "\n",
    "# sets the location of the source to x=0 y=0 z=0\n",
    "source.space = openmc.stats.Point((0, 0, 0))\n",
    "\n",
    "# sets the direction to isotropic\n",
    "source.angle = openmc.stats.Isotropic()\n",
    "\n",
    "# sets the energy distribution to 100% 14MeV neutrons\n",
    "source.energy = openmc.stats.Discrete([14e6], [1])\n",
    "\n",
    "create_inital_particles(source)\n",
    "plot_energy_from_initial_source(input_filename='initial_source.h5')"
   ]
  },
  {
   "cell_type": "markdown",
   "metadata": {},
   "source": [
    "### Creates an isotropic point source with a fission energy distribution"
   ]
  },
  {
   "cell_type": "code",
   "execution_count": null,
   "metadata": {},
   "outputs": [],
   "source": [
    "source = openmc.Source()\n",
    "source.space = openmc.stats.Point((0, 0, 0))\n",
    "source.angle = openmc.stats.Isotropic()\n",
    "\n",
    "# Documentation on the Watt distribution is here\n",
    "# https://docs.openmc.org/en/stable/pythonapi/generated/openmc.data.WattEnergy.html\n",
    "source.energy = openmc.stats.Watt(a=988000.0, b=2.249e-06)\n",
    "\n",
    "\n",
    "create_inital_particles(source)\n",
    "plot_energy_from_initial_source(input_filename='initial_source.h5')"
   ]
  },
  {
   "cell_type": "markdown",
   "metadata": {},
   "source": [
    "### Creates an isotropic point source with a fusion energy distribution"
   ]
  },
  {
   "cell_type": "code",
   "execution_count": null,
   "metadata": {},
   "outputs": [],
   "source": [
    "source = openmc.Source()\n",
    "source.space = openmc.stats.Point((0, 0, 0))\n",
    "source.angle = openmc.stats.Isotropic()\n",
    "\n",
    "# Documentation on the Muir distribution is here\n",
    "# https://docs.openmc.org/en/stable/pythonapi/generated/openmc.stats.Muir.html\n",
    "source.energy = openmc.stats.Muir(e0=14080000.0, m_rat=5.0, kt=20000.0)\n",
    "\n",
    "create_inital_particles(source)\n",
    "plot_energy_from_initial_source(input_filename='initial_source.h5')"
   ]
  },
  {
   "cell_type": "markdown",
   "metadata": {},
   "source": [
    "### Plots the creation location of the neutrons"
   ]
  },
  {
   "cell_type": "code",
   "execution_count": null,
   "metadata": {},
   "outputs": [],
   "source": [
    "# Creates an isotropic point source with monoenergetic 14MeV neutrons\n",
    "source = openmc.Source()\n",
    "source.space = openmc.stats.Point((0, 0, 0))\n",
    "source.angle = openmc.stats.Isotropic()\n",
    "source.energy = openmc.stats.Discrete([14e6], [1])\n",
    "\n",
    "create_inital_particles(source)\n",
    "# plots the position of neutrons created\n",
    "plot_postion_from_initial_source()"
   ]
  },
  {
   "cell_type": "markdown",
   "metadata": {},
   "source": [
    "### Plots the direction of neutrons created"
   ]
  },
  {
   "cell_type": "code",
   "execution_count": null,
   "metadata": {},
   "outputs": [],
   "source": [
    "# Creates an isotropic point source with monoenergetic 14MeV neutrons\n",
    "source = openmc.Source()\n",
    "source.space = openmc.stats.Point((0, 0, 0))\n",
    "source.angle = openmc.stats.Isotropic()\n",
    "source.energy = openmc.stats.Discrete([14e6], [1])\n",
    "\n",
    "create_inital_particles(source)\n",
    "# plots the initial direction of neutrons created\n",
    "plot_direction_from_initial_source()"
   ]
  }
 ],
 "metadata": {
  "kernelspec": {
   "display_name": "Python 3",
   "language": "python",
   "name": "python3"
  },
  "language_info": {
   "codemirror_mode": {
    "name": "ipython",
    "version": 3
   },
   "file_extension": ".py",
   "mimetype": "text/x-python",
   "name": "python",
   "nbconvert_exporter": "python",
   "pygments_lexer": "ipython3",
   "version": "3.7.8"
  }
 },
 "nbformat": 4,
 "nbformat_minor": 4
}
