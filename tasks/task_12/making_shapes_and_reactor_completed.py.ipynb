{
 "cells": [
  {
   "cell_type": "code",
   "execution_count": null,
   "metadata": {},
   "outputs": [],
   "source": [
    "from paramak import RotateStraightShape\n",
    "\n",
    "pf_coil = RotateStraightShape(points=[(500, 500),\n",
    "                                      (550, 500),\n",
    "                                      (550, 550),\n",
    "                                      (500, 550)])\n",
    "\n",
    "pf_coil.solid"
   ]
  },
  {
   "cell_type": "code",
   "execution_count": null,
   "metadata": {},
   "outputs": [],
   "source": [
    "from paramak import RotateMixedShape\n",
    "\n",
    "center_column = RotateMixedShape(points=[(50, 600, 'straight'),\n",
    "                                   (150, 600, 'spline'),\n",
    "                                   (100, 0, 'spline'),\n",
    "                                   (150, -600, 'straight'),\n",
    "                                   (50, -600, 'straight'),\n",
    "                                  ])\n",
    "\n",
    "center_column.solid"
   ]
  },
  {
   "cell_type": "code",
   "execution_count": null,
   "metadata": {},
   "outputs": [],
   "source": [
    "from paramak import RotateSplineShape\n",
    "\n",
    "blanket = RotateSplineShape(\n",
    "    points=[\n",
    "        (600, 0),\n",
    "        (600, -20),\n",
    "        (500, -300),\n",
    "        (400, -300),\n",
    "        (400, 0),\n",
    "        (400, 300),\n",
    "        (500, 300),\n",
    "        (600, 20),\n",
    "        (600, 0),\n",
    "    ],rotation_angle=40,\n",
    "    azimuth_placement_angle=[0, 45, 90, 135, 180, 225, 270, 315]\n",
    ")\n",
    "blanket.solid"
   ]
  },
  {
   "cell_type": "code",
   "execution_count": null,
   "metadata": {},
   "outputs": [],
   "source": [
    "from paramak import Reactor\n",
    "\n",
    "my_reactor = Reactor()\n",
    "\n",
    "blanket.stp_filename = 'blanket.stp'\n",
    "pf_coil.stp_filename = 'pf_coil.stp'\n",
    "center_column.stp_filename = 'center_column.stp'\n",
    "\n",
    "blanket.material_tag = 'blanket_material'\n",
    "pf_coil.material_tag = 'pf_coil_material'\n",
    "center_column.material_tag = 'center_column_material'\n",
    "\n",
    "my_reactor.add_shape(blanket)\n",
    "my_reactor.add_shape(pf_coil)\n",
    "my_reactor.add_shape(center_column)"
   ]
  },
  {
   "cell_type": "code",
   "execution_count": null,
   "metadata": {},
   "outputs": [],
   "source": [
    "my_reactor.export_neutronics_description('manifest.json')\n",
    "my_reactor.export_stp()"
   ]
  },
  {
   "cell_type": "code",
   "execution_count": null,
   "metadata": {},
   "outputs": [],
   "source": [
    "!ls"
   ]
  },
  {
   "cell_type": "code",
   "execution_count": null,
   "metadata": {},
   "outputs": [],
   "source": [
    "!trelis make_faceteted_neutronics_model.py\n",
    "\n",
    "# or to avoid GUI pop up use  !trelis -batch -nographics make_faceteted_neutronics_model.py"
   ]
  },
  {
   "cell_type": "code",
   "execution_count": null,
   "metadata": {},
   "outputs": [],
   "source": [
    "!make_watertight dagmc_notwatertight.h5m -o dagmc.h5m"
   ]
  },
  {
   "cell_type": "code",
   "execution_count": null,
   "metadata": {},
   "outputs": [],
   "source": [
    "from neutronics_material_maker import Material\n",
    "\n",
    "mat1 = Material(material_name='Li4SiO4',\n",
    "                material_tag='blanket_material').openmc_material\n",
    "\n",
    "mat2 = Material(material_name='copper',\n",
    "                material_tag='pf_coil_material').openmc_material\n",
    "\n",
    "mat3 = Material(material_name='WC',\n",
    "                material_tag='center_column_material').openmc_material"
   ]
  },
  {
   "cell_type": "code",
   "execution_count": null,
   "metadata": {},
   "outputs": [],
   "source": [
    "from parametric_plasma_source import Plasma\n",
    "\n",
    "my_plasma = Plasma(elongation=2.9,\n",
    "                   minor_radius=1.118*100,\n",
    "                   major_radius=1.9*100,\n",
    "                   triangularity = 0.55)\n",
    "my_plasma.export_plasma_source('my_custom_plasma_source.so')"
   ]
  },
  {
   "cell_type": "code",
   "execution_count": null,
   "metadata": {},
   "outputs": [],
   "source": [
    "import openmc\n",
    "\n",
    "mats = openmc.Materials([mat1, mat2, mat3])\n"
   ]
  },
  {
   "cell_type": "code",
   "execution_count": null,
   "metadata": {},
   "outputs": [],
   "source": [
    "settings = openmc.Settings()\n",
    "settings.batches = 10\n",
    "settings.inactive = 0\n",
    "settings.particles = 1000\n",
    "settings.run_mode = 'fixed source'\n",
    "settings.dagmc = True \n",
    "settings.source = openmc.Source(library='./my_custom_plasma_source.so')\n"
   ]
  },
  {
   "cell_type": "code",
   "execution_count": null,
   "metadata": {},
   "outputs": [],
   "source": [
    "tallies = openmc.Tallies()\n",
    "tbr_tally = openmc.Tally(name='TBR')\n",
    "tbr_tally.scores = ['(n,Xt)'] # where X is a wild card\n",
    "tallies.append(tbr_tally)\n"
   ]
  },
  {
   "cell_type": "code",
   "execution_count": null,
   "metadata": {},
   "outputs": [],
   "source": [
    "universe = openmc.Universe()\n",
    "geom = openmc.Geometry(universe)"
   ]
  },
  {
   "cell_type": "code",
   "execution_count": null,
   "metadata": {},
   "outputs": [],
   "source": [
    "model = openmc.model.Model(geom, mats, settings, tallies)\n",
    "statepoint_filename = model.run()"
   ]
  },
  {
   "cell_type": "code",
   "execution_count": null,
   "metadata": {},
   "outputs": [],
   "source": [
    "# open the results file\n",
    "sp = openmc.StatePoint(statepoint_filename)\n",
    "\n",
    "# access the tally\n",
    "tbr_tally = sp.get_tally(name='TBR')\n",
    "df = tbr_tally.get_pandas_dataframe()\n",
    "tbr_tally_result = df['mean'].sum()\n",
    "\n",
    "# print result\n",
    "print('The tritium breeding ratio was found, TBR = ', tbr_tally_result)"
   ]
  },
  {
   "cell_type": "code",
   "execution_count": null,
   "metadata": {},
   "outputs": [],
   "source": []
  },
  {
   "cell_type": "code",
   "execution_count": null,
   "metadata": {},
   "outputs": [],
   "source": []
  }
 ],
 "metadata": {
  "kernelspec": {
   "display_name": "Python 3",
   "language": "python",
   "name": "python3"
  },
  "language_info": {
   "codemirror_mode": {
    "name": "ipython",
    "version": 3
   },
   "file_extension": ".py",
   "mimetype": "text/x-python",
   "name": "python",
   "nbconvert_exporter": "python",
   "pygments_lexer": "ipython3",
   "version": "3.7.3"
  }
 },
 "nbformat": 4,
 "nbformat_minor": 4
}
