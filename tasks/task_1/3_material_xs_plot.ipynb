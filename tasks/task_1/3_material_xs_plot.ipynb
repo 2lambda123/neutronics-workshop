{
 "cells": [
  {
   "cell_type": "markdown",
   "metadata": {},
   "source": [
    "# Plotting material cross sections\n",
    "\n",
    "This python notebook allows users to plot neutron interaction cross sections for specific materal using OpenMC."
   ]
  },
  {
   "cell_type": "markdown",
   "metadata": {},
   "source": [
    "### This first plot simply plots the n,Xt of two materials"
   ]
  },
  {
   "cell_type": "code",
   "execution_count": null,
   "metadata": {},
   "outputs": [],
   "source": [
    "import plotly.graph_objects as go\n",
    "import openmc\n",
    "from plotting_utils import create_material_plot\n",
    "\n",
    "\n",
    "# creates an openmc material for Li4SiO4\n",
    "natural_Li4SiO4 = openmc.Material(name = 'natural Li4SiO4')\n",
    "natural_Li4SiO4.add_elements_from_formula(\n",
    "    'Li4SiO4',\n",
    "    percent_type='ao'\n",
    ")\n",
    "natural_Li4SiO4.set_density('g/cm3', 1.877)\n",
    "\n",
    "\n",
    "# creates an openmc material for Li4SiO4 with Li6 enrichment of 60%\n",
    "enriched_Li4SiO4 = openmc.Material(name = 'enriched Li4SiO4')\n",
    "enriched_Li4SiO4.add_elements_from_formula(\n",
    "    'Li4SiO4',\n",
    "    percent_type='ao',\n",
    "    enrichment=50,\n",
    "    enrichment_target='Li6',\n",
    "    enrichment_type='ao'\n",
    ")\n",
    "enriched_Li4SiO4.set_density('g/cm3', 1.844)\n",
    "# Note, this density is lower than naturally enriched Li4SiO4\n",
    "# This is because Li6 is lighter than Li7\n",
    "\n",
    "materials_of_interest = [natural_Li4SiO4, enriched_Li4SiO4]\n",
    "reactions_of_interest = '(n,Xt)'\n",
    "\n",
    "create_material_plot(materials=materials_of_interest, reaction=reactions_of_interest)"
   ]
  },
  {
   "cell_type": "markdown",
   "metadata": {},
   "source": [
    "#### Try making your own material and adding another candidate breeder material to the plot"
   ]
  },
  {
   "cell_type": "code",
   "execution_count": null,
   "metadata": {},
   "outputs": [],
   "source": [
    "# Try adding either Li2SiO3, Li2ZrO3 or Li2TiO3) to the plot\n",
    "# Li2SiO3 has a density of 2.619497078021483 g/cm3\n",
    "# Li2ZrO3 has a density of 2.5288596326567134 g/cm3\n",
    "# Li2TiO3 has a density of 2.8994147653592983 g/cm3"
   ]
  }
 ],
 "metadata": {
  "kernelspec": {
   "display_name": "Python 3",
   "language": "python",
   "name": "python3"
  },
  "language_info": {
   "codemirror_mode": {
    "name": "ipython",
    "version": 3
   },
   "file_extension": ".py",
   "mimetype": "text/x-python",
   "name": "python",
   "nbconvert_exporter": "python",
   "pygments_lexer": "ipython3",
   "version": "3.8.3"
  }
 },
 "nbformat": 4,
 "nbformat_minor": 4
}
