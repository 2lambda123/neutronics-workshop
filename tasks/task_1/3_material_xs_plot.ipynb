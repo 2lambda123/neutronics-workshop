{
 "cells": [
  {
   "cell_type": "markdown",
   "metadata": {},
   "source": [
    "plots cross sections for materials"
   ]
  },
  {
   "cell_type": "code",
   "execution_count": null,
   "metadata": {},
   "outputs": [],
   "source": [
    "import openmc\n",
    "import plotly.graph_objects as go\n",
    "\n",
    "# creates an openmc material for Li4SiO4\n",
    "natural_Li4SiO4 = openmc.Material()\n",
    "natural_Li4SiO4.add_elements_from_formula('Li4SiO4', percent_type='ao')\n",
    "natural_Li4SiO4.set_density('g/cm3', 1.877)\n",
    "\n",
    "\n",
    "# creates an openmc material for Li4SiO4 with Li6 enrichment of 60%\n",
    "enriched_Li4SiO4 = openmc.Material()\n",
    "enriched_Li4SiO4.add_elements_from_formula('Li4SiO4',\n",
    "                                          percent_type='ao',\n",
    "                                          enrichment=50,\n",
    "                                          enrichment_target='Li6',\n",
    "                                          enrichment_type='ao')\n",
    "enriched_Li4SiO4.set_density('g/cm3', 1.844)\n",
    "# Note, this density is lower than naturally enriched Li4SiO4\n",
    "# This is because Li6 is lighter than Li7\n",
    "\n",
    "\n",
    "\n",
    "# Try adding another candidate breeder material\n",
    "# (e.g. Li2SiO3, Li2ZrO3 or Li2TiO3) to the plot\n",
    "# Li2SiO3 density 2.619497078021483 g/cm3\n",
    "# Li2ZrO3 density 2.5288596326567134 g/cm3\n",
    "# Li2TiO3 density 2.8994147653592983 g/cm3\n",
    "\n",
    "fig = go.Figure()\n",
    "\n",
    "Endf_MT_number = [205]  # MT number 205 is (n,Xt) reaction\n",
    "\n",
    "# extracts energy and cross section for the material for the provided MT reaction mumber\n",
    "energy_nat, xs_data_nat = openmc.calculate_cexs(natural_Li4SiO4,\n",
    "                                        'material',\n",
    "                                        Endf_MT_number)\n",
    "\n",
    "# adds the energy dependnat cross sction to the plot\n",
    "fig.add_trace(go.Scatter(x=energy_nat,\n",
    "                         y=xs_data_nat[0],\n",
    "                         mode='lines',\n",
    "                         name='natural Li4SiO4 (n,t)')\n",
    "              )\n",
    "\n",
    "\n",
    "energy_enr, xs_data_enr = openmc.calculate_cexs(enriched_Li4SiO4,\n",
    "                                        'material',\n",
    "                                        Endf_MT_number)\n",
    "\n",
    "fig.add_trace(go.Scatter(x=energy_enr,\n",
    "                         y=xs_data_enr[0],\n",
    "                         mode='lines',\n",
    "                         name='enriched Li4SiO4 (n,t)')\n",
    "             )\n",
    "\n",
    "# sets the plot axis labels and title\n",
    "fig.update_layout(\n",
    "      title='Material cross sections',\n",
    "      xaxis={'title': 'Energy (eV)', 'type': 'log'},\n",
    "      yaxis={'title': 'Macroscopic Cross Section (1/cm)', 'type': 'log'}\n",
    ")\n",
    "\n",
    "fig.write_html(\"3_example_material_plot.html\")\n",
    "\n",
    "fig.show()\n"
   ]
  }
 ],
 "metadata": {
  "kernelspec": {
   "display_name": "Python 3",
   "language": "python",
   "name": "python3"
  },
  "language_info": {
   "codemirror_mode": {
    "name": "ipython",
    "version": 3
   },
   "file_extension": ".py",
   "mimetype": "text/x-python",
   "name": "python",
   "nbconvert_exporter": "python",
   "pygments_lexer": "ipython3",
   "version": "3.7.3"
  }
 },
 "nbformat": 4,
 "nbformat_minor": 4
}
