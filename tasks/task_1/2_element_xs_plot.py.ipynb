{
 "cells": [
  {
   "cell_type": "markdown",
   "metadata": {},
   "source": [
    "plots cross sections for a couple of elements with natural abundance."
   ]
  },
  {
   "cell_type": "code",
   "execution_count": null,
   "metadata": {},
   "outputs": [],
   "source": [
    "import openmc\n",
    "import plotly.graph_objects as go\n",
    "from tqdm import tqdm\n",
    "from openmc.data import atomic_weight\n",
    "from plotting_utils import create_plotly_figure\n",
    "\n",
    "all_stable_elements = ['Ag', 'Al', 'Ar', 'As', 'Au', 'B', 'Ba', 'Be', 'Bi', 'Br', 'C', 'Ca', 'Cd', 'Ce', 'Cl', 'Co', 'Cr', 'Cs', 'Cu', 'Dy', 'Er', 'Eu', 'F', 'Fe', 'Ga', 'Gd', 'Ge', 'H', 'He', 'Hf', 'Hg', 'Ho', 'I', 'In', 'Ir', 'K', 'Kr', 'La', 'Li', 'Lu', 'Mg', 'Mn', 'Mo', 'N', 'Na', 'Nb', 'Nd', 'Ne', 'Ni', 'O', 'Os', 'P', 'Pa', 'Pb', 'Pd', 'Po', 'Pr', 'Pt', 'Rb', 'Re', 'Rh', 'Rn', 'Ru', 'S', 'Sb', 'Sc', 'Se', 'Si', 'Sm', 'Sn', 'Sr', 'Ta', 'Tb', 'Te', 'Th', 'Ti', 'Tl', 'Tm', 'U', 'V', 'W', 'Xe', 'Y', 'Yb', 'Zn', 'Zr']\n",
    "\n",
    "# MT number 16 is (n,2n) reaction, This number will need to be changed for this task\n",
    "# The (n,Xt) is MT number 205\n",
    "Endf_MT_number = 16   \n",
    "\n",
    "fig = create_plotly_figure()\n",
    "\n",
    "# this loop extracts the cross section and energy of reactions when they exist\n",
    "for element_name in tqdm(all_stable_elements):\n",
    "\n",
    "    element_object = openmc.Material()  # this material defaults to a density of 1g/cm3\n",
    "\n",
    "    try:\n",
    "        element_object.add_element(element_name, 1.0, percent_type='ao')\n",
    "    except ValueError:\n",
    "        print(\"The cross section files for the isotopes of \", element_name, \" don't exist\")\n",
    "        continue\n",
    "\n",
    "    try:\n",
    "        atomic_weight(element_name)\n",
    "    except ValueError:\n",
    "        print('There are no natural isotopes of ', element_name)\n",
    "        continue\n",
    "\n",
    "    energy, cross_sections = openmc.calculate_cexs(element_object, 'material', [Endf_MT_number])\n",
    "    cross_section = cross_sections[0]\n",
    "    if cross_section.sum() != 0.0:\n",
    "        fig.add_trace(go.Scatter(x=energy,\n",
    "                                 y=cross_section,\n",
    "                                 mode='lines',\n",
    "                                 name=element_name+' MT '+str(Endf_MT_number))\n",
    "                    )\n",
    "    else:\n",
    "        print('Element ', element_name, ' has no cross section data for MT number', Endf_MT_number)\n",
    "\n",
    "\n",
    "fig.write_html(\"2_element_plot_\"+str(Endf_MT_number)+\".html\")\n",
    "\n",
    "fig.show()\n"
   ]
  },
  {
   "cell_type": "code",
   "execution_count": null,
   "metadata": {},
   "outputs": [],
   "source": []
  }
 ],
 "metadata": {
  "kernelspec": {
   "display_name": "Python 3",
   "language": "python",
   "name": "python3"
  },
  "language_info": {
   "codemirror_mode": {
    "name": "ipython",
    "version": 3
   },
   "file_extension": ".py",
   "mimetype": "text/x-python",
   "name": "python",
   "nbconvert_exporter": "python",
   "pygments_lexer": "ipython3",
   "version": "3.7.3"
  }
 },
 "nbformat": 4,
 "nbformat_minor": 4
}
