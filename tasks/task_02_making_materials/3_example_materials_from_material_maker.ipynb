{
 "cells": [
  {
   "cell_type": "markdown",
   "metadata": {},
   "source": [
    "# Making materials from a library\n",
    "\n",
    "To carry out a neutronics simulation material definitions are needed.\n",
    "\n",
    "As we have seen in the first two tasks materials can be defined using isotopes or elements.\n",
    "\n",
    "The trouble with this is that for some materials the user would be required to input a lot of lines of code. As a result, there is opportunity for erros and the code becomes harder to maintain.\n",
    "\n",
    "Wouldn't it be great if someone had made a nice collection of the material definitions used in fusion neutronics that could simply be used withou having to remember all of the isotopes or elements that go into each one? It would be even better if the density was automatically adjusted to account for isotope enrichment, temperature and pressure effects.\n",
    "\n",
    "There is an app for that and it makes material making very convenient. Full transparency - the author of the Neutronics Material Maker is also the author of this OpenMC workshop :-)\n",
    "\n",
    "Further details on this open-source Python package are available here:\n",
    "https://github.com/ukaea/neutronics_material_maker\n",
    "https://neutronics-material-maker.readthedocs.io/en/latest/\n",
    "https://pypi.org/project/neutronics-material-maker/\n",
    "\n",
    "This task shows you how to make materials using the Neutronics Material Maker."
   ]
  },
  {
   "cell_type": "code",
   "execution_count": null,
   "metadata": {},
   "outputs": [],
   "source": [
    "# example material from the library\n",
    "\n",
    "import neutronics_material_maker as nmm\n",
    "\n",
    "eurofer_mat = nmm.Material('eurofer')\n",
    "\n",
    "eurofer_mat.openmc_material"
   ]
  },
  {
   "cell_type": "markdown",
   "metadata": {},
   "source": [
    "Some materials require additional arguments to correctly calculate material properties.\n",
    "\n",
    "Coolants such as water, helium, CO2 and others require temperature and density imformation to find the density."
   ]
  },
  {
   "cell_type": "code",
   "execution_count": null,
   "metadata": {},
   "outputs": [],
   "source": [
    "# Water requires temperature and pressure arguments to be passed\n",
    "water = nmm.Material('H2O', temperature_in_C=25, pressure_in_Pa=100000)\n",
    "\n",
    "water.openmc_material"
   ]
  },
  {
   "cell_type": "markdown",
   "metadata": {},
   "source": [
    "Some materials can also take enrichment arguments which also adjust the material density."
   ]
  },
  {
   "cell_type": "code",
   "execution_count": null,
   "metadata": {},
   "outputs": [],
   "source": [
    "# Lithium Orthosilicate (Li4SiO4) can take arguments of 'enrichment', 'enrichment_target', 'enrichment_type' and 'packing_fraction'\n",
    "# Note: for some lithium crystals, 'enrichment_target' and 'enrichment_type' are defined by default, but can be changed\n",
    "\n",
    "default_Li4SiO4 = nmm.Material('Li4SiO4')\n",
    "default_Li4SiO4.openmc_material"
   ]
  },
  {
   "cell_type": "code",
   "execution_count": null,
   "metadata": {},
   "outputs": [],
   "source": [
    "# the following command creates Li4SiO4 with respect to given arguments but uses the default values for enrichment_target and enrichment_type\n",
    "# enrichment_target='Li6', enrichment_type='ao' defined by default\n",
    "\n",
    "enriched_and_packed_Li4SiO4 = nmm.Material(\n",
    "    'Li4SiO4',\n",
    "    enrichment=60,\n",
    "    packing_fraction=0.64\n",
    ")   \n",
    "enriched_and_packed_Li4SiO4.openmc_material"
   ]
  },
  {
   "cell_type": "markdown",
   "metadata": {},
   "source": [
    "This is all very nice but how about mixing materials together? That is covered by the next task."
   ]
  }
 ],
 "metadata": {
  "kernelspec": {
   "display_name": "Python 3",
   "language": "python",
   "name": "python3"
  },
  "language_info": {
   "codemirror_mode": {
    "name": "ipython",
    "version": 3
   },
   "file_extension": ".py",
   "mimetype": "text/x-python",
   "name": "python",
   "nbconvert_exporter": "python",
   "pygments_lexer": "ipython3",
   "version": "3.8.3"
  }
 },
 "nbformat": 4,
 "nbformat_minor": 4
}
