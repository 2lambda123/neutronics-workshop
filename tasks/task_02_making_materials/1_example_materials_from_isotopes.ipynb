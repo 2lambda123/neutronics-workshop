{
 "cells": [
  {
   "cell_type": "markdown",
   "metadata": {},
   "source": [
    "# Making materials from isotopes\n",
    "\n",
    "To carry out a neutronics simulation material definitions are needed.\n",
    "\n",
    "Materials can be defined using isotope fractions and densities."
   ]
  },
  {
   "cell_type": "markdown",
   "metadata": {},
   "source": [
    "This is the most simple example of creating a material (water H20) from isotopes.\n",
    "\n",
    "Natural abundances have been found in the NIST website.\n",
    "\n",
    "https://physics.nist.gov/cgi-bin/Compositions/stand_alone.pl?ele="
   ]
  },
  {
   "cell_type": "code",
   "execution_count": null,
   "metadata": {},
   "outputs": [],
   "source": [
    "import openmc\n",
    "\n",
    "water_mat = openmc.Material(name='water')\n",
    "\n",
    "# add each isotope with their relative abundance to material object\n",
    "# note that H20 requires hydrogen to be multiplied by 2\n",
    "water_mat.add_nuclide('H1', 2.*0.999885, percent_type='ao')\n",
    "water_mat.add_nuclide('H2', 2.*0.000115, percent_type='ao')\n",
    "water_mat.add_nuclide('O16', 0.99757, percent_type='ao')\n",
    "water_mat.add_nuclide('O17', 0.00038, percent_type='ao')\n",
    "water_mat.add_nuclide('O18', 0.00205, percent_type='ao')\n",
    "\n",
    "# set material density\n",
    "water_mat.set_density('g/cm3', 0.99821)\n",
    "\n",
    "water_mat"
   ]
  },
  {
   "cell_type": "markdown",
   "metadata": {},
   "source": [
    "Looking up natural abundances on a webiste can take time and is error prone - there is a better way.\n",
    "\n",
    "Instead, OpenMC can find the natural abundance of isotopes from internal data using the NATURAL_ABUNDANCE dictionary from openmc.data.\n",
    "\n",
    "This is the an example of creating a material (water H20) from isotopes using the inbuilt NATURAL_ABUNDANCE."
   ]
  },
  {
   "cell_type": "code",
   "execution_count": null,
   "metadata": {},
   "outputs": [],
   "source": [
    "from openmc.data import *  # this imports the NATURAL_ABUNDANCE dictionary\n",
    "\n",
    "water_mat = openmc.Material(name='water')\n",
    "\n",
    "# add each isotope with their relative abundance to material object\n",
    "# note that H20 requires hydrogen to be multiplied by 2\n",
    "water_mat.add_nuclide('H1', 2.0*NATURAL_ABUNDANCE['H1'], percent_type='ao')\n",
    "water_mat.add_nuclide('H2', 2.0*NATURAL_ABUNDANCE['H2'], percent_type='ao')\n",
    "water_mat.add_nuclide('O16', NATURAL_ABUNDANCE['O16'], percent_type='ao')\n",
    "water_mat.add_nuclide('O17', NATURAL_ABUNDANCE['O17'], percent_type='ao')\n",
    "water_mat.add_nuclide('O18', NATURAL_ABUNDANCE['O18'], percent_type='ao')\n",
    "\n",
    "# set material density\n",
    "water_mat.set_density('g/cm3', 0.99821)\n",
    "\n",
    "water_mat"
   ]
  },
  {
   "cell_type": "markdown",
   "metadata": {},
   "source": [
    "One of the reasons that we might want to define materials from isotopes is so that we can specify the enrichment of particular isotopes.\n",
    "\n",
    "The following example makes Li4SiO4 with an enriched Li6 content.\n",
    "\n",
    "This is the typical lithium ceramic and enrichment level found in the HCPB design."
   ]
  },
  {
   "cell_type": "code",
   "execution_count": null,
   "metadata": {},
   "outputs": [],
   "source": [
    "\n",
    "# Making enriched Li4SiO4 from isotopes\n",
    "\n",
    "enrichment_fraction = 0.6\n",
    "\n",
    "enriched_Li4SiO4_isotope = openmc.Material(name='enriched_Li4SiO4_isotope')\n",
    "enriched_Li4SiO4_isotope.add_nuclide('Li6', 4.0*enrichment_fraction, percent_type='ao')\n",
    "enriched_Li4SiO4_isotope.add_nuclide('Li7', 4.0*(1-enrichment_fraction), percent_type='ao')\n",
    "enriched_Li4SiO4_isotope.add_nuclide('Si28', NATURAL_ABUNDANCE['Si28'], percent_type='ao')\n",
    "enriched_Li4SiO4_isotope.add_nuclide('Si29', NATURAL_ABUNDANCE['Si29'], percent_type='ao')\n",
    "enriched_Li4SiO4_isotope.add_nuclide('Si30', NATURAL_ABUNDANCE['Si30'], percent_type='ao')\n",
    "enriched_Li4SiO4_isotope.add_nuclide('O16', 4.0*NATURAL_ABUNDANCE['O16'], percent_type='ao')\n",
    "enriched_Li4SiO4_isotope.add_nuclide('O17', 4.0*NATURAL_ABUNDANCE['O17'], percent_type='ao')\n",
    "enriched_Li4SiO4_isotope.add_nuclide('O18', 4.0*NATURAL_ABUNDANCE['O18'], percent_type='ao')\n",
    "enriched_Li4SiO4_isotope.set_density('g/cm3', 2.32)  # this would be lower than 2.32 but this would need calculating\n",
    "\n",
    "enriched_Li4SiO4_isotope"
   ]
  },
  {
   "cell_type": "markdown",
   "metadata": {},
   "source": [
    "This is just the start of making materials and there are different methods available in the next notebook examples.\n",
    "\n",
    "Making more detailed materials such as a low activation steel Eurofer would require over 50 isotopes so this can become quite a lot of coding for the user."
   ]
  }
 ],
 "metadata": {
  "kernelspec": {
   "display_name": "Python 3",
   "language": "python",
   "name": "python3"
  },
  "language_info": {
   "codemirror_mode": {
    "name": "ipython",
    "version": 3
   },
   "file_extension": ".py",
   "mimetype": "text/x-python",
   "name": "python",
   "nbconvert_exporter": "python",
   "pygments_lexer": "ipython3",
   "version": "3.8.3"
  }
 },
 "nbformat": 4,
 "nbformat_minor": 4
}
