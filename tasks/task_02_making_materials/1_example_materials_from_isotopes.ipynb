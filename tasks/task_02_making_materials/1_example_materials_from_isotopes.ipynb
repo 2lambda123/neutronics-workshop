{
 "cells": [
  {
   "cell_type": "markdown",
   "metadata": {},
   "source": [
    "# Making materials from isotopes\n",
    "\n",
    "To carry out a neutronics simulation materials definitions are needed.\n",
    "\n",
    "Materials can be defined using isotopes fractions along with a density."
   ]
  },
  {
   "cell_type": "markdown",
   "metadata": {},
   "source": [
    "This is the most simple example of creating a material from isotopes.\n",
    "\n",
    "Natural abundances have been found in the NIST website\n",
    "\n",
    "https://physics.nist.gov/cgi-bin/Compositions/stand_alone.pl?ele="
   ]
  },
  {
   "cell_type": "code",
   "execution_count": 2,
   "metadata": {},
   "outputs": [
    {
     "ename": "ModuleNotFoundError",
     "evalue": "No module named 'openmc'",
     "output_type": "error",
     "traceback": [
      "\u001b[0;31m---------------------------------------------------------------------------\u001b[0m",
      "\u001b[0;31mModuleNotFoundError\u001b[0m                       Traceback (most recent call last)",
      "\u001b[0;32m<ipython-input-2-80492759126d>\u001b[0m in \u001b[0;36m<module>\u001b[0;34m\u001b[0m\n\u001b[0;32m----> 1\u001b[0;31m \u001b[0;32mimport\u001b[0m \u001b[0mopenmc\u001b[0m\u001b[0;34m\u001b[0m\u001b[0;34m\u001b[0m\u001b[0m\n\u001b[0m\u001b[1;32m      2\u001b[0m \u001b[0;34m\u001b[0m\u001b[0m\n\u001b[1;32m      3\u001b[0m \u001b[0mwater_mat\u001b[0m \u001b[0;34m=\u001b[0m \u001b[0mopenmc\u001b[0m\u001b[0;34m.\u001b[0m\u001b[0mMaterial\u001b[0m\u001b[0;34m(\u001b[0m\u001b[0mname\u001b[0m\u001b[0;34m=\u001b[0m\u001b[0;34m'water'\u001b[0m\u001b[0;34m)\u001b[0m\u001b[0;34m\u001b[0m\u001b[0;34m\u001b[0m\u001b[0m\n\u001b[1;32m      4\u001b[0m \u001b[0;34m\u001b[0m\u001b[0m\n\u001b[1;32m      5\u001b[0m \u001b[0;31m# add isotopes to material object\u001b[0m\u001b[0;34m\u001b[0m\u001b[0;34m\u001b[0m\u001b[0;34m\u001b[0m\u001b[0m\n",
      "\u001b[0;31mModuleNotFoundError\u001b[0m: No module named 'openmc'"
     ]
    }
   ],
   "source": [
    "import openmc\n",
    "\n",
    "water_mat = openmc.Material(name='water')\n",
    "\n",
    "# add each isotope with their relative abundance to material object\n",
    "# note the H20 requires hydrogen to be multiplied by 2\n",
    "water_mat.add_nuclide('H1', 2.*0.999885, percent_type='ao')\n",
    "water_mat.add_nuclide('H2', 2.*0.000115, percent_type='ao')\n",
    "water_mat.add_nuclide('O16', 0.99757, percent_type='ao')\n",
    "water_mat.add_nuclide('O17', 0.00038, percent_type='ao')\n",
    "water_mat.add_nuclide('O18', 0.00205, percent_type='ao')\n",
    "\n",
    "water_mat.set_density('g/cm3', 0.99821)"
   ]
  },
  {
   "cell_type": "markdown",
   "metadata": {},
   "source": [
    "OpenMC can also find the natural abundance from internal data using the NATURAL_ABUNDANCE dictionary from openmc.data"
   ]
  },
  {
   "cell_type": "code",
   "execution_count": null,
   "metadata": {},
   "outputs": [],
   "source": [
    "from openmc.data import *  # this imports the NATURAL_ABUNDANCE dictionary\n",
    "\n",
    "\n",
    "# Making water from isotopes\n",
    "\n",
    "# specify material object\n",
    "water_from_isotopes = openmc.Material(name='water_from_isotopes')\n",
    "\n",
    "# add isotopes to material object\n",
    "water_from_isotopes.add_nuclide('H1', 2.0*NATURAL_ABUNDANCE['H1'], percent_type='ao')\n",
    "water_from_isotopes.add_nuclide('H2', 2.0*NATURAL_ABUNDANCE['H2'], percent_type='ao')\n",
    "water_from_isotopes.add_nuclide('O16', NATURAL_ABUNDANCE['O16'], percent_type='ao')\n",
    "water_from_isotopes.add_nuclide('O17', NATURAL_ABUNDANCE['O17'], percent_type='ao')\n",
    "water_from_isotopes.add_nuclide('O18', NATURAL_ABUNDANCE['O18'], percent_type='ao')\n",
    "\n",
    "# set material density\n",
    "water_from_isotopes.set_density('g/cm3', 0.99821)\n",
    "\n",
    "print(water_from_isotopes)\n",
    "\n",
    "\n",
    "# Making Li4SiO4 from isotopes\n",
    "\n",
    "# add Li4SiO4 here\n",
    "\n",
    "# Li4SiO4_from_isotopes = openmc.Material(name='Li4SiO4_from_isotopes')\n",
    "# Li4SiO4_from_isotopes.add_nuclide......\n",
    "# Li4SiO4_from_isotopes.set_density......\n",
    "# print(Li4SiO4_from_isotopes)\n",
    "\n"
   ]
  },
  {
   "cell_type": "markdown",
   "metadata": {},
   "source": [
    "One of the reasons that we might want to define materials from isotopes is so that we can specify enrichment of particular isotopes.\n",
    "\n",
    "The following example makes Li4SiO4 with an enriched Li6 content.\n",
    "\n",
    "This is a typical lithium ceramic and enrichment level found in the HCPB design."
   ]
  },
  {
   "cell_type": "code",
   "execution_count": null,
   "metadata": {},
   "outputs": [],
   "source": [
    "\n",
    "# Making enriched Li4SiO4 from isotopes\n",
    "\n",
    "enrichment_fraction = 0.6\n",
    "\n",
    "enriched_Li4SiO4_isotope = openmc.Material(name='enriched_Li4SiO4_isotope')\n",
    "enriched_Li4SiO4_isotope.add_nuclide('Li6', 4.0*enrichment_fraction, percent_type='ao')\n",
    "enriched_Li4SiO4_isotope.add_nuclide('Li7', 4.0*(1-enrichment_fraction), percent_type='ao')\n",
    "enriched_Li4SiO4_isotope.add_nuclide('Si28', NATURAL_ABUNDANCE['Si28'], percent_type='ao')\n",
    "enriched_Li4SiO4_isotope.add_nuclide('Si29', NATURAL_ABUNDANCE['Si29'], percent_type='ao')\n",
    "enriched_Li4SiO4_isotope.add_nuclide('Si30', NATURAL_ABUNDANCE['Si30'], percent_type='ao')\n",
    "enriched_Li4SiO4_isotope.add_nuclide('O16', 4.0*NATURAL_ABUNDANCE['O16'], percent_type='ao')\n",
    "enriched_Li4SiO4_isotope.add_nuclide('O17', 4.0*NATURAL_ABUNDANCE['O17'], percent_type='ao')\n",
    "enriched_Li4SiO4_isotope.add_nuclide('O18', 4.0*NATURAL_ABUNDANCE['O18'], percent_type='ao')\n",
    "enriched_Li4SiO4_isotope.set_density('g/cm3', 2.32)  # this would be lower than 2.32 but this would need calculating\n",
    "\n",
    "enriched_Li4SiO4_isotope"
   ]
  }
 ],
 "metadata": {
  "kernelspec": {
   "display_name": "Python 3",
   "language": "python",
   "name": "python3"
  },
  "language_info": {
   "codemirror_mode": {
    "name": "ipython",
    "version": 3
   },
   "file_extension": ".py",
   "mimetype": "text/x-python",
   "name": "python",
   "nbconvert_exporter": "python",
   "pygments_lexer": "ipython3",
   "version": "3.7.7"
  }
 },
 "nbformat": 4,
 "nbformat_minor": 4
}
