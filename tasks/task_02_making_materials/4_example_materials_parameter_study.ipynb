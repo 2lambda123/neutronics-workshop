{
 "cells": [
  {
   "cell_type": "markdown",
   "metadata": {},
   "source": [
    "# Changing materials\n",
    "\n",
    "The neutronics_material_maker makes it easy to find the density of materials.\n",
    "\n",
    "The density of a material impacts the number density of atoms and therefore impacts the neutronics reaction rate. Therefore, it can be important to take account of this density in the neutronics simulations.\n",
    "\n",
    "Density is impacted by material properties such as temperature, enrichment, pressure."
   ]
  },
  {
   "cell_type": "code",
   "execution_count": null,
   "metadata": {},
   "outputs": [],
   "source": [
    "# imports packages needed for the example\n",
    "\n",
    "import numpy as np\n",
    "import plotly.graph_objs as go\n",
    "\n",
    "import neutronics_material_maker as nmm"
   ]
  },
  {
   "cell_type": "markdown",
   "metadata": {},
   "source": [
    "This example calculates the water density as a function of temperature (at constant pressure).\n",
    "The neutronics material maker uses the Python CoolProp package to do this.\n",
    "\n",
    "Using input parameters from the WCLL blanket:\n",
    "- pressure = 15.5 MPa\n",
    "- inlet temperatures = 285 degrees C\n",
    "- outlet temperatures 325 degrees C\n",
    "\n",
    "We will show density as a function of temperature over a larger range, but at constant pressure."
   ]
  },
  {
   "cell_type": "code",
   "execution_count": null,
   "metadata": {},
   "outputs": [],
   "source": [
    "temperatures = np.linspace(0.1, 600., 200)\n",
    "\n",
    "water_densities = [nmm.Material('H2O', temperature_in_C=temperature, pressure_in_Pa=15500000).openmc_material.density for temperature in temperatures]\n",
    "\n",
    "fig = go.Figure()\n",
    "\n",
    "fig.add_trace(go.Scatter(\n",
    "    x=temperatures,\n",
    "    y=water_densities,\n",
    "    mode='lines+markers',\n",
    "    showlegend=False),\n",
    ")\n",
    "\n",
    "fig.update_xaxes({'title': 'Temperature in C'})\n",
    "fig.update_yaxes({'title': 'Density (g/cm3)'})\n",
    "\n",
    "fig.show()"
   ]
  },
  {
   "cell_type": "markdown",
   "metadata": {},
   "source": [
    "This example shows how Helium density changes as a function of pressure (at constant temperature)."
   ]
  },
  {
   "cell_type": "code",
   "execution_count": null,
   "metadata": {},
   "outputs": [],
   "source": [
    "pressures = np.linspace(1000000., 10000000., 100)\n",
    "\n",
    "helium_densities = [nmm.Material('He', temperature_in_C=400, pressure_in_Pa=pressure).openmc_material.density for pressure in pressures]\n",
    "\n",
    "fig = go.Figure()\n",
    "\n",
    "fig.add_trace(go.Scatter(\n",
    "    x=pressures,\n",
    "    y=helium_densities,\n",
    "    mode='lines+markers',\n",
    "    showlegend=False),\n",
    ")\n",
    "\n",
    "fig.update_xaxes({'title': 'Pressure in Pa'})\n",
    "fig.update_yaxes({'title': 'Density (g/cm3)'})\n",
    "\n",
    "fig.show()"
   ]
  },
  {
   "cell_type": "markdown",
   "metadata": {},
   "source": [
    "This example shows how the density of a lithium ceramic changes as a function of Lithium-6 enrichment."
   ]
  },
  {
   "cell_type": "code",
   "execution_count": null,
   "metadata": {},
   "outputs": [],
   "source": [
    "enrichments = np.linspace(0., 100., 50)\n",
    "\n",
    "li4sio4_densities = [nmm.Material('Li4SiO4', enrichment=enrichment).openmc_material.density for enrichment in enrichments]\n",
    "\n",
    "fig =go.Figure()\n",
    "\n",
    "fig.add_trace(go.Scatter(\n",
    "    x=enrichments,\n",
    "    y=li4sio4_densities,\n",
    "    mode='lines+markers',\n",
    "    showlegend=False),\n",
    ")\n",
    "\n",
    "fig.update_xaxes({'title': 'Pressure in Pa'})\n",
    "fig.update_yaxes({'title': 'Density (g/cm3)'})\n",
    "\n",
    "fig.show()"
   ]
  }
 ],
 "metadata": {
  "kernelspec": {
   "display_name": "Python 3",
   "language": "python",
   "name": "python3"
  },
  "language_info": {
   "codemirror_mode": {
    "name": "ipython",
    "version": 3
   },
   "file_extension": ".py",
   "mimetype": "text/x-python",
   "name": "python",
   "nbconvert_exporter": "python",
   "pygments_lexer": "ipython3",
   "version": "3.8.3"
  }
 },
 "nbformat": 4,
 "nbformat_minor": 4
}
