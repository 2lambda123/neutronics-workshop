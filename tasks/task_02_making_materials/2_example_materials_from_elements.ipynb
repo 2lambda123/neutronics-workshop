{
 "cells": [
  {
   "cell_type": "markdown",
   "metadata": {},
   "source": [
    "# Part 2 - Making materials from elements\n",
    "\n",
    "To carry out a neutronics simulation material definitions are needed.\n",
    "\n",
    "As we saw in the first part of the task materials can be defined using isotopes. However, materials can also be made from elements - this is more concise and still supports isotopic enrichment."
   ]
  },
  {
   "cell_type": "code",
   "execution_count": null,
   "metadata": {},
   "outputs": [],
   "source": [
    "import openmc\n",
    "\n",
    "# Making water from elements\n",
    "\n",
    "water_mat = openmc.Material(name='water')\n",
    "water_mat.add_element('H', 2.0, percent_type='ao')\n",
    "water_mat.add_element('O', 1.0, percent_type='ao')\n",
    "water_mat.set_density('g/cm3', 0.99821)\n",
    "\n",
    "water_mat"
   ]
  },
  {
   "cell_type": "markdown",
   "metadata": {},
   "source": [
    "It is also possible to enrich specific isotopes while still benefitting from the concise code of making materials from elements.\n",
    "\n",
    "Here is an example of making a ceramic breeder material."
   ]
  },
  {
   "cell_type": "code",
   "execution_count": null,
   "metadata": {},
   "outputs": [],
   "source": [
    "# Making Li4SiO4 from elements\n",
    "\n",
    "Li4SiO4_mat = openmc.Material(name='lithium_orthosilicate')\n",
    "Li4SiO4_mat.add_element('Li', 4.0, percent_type='ao')\n",
    "Li4SiO4_mat.add_element('Si', 1.0, percent_type='ao')\n",
    "Li4SiO4_mat.add_element('O', 4.0, percent_type='ao')\n",
    "Li4SiO4_mat.set_density('g/cm3', 2.32)\n",
    "\n",
    "Li4SiO4_mat"
   ]
  },
  {
   "cell_type": "markdown",
   "metadata": {},
   "source": [
    "Here is an example of making the same ceramic breeder material but this time with Li6 enrichment."
   ]
  },
  {
   "cell_type": "code",
   "execution_count": null,
   "metadata": {},
   "outputs": [],
   "source": [
    "# Making enriched Li4SiO4 from elements with enrichment of Li6 enrichment\n",
    "\n",
    "Li4SiO4_mat = openmc.Material(name='lithium_orthosilicate')\n",
    "Li4SiO4_mat.add_element('Li', 4.0, percent_type='ao',\n",
    "                        enrichment=60,\n",
    "                        enrichment_target='Li6',\n",
    "                        enrichment_type='ao'\n",
    "                        )\n",
    "Li4SiO4_mat.add_element('Si', 1.0, percent_type='ao')\n",
    "Li4SiO4_mat.add_element('O', 4.0, percent_type='ao')\n",
    "Li4SiO4_mat.set_density('g/cm3', 2.32)  # this would actually be lower than 2.32 g/cm3 but this would need calculating\n",
    "\n",
    "Li4SiO4_mat"
   ]
  },
  {
   "cell_type": "markdown",
   "metadata": {},
   "source": [
    "In the case of materials that can be represented as a chemical formula (e.g. 'H2O', 'Li4SiO4') then there is an even more concise way of making these materials by using their chemical formula."
   ]
  },
  {
   "cell_type": "code",
   "execution_count": null,
   "metadata": {},
   "outputs": [],
   "source": [
    "# making Li4SiO4 from a formula\n",
    "\n",
    "Li4SiO4_mat = openmc.Material(name='lithium_orthosilicate')\n",
    "Li4SiO4_mat.add_elements_from_formula('Li4SiO4')\n",
    "Li4SiO4_mat"
   ]
  },
  {
   "cell_type": "markdown",
   "metadata": {},
   "source": [
    "This add_elements_from_formula (which was added to OpenMC source code by myself) can also support enrichment."
   ]
  },
  {
   "cell_type": "code",
   "execution_count": null,
   "metadata": {},
   "outputs": [],
   "source": [
    "# making Li4SiO4 from a formula with enrichment\n",
    "\n",
    "Li4SiO4_mat = openmc.Material(name='lithium_orthosilicate')\n",
    "Li4SiO4_mat.add_elements_from_formula('Li4SiO4',\n",
    "                        enrichment=60,\n",
    "                        enrichment_target='Li6',\n",
    "                        enrichment_type='ao'\n",
    "                        )\n",
    "Li4SiO4_mat"
   ]
  },
  {
   "cell_type": "markdown",
   "metadata": {},
   "source": [
    "Making more detailed materials such as a low activation steel Eurofer would require about 20 elements. While this is fewer user inputs than making the material from isotopes it is still quite a lot of coding for the user. Unfortunately, they cannot be input as a chemical formula either."
   ]
  }
 ],
 "metadata": {
  "kernelspec": {
   "display_name": "Python 3",
   "language": "python",
   "name": "python3"
  },
  "language_info": {
   "codemirror_mode": {
    "name": "ipython",
    "version": 3
   },
   "file_extension": ".py",
   "mimetype": "text/x-python",
   "name": "python",
   "nbconvert_exporter": "python",
   "pygments_lexer": "ipython3",
   "version": "3.8.3"
  }
 },
 "nbformat": 4,
 "nbformat_minor": 4
}
