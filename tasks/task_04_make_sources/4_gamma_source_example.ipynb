{
 "cells": [
  {
   "cell_type": "markdown",
   "metadata": {},
   "source": [
    "# Part 4 - Gamma sources\n",
    "\n",
    "This script plots the energy of a gamma emitter point source.\n",
    "\n",
    "This need another small example as the type of particle is different an also the energy distribution is different as we have discrete branching ratios for the gamma source."
   ]
  },
  {
   "cell_type": "code",
   "execution_count": null,
   "metadata": {},
   "outputs": [],
   "source": [
    "import openmc\n",
    "from source_extraction_utils import *  # imports plotting functions"
   ]
  },
  {
   "cell_type": "markdown",
   "metadata": {},
   "source": [
    "This is the decay scheme for Co60. The majoirty of the gamma emssion is via two high energy gamma rays (1.1732MeV and 1.3325MeV). Although there are [several other gamma emissions with low probabilites](http://www.nucleide.org/DDEP_WG/Nuclides/Co-60_tables.pdf) we shall just model these two as 50:50 to keep the example simple."
   ]
  },
  {
   "cell_type": "markdown",
   "metadata": {},
   "source": [
    "![decay routes](https://upload.wikimedia.org/wikipedia/commons/thumb/0/03/Cobalt-60m-decay.svg/1024px-Cobalt-60m-decay.svg.png)\n",
    "\n",
    "Image by Tubas-en - Own work, Public Domain, https://commons.wikimedia.org/w/index.php?curid=6330228"
   ]
  },
  {
   "cell_type": "code",
   "execution_count": null,
   "metadata": {},
   "outputs": [],
   "source": [
    "# initialises a new source object\n",
    "source = openmc.Source()\n",
    "\n",
    "# sets the location of the source to x=0 y=0 z=0\n",
    "source.space = openmc.stats.Point((0, 0, 0))\n",
    "\n",
    "# sets the direction to isotropic\n",
    "source.angle = openmc.stats.Isotropic()\n",
    "\n",
    "# sets the energy distribution to 50% 1.1MeV photons and 50% 1.3MeV photons\n",
    "source.energy = openmc.stats.Discrete([1.1732e6,1.3325e6], [0.5, 0.5])\n",
    "\n",
    "source.particle = 'photon'\n",
    "\n",
    "create_inital_particles(\n",
    "    source,\n",
    "    number_of_particles=1000  # this can be increased to sample more particles\n",
    ")\n",
    "\n",
    "plot_energy_from_initial_source(\n",
    "    input_filename='initial_source.h5',\n",
    "    energy_bins=np.linspace(0, 2e6, 50)\n",
    ")"
   ]
  },
  {
   "cell_type": "markdown",
   "metadata": {},
   "source": [
    "As the sampling is random the two peaks might not be equal sizes.\n",
    "\n",
    "You can increase the ```number_of_particles``` in the last code block to sample more particles.\n"
   ]
  },
  {
   "cell_type": "markdown",
   "metadata": {},
   "source": [
    "**Learning outcomes for Task 4:**\n",
    "\n",
    "- How to access information on particle position, energy and direction from the simulation.\n",
    "- How to visualise particle tracks through geometry.\n",
    "- How to define different types of particle sources in OpenMC."
   ]
  }
 ],
 "metadata": {
  "kernelspec": {
   "display_name": "Python 3",
   "language": "python",
   "name": "python3"
  },
  "language_info": {
   "codemirror_mode": {
    "name": "ipython",
    "version": 3
   },
   "file_extension": ".py",
   "mimetype": "text/x-python",
   "name": "python",
   "nbconvert_exporter": "python",
   "pygments_lexer": "ipython3",
   "version": "3.8.3"
  }
 },
 "nbformat": 4,
 "nbformat_minor": 4
}
