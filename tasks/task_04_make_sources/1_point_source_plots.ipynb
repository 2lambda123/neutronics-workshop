{
 "cells": [
  {
   "cell_type": "markdown",
   "metadata": {},
   "source": [
    "# Part 1 - Point source plotting\n",
    "\n",
    "To perform a neutronics simulation a neutron source must also be defined.\n",
    "\n",
    "This python notebook allows users to make a simple OpenMC point source and plot its energy, position and initial directions."
   ]
  },
  {
   "cell_type": "code",
   "execution_count": null,
   "metadata": {},
   "outputs": [],
   "source": [
    "from IPython.display import HTML\n",
    "HTML('<iframe width=\"560\" height=\"315\" src=\"https://www.youtube.com/embed/j9dT1Viqcu4\" frameborder=\"0\" allow=\"accelerometer; autoplay; clipboard-write; encrypted-media; gyroscope; picture-in-picture\" allowfullscreen></iframe>')"
   ]
  },
  {
   "cell_type": "code",
   "execution_count": null,
   "metadata": {},
   "outputs": [],
   "source": [
    "import openmc"
   ]
  },
  {
   "cell_type": "markdown",
   "metadata": {},
   "source": [
    "This first code block creates an isotropic point source with 14 MeV monoenergetic neutrons."
   ]
  },
  {
   "cell_type": "code",
   "execution_count": null,
   "metadata": {},
   "outputs": [],
   "source": [
    "# initialises a new source object\n",
    "my_source = openmc.Source()\n",
    "\n",
    "# sets the location of the source to x=0 y=0 z=0\n",
    "my_source.space = openmc.stats.Point((0, 0, 0))\n",
    "\n",
    "# sets the direction to isotropic\n",
    "my_source.angle = openmc.stats.Isotropic()\n",
    "\n",
    "# sets the energy distribution to 100% 14MeV neutrons\n",
    "my_source.energy = openmc.stats.Discrete([14e6], [1])"
   ]
  },
  {
   "cell_type": "markdown",
   "metadata": {},
   "source": [
    "this next code block runs openmc and creates a file containing information on the initial particles. The energy information is the extracted and plotted"
   ]
  },
  {
   "cell_type": "code",
   "execution_count": null,
   "metadata": {},
   "outputs": [],
   "source": [
    "import openmc_source_plotter as osp\n",
    "\n",
    "osp.plot_source_energy(source=my_source)"
   ]
  },
  {
   "cell_type": "markdown",
   "metadata": {},
   "source": [
    "The next code block creates an isotropic point source with a fission energy distribution."
   ]
  },
  {
   "cell_type": "code",
   "execution_count": null,
   "metadata": {},
   "outputs": [],
   "source": [
    "my_source_2 = openmc.Source()\n",
    "my_source_2.space = openmc.stats.Point((0, 0, 0))\n",
    "my_source_2.angle = openmc.stats.Isotropic()\n",
    "\n",
    "# Documentation on the Watt distribution is here\n",
    "# https://docs.openmc.org/en/stable/pythonapi/generated/openmc.data.WattEnergy.html\n",
    "my_source_2.energy = openmc.stats.Watt(a=988000.0, b=2.249e-06)\n",
    "\n",
    "osp.plot_source_energy(source=my_source_2)"
   ]
  },
  {
   "cell_type": "markdown",
   "metadata": {},
   "source": [
    "This code block creates an isotropic point source with a fusion energy distribution."
   ]
  },
  {
   "cell_type": "code",
   "execution_count": null,
   "metadata": {},
   "outputs": [],
   "source": [
    "my_source_3 = openmc.Source()\n",
    "my_source_3.space = openmc.stats.Point((0, 0, 0))\n",
    "my_source_3.angle = openmc.stats.Isotropic()\n",
    "\n",
    "# Documentation on the Muir distribution is here\n",
    "# https://docs.openmc.org/en/stable/pythonapi/generated/openmc.stats.Muir.html\n",
    "my_source_3.energy = openmc.stats.Muir(e0=14080000.0, m_rat=5.0, kt=20000.0)\n",
    "\n",
    "osp.plot_source_energy(source=my_source_3)"
   ]
  },
  {
   "cell_type": "markdown",
   "metadata": {},
   "source": [
    "The following code block plots the birth location of the neutrons from a 14 MeV monoenergetic point source."
   ]
  },
  {
   "cell_type": "code",
   "execution_count": null,
   "metadata": {},
   "outputs": [],
   "source": [
    "# Creates an isotropic point source with monoenergetic 14MeV neutrons\n",
    "my_source_4 = openmc.Source()\n",
    "my_source_4.space = openmc.stats.Point((0, 0, 0))\n",
    "my_source_4.angle = openmc.stats.Isotropic()\n",
    "my_source_4.energy = openmc.stats.Discrete([14e6], [1])\n",
    "\n",
    "osp.plot_source_position(\n",
    "    source=my_source_4,\n",
    "    openmc_exec='/opt/conda/envs/openmc_version_0_11_0/bin/openmc'\n",
    ")"
   ]
  },
  {
   "cell_type": "markdown",
   "metadata": {},
   "source": [
    "Finally, the following code block plots the birth direction of the neutrons from the same source."
   ]
  },
  {
   "cell_type": "code",
   "execution_count": null,
   "metadata": {},
   "outputs": [],
   "source": [
    "# Creates an isotropic point source with monoenergetic 14MeV neutrons\n",
    "my_source_5 = openmc.Source()\n",
    "my_source_5.space = openmc.stats.Point((0, 0, 0))\n",
    "my_source_5.angle = openmc.stats.Isotropic()\n",
    "my_source_5.energy = openmc.stats.Discrete([14e6], [1])\n",
    "\n",
    "osp.plot_source_direction(\n",
    "    source=my_source_5,\n",
    "    openmc_exec='/opt/conda/envs/openmc_version_0_11_0/bin/openmc'\n",
    ")"
   ]
  },
  {
   "cell_type": "markdown",
   "metadata": {},
   "source": [
    "For convenience a plasma source package has been made that wraps openmc.Source and provides easy creation of point (and other) fusion sources.\n",
    "https://github.com/fusion-energy/openmc-plasma-source/ you could try plotting the energy this source"
   ]
  },
  {
   "cell_type": "markdown",
   "metadata": {},
   "source": [
    "**Learning Outcomes for Part 1:**\n",
    "\n",
    "- OpenMC can be used to create neutron point sources with different energy distributions."
   ]
  }
 ],
 "metadata": {
  "kernelspec": {
   "display_name": "Python 3.8.13 ('base')",
   "language": "python",
   "name": "python3"
  },
  "language_info": {
   "codemirror_mode": {
    "name": "ipython",
    "version": 3
   },
   "file_extension": ".py",
   "mimetype": "text/x-python",
   "name": "python",
   "nbconvert_exporter": "python",
   "pygments_lexer": "ipython3",
   "version": "3.8.13"
  },
  "vscode": {
   "interpreter": {
    "hash": "d4d1e4263499bec80672ea0156c357c1ee493ec2b1c70f0acce89fc37c4a6abe"
   }
  }
 },
 "nbformat": 4,
 "nbformat_minor": 4
}
