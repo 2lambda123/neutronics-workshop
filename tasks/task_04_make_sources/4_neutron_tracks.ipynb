{
 "cells": [
  {
   "cell_type": "markdown",
   "metadata": {},
   "source": [
    "# Part 3 - Visualising Particle Tracks\n",
    "\n",
    "When running neutronics simulations we may want to track how particles travel through the defined geometry.\n",
    "\n",
    "This python notebook allows users to generate particle track files that can be opened and viewed alongside the 3D geometry."
   ]
  },
  {
   "cell_type": "markdown",
   "metadata": {},
   "source": [
    "This first code block makes a geometry with hemispheres. One side is a moderator (H2O) and the other is a material that is quite transparent to neutrons (zirconium).\n",
    "\n",
    "Because of the different neutronic properties of the materials, we expect neutrons to track differently through the two materials. We can visualise this using OpenMC."
   ]
  },
  {
   "cell_type": "code",
   "execution_count": 1,
   "metadata": {},
   "outputs": [],
   "source": [
    "import openmc\n",
    "import matplotlib.pyplot as plt\n",
    "import os\n",
    "\n",
    "# MATERIALS\n",
    "mats = openmc.Materials()\n",
    "\n",
    "moderating_material = openmc.Material(1, \"water\")  # water contains hydrogen which is a good neutron moderator\n",
    "moderating_material.add_element('H', 2, 'ao')  # Note, 'percent_type=' does not have to be written to specify 'ao' or 'wo'\n",
    "moderating_material.add_element('O', 1, 'ao')\n",
    "moderating_material.set_density('g/cm3', 1.0)\n",
    "mats.append(moderating_material)\n",
    "\n",
    "transparent_material = openmc.Material(2, \"zirconium\")  # one of the more transparent materials\n",
    "transparent_material.add_element('Zr', 1, 'ao')\n",
    "transparent_material.set_density('g/cm3', 6.49)\n",
    "mats.append(transparent_material)\n",
    "\n",
    "\n",
    "# GEOMETRY\n",
    "sph0 = openmc.Sphere(r=400)\n",
    "sph1 = openmc.Sphere(r=600, boundary_type='vacuum')\n",
    "flat_surf = openmc.YPlane(y0=0)\n",
    "\n",
    "simple_moderator_cell = openmc.Cell(region=+sph0 & -sph1 & +flat_surf)\n",
    "simple_moderator_cell.fill = moderating_material\n",
    "\n",
    "simple_transparent_cell = openmc.Cell(region=+sph0 & -sph1 & -flat_surf)\n",
    "simple_transparent_cell.fill = transparent_material\n",
    "\n",
    "vaccum_cell = openmc.Cell(region=-sph0)\n",
    "\n",
    "universe = openmc.Universe(cells=[simple_moderator_cell, simple_transparent_cell, vaccum_cell])\n",
    "geom = openmc.Geometry(universe)\n",
    "\n",
    "\n",
    "# SIMULATION SETTINGS\n",
    "\n",
    "# Instantiate a Settings object\n",
    "sett = openmc.Settings()\n",
    "batches = 1\n",
    "sett.batches = batches\n",
    "sett.inactive = 0\n",
    "sett.particles = 10  # Note that only 10 particles are simulated, otherwise we make too many files\n",
    "sett.particle = \"neutron\"\n",
    "sett.track = (1, 2, 4)\n",
    "sett.run_mode = 'fixed source'\n",
    "\n",
    "# creates a 14MeV point source\n",
    "source = openmc.Source()\n",
    "source.space = openmc.stats.Point((0, 0, 0))\n",
    "source.angle = openmc.stats.Isotropic()\n",
    "source.energy = openmc.stats.Discrete([14e6], [1])\n",
    "\n",
    "# source.file = 'source_1000_particles.h5'\n",
    "sett.source = source"
   ]
  },
  {
   "cell_type": "markdown",
   "metadata": {},
   "source": [
    "This is the new part covered by this task. The running of OpenMC in track mode."
   ]
  },
  {
   "cell_type": "code",
   "execution_count": 2,
   "metadata": {},
   "outputs": [
    {
     "name": "stdout",
     "output_type": "stream",
     "text": [
      "                                %%%%%%%%%%%%%%%\n",
      "                           %%%%%%%%%%%%%%%%%%%%%%%%\n",
      "                        %%%%%%%%%%%%%%%%%%%%%%%%%%%%%%\n",
      "                      %%%%%%%%%%%%%%%%%%%%%%%%%%%%%%%%%%\n",
      "                    %%%%%%%%%%%%%%%%%%%%%%%%%%%%%%%%%%%%%%\n",
      "                   %%%%%%%%%%%%%%%%%%%%%%%%%%%%%%%%%%%%%%%%\n",
      "                                    %%%%%%%%%%%%%%%%%%%%%%%%\n",
      "                                     %%%%%%%%%%%%%%%%%%%%%%%%\n",
      "                 ###############      %%%%%%%%%%%%%%%%%%%%%%%%\n",
      "                ##################     %%%%%%%%%%%%%%%%%%%%%%%\n",
      "                ###################     %%%%%%%%%%%%%%%%%%%%%%%\n",
      "                ####################     %%%%%%%%%%%%%%%%%%%%%%\n",
      "                #####################     %%%%%%%%%%%%%%%%%%%%%\n",
      "                ######################     %%%%%%%%%%%%%%%%%%%%\n",
      "                #######################     %%%%%%%%%%%%%%%%%%\n",
      "                 #######################     %%%%%%%%%%%%%%%%%\n",
      "                 ######################     %%%%%%%%%%%%%%%%%\n",
      "                  ####################     %%%%%%%%%%%%%%%%%\n",
      "                    #################     %%%%%%%%%%%%%%%%%\n",
      "                     ###############     %%%%%%%%%%%%%%%%\n",
      "                       ############     %%%%%%%%%%%%%%%\n",
      "                          ########     %%%%%%%%%%%%%%\n",
      "                                      %%%%%%%%%%%\n",
      "\n",
      "                   | The OpenMC Monte Carlo Code\n",
      "         Copyright | 2011-2021 MIT and OpenMC contributors\n",
      "           License | https://docs.openmc.org/en/latest/license.html\n",
      "           Version | 0.13.0-dev\n",
      "          Git SHA1 | 209fdd86ed14a16d4b73e9c44de8a9710a898e64\n",
      "         Date/Time | 2021-10-16 22:56:22\n",
      "     MPI Processes | 1\n",
      "    OpenMP Threads | 8\n",
      "\n",
      " Reading settings XML file...\n",
      " Reading cross sections XML file...\n",
      " Reading materials XML file...\n",
      " Reading geometry XML file...\n",
      " Reading H1 from /home/jshim/nuc_data/cross_section_data/ENDFB-7.1-NNDC_H1.h5\n",
      " Reading H2 from /home/jshim/nuc_data/cross_section_data/ENDFB-7.1-NNDC_H2.h5\n",
      " Reading O16 from /home/jshim/nuc_data/cross_section_data/ENDFB-7.1-NNDC_O16.h5\n",
      " Reading O17 from /home/jshim/nuc_data/cross_section_data/ENDFB-7.1-NNDC_O17.h5\n",
      " Reading O18 from /home/jshim/nuc_data/cross_section_data/TENDL-2019_O18.h5\n",
      " Reading Zr90 from\n",
      " /home/jshim/nuc_data/cross_section_data/ENDFB-7.1-NNDC_Zr90.h5\n",
      " Reading Zr91 from\n",
      " /home/jshim/nuc_data/cross_section_data/ENDFB-7.1-NNDC_Zr91.h5\n",
      " Reading Zr92 from\n",
      " /home/jshim/nuc_data/cross_section_data/ENDFB-7.1-NNDC_Zr92.h5\n",
      " Reading Zr94 from\n",
      " /home/jshim/nuc_data/cross_section_data/ENDFB-7.1-NNDC_Zr94.h5\n",
      " Reading Zr96 from\n",
      " /home/jshim/nuc_data/cross_section_data/ENDFB-7.1-NNDC_Zr96.h5\n",
      " Minimum neutron data temperature: 294.0 K\n",
      " Maximum neutron data temperature: 294.0 K\n",
      " Preparing distributed cell instances...\n",
      " Writing summary.h5 file...\n",
      " Maximum neutron transport energy: 20000000.0 eV for H1\n",
      "\n",
      " ===============>     FIXED SOURCE TRANSPORT SIMULATION     <===============\n",
      "\n",
      " Simulating batch 1\n",
      " Creating state point statepoint.1.h5...\n",
      "\n",
      " =======================>     TIMING STATISTICS     <=======================\n",
      "\n",
      " Total time for initialization     = 5.2075e-01 seconds\n",
      "   Reading cross sections          = 5.0914e-01 seconds\n",
      " Total time in simulation          = 1.0681e-02 seconds\n",
      "   Time in transport only          = 9.1274e-03 seconds\n",
      "   Time in active batches          = 1.0681e-02 seconds\n",
      "   Time accumulating tallies       = 4.7500e-06 seconds\n",
      "   Time writing statepoints        = 1.5223e-03 seconds\n",
      " Total time for finalization       = 1.8500e-05 seconds\n",
      " Total time elapsed                = 5.3376e-01 seconds\n",
      " Calculation Rate (active)         = 936.250 particles/second\n",
      "\n",
      " ============================>     RESULTS     <============================\n",
      "\n",
      " WARNING: Could not compute uncertainties -- only one active batch simulated!\n",
      " Leakage Fraction           = 0.00000\n",
      "\n"
     ]
    },
    {
     "data": {
      "text/plain": [
       "PosixPath('/home/jshim/neutronics-workshop/tasks/task_04_make_sources/statepoint.1.h5')"
      ]
     },
     "execution_count": 2,
     "metadata": {},
     "output_type": "execute_result"
    }
   ],
   "source": [
    "# Run OpenMC!\n",
    "model = openmc.model.Model(geom, mats, sett)\n",
    "model.run(tracks=True)  # this creates h5 files that contain track information"
   ]
  },
  {
   "cell_type": "markdown",
   "metadata": {},
   "source": [
    "This loops through the h5 files and uses a script provided with OpenMC to convert them to vtp files (which can be opened with Paraview)."
   ]
  },
  {
   "cell_type": "code",
   "execution_count": 3,
   "metadata": {},
   "outputs": [],
   "source": [
    "for i in range(1, 11):\n",
    "    os.system('openmc-track-to-vtk track_1_1_'+str(i)+'.h5 -o track_1_1_'+str(i))"
   ]
  },
  {
   "cell_type": "markdown",
   "metadata": {},
   "source": [
    "This next code block might be familar from task 3. Here, we are converting the geometry into a 3D version which can be viewed. This will provide a nice background for the tracks so we know where are relative to the materials."
   ]
  },
  {
   "cell_type": "code",
   "execution_count": 4,
   "metadata": {},
   "outputs": [
    {
     "name": "stdout",
     "output_type": "stream",
     "text": [
      "                                %%%%%%%%%%%%%%%\n",
      "                           %%%%%%%%%%%%%%%%%%%%%%%%\n",
      "                        %%%%%%%%%%%%%%%%%%%%%%%%%%%%%%\n",
      "                      %%%%%%%%%%%%%%%%%%%%%%%%%%%%%%%%%%\n",
      "                    %%%%%%%%%%%%%%%%%%%%%%%%%%%%%%%%%%%%%%\n",
      "                   %%%%%%%%%%%%%%%%%%%%%%%%%%%%%%%%%%%%%%%%\n",
      "                                    %%%%%%%%%%%%%%%%%%%%%%%%\n",
      "                                     %%%%%%%%%%%%%%%%%%%%%%%%\n",
      "                 ###############      %%%%%%%%%%%%%%%%%%%%%%%%\n",
      "                ##################     %%%%%%%%%%%%%%%%%%%%%%%\n",
      "                ###################     %%%%%%%%%%%%%%%%%%%%%%%\n",
      "                ####################     %%%%%%%%%%%%%%%%%%%%%%\n",
      "                #####################     %%%%%%%%%%%%%%%%%%%%%\n",
      "                ######################     %%%%%%%%%%%%%%%%%%%%\n",
      "                #######################     %%%%%%%%%%%%%%%%%%\n",
      "                 #######################     %%%%%%%%%%%%%%%%%\n",
      "                 ######################     %%%%%%%%%%%%%%%%%\n",
      "                  ####################     %%%%%%%%%%%%%%%%%\n",
      "                    #################     %%%%%%%%%%%%%%%%%\n",
      "                     ###############     %%%%%%%%%%%%%%%%\n",
      "                       ############     %%%%%%%%%%%%%%%\n",
      "                          ########     %%%%%%%%%%%%%%\n",
      "                                      %%%%%%%%%%%\n",
      "\n",
      "                   | The OpenMC Monte Carlo Code\n",
      "         Copyright | 2011-2021 MIT and OpenMC contributors\n",
      "           License | https://docs.openmc.org/en/latest/license.html\n",
      "           Version | 0.13.0-dev\n",
      "          Git SHA1 | 209fdd86ed14a16d4b73e9c44de8a9710a898e64\n",
      "         Date/Time | 2021-10-16 22:56:33\n",
      "     MPI Processes | 1\n",
      "    OpenMP Threads | 8\n",
      "\n",
      " Reading settings XML file...\n",
      " Reading cross sections XML file...\n",
      " Reading materials XML file...\n",
      " Reading geometry XML file...\n",
      " Preparing distributed cell instances...\n",
      " Reading plot XML file...\n",
      " WARNING: Color specifications ignored in voxel plot 1\n",
      "\n",
      " =======================>     PLOTTING SUMMARY     <========================\n",
      "\n",
      "Plot ID: 1\n",
      "Plot file: plot_3d.h5\n",
      "Universe depth: -1\n",
      "Plot Type: Voxel\n",
      "Origin: 0.0 0.0 0.0\n",
      "Width: 1300.0 1300.0 1300.0\n",
      "Coloring: Materials\n",
      "Voxels: 100 100 100\n",
      "\n",
      " Processing plot 1: plot_3d.h5...\n",
      "Reading and translating data...\n",
      "Writing VTK file plot_3d.vti...\n"
     ]
    },
    {
     "data": {
      "text/plain": [
       "0"
      ]
     },
     "execution_count": 4,
     "metadata": {},
     "output_type": "execute_result"
    }
   ],
   "source": [
    "vox_plot = openmc.Plot()\n",
    "vox_plot.type = 'voxel'\n",
    "vox_plot.width = (1300., 1300., 1300.)\n",
    "vox_plot.pixels = (100, 100, 100)\n",
    "vox_plot.filename = 'plot_3d'\n",
    "vox_plot.color_by = 'material'\n",
    "vox_plot.colors = {moderating_material: 'blue', transparent_material: 'red'}\n",
    "plots = openmc.Plots([vox_plot])\n",
    "plots.export_to_xml()\n",
    "\n",
    "openmc.plot_geometry()\n",
    "# openmc-voxel-to-vtk is a python script distributed with openmc\n",
    "os.system('openmc-voxel-to-vtk plot_3d.h5 -o plot_3d.vti')"
   ]
  },
  {
   "cell_type": "markdown",
   "metadata": {},
   "source": [
    "This next command generates a download link to the 3D vti and vtp files generated.\n",
    "\n",
    "Click on the link to download the vtk file onto your base computer and open it with a VTK file reader such as Paraview or Visit.\n",
    "\n",
    "Paraview can be downloaded here: https://www.paraview.org/download/. Visit can be downloaded here https://wci.llnl.gov/simulation/computer-codes/visit/downloads.\n"
   ]
  },
  {
   "cell_type": "code",
   "execution_count": 5,
   "metadata": {},
   "outputs": [
    {
     "data": {
      "text/html": [
       "<a href='plot_3d.vti' target='_blank'>plot_3d.vti</a><br>"
      ],
      "text/plain": [
       "/home/jshim/neutronics-workshop/tasks/task_04_make_sources/plot_3d.vti"
      ]
     },
     "metadata": {},
     "output_type": "display_data"
    },
    {
     "data": {
      "text/html": [
       "<a href='track_1_1_1_0.vtp' target='_blank'>track_1_1_1_0.vtp</a><br>"
      ],
      "text/plain": [
       "/home/jshim/neutronics-workshop/tasks/task_04_make_sources/track_1_1_1_0.vtp"
      ]
     },
     "metadata": {},
     "output_type": "display_data"
    },
    {
     "data": {
      "text/html": [
       "<a href='track_1_1_2_0.vtp' target='_blank'>track_1_1_2_0.vtp</a><br>"
      ],
      "text/plain": [
       "/home/jshim/neutronics-workshop/tasks/task_04_make_sources/track_1_1_2_0.vtp"
      ]
     },
     "metadata": {},
     "output_type": "display_data"
    },
    {
     "data": {
      "text/html": [
       "<a href='track_1_1_3_0.vtp' target='_blank'>track_1_1_3_0.vtp</a><br>"
      ],
      "text/plain": [
       "/home/jshim/neutronics-workshop/tasks/task_04_make_sources/track_1_1_3_0.vtp"
      ]
     },
     "metadata": {},
     "output_type": "display_data"
    },
    {
     "data": {
      "text/html": [
       "<a href='track_1_1_4_0.vtp' target='_blank'>track_1_1_4_0.vtp</a><br>"
      ],
      "text/plain": [
       "/home/jshim/neutronics-workshop/tasks/task_04_make_sources/track_1_1_4_0.vtp"
      ]
     },
     "metadata": {},
     "output_type": "display_data"
    },
    {
     "data": {
      "text/html": [
       "<a href='track_1_1_5_0.vtp' target='_blank'>track_1_1_5_0.vtp</a><br>"
      ],
      "text/plain": [
       "/home/jshim/neutronics-workshop/tasks/task_04_make_sources/track_1_1_5_0.vtp"
      ]
     },
     "metadata": {},
     "output_type": "display_data"
    },
    {
     "data": {
      "text/html": [
       "<a href='track_1_1_6_0.vtp' target='_blank'>track_1_1_6_0.vtp</a><br>"
      ],
      "text/plain": [
       "/home/jshim/neutronics-workshop/tasks/task_04_make_sources/track_1_1_6_0.vtp"
      ]
     },
     "metadata": {},
     "output_type": "display_data"
    },
    {
     "data": {
      "text/html": [
       "<a href='track_1_1_7_0.vtp' target='_blank'>track_1_1_7_0.vtp</a><br>"
      ],
      "text/plain": [
       "/home/jshim/neutronics-workshop/tasks/task_04_make_sources/track_1_1_7_0.vtp"
      ]
     },
     "metadata": {},
     "output_type": "display_data"
    },
    {
     "data": {
      "text/html": [
       "<a href='track_1_1_8_0.vtp' target='_blank'>track_1_1_8_0.vtp</a><br>"
      ],
      "text/plain": [
       "/home/jshim/neutronics-workshop/tasks/task_04_make_sources/track_1_1_8_0.vtp"
      ]
     },
     "metadata": {},
     "output_type": "display_data"
    },
    {
     "data": {
      "text/html": [
       "<a href='track_1_1_9_0.vtp' target='_blank'>track_1_1_9_0.vtp</a><br>"
      ],
      "text/plain": [
       "/home/jshim/neutronics-workshop/tasks/task_04_make_sources/track_1_1_9_0.vtp"
      ]
     },
     "metadata": {},
     "output_type": "display_data"
    },
    {
     "data": {
      "text/html": [
       "<a href='track_1_1_10_0.vtp' target='_blank'>track_1_1_10_0.vtp</a><br>"
      ],
      "text/plain": [
       "/home/jshim/neutronics-workshop/tasks/task_04_make_sources/track_1_1_10_0.vtp"
      ]
     },
     "metadata": {},
     "output_type": "display_data"
    }
   ],
   "source": [
    "from IPython.display import FileLink\n",
    "display(FileLink('plot_3d.vti'))\n",
    "display(FileLink('track_1_1_1_0.vtp'))\n",
    "display(FileLink('track_1_1_2_0.vtp'))\n",
    "display(FileLink('track_1_1_3_0.vtp'))\n",
    "display(FileLink('track_1_1_4_0.vtp'))\n",
    "display(FileLink('track_1_1_5_0.vtp'))\n",
    "display(FileLink('track_1_1_6_0.vtp'))\n",
    "display(FileLink('track_1_1_7_0.vtp'))\n",
    "display(FileLink('track_1_1_8_0.vtp'))\n",
    "display(FileLink('track_1_1_9_0.vtp'))\n",
    "display(FileLink('track_1_1_10_0.vtp'))"
   ]
  },
  {
   "cell_type": "markdown",
   "metadata": {},
   "source": [
    "**Learning Outcomes for Part 3:**\n",
    "\n",
    "- Particle tracks through geometry can be tracked in OpenMC and visualised in programs such as Paraview and Visit."
   ]
  }
 ],
 "metadata": {
  "kernelspec": {
   "display_name": "Python 3 (ipykernel)",
   "language": "python",
   "name": "python3"
  },
  "language_info": {
   "codemirror_mode": {
    "name": "ipython",
    "version": 3
   },
   "file_extension": ".py",
   "mimetype": "text/x-python",
   "name": "python",
   "nbconvert_exporter": "python",
   "pygments_lexer": "ipython3",
   "version": "3.9.5"
  }
 },
 "nbformat": 4,
 "nbformat_minor": 4
}
