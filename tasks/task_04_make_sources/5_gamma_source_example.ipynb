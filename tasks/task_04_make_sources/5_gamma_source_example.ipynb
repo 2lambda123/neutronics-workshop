{
 "cells": [
  {
   "attachments": {},
   "cell_type": "markdown",
   "metadata": {},
   "source": [
    "# Part 4 - Gamma sources\n",
    "\n",
    "OpenMC is also able to track gamma rays during a neutronics simulation.\n",
    "\n",
    "This python notebook allows users to define a gamma point source and plot the energy distribution of the emitted gamma rays.\n",
    "\n",
    "The energy distribution will be different to Part 1 as the type of particle is different and we have discrete branching ratios for the gamma source."
   ]
  },
  {
   "cell_type": "code",
   "execution_count": 1,
   "metadata": {},
   "outputs": [],
   "source": [
    "import openmc\n",
    "import openmc_source_plotter  # extends the openmc.IndependentSource class to include plotting functions"
   ]
  },
  {
   "attachments": {},
   "cell_type": "markdown",
   "metadata": {},
   "source": [
    "In this example we will define a gamma source similar to Co60.\n",
    "\n",
    "This is the decay scheme for Co60. The majoirty of the gamma emssion is via two high energy gamma rays (1.1732MeV and 1.3325MeV). Although there are [several other gamma emissions with low probabilites](http://www.nucleide.org/DDEP_WG/Nuclides/Co-60_tables.pdf) we will just model these two as 50:50 to keep the example simple."
   ]
  },
  {
   "attachments": {},
   "cell_type": "markdown",
   "metadata": {},
   "source": [
    "![decay routes](https://upload.wikimedia.org/wikipedia/commons/thumb/0/03/Cobalt-60m-decay.svg/1024px-Cobalt-60m-decay.svg.png)\n",
    "\n",
    "Image by Tubas-en - Own work, Public Domain, https://commons.wikimedia.org/w/index.php?curid=6330228"
   ]
  },
  {
   "attachments": {},
   "cell_type": "markdown",
   "metadata": {},
   "source": [
    "The following code block creates the gamma source using OpenMC and plots the energy distribution of a random sample of photons. Note how the particle type and energy distribution are defined."
   ]
  },
  {
   "cell_type": "code",
   "execution_count": 2,
   "metadata": {},
   "outputs": [],
   "source": [
    "# initializes a new source object\n",
    "my_source = openmc.IndependentSource()\n",
    "\n",
    "# sets the location of the source to x=0 y=0 z=0\n",
    "my_source.space = openmc.stats.Point((0, 0, 0))\n",
    "\n",
    "# sets the direction to isotropic\n",
    "my_source.angle = openmc.stats.Isotropic()\n",
    "\n",
    "# sets the energy distribution to 50% 1.1MeV photons and 50% 1.3MeV photons\n",
    "my_source.energy = openmc.stats.Discrete([1.1732e6,1.3325e6], [0.5, 0.5])\n",
    "\n",
    "my_source.particle = 'photon'"
   ]
  },
  {
   "attachments": {},
   "cell_type": "markdown",
   "metadata": {},
   "source": [
    "this next code block runs openmc and creates a file containing information on the initial particles. The energy information is the extracted and plotted.\n",
    "\n",
    "A few extra parameters are used here to specifiy the number of particles in the inital source and the energy bins of the histogram\n"
   ]
  },
  {
   "cell_type": "code",
   "execution_count": 3,
   "metadata": {},
   "outputs": [
    {
     "ename": "AttributeError",
     "evalue": "'IndependentSource' object has no attribute 'plot_source_energy'",
     "output_type": "error",
     "traceback": [
      "\u001b[0;31m---------------------------------------------------------------------------\u001b[0m",
      "\u001b[0;31mAttributeError\u001b[0m                            Traceback (most recent call last)",
      "\u001b[1;32m/home/jshimwell/neutronics-workshop/tasks/task_04_make_sources/5_gamma_source_example.ipynb Cell 8\u001b[0m in \u001b[0;36m<cell line: 4>\u001b[0;34m()\u001b[0m\n\u001b[1;32m      <a href='vscode-notebook-cell:/home/jshimwell/neutronics-workshop/tasks/task_04_make_sources/5_gamma_source_example.ipynb#X10sZmlsZQ%3D%3D?line=0'>1</a>\u001b[0m \u001b[39mimport\u001b[39;00m \u001b[39mnumpy\u001b[39;00m \u001b[39mas\u001b[39;00m \u001b[39mnp\u001b[39;00m\n\u001b[1;32m      <a href='vscode-notebook-cell:/home/jshimwell/neutronics-workshop/tasks/task_04_make_sources/5_gamma_source_example.ipynb#X10sZmlsZQ%3D%3D?line=2'>3</a>\u001b[0m \u001b[39m# number_of_particles can be increased to sample more particles and the histogram resoluton can be changed\u001b[39;00m\n\u001b[0;32m----> <a href='vscode-notebook-cell:/home/jshimwell/neutronics-workshop/tasks/task_04_make_sources/5_gamma_source_example.ipynb#X10sZmlsZQ%3D%3D?line=3'>4</a>\u001b[0m my_source\u001b[39m.\u001b[39;49mplot_source_energy(n_samples\u001b[39m=\u001b[39m\u001b[39m1000\u001b[39m,energy_bins\u001b[39m=\u001b[39mnp\u001b[39m.\u001b[39mlinspace(\u001b[39m0\u001b[39m, \u001b[39m2e6\u001b[39m, \u001b[39m100\u001b[39m))\n",
      "File \u001b[0;32m~/openmc/openmc/source.py:219\u001b[0m, in \u001b[0;36mIndependentSource.__getattr__\u001b[0;34m(self, name)\u001b[0m\n\u001b[1;32m    215\u001b[0m     \u001b[39mraise\u001b[39;00m \u001b[39mAttributeError\u001b[39;00m(\n\u001b[1;32m    216\u001b[0m         \u001b[39mf\u001b[39m\u001b[39m'\u001b[39m\u001b[39mThe \u001b[39m\u001b[39m\"\u001b[39m\u001b[39m{\u001b[39;00mname\u001b[39m}\u001b[39;00m\u001b[39m\"\u001b[39m\u001b[39m attribute has been deprecated on the \u001b[39m\u001b[39m'\u001b[39m\n\u001b[1;32m    217\u001b[0m         \u001b[39mf\u001b[39m\u001b[39m'\u001b[39m\u001b[39mIndependentSource class. Please use the \u001b[39m\u001b[39m{\u001b[39;00mcls_names[name]\u001b[39m}\u001b[39;00m\u001b[39m class.\u001b[39m\u001b[39m'\u001b[39m)\n\u001b[1;32m    218\u001b[0m \u001b[39melse\u001b[39;00m:\n\u001b[0;32m--> 219\u001b[0m     \u001b[39msuper\u001b[39;49m()\u001b[39m.\u001b[39;49m\u001b[39m__getattribute__\u001b[39;49m(name)\n",
      "\u001b[0;31mAttributeError\u001b[0m: 'IndependentSource' object has no attribute 'plot_source_energy'"
     ]
    }
   ],
   "source": [
    "\n",
    "import numpy as np\n",
    "\n",
    "# number_of_particles can be increased to sample more particles and the histogram resoluton can be changed\n",
    "my_source.plot_source_energy(n_samples=1000,energy_bins=np.linspace(0, 2e6, 100))\n",
    "\n",
    "# this time we are setting the number of energy bins for the plot\n"
   ]
  },
  {
   "attachments": {},
   "cell_type": "markdown",
   "metadata": {},
   "source": [
    "As the sampling is random the two peaks might not be equal sizes, despite the source having a 50:50 distribution.\n",
    "\n",
    "You can increase the ```number_of_particles``` in the last code block to sample more particles."
   ]
  },
  {
   "attachments": {},
   "cell_type": "markdown",
   "metadata": {},
   "source": [
    "**Learning Outcomes for Part 4:**\n",
    "- OpenMC can also be used to define gamma sources for neutronics simulations."
   ]
  }
 ],
 "metadata": {
  "interpreter": {
   "hash": "5bd4b41850c31a1d72163a729a4c4fa5fa95797eb7378d3a268e56354026bb3c"
  },
  "kernelspec": {
   "display_name": "Python 3.8.13 ('openmc_dev_2')",
   "language": "python",
   "name": "python3"
  },
  "language_info": {
   "codemirror_mode": {
    "name": "ipython",
    "version": 3
   },
   "file_extension": ".py",
   "mimetype": "text/x-python",
   "name": "python",
   "nbconvert_exporter": "python",
   "pygments_lexer": "ipython3",
   "version": "3.8.13"
  },
  "vscode": {
   "interpreter": {
    "hash": "d4d1e4263499bec80672ea0156c357c1ee493ec2b1c70f0acce89fc37c4a6abe"
   }
  }
 },
 "nbformat": 4,
 "nbformat_minor": 4
}
