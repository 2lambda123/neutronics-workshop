{
 "cells": [
  {
   "cell_type": "markdown",
   "metadata": {},
   "source": [
    "# Part 2 - Parametric plasma source plotting\n",
    "\n",
    "As show in Part 1, OpenMC can be used to create point sources with different energy distributions. However, there are other ways to create neutron sources for use in neutronics simulations.\n",
    "\n",
    "This python notebook allows users to plot the energy, position and initial directions of a parametric plasma source.\n",
    "\n",
    "The plasma source used is from the parametric_plasma_source package."
   ]
  },
  {
   "cell_type": "code",
   "execution_count": null,
   "metadata": {},
   "outputs": [],
   "source": [
    "from random import random\n",
    "import plotly.graph_objects as go\n",
    "from parametric_plasma_source import PlasmaSource"
   ]
  },
  {
   "cell_type": "markdown",
   "metadata": {},
   "source": [
    "This first code block creates a neutron source using the PlasmaSource class from the parametric_plasma_source package. The properties of the source are controlled by the input parameters."
   ]
  },
  {
   "cell_type": "code",
   "execution_count": null,
   "metadata": {},
   "outputs": [],
   "source": [
    "my_plasma = PlasmaSource(\n",
    "    elongation=1.557,\n",
    "    ion_density_origin=1.09e20,\n",
    "    ion_density_peaking_factor=1,\n",
    "    ion_density_pedestal=1.09e20,\n",
    "    ion_density_separatrix=3e19,\n",
    "    ion_temperature_origin=45.9,\n",
    "    ion_temperature_peaking_factor=8.06,\n",
    "    ion_temperature_pedestal=6.09,\n",
    "    ion_temperature_separatrix=0.1,\n",
    "    major_radius=906.0,\n",
    "    minor_radius=292.258,\n",
    "    pedestal_radius=0.8 * 292.258,\n",
    "    plasma_id=1,\n",
    "    shafranov_shift=0.44789,\n",
    "    triangularity=0.270,\n",
    "    ion_temperature_beta=6\n",
    ")"
   ]
  },
  {
   "cell_type": "markdown",
   "metadata": {},
   "source": [
    "To plot the parametric plasma source we store the x y z birth locations, energies and directions of neutrons in the source in separate lists."
   ]
  },
  {
   "cell_type": "code",
   "execution_count": null,
   "metadata": {},
   "outputs": [],
   "source": [
    "#creates empty lists ready to be populated\n",
    "x_locations, y_locations, z_locations, x_directions, y_directions, z_directions, energies = ([] for i in range(7))\n",
    "\n",
    "number_of_samples = 500\n",
    "\n",
    "for x in range(number_of_samples):\n",
    "    # randomises the neutron sampler\n",
    "    sample = my_plasma.sample([random(), random(), random(), random(), random(), random(), random(), random()])\n",
    "    x_locations.append(sample[0])\n",
    "    y_locations.append(sample[1])\n",
    "    z_locations.append(sample[2])\n",
    "    x_directions.append(sample[3])\n",
    "    y_directions.append(sample[4])\n",
    "    z_directions.append(sample[5])\n",
    "    energies.append(sample[6])\n",
    "\n",
    "    text = ['Energy = ' + str(i) + ' eV' for i in energies]"
   ]
  },
  {
   "cell_type": "markdown",
   "metadata": {},
   "source": [
    "This code block then plots the birth location of each neutron, coloured by neutron birth energy."
   ]
  },
  {
   "cell_type": "code",
   "execution_count": null,
   "metadata": {},
   "outputs": [],
   "source": [
    "fig_coords = go.Figure()\n",
    "\n",
    "fig_coords.add_trace(go.Scatter3d(\n",
    "    x=x_locations,\n",
    "    y=y_locations,\n",
    "    z=z_locations,\n",
    "    hovertext=text,\n",
    "    text=text,\n",
    "    mode='markers',\n",
    "    marker={\n",
    "        'size': 1.5,\n",
    "        'color': energies\n",
    "        }\n",
    "    )\n",
    ")\n",
    "\n",
    "fig_coords.update_layout(title='Neutron birth coordinates, coloured by energy')"
   ]
  },
  {
   "cell_type": "markdown",
   "metadata": {},
   "source": [
    "We can also plot the birth direction of each neutron."
   ]
  },
  {
   "cell_type": "code",
   "execution_count": null,
   "metadata": {},
   "outputs": [],
   "source": [
    "fig_directions = go.Figure()\n",
    "\n",
    "fig_directions.add_trace({\n",
    "    \"type\": \"cone\",\n",
    "    \"x\": x_locations,\n",
    "    \"y\": y_locations,\n",
    "    \"z\": z_locations,\n",
    "    \"u\": x_directions,\n",
    "    \"v\": y_directions,\n",
    "    \"w\": z_directions,\n",
    "    \"anchor\": \"tail\",\n",
    "    \"hoverinfo\": \"u+v+w+norm\",\n",
    "    \"sizeref\": 3,\n",
    "    \"showscale\": False,\n",
    "})\n",
    "\n",
    "fig_directions.update_layout(title='Neutron birth coordinates with initial directions')"
   ]
  },
  {
   "cell_type": "markdown",
   "metadata": {},
   "source": [
    "**Learning Outcomes for Part 2:**\n",
    "\n",
    "- Plasma sources can be defined using the parametric_plasma_source package."
   ]
  }
 ],
 "metadata": {
  "kernelspec": {
   "display_name": "Python 3",
   "language": "python",
   "name": "python3"
  },
  "language_info": {
   "codemirror_mode": {
    "name": "ipython",
    "version": 3
   },
   "file_extension": ".py",
   "mimetype": "text/x-python",
   "name": "python",
   "nbconvert_exporter": "python",
   "pygments_lexer": "ipython3",
   "version": "3.8.3"
  }
 },
 "nbformat": 4,
 "nbformat_minor": 4
}
