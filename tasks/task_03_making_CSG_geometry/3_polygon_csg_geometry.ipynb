{
 "cells": [
  {
   "cell_type": "code",
   "execution_count": null,
   "metadata": {},
   "outputs": [],
   "source": []
  },
  {
   "cell_type": "code",
   "execution_count": 87,
   "metadata": {},
   "outputs": [
    {
     "name": "stderr",
     "output_type": "stream",
     "text": [
      "/home/jshimwell/openmc/openmc/model/surface_composite.py:849: UserWarning: Setting boundary_type to a value other than 'transmission' on Polygon composite surfaces can result in unintended behavior. Please use the regions property of the Polygon to generate individual openmc.Cell objects to avoid unwanted behavior.\n",
      "  warnings.warn(\"Setting boundary_type to a value other than \"\n"
     ]
    },
    {
     "data": {
      "image/png": "[encoded data removed]",
      "text/plain": [
       "<Figure size 258.065x264.901 with 1 Axes>"
      ]
     },
     "metadata": {
      "needs_background": "light"
     },
     "output_type": "display_data"
    },
    {
     "data": {
      "image/png": "[encoded data removed]",
      "text/plain": [
       "<Figure size 258.065x264.901 with 1 Axes>"
      ]
     },
     "metadata": {
      "needs_background": "light"
     },
     "output_type": "display_data"
    }
   ],
   "source": [
    "import openmc\n",
    "import numpy as np\n",
    "import matplotlib.pyplot as plt\n",
    "# define a 5 pointed star centered on 1, 1\n",
    "star = np.array(\n",
    "    [\n",
    "        [1.0, 2.0],\n",
    "        [0.70610737, 1.4045085],\n",
    "        [0.04894348, 1.30901699],\n",
    "        [0.52447174, 0.8454915],\n",
    "        [0.41221475, 0.19098301],\n",
    "        [1.0, 0.5],\n",
    "        [1.58778525, 0.19098301],\n",
    "        [1.47552826, 0.8454915],\n",
    "        [1.95105652, 1.30901699],\n",
    "        [1.29389263, 1.4045085],\n",
    "        [1.0, 2.0],\n",
    "    ]\n",
    ")\n",
    "\n",
    "surf_poly = openmc.model.Polygon(star, basis=\"rz\")\n",
    "surf_poly.boundary_type='vacuum'\n",
    "# surf_poly.rotate(5)\n",
    "\n",
    "\n",
    "region_poly = surf_poly.region\n",
    "\n",
    "cell_poly = openmc.Cell(region=region_poly)\n",
    "\n",
    "my_geometry = openmc.Geometry([cell_poly])\n",
    "my_geometry.root_universe.lower_left = (-max(surf_poly.points[:,1]), -max(surf_poly.points[:,1]), min(surf_poly.points[:,0])) \n",
    "my_geometry.root_universe.upper_right = (max(surf_poly.points[:,1]), max(surf_poly.points[:,1]), max(surf_poly.points[:,0])) \n",
    "my_geometry.bounding_box=(my_geometry.root_universe.lower_left, my_geometry.root_universe.upper_right)\n",
    "\n",
    "my_geometry.root_universe.plot(basis='yz')\n",
    "\n",
    "plt.show()\n",
    "my_geometry.root_universe.plot(basis='xy', origin=(0,0,1))\n",
    "\n",
    "plt.show()\n",
    "\n",
    "# surf_poly2 = surf_poly.offset(0.5)\n",
    "# region_poly2 = -surf_poly2 & +surf_poly\n",
    "\n",
    "# cell_poly.rotation=[45,0,0]\n",
    "# cell_poly2 = openmc.Cell(region=region_poly2)\n",
    "\n",
    "\n"
   ]
  },
  {
   "cell_type": "code",
   "execution_count": 81,
   "metadata": {},
   "outputs": [],
   "source": [
    "material_1 = openmc.Material() \n",
    "material_1.add_element('Li', 1, percent_type='ao')\n",
    "material_1.set_density('g/cm3', 0.5)\n",
    "\n",
    "my_materials = openmc.Materials([material_1])\n"
   ]
  },
  {
   "cell_type": "code",
   "execution_count": 82,
   "metadata": {},
   "outputs": [
    {
     "name": "stderr",
     "output_type": "stream",
     "text": [
      "/home/jshimwell/openmc/openmc/source.py:388: FutureWarning: This class is deprecated in favor of 'IndependentSource'\n",
      "  warnings.warn(\"This class is deprecated in favor of 'IndependentSource'\", FutureWarning)\n"
     ]
    }
   ],
   "source": [
    "my_settings = openmc.Settings()\n",
    "my_settings.batches = 100\n",
    "my_settings.inactive = 0\n",
    "my_settings.particles = 50\n",
    "my_settings.particle = \"neutron\"\n",
    "my_settings.run_mode = 'fixed source'\n",
    "\n",
    "my_source = openmc.Source()\n",
    "my_source.space = openmc.stats.Point((1, 1, 1))\n",
    "my_source.angle = openmc.stats.Isotropic()\n",
    "my_source.energy = openmc.stats.Discrete([14e6], [1])\n",
    "my_settings.source = my_source\n",
    "\n"
   ]
  },
  {
   "cell_type": "code",
   "execution_count": 83,
   "metadata": {},
   "outputs": [
    {
     "name": "stdout",
     "output_type": "stream",
     "text": [
      "RegularMesh\n",
      "\tID             =\t25\n",
      "\tName           =\t\n",
      "\tDimensions     =\t3\n",
      "\tVoxels         =\t[100, 100, 100]\n",
      "\tLower left     =\t(-2.0, -2.0, 0.04894348)\n",
      "\tUpper Right    =\t(2.0, 2.0, 1.95105652)\n",
      "\tWidth          =\tNone\n",
      "\n"
     ]
    }
   ],
   "source": [
    "mesh = openmc.RegularMesh()\n",
    "mesh.lower_left = (-max(surf_poly.points[:,1]), -max(surf_poly.points[:,1]), min(surf_poly.points[:,0])) \n",
    "mesh.upper_right = (max(surf_poly.points[:,1]), max(surf_poly.points[:,1]), max(surf_poly.points[:,0])) \n",
    "mesh.dimension=[100, 100, 100] # only 1 cell in the Y dimension\n",
    "print(mesh)\n",
    "\n",
    "mesh_filter = openmc.MeshFilter(mesh)\n",
    "mesh_tally = openmc.Tally(name='tallies_on_mesh')\n",
    "mesh_tally.filters = [mesh_filter]\n",
    "mesh_tally.scores = ['flux']\n",
    "my_tallies = openmc.Tallies([mesh_tally])\n"
   ]
  },
  {
   "cell_type": "code",
   "execution_count": 84,
   "metadata": {},
   "outputs": [
    {
     "name": "stdout",
     "output_type": "stream",
     "text": [
      "                                %%%%%%%%%%%%%%%\n",
      "                           %%%%%%%%%%%%%%%%%%%%%%%%\n",
      "                        %%%%%%%%%%%%%%%%%%%%%%%%%%%%%%\n",
      "                      %%%%%%%%%%%%%%%%%%%%%%%%%%%%%%%%%%\n",
      "                    %%%%%%%%%%%%%%%%%%%%%%%%%%%%%%%%%%%%%%\n",
      "                   %%%%%%%%%%%%%%%%%%%%%%%%%%%%%%%%%%%%%%%%\n",
      "                                    %%%%%%%%%%%%%%%%%%%%%%%%\n",
      "                                     %%%%%%%%%%%%%%%%%%%%%%%%\n",
      "                 ###############      %%%%%%%%%%%%%%%%%%%%%%%%\n",
      "                ##################     %%%%%%%%%%%%%%%%%%%%%%%\n",
      "                ###################     %%%%%%%%%%%%%%%%%%%%%%%\n",
      "                ####################     %%%%%%%%%%%%%%%%%%%%%%\n",
      "                #####################     %%%%%%%%%%%%%%%%%%%%%\n",
      "                ######################     %%%%%%%%%%%%%%%%%%%%\n",
      "                #######################     %%%%%%%%%%%%%%%%%%\n",
      "                 #######################     %%%%%%%%%%%%%%%%%\n",
      "                 ######################     %%%%%%%%%%%%%%%%%\n",
      "                  ####################     %%%%%%%%%%%%%%%%%\n",
      "                    #################     %%%%%%%%%%%%%%%%%\n",
      "                     ###############     %%%%%%%%%%%%%%%%\n",
      "                       ############     %%%%%%%%%%%%%%%\n",
      "                          ########     %%%%%%%%%%%%%%\n",
      "                                      %%%%%%%%%%%\n",
      "\n",
      "                 | The OpenMC Monte Carlo Code\n",
      "       Copyright | 2011-2023 MIT, UChicago Argonne LLC, and contributors\n",
      "         License | https://docs.openmc.org/en/latest/license.html\n",
      "         Version | 0.13.4-dev\n",
      "        Git SHA1 | cd13d3471da30213bf68b91739994b73bb07cb90\n",
      "       Date/Time | 2023-07-31 13:02:25\n",
      "  OpenMP Threads | 28\n",
      "\n",
      " Reading model XML file './model.xml' ...\n",
      " WARNING: Other XML file input(s) are present. These files may be ignored in\n",
      "          favor of the ./model.xml file.\n",
      " Reading cross sections XML file...\n",
      " Reading Li6 from /home/jshimwell/ENDF-B-VIII.0-NNDC/h5_files/neutron/Li6.h5\n",
      " Reading Li7 from /home/jshimwell/ENDF-B-VIII.0-NNDC/h5_files/neutron/Li7.h5\n",
      " Minimum neutron data temperature: 250 K\n",
      " Maximum neutron data temperature: 2500 K\n",
      " Preparing distributed cell instances...\n",
      " Writing summary.h5 file...\n",
      "HDF5-DIAG: Error detected in HDF5 (1.10.0-patch1) thread 140065903679488:\n",
      "  #000: ../../../src/H5F.c line 491 in H5Fcreate(): unable to create file\n",
      "    major: File accessibilty\n",
      "    minor: Unable to open file\n",
      "  #001: ../../../src/H5Fint.c line 1168 in H5F_open(): unable to lock the file or initialize file structure\n",
      "    major: File accessibilty\n",
      "    minor: Unable to open file\n",
      "  #002: ../../../src/H5FD.c line 1821 in H5FD_lock(): driver lock request failed\n",
      "    major: Virtual File Layer\n",
      "    minor: Can't update object\n",
      "  #003: ../../../src/H5FDsec2.c line 939 in H5FD_sec2_lock(): unable to flock file, errno = 11, error message = 'Resource temporarily unavailable'\n",
      "    major: File accessibilty\n",
      "    minor: Bad file ID accessed\n",
      " ERROR: Failed to open HDF5 file with mode 'w': summary.h5\n"
     ]
    },
    {
     "ename": "RuntimeError",
     "evalue": "Failed to open HDF5 file with mode 'w': summary.h5",
     "output_type": "error",
     "traceback": [
      "\u001b[0;31m---------------------------------------------------------------------------\u001b[0m",
      "\u001b[0;31mRuntimeError\u001b[0m                              Traceback (most recent call last)",
      "\u001b[1;32m/home/jshimwell/Downloads/fng_dose_r2s_fresh/neutron/3_polygon_csg_geometry.ipynb Cell 6\u001b[0m in \u001b[0;36m<cell line: 2>\u001b[0;34m()\u001b[0m\n\u001b[1;32m      <a href='vscode-notebook-cell:/home/jshimwell/Downloads/fng_dose_r2s_fresh/neutron/3_polygon_csg_geometry.ipynb#W5sZmlsZQ%3D%3D?line=0'>1</a>\u001b[0m model \u001b[39m=\u001b[39m openmc\u001b[39m.\u001b[39mmodel\u001b[39m.\u001b[39mModel(my_geometry, my_materials, my_settings, my_tallies)\n\u001b[0;32m----> <a href='vscode-notebook-cell:/home/jshimwell/Downloads/fng_dose_r2s_fresh/neutron/3_polygon_csg_geometry.ipynb#W5sZmlsZQ%3D%3D?line=1'>2</a>\u001b[0m output_filename \u001b[39m=\u001b[39m model\u001b[39m.\u001b[39;49mrun()\n",
      "File \u001b[0;32m~/openmc/openmc/model/model.py:712\u001b[0m, in \u001b[0;36mModel.run\u001b[0;34m(self, particles, threads, geometry_debug, restart_file, tracks, output, cwd, openmc_exec, mpi_args, event_based, export_model_xml, **export_kwargs)\u001b[0m\n\u001b[1;32m    710\u001b[0m     \u001b[39melse\u001b[39;00m:\n\u001b[1;32m    711\u001b[0m         \u001b[39mself\u001b[39m\u001b[39m.\u001b[39mexport_to_xml(\u001b[39m*\u001b[39m\u001b[39m*\u001b[39mexport_kwargs)\n\u001b[0;32m--> 712\u001b[0m     openmc\u001b[39m.\u001b[39;49mrun(particles, threads, geometry_debug, restart_file,\n\u001b[1;32m    713\u001b[0m                tracks, output, Path(\u001b[39m'\u001b[39;49m\u001b[39m.\u001b[39;49m\u001b[39m'\u001b[39;49m), openmc_exec, mpi_args,\n\u001b[1;32m    714\u001b[0m                event_based)\n\u001b[1;32m    716\u001b[0m \u001b[39m# Get output directory and return the last statepoint written\u001b[39;00m\n\u001b[1;32m    717\u001b[0m \u001b[39mif\u001b[39;00m \u001b[39mself\u001b[39m\u001b[39m.\u001b[39msettings\u001b[39m.\u001b[39moutput \u001b[39mand\u001b[39;00m \u001b[39m'\u001b[39m\u001b[39mpath\u001b[39m\u001b[39m'\u001b[39m \u001b[39min\u001b[39;00m \u001b[39mself\u001b[39m\u001b[39m.\u001b[39msettings\u001b[39m.\u001b[39moutput:\n",
      "File \u001b[0;32m~/openmc/openmc/executor.py:314\u001b[0m, in \u001b[0;36mrun\u001b[0;34m(particles, threads, geometry_debug, restart_file, tracks, output, cwd, openmc_exec, mpi_args, event_based, path_input)\u001b[0m\n\u001b[1;32m    261\u001b[0m \u001b[39m\"\"\"Run an OpenMC simulation.\u001b[39;00m\n\u001b[1;32m    262\u001b[0m \n\u001b[1;32m    263\u001b[0m \u001b[39mParameters\u001b[39;00m\n\u001b[0;32m   (...)\u001b[0m\n\u001b[1;32m    305\u001b[0m \n\u001b[1;32m    306\u001b[0m \u001b[39m\"\"\"\u001b[39;00m\n\u001b[1;32m    308\u001b[0m args \u001b[39m=\u001b[39m _process_CLI_arguments(\n\u001b[1;32m    309\u001b[0m     volume\u001b[39m=\u001b[39m\u001b[39mFalse\u001b[39;00m, geometry_debug\u001b[39m=\u001b[39mgeometry_debug, particles\u001b[39m=\u001b[39mparticles,\n\u001b[1;32m    310\u001b[0m     restart_file\u001b[39m=\u001b[39mrestart_file, threads\u001b[39m=\u001b[39mthreads, tracks\u001b[39m=\u001b[39mtracks,\n\u001b[1;32m    311\u001b[0m     event_based\u001b[39m=\u001b[39mevent_based, openmc_exec\u001b[39m=\u001b[39mopenmc_exec, mpi_args\u001b[39m=\u001b[39mmpi_args,\n\u001b[1;32m    312\u001b[0m     path_input\u001b[39m=\u001b[39mpath_input)\n\u001b[0;32m--> 314\u001b[0m _run(args, output, cwd)\n",
      "File \u001b[0;32m~/openmc/openmc/executor.py:125\u001b[0m, in \u001b[0;36m_run\u001b[0;34m(args, output, cwd)\u001b[0m\n\u001b[1;32m    122\u001b[0m     error_msg \u001b[39m=\u001b[39m \u001b[39m'\u001b[39m\u001b[39mOpenMC aborted unexpectedly.\u001b[39m\u001b[39m'\u001b[39m\n\u001b[1;32m    123\u001b[0m error_msg \u001b[39m=\u001b[39m \u001b[39m'\u001b[39m\u001b[39m \u001b[39m\u001b[39m'\u001b[39m\u001b[39m.\u001b[39mjoin(error_msg\u001b[39m.\u001b[39msplit())\n\u001b[0;32m--> 125\u001b[0m \u001b[39mraise\u001b[39;00m \u001b[39mRuntimeError\u001b[39;00m(error_msg)\n",
      "\u001b[0;31mRuntimeError\u001b[0m: Failed to open HDF5 file with mode 'w': summary.h5"
     ]
    }
   ],
   "source": [
    "model = openmc.model.Model(my_geometry, my_materials, my_settings, my_tallies)\n",
    "output_filename = model.run()"
   ]
  },
  {
   "cell_type": "code",
   "execution_count": null,
   "metadata": {},
   "outputs": [],
   "source": [
    "results = openmc.StatePoint(output_filename)\n",
    "\n",
    "my_tally = results.get_tally(scores=['flux'])\n",
    "my_slice = my_tally.get_slice(scores=['flux'])\n",
    "\n",
    "my_slice.mean.shape = (mesh.dimension[0], mesh.dimension[1], mesh.dimension[2]) # setting the resolution to the mesh dimensions\n"
   ]
  },
  {
   "cell_type": "code",
   "execution_count": null,
   "metadata": {},
   "outputs": [],
   "source": []
  }
 ],
 "metadata": {
  "kernelspec": {
   "display_name": "openmc_dev",
   "language": "python",
   "name": "python3"
  },
  "language_info": {
   "codemirror_mode": {
    "name": "ipython",
    "version": 3
   },
   "file_extension": ".py",
   "mimetype": "text/x-python",
   "name": "python",
   "nbconvert_exporter": "python",
   "pygments_lexer": "ipython3",
   "version": "3.8.13"
  },
  "orig_nbformat": 4
 },
 "nbformat": 4,
 "nbformat_minor": 2
}
