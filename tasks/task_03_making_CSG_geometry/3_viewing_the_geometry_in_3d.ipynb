{
 "cells": [
  {
   "cell_type": "markdown",
   "metadata": {},
   "source": [
    "# Part 3 - 3D Geometry viewing\n",
    "\n",
    "It is also possible to create a 3D representation of CSG geometry. The model is converted into a pixelated geometry which can resemble the style of geometry seen in the minecraft computer game.\n",
    "\n",
    "This is not an actual representation of the CSG geometry but more like a sample of the types of cells with 3D coordinates. CAD geometry is covered later and this gives us a method of seeing the 3D geometry more accurately.\n",
    "\n",
    "3D pixelated geometry can still be useful for exploring the model; particularly if the resolution is high enough. However, this can be a memory intensive task.\n",
    "\n",
    "This python notebook allows users to construct CSG geometry and view a 3D representation."
   ]
  },
  {
   "cell_type": "markdown",
   "metadata": {},
   "source": [
    "This first code block recreates the simple reactor geometry seen in Part 2, but also assigns materials to each cell."
   ]
  },
  {
   "cell_type": "code",
   "execution_count": null,
   "metadata": {},
   "outputs": [],
   "source": [
    "import openmc\n",
    "import os\n",
    "\n",
    "mats = openmc.Materials()\n",
    "\n",
    "copper = openmc.Material(name='Copper')\n",
    "copper.set_density('g/cm3', 8.5)\n",
    "copper.add_element('Cu', 1.0)  # Note, percent_type does not have to be specified as material is 100% copper\n",
    "mats.append(copper)\n",
    "\n",
    "eurofer = openmc.Material(name='steel')\n",
    "eurofer.set_density('g/cm3', 7.75)\n",
    "eurofer.add_element('Fe', 99.9, percent_type='wo')\n",
    "eurofer.add_element('C', 0.1, percent_type='wo')\n",
    "\n",
    "mats.append(eurofer)\n",
    "\n",
    "breeder_material = openmc.Material(name='breeder_material')\n",
    "breeder_material.set_density('g/cm3', 9.1)\n",
    "breeder_material.add_element('Pb', 84.2, percent_type='ao')\n",
    "breeder_material.add_element('Li', 15.8, percent_type='ao')\n",
    "mats.append(breeder_material)\n",
    "\n",
    "mats.export_to_xml()\n",
    "\n",
    "# define all the surfaces\n",
    "central_sol_surface = openmc.ZCylinder(r=100)\n",
    "central_shield_outer_surface = openmc.ZCylinder(r=110, boundary_type='vacuum')\n",
    "vessel_inner = openmc.Sphere(r=500, boundary_type='vacuum')\n",
    "first_wall_outer_surface = openmc.Sphere(r=510)\n",
    "breeder_blanket_outer_surface = openmc.Sphere(r=610)\n",
    "\n",
    "\n",
    "# define the cells\n",
    "central_sol_region = -central_sol_surface & -breeder_blanket_outer_surface\n",
    "central_sol_cell = openmc.Cell(region=central_sol_region)\n",
    "central_sol_cell.fill = copper\n",
    "\n",
    "central_shield_region = +central_sol_surface & -central_shield_outer_surface & -breeder_blanket_outer_surface\n",
    "central_shield_cell = openmc.Cell(region=central_shield_region)\n",
    "central_shield_cell.fill = eurofer\n",
    "\n",
    "first_wall_region = -first_wall_outer_surface & +vessel_inner & +central_shield_outer_surface\n",
    "first_wall_cell = openmc.Cell(region=first_wall_region)\n",
    "first_wall_cell.fill = eurofer\n",
    "\n",
    "breeder_blanket_region = +first_wall_outer_surface & -breeder_blanket_outer_surface & +central_shield_outer_surface\n",
    "breeder_blanket_cell = openmc.Cell(region=breeder_blanket_region)\n",
    "breeder_blanket_cell.fill = breeder_material\n",
    "\n",
    "universe = openmc.Universe(cells=[central_sol_cell,central_shield_cell,first_wall_cell, breeder_blanket_cell])\n",
    "\n",
    "geom = openmc.Geometry(universe)\n",
    "\n",
    "geom.export_to_xml()\n",
    "\n",
    "# A blank settings.xml is exported to allow the openmc plotter to work\n",
    "sett = openmc.Settings()\n",
    "sett.export_to_xml()"
   ]
  },
  {
   "cell_type": "markdown",
   "metadata": {},
   "source": [
    "The next code block runs OpenMC in geometry mode and produces a plot_3d_tokamak.h5 file. Particles are not transported through the geometry in this mode - it simply samples the geometry on the grid and makes a h5 output file with the results."
   ]
  },
  {
   "cell_type": "code",
   "execution_count": null,
   "metadata": {},
   "outputs": [],
   "source": [
    "# makes the 3d \"cube\" style geometry\n",
    "vox_plot = openmc.Plot()\n",
    "vox_plot.type = 'voxel'\n",
    "vox_plot.width = (1500., 1500., 1500.)\n",
    "vox_plot.pixels = (200, 200, 200)\n",
    "vox_plot.filename = 'plot_3d_tokamak'\n",
    "vox_plot.color_by = 'material'\n",
    "# vox_plot.colors = {copper: 'blue'}  # materials can be coloured using this command\n",
    "plots = openmc.Plots([vox_plot])\n",
    "plots.export_to_xml()\n",
    "\n",
    "openmc.plot_geometry()"
   ]
  },
  {
   "cell_type": "markdown",
   "metadata": {},
   "source": [
    "This code block runs a small conversion script that is provided with OpenMC. The script reads in the 3D array from the h5 file and converts it to a vti file that can be viewed using compatable software such as Paraview or Visit."
   ]
  },
  {
   "cell_type": "code",
   "execution_count": null,
   "metadata": {},
   "outputs": [],
   "source": [
    "# this converts the h5 file to a vti\n",
    "os.system('openmc-voxel-to-vtk plot_3d_tokamak.h5 -o plot_3d_tokamak.vti')"
   ]
  },
  {
   "cell_type": "markdown",
   "metadata": {},
   "source": [
    "Run this final command to generate a download link to the 3D vtk file."
   ]
  },
  {
   "cell_type": "code",
   "execution_count": null,
   "metadata": {},
   "outputs": [],
   "source": [
    "from IPython.display import FileLink\n",
    "display(FileLink('plot_3d_tokamak.vti'))"
   ]
  },
  {
   "cell_type": "markdown",
   "metadata": {},
   "source": [
    "Click on the link to download the vtk file onto your base computer and open it with a VTK file reader such as Paraview or Visit.\n",
    "\n",
    "Paraview can be downloaded here: https://www.paraview.org/download/. Visit can be downloaded here: https://wci.llnl.gov/simulation/computer-codes/visit/downloads."
   ]
  },
  {
   "cell_type": "markdown",
   "metadata": {},
   "source": [
    "**Learning Outcomes for Part 3**\n",
    "\n",
    "- CSG models can be converted to vti files and viewed in 3D with tools such as Paraview or Visit."
   ]
  }
 ],
 "metadata": {
  "kernelspec": {
   "display_name": "Python 3 (ipykernel)",
   "language": "python",
   "name": "python3"
  },
  "language_info": {
   "codemirror_mode": {
    "name": "ipython",
    "version": 3
   },
   "file_extension": ".py",
   "mimetype": "text/x-python",
   "name": "python",
   "nbconvert_exporter": "python",
   "pygments_lexer": "ipython3",
   "version": "3.9.5"
  }
 },
 "nbformat": 4,
 "nbformat_minor": 4
}
