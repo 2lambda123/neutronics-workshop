{
 "cells": [
  {
   "cell_type": "markdown",
   "metadata": {},
   "source": [
    "# Part 3 - 3D Geometry viewing\n",
    "\n",
    "It is also possible to convert CSG geometry into a 3D representation. The model is converted into a pixelated geometry which can resemble the style of geometry seen in the minecraft computer game.\n",
    "\n",
    "This is not a actual representation of the CSG geometry but more like sample the types of cells with 3D coordinates. CAD geometry is covered later and this gives us a method of seeing the 3D geometry more accurately.\n",
    "\n",
    "3D pixelated geometry can still be useful for exploring the model; particularly if the resolution is high enough. However, this can be a memory intensive task."
   ]
  },
  {
   "cell_type": "code",
   "execution_count": 7,
   "metadata": {},
   "outputs": [],
   "source": [
    "import openmc\n",
    "import os\n",
    "\n",
    "mats = openmc.Materials()\n",
    "\n",
    "copper = openmc.Material(name='Copper')\n",
    "copper.set_density('g/cm3', 8.5)\n",
    "copper.add_element('Cu', 1.0)  # Note, percent_type does not have to be specified as material is 100% copper\n",
    "mats.append(copper)\n",
    "\n",
    "eurofer = openmc.Material(name='EUROFER97')\n",
    "eurofer.set_density('g/cm3', 7.75)\n",
    "eurofer.add_element('Fe', 89.067, percent_type='wo')\n",
    "eurofer.add_element('C', 0.11, percent_type='wo')\n",
    "eurofer.add_element('Mn', 0.4, percent_type='wo')\n",
    "eurofer.add_element('Cr', 9.0, percent_type='wo')\n",
    "eurofer.add_element('Ta', 0.12, percent_type='wo')\n",
    "eurofer.add_element('W', 1.1, percent_type='wo')\n",
    "eurofer.add_element('N', 0.003, percent_type='wo')\n",
    "eurofer.add_element('V', 0.2, percent_type='wo')\n",
    "mats.append(eurofer)\n",
    "\n",
    "breeder_material = openmc.Material(name='breeder_material')\n",
    "breeder_material.set_density('g/cm3', 9.1)\n",
    "breeder_material.add_element('Pb', 84.2, percent_type='ao')\n",
    "breeder_material.add_element('Li', 15.8, percent_type='ao')\n",
    "mats.append(breeder_material)\n",
    "\n",
    "mats.export_to_xml()\n",
    "\n",
    "# define all the surfaces\n",
    "central_sol_surface = openmc.ZCylinder(r=100)\n",
    "central_shield_outer_surface = openmc.ZCylinder(r=110, boundary_type='vacuum')\n",
    "vessel_inner = openmc.Sphere(r=500, boundary_type='vacuum')\n",
    "first_wall_outer_surface = openmc.Sphere(r=510)\n",
    "breeder_blanket_outer_surface = openmc.Sphere(r=610)\n",
    "\n",
    "\n",
    "# define the cells\n",
    "central_sol_region = -central_sol_surface & -breeder_blanket_outer_surface\n",
    "central_sol_cell = openmc.Cell(region=central_sol_region)\n",
    "central_sol_cell.fill = copper\n",
    "\n",
    "central_shield_region = +central_sol_surface & -central_shield_outer_surface & -breeder_blanket_outer_surface\n",
    "central_shield_cell = openmc.Cell(region=central_shield_region)\n",
    "central_shield_cell.fill = eurofer\n",
    "\n",
    "first_wall_region = -first_wall_outer_surface & +vessel_inner & +central_shield_outer_surface\n",
    "first_wall_cell = openmc.Cell(region=first_wall_region)\n",
    "first_wall_cell.fill = eurofer\n",
    "\n",
    "breeder_blanket_region = +first_wall_outer_surface & -breeder_blanket_outer_surface & +central_shield_outer_surface\n",
    "breeder_blanket_cell = openmc.Cell(region=breeder_blanket_region)\n",
    "breeder_blanket_cell.fill = breeder_material\n",
    "\n",
    "universe = openmc.Universe(cells=[central_sol_cell,central_shield_cell,first_wall_cell, breeder_blanket_cell])\n",
    "\n",
    "geom = openmc.Geometry(universe)\n",
    "\n",
    "geom.export_to_xml()\n",
    "\n",
    "# A blank settings.xml is exported to allow the openmc plotter to work\n",
    "sett = openmc.Settings()\n",
    "sett.export_to_xml()"
   ]
  },
  {
   "cell_type": "markdown",
   "metadata": {},
   "source": [
    "This runs OpenMC in geometry mode and produces a plot_3d_tokamak.h5 file. Particles are not transported through the geometry in this mode - it simply samples the geometry on the grid and makes a h5 output file with the results."
   ]
  },
  {
   "cell_type": "code",
   "execution_count": null,
   "metadata": {},
   "outputs": [],
   "source": [
    "# makes the 3d \"cube\" style geometry\n",
    "vox_plot = openmc.Plot()\n",
    "vox_plot.type = 'voxel'\n",
    "vox_plot.width = (1500., 1500., 1500.)\n",
    "vox_plot.pixels = (200, 200, 200)\n",
    "vox_plot.filename = 'plot_3d_tokamak'\n",
    "vox_plot.color_by = 'material'\n",
    "# vox_plot.colors = {copper: 'blue'}  # materials can be coloured using this command\n",
    "plots = openmc.Plots([vox_plot])\n",
    "plots.export_to_xml()\n",
    "\n",
    "openmc.plot_geometry()"
   ]
  },
  {
   "cell_type": "markdown",
   "metadata": {},
   "source": [
    "This code block runs a small conversion script that is provided with OpenMC. The script reads in the 3D array from the h5 file and converts it to a vti file that can be viewed using compatable software such as Paraview or Visit."
   ]
  },
  {
   "cell_type": "code",
   "execution_count": null,
   "metadata": {},
   "outputs": [],
   "source": [
    "# this converts the h5 file to a vti\n",
    "os.system('openmc-voxel-to-vtk plot_3d_tokamak.h5 -o plot_3d_tokamak.vti')"
   ]
  },
  {
   "cell_type": "markdown",
   "metadata": {},
   "source": [
    "This next command generates a download link to the 3d vtk file generated.\n",
    "\n",
    "Click on the link to download the vtk file onto your base computer and open it with a VTK file reader such as Paraview or Visit.\n",
    "\n",
    "Paraview can be downloaded here: https://www.paraview.org/download/. Visit can be downloaded here: https://wci.llnl.gov/simulation/computer-codes/visit/downloads."
   ]
  },
  {
   "cell_type": "code",
   "execution_count": null,
   "metadata": {
    "scrolled": true
   },
   "outputs": [],
   "source": [
    "from IPython.display import FileLink\n",
    "display(FileLink('plot_3d_tokamak.vti'))"
   ]
  },
  {
   "cell_type": "markdown",
   "metadata": {},
   "source": [
    "**Learning Outcomes for Part 3**\n",
    "\n",
    "- CSG models can be converted to vti files and viewed in 3D with tools such as Paraview or Visit."
   ]
  }
 ],
 "metadata": {
  "kernelspec": {
   "display_name": "Python 3",
   "language": "python",
   "name": "python3"
  },
  "language_info": {
   "codemirror_mode": {
    "name": "ipython",
    "version": 3
   },
   "file_extension": ".py",
   "mimetype": "text/x-python",
   "name": "python",
   "nbconvert_exporter": "python",
   "pygments_lexer": "ipython3",
   "version": "3.8.3"
  }
 },
 "nbformat": 4,
 "nbformat_minor": 4
}
