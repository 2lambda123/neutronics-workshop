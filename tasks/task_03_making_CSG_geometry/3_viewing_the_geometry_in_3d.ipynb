{
 "cells": [
  {
   "cell_type": "code",
   "execution_count": null,
   "metadata": {},
   "outputs": [],
   "source": [
    "# This notebook is just a draft version and is not quite finished"
   ]
  },
  {
   "cell_type": "code",
   "execution_count": null,
   "metadata": {},
   "outputs": [],
   "source": [
    "#!/usr/bin/env python3\n",
    "\n",
    "\"\"\"example_isotope_plot.py: plots few 2D views of a simple tokamak geometry .\"\"\"\n",
    "\n",
    "__author__ = \"Jonathan Shimwell\"\n",
    "\n",
    "import openmc\n",
    "import os\n",
    "\n",
    "mats = openmc.Materials()\n",
    "\n",
    "copper = openmc.Material(name='Copper')\n",
    "copper.set_density('g/cm3', 8.5)\n",
    "copper.add_element('Cu', 1.0)  # Note, percent_type does not have to be specified as material is 100% copper\n",
    "mats.append(copper)\n",
    "\n",
    "eurofer = openmc.Material(name='EUROFER97')\n",
    "eurofer.set_density('g/cm3', 7.75)\n",
    "eurofer.add_element('Fe', 89.067, percent_type='wo')\n",
    "eurofer.add_element('C', 0.11, percent_type='wo')\n",
    "eurofer.add_element('Mn', 0.4, percent_type='wo')\n",
    "eurofer.add_element('Cr', 9.0, percent_type='wo')\n",
    "eurofer.add_element('Ta', 0.12, percent_type='wo')\n",
    "eurofer.add_element('W', 1.1, percent_type='wo')\n",
    "eurofer.add_element('N', 0.003, percent_type='wo')\n",
    "eurofer.add_element('V', 0.2, percent_type='wo')\n",
    "mats.append(eurofer)\n",
    "\n",
    "breeder_material = openmc.Material(name='breeder_material')\n",
    "breeder_material.set_density('g/cm3', 9.1)\n",
    "breeder_material.add_element('Pb', 84.2, percent_type='ao')\n",
    "breeder_material.add_element('Li', 15.8, percent_type='ao')\n",
    "mats.append(breeder_material)\n",
    "\n",
    "mats.export_to_xml()\n",
    "\n",
    "# define all the surfaces\n",
    "central_sol_surface = openmc.ZCylinder(r=100)\n",
    "central_shield_outer_surface = openmc.ZCylinder(r=110, boundary_type='vacuum')\n",
    "vessel_inner = openmc.Sphere(r=500, boundary_type='vacuum')\n",
    "first_wall_outer_surface = openmc.Sphere(r=510)\n",
    "breeder_blanket_outer_surface = openmc.Sphere(r=610)\n",
    "\n",
    "\n",
    "# define the cells\n",
    "central_sol_region = -central_sol_surface & -breeder_blanket_outer_surface\n",
    "central_sol_cell = openmc.Cell(region=central_sol_region)\n",
    "central_sol_cell.fill = copper\n",
    "\n",
    "central_shield_region = +central_sol_surface & -central_shield_outer_surface & -breeder_blanket_outer_surface\n",
    "central_shield_cell = openmc.Cell(region=central_shield_region)\n",
    "central_shield_cell.fill = eurofer\n",
    "\n",
    "first_wall_region = -first_wall_outer_surface & +vessel_inner & +central_shield_outer_surface\n",
    "first_wall_cell = openmc.Cell(region=first_wall_region)\n",
    "first_wall_cell.fill = eurofer\n",
    "\n",
    "breeder_blanket_region = +first_wall_outer_surface & -breeder_blanket_outer_surface & +central_shield_outer_surface\n",
    "breeder_blanket_cell = openmc.Cell(region=breeder_blanket_region)\n",
    "breeder_blanket_cell.fill = breeder_material\n",
    "\n",
    "universe = openmc.Universe(cells=[central_sol_cell,central_shield_cell,first_wall_cell, breeder_blanket_cell])\n",
    "\n",
    "geom = openmc.Geometry(universe)\n",
    "\n",
    "geom.export_to_xml()\n",
    "\n",
    "# A blank settings.xml is exported to allow the openmc plotter to work\n",
    "sett = openmc.Settings()\n",
    "sett.export_to_xml()\n",
    "\n",
    "\n",
    "# makes the 3d \"cube\" style geometry\n",
    "vox_plot = openmc.Plot()\n",
    "vox_plot.type = 'voxel'\n",
    "vox_plot.width = (1500., 1500., 1500.)\n",
    "vox_plot.pixels = (200, 200, 200)\n",
    "vox_plot.filename = 'plot_3d_tokamak'\n",
    "vox_plot.color_by = 'material'\n",
    "# vox_plot.colors = {copper: 'blue'}  # materials can be coloured using this command\n",
    "plots = openmc.Plots([vox_plot])\n",
    "plots.export_to_xml()\n",
    "\n",
    "openmc.plot_geometry()\n",
    "\n",
    "# this converts the h5 file to a vti\n",
    "os.system('openmc-voxel-to-vtk plot_3d_tokamak.h5 -o plot_3d_tokamak.vti')\n",
    "os.system('cp plot_3d_tokamak.vti /my_openmc_workshop')\n",
    "# os.system('paraview plot_3d_tokamak.vti')  # or visit might work better\n"
   ]
  },
  {
   "cell_type": "code",
   "execution_count": null,
   "metadata": {},
   "outputs": [],
   "source": [
    "!ls *.vti"
   ]
  },
  {
   "cell_type": "code",
   "execution_count": null,
   "metadata": {
    "scrolled": true
   },
   "outputs": [],
   "source": [
    "\n",
    "import vtk\n",
    "\n",
    "from itkwidgets import view\n",
    "\n",
    "\n",
    "reader = vtk.vtkXMLRectilinearGridReader()\n",
    "reader.SetFileName('3d_data.vti')\n",
    "reader.Update()\n",
    "\n",
    "\n",
    "vtk_image = reader.GetOutput()\n",
    "\n",
    "view(vtk_image)"
   ]
  },
  {
   "cell_type": "code",
   "execution_count": null,
   "metadata": {},
   "outputs": [],
   "source": [
    "pointdata"
   ]
  },
  {
   "cell_type": "code",
   "execution_count": null,
   "metadata": {},
   "outputs": [],
   "source": [
    "!cp plot_3d_tokamak.vti 3d_data.vti"
   ]
  },
  {
   "cell_type": "code",
   "execution_count": null,
   "metadata": {},
   "outputs": [],
   "source": [
    "!ls"
   ]
  },
  {
   "cell_type": "code",
   "execution_count": null,
   "metadata": {},
   "outputs": [],
   "source": []
  }
 ],
 "metadata": {
  "kernelspec": {
   "display_name": "Python 3",
   "language": "python",
   "name": "python3"
  },
  "language_info": {
   "codemirror_mode": {
    "name": "ipython",
    "version": 3
   },
   "file_extension": ".py",
   "mimetype": "text/x-python",
   "name": "python",
   "nbconvert_exporter": "python",
   "pygments_lexer": "ipython3",
   "version": "3.7.8"
  }
 },
 "nbformat": 4,
 "nbformat_minor": 4
}
