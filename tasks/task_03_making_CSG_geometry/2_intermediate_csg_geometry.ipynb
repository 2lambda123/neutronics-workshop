{
 "cells": [
  {
   "cell_type": "markdown",
   "metadata": {},
   "source": [
    "# Part 2 - Constructing CSG geometry\n",
    "\n",
    "This example builds on the previous model by adding a center column to the model.\n",
    "The center column requires a different surface type.\n",
    "\n",
    "OpenMC can use several different surface types in addition to spheres.\n",
    "The documentation contains useful information all surface types supported.\n",
    "\n",
    "https://openmc.readthedocs.io/en/stable/usersguide/geometry.html#surfaces-and-regions\n",
    "\n",
    "For the center column we will used a cylinder with Z axis orientation."
   ]
  },
  {
   "cell_type": "code",
   "execution_count": null,
   "metadata": {},
   "outputs": [],
   "source": [
    "import openmc\n",
    "import matplotlib.pyplot as plt\n",
    "\n",
    "# surfaces\n",
    "central_column_surface = openmc.ZCylinder(r=100) # note the new surface type\n",
    "inner_sphere_surface = openmc.Sphere(r=480)\n",
    "middle_sphere_surface = openmc.Sphere(r=500) \n",
    "outer_sphere_surface = openmc.Sphere(r=600, boundary_type='vacuum')\n",
    "\n",
    "# regions\n",
    "# the center column region is cut at the top and bottom using the -outer_sphere_surface\n",
    "central_column_region = -central_column_surface & -outer_sphere_surface\n",
    "firstwall_region = -middle_sphere_surface & +inner_sphere_surface & +central_column_surface\n",
    "blanket_region = +middle_sphere_surface & -outer_sphere_surface & +central_column_surface\n",
    "inner_vessel_region = +central_column_surface & -inner_sphere_surface\n",
    "\n",
    "# cells\n",
    "firstwall_cell = openmc.Cell(region=firstwall_region)\n",
    "central_column_cell = openmc.Cell(region=central_column_region)\n",
    "blanket_cell = openmc.Cell(region=blanket_region)\n",
    "inner_vessel_cell = openmc.Cell(region=inner_vessel_region)\n",
    "\n",
    "universe = openmc.Universe(cells=[central_column_cell, firstwall_cell,\n",
    "                                  blanket_cell, inner_vessel_cell])\n",
    "\n",
    "# VISULISATION\n",
    "color_assignment = {blanket_cell: 'blue', firstwall_cell: 'red',\n",
    "                    inner_vessel_cell:'grey', central_column_cell:'purple'}\n",
    "plt.show(universe.plot(width=(1200, 1200), basis='xz', colors=color_assignment))\n",
    "plt.show(universe.plot(width=(1200, 1200), basis='xy', colors=color_assignment))\n",
    "plt.show(universe.plot(width=(1200, 1200), basis='yz', colors=color_assignment))\n"
   ]
  },
  {
   "cell_type": "markdown",
   "metadata": {},
   "source": [
    "Another way to achieve the shape is to use Boolean operators."
   ]
  },
  {
   "cell_type": "code",
   "execution_count": null,
   "metadata": {},
   "outputs": [],
   "source": [
    "# surfaces\n",
    "central_column_surface = openmc.ZCylinder(r=100) # note the new surface type\n",
    "inner_sphere_surface = openmc.Sphere(r=480)\n",
    "middle_sphere_surface = openmc.Sphere(r=500) \n",
    "outer_sphere_surface = openmc.Sphere(r=600, boundary_type='vacuum')\n",
    "\n",
    "# regions, this time defined using boolean operators\n",
    "# There are 3 opperators | OR, & AND, ~ NOT\n",
    "\n",
    "central_column_region = -central_column_surface & -outer_sphere_surface\n",
    "\n",
    "# the inner_vessel_region is defined using the logical NOT operator ~\n",
    "inner_vessel_region = -inner_sphere_surface & ~central_column_region\n",
    "\n",
    "# the firstwall_region is defined as below the middle surface and not in two other regions\n",
    "firstwall_region = -middle_sphere_surface & ~inner_vessel_region & ~central_column_region\n",
    "\n",
    "# the blanket_region is defined as between two surfaces and not the center_column_region\n",
    "blanket_region = +middle_sphere_surface & -outer_sphere_surface & ~central_column_region\n",
    "\n",
    "\n",
    "# cells defined in the same way\n",
    "firstwall_cell = openmc.Cell(region=firstwall_region)\n",
    "central_column_cell = openmc.Cell(region=central_column_region)\n",
    "blanket_cell = openmc.Cell(region=blanket_region)\n",
    "inner_vessel_cell = openmc.Cell(region=inner_vessel_region)\n",
    "\n",
    "universe = openmc.Universe(cells=[central_column_cell, firstwall_cell,\n",
    "                                  blanket_cell, inner_vessel_cell])\n",
    "\n",
    "# VISULISATION\n",
    "color_assignment = {blanket_cell: 'blue', firstwall_cell: 'red',\n",
    "                    inner_vessel_cell:'grey', central_column_cell:'purple'}\n",
    "plt.show(universe.plot(width=(1200, 1200), basis='xz', colors=color_assignment))\n",
    "plt.show(universe.plot(width=(1200, 1200), basis='xy', colors=color_assignment))\n",
    "plt.show(universe.plot(width=(1200, 1200), basis='yz', colors=color_assignment))\n"
   ]
  },
  {
   "cell_type": "markdown",
   "metadata": {},
   "source": [
    "More details on CSG geometry construction methods can be found here:\n",
    "https://docs.openmc.org/en/stable/usersguide/geometry.html\n",
    "\n",
    "Additionally, OpenMC has a geometry viewing package which can be found here: https://github.com/openmc-dev/plotter"
   ]
  },
  {
   "cell_type": "markdown",
   "metadata": {},
   "source": [
    "**Learning outcomes for Part 2:**\n",
    "\n",
    "- Using different surface types in OpenMC to construct CSG.\n",
    "- Defining geometry surfaces, regions and cells."
   ]
  }
 ],
 "metadata": {
  "kernelspec": {
   "display_name": "Python 3",
   "language": "python",
   "name": "python3"
  },
  "language_info": {
   "codemirror_mode": {
    "name": "ipython",
    "version": 3
   },
   "file_extension": ".py",
   "mimetype": "text/x-python",
   "name": "python",
   "nbconvert_exporter": "python",
   "pygments_lexer": "ipython3",
   "version": "3.8.3"
  }
 },
 "nbformat": 4,
 "nbformat_minor": 4
}
