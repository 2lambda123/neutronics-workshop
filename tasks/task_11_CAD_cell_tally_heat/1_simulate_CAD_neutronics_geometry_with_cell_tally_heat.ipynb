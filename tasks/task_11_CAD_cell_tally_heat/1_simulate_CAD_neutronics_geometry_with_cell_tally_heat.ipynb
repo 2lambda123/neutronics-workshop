{
 "cells": [
  {
   "cell_type": "markdown",
   "metadata": {},
   "source": [
    "# Neutronics simulation with CAD geometry\n",
    "\n",
    "This example creates a CAD geometry and then carries out a neutronics simulation with a heating cell tally."
   ]
  },
  {
   "cell_type": "markdown",
   "metadata": {},
   "source": [
    "This section makes a few components and places them in a reactor object. These will form the CAD model with which we will perform a neutronics simulation."
   ]
  },
  {
   "cell_type": "code",
   "execution_count": null,
   "metadata": {},
   "outputs": [],
   "source": [
    "import paramak\n",
    "\n",
    "pf_1 = paramak.PoloidalFieldCoil(\n",
    "    height=50,\n",
    "    width=50,\n",
    "    center_point=(800,50),\n",
    "    rotation_angle=360,  # note the components are all rotated 360 to make a full sector model\n",
    "    material_tag='pf_coil_mat'\n",
    ")\n",
    "\n",
    "tf = paramak.ToroidalFieldCoilCoatHanger(\n",
    "    horizontal_start_point=(200, 500),\n",
    "    horizontal_length=400,\n",
    "    vertical_mid_point=(700, 50),\n",
    "    vertical_length=500,\n",
    "    thickness=50,\n",
    "    distance=50,\n",
    "    stp_filename=\"toroidal_field_coil_coat_hanger.stp\",\n",
    "    number_of_coils=8,\n",
    "    with_inner_leg=True,\n",
    "    material_tag='tf_coil_mat'\n",
    ")\n",
    "\n",
    "\n",
    "plasma = paramak.Plasma(\n",
    "    minor_radius=150.,\n",
    "    major_radius=450.,\n",
    "    triangularity=0.55,\n",
    "    elongation=2.,\n",
    "    rotation_angle=360\n",
    ")\n",
    "\n",
    "blanket = paramak.BlanketFP(\n",
    "    plasma=plasma,\n",
    "    thickness=20,\n",
    "    stop_angle=90,\n",
    "    start_angle=-90,\n",
    "    offset_from_plasma=20,\n",
    "    rotation_angle=360,\n",
    "    material_tag='blanket_mat'\n",
    ")\n",
    "\n",
    "my_reactor = paramak.Reactor([pf_1, tf, blanket])  # note the plasma is not added\n",
    "#  The plasma doesn't interact much with the neutrons (low density)\n",
    "# but the curved shape does slow down the simulation due to the large number of facets need\n",
    "# so it has been removed to speed up the example\n",
    "\n",
    "my_reactor.rotation_angle=360  # this is a small \"feature\" which we will fix soon\n",
    "my_reactor.show()"
   ]
  },
  {
   "cell_type": "markdown",
   "metadata": {},
   "source": [
    "This section makes a plasma source which we will use as the source for the neutronics model."
   ]
  },
  {
   "cell_type": "code",
   "execution_count": null,
   "metadata": {},
   "outputs": [],
   "source": [
    "import openmc\n",
    "\n",
    "# initialises a new source object\n",
    "source = openmc.Source()\n",
    "# the distribution of radius is just a single value\n",
    "radius = openmc.stats.Discrete([300], [1])\n",
    "# the distribution of source z values is just a single value\n",
    "z_values = openmc.stats.Discrete([0], [1])\n",
    "# the distribution of source azimuthal angles values is a uniform distribution between 0 and 2 Pi\n",
    "angle = openmc.stats.Uniform(a=0., b=2* 3.14159265359)\n",
    "# this makes the ring source using the three distributions and a radius\n",
    "source.space = openmc.stats.CylindricalIndependent(r=radius, phi=angle, z=z_values, origin=(0.0, 0.0, 0.0))\n",
    "# sets the direction to isotropic\n",
    "source.angle = openmc.stats.Isotropic()\n",
    "# sets the energy distribution to a Muir distribution neutrons\n",
    "source.energy = openmc.stats.Muir(e0=14080000.0, m_rat=5.0, kt=20000.0)"
   ]
  },
  {
   "cell_type": "markdown",
   "metadata": {},
   "source": [
    "This section forms the neutronics model by combining the 3D model, the plasma source and some assigned materials. Additionally, the tallies to record the heating are specified. There are a few different methods of converting a CAD model into a neutronics model. The 'pymoab' method is the only open-source automated method that can also convert splines."
   ]
  },
  {
   "cell_type": "code",
   "execution_count": null,
   "metadata": {},
   "outputs": [],
   "source": [
    "import paramak_neutronics\n",
    "\n",
    "neutronics_model = paramak_neutronics.NeutronicsModel(\n",
    "    geometry=my_reactor,\n",
    "    cell_tallies=['heating'],\n",
    "    source=source,\n",
    "    simulation_batches=10,\n",
    "    simulation_particles_per_batch=10,\n",
    "    materials={\n",
    "        'pf_coil_mat': 'copper',\n",
    "        'tf_coil_mat': 'copper',\n",
    "        'blanket_mat': 'Li4SiO4',\n",
    "    }\n",
    ")\n",
    "\n",
    "neutronics_model.simulate()"
   ]
  },
  {
   "cell_type": "markdown",
   "metadata": {},
   "source": [
    "The results of the simulation are printed with the following command. The tallied neutronics output was heating."
   ]
  },
  {
   "cell_type": "code",
   "execution_count": null,
   "metadata": {},
   "outputs": [],
   "source": [
    "neutronics_model.results"
   ]
  },
  {
   "cell_type": "markdown",
   "metadata": {},
   "source": [
    "**Learning Outcomes from Task 11**\n",
    "\n",
    "- Neutronics simulations can be performed by combining CAD models, neutron sources and material definitions."
   ]
  }
 ],
 "metadata": {
  "kernelspec": {
   "display_name": "Python 3 (ipykernel)",
   "language": "python",
   "name": "python3"
  },
  "language_info": {
   "codemirror_mode": {
    "name": "ipython",
    "version": 3
   },
   "file_extension": ".py",
   "mimetype": "text/x-python",
   "name": "python",
   "nbconvert_exporter": "python",
   "pygments_lexer": "ipython3",
   "version": "3.8.10"
  }
 },
 "nbformat": 4,
 "nbformat_minor": 4
}
