{
 "cells": [
  {
   "cell_type": "markdown",
   "metadata": {},
   "source": [
    "# Neutronics simulation with CAD geometry\n",
    "\n",
    "This example creates a CAD geometry and then carries out a neutronics simulation with a heating cell tally."
   ]
  },
  {
   "cell_type": "markdown",
   "metadata": {},
   "source": [
    "This section makes a few components and places them in a reactor object. These will form the CAD model with which we will perform a neutronics simulation."
   ]
  },
  {
   "cell_type": "code",
   "execution_count": null,
   "metadata": {},
   "outputs": [],
   "source": [
    "import paramak\n",
    "\n",
    "plasma = paramak.Plasma(\n",
    "    minor_radius=150.,\n",
    "    major_radius=450.,\n",
    "    triangularity=0.55,\n",
    "    elongation=2.,\n",
    "    rotation_angle=180,\n",
    "    name='plasma'\n",
    ")\n",
    "\n",
    "blanket = paramak.BlanketFP(\n",
    "    plasma=plasma,\n",
    "    thickness=50,\n",
    "    stop_angle=90,\n",
    "    start_angle=-90,\n",
    "    offset_from_plasma=40,\n",
    "    rotation_angle=180,\n",
    "    name='blanket'\n",
    ")\n",
    "\n",
    "my_reactor = paramak.Reactor([plasma, blanket])\n",
    "my_reactor.show()"
   ]
  },
  {
   "cell_type": "markdown",
   "metadata": {},
   "source": [
    "This next code block exports the 3D reactor geometry as a DAGMC compatibile h5m file which can be used as a neutronics geometry. DAGMC is a neutronics code that allows particle transport on CAD geometry with various neutronics transport codes (including OpenMC).\n",
    "\n",
    "More details on DAGMC here https://svalinn.github.io/DAGMC/\n",
    "\n",
    "This export will take a reasonable amount of time compared to other cells"
   ]
  },
  {
   "cell_type": "code",
   "execution_count": null,
   "metadata": {},
   "outputs": [],
   "source": [
    "!rm dagmc.h5m\n",
    "my_reactor.export_dagmc_h5m(filename='dagmc.h5m')"
   ]
  },
  {
   "cell_type": "markdown",
   "metadata": {},
   "source": [
    "The model can now be simulated in OpenMC. OpenMC is imported along with some convenience packages"
   ]
  },
  {
   "cell_type": "code",
   "execution_count": null,
   "metadata": {},
   "outputs": [],
   "source": [
    "import openmc\n",
    "import openmc_dagmc_wrapper as odw\n",
    "import openmc_plasma_source as ops"
   ]
  },
  {
   "cell_type": "markdown",
   "metadata": {},
   "source": [
    "This section forms the neutronics model by combining the DAGMC model with a plasma source and some assigned materials. Additionally, the tallies to record the heating are specified. The code block also sets simulation intensity and specifies the neutronics results to record (know as tallies)."
   ]
  },
  {
   "cell_type": "code",
   "execution_count": null,
   "metadata": {},
   "outputs": [],
   "source": [
    "# this links the material tags in the dagmc h5m file with materials.\n",
    "# these materials are input as strings so they will be looked up in the\n",
    "# neutronics material maker package\n",
    "\n",
    "geometry = odw.Geometry(h5m_filename='dagmc.h5m', reflective_angles=(0, 180))\n",
    "\n",
    "materials = odw.Materials(\n",
    "    h5m_filename='dagmc.h5m',\n",
    "    correspondence_dict={\n",
    "        'mat_blanket':'Li4SiO4',\n",
    "        'mat_plasma': 'DT_plasma'\n",
    "    }\n",
    ")\n",
    "\n",
    "tally1 = odw.CellTally(\n",
    "    tally_type=\"heating\",\n",
    "    target=\"blanket\",\n",
    "    materials=materials\n",
    ")\n",
    "\n",
    "tallies = openmc.Tallies([tally1])\n",
    "\n",
    "# odw.FusionSettings is the same as openmc.settings but it just sets the mode to fixed source and inactive batches to zero\n",
    "settings = odw.FusionSettings()\n",
    "settings.batches = 1\n",
    "settings.particles = 100\n",
    "\n",
    "# assigns a ring source of DT energy neutrons to the source using the\n",
    "# openmc_plasma_source package\n",
    "settings.source = ops.FusionRingSource(fuel=\"DT\", radius=350)\n",
    "\n",
    "my_model = openmc.Model(\n",
    "    materials=materials, geometry=geometry, settings=settings, tallies=tallies\n",
    ")\n",
    "\n",
    "# delete old files just in case they are there\n",
    "!rm summary.h5\n",
    "!rm statepoint*.h5\n",
    "\n",
    "# starts the simulation and gets the filename of the output file produced\n",
    "statepoint_file = my_model.run()"
   ]
  },
  {
   "cell_type": "markdown",
   "metadata": {},
   "source": [
    "Extracting the resulting tally value from the statepoint file"
   ]
  },
  {
   "cell_type": "code",
   "execution_count": null,
   "metadata": {},
   "outputs": [],
   "source": [
    "sp = openmc.StatePoint(statepoint_file)\n",
    "\n",
    "heating_tally = sp.get_tally(name='blanket_heating')\n",
    "\n",
    "# this returns the tally in unknown base units\n",
    "heating_tally.get_values().sum()"
   ]
  },
  {
   "cell_type": "markdown",
   "metadata": {},
   "source": [
    "This next cell just imports a post processing package and uses that package to find the units of the tally"
   ]
  },
  {
   "cell_type": "code",
   "execution_count": null,
   "metadata": {},
   "outputs": [],
   "source": [
    "import openmc_tally_unit_converter as otuc\n",
    "\n",
    "tally = otuc.process_tally(\n",
    "    heating_tally,\n",
    ")\n",
    "# this prints the tally with base units identified\n",
    "print(tally)"
   ]
  },
  {
   "cell_type": "markdown",
   "metadata": {},
   "source": [
    "Converts the units from the base units (eV/simulated particle) to MeV/simulated particle"
   ]
  },
  {
   "cell_type": "code",
   "execution_count": null,
   "metadata": {},
   "outputs": [],
   "source": [
    "otuc.process_tally(\n",
    "    heating_tally,\n",
    "    required_units=\"MeV/source_particle\"\n",
    ")"
   ]
  },
  {
   "cell_type": "markdown",
   "metadata": {},
   "source": [
    "Converts units by normalising by the source strength (number of nuetrons per second)"
   ]
  },
  {
   "cell_type": "code",
   "execution_count": null,
   "metadata": {},
   "outputs": [],
   "source": [
    "otuc.process_tally(\n",
    "    heating_tally,\n",
    "    required_units=\"gigawatts\",\n",
    "    source_strength=1e21\n",
    ")"
   ]
  },
  {
   "cell_type": "markdown",
   "metadata": {},
   "source": [
    "**Learning Outcomes from Task 11**\n",
    "\n",
    "- Neutronics simulations can be performed by combining CAD models, neutron sources and material definitions.\n",
    "- Scaled the units of the output results using post processing package"
   ]
  },
  {
   "cell_type": "code",
   "execution_count": null,
   "metadata": {},
   "outputs": [],
   "source": []
  }
 ],
 "metadata": {
  "kernelspec": {
   "display_name": "Python 3 (ipykernel)",
   "language": "python",
   "name": "python3"
  },
  "language_info": {
   "codemirror_mode": {
    "name": "ipython",
    "version": 3
   },
   "file_extension": ".py",
   "mimetype": "text/x-python",
   "name": "python",
   "nbconvert_exporter": "python",
   "pygments_lexer": "ipython3",
   "version": "3.8.11"
  }
 },
 "nbformat": 4,
 "nbformat_minor": 4
}
