{
 "cells": [
  {
   "cell_type": "markdown",
   "metadata": {},
   "source": [
    "# Neutronics simulation with CAD geometry\n",
    "\n",
    "This example creates a CAD geometry and then carries out a neutronics simulation with a heating cell tally."
   ]
  },
  {
   "cell_type": "markdown",
   "metadata": {},
   "source": [
    "This section makes a few components and places them in a reactor object. These will form the CAD model with which we will perform a neutronics simulation."
   ]
  },
  {
   "cell_type": "code",
   "execution_count": null,
   "metadata": {},
   "outputs": [],
   "source": [
    "import paramak\n",
    "\n",
    "plasma = paramak.Plasma(\n",
    "    minor_radius=150.,\n",
    "    major_radius=450.,\n",
    "    triangularity=0.55,\n",
    "    elongation=2.,\n",
    "    rotation_angle=360\n",
    ")\n",
    "\n",
    "blanket = paramak.BlanketFP(\n",
    "    plasma=plasma,\n",
    "    thickness=20,\n",
    "    stop_angle=90,\n",
    "    start_angle=-90,\n",
    "    offset_from_plasma=40,\n",
    "    rotation_angle=360,\n",
    ")\n",
    "\n",
    "my_reactor = paramak.Reactor([plasma, blanket])\n",
    "my_reactor.export_stl(['plasma.stl', 'blanket.stl'])\n",
    "my_reactor.show()"
   ]
  },
  {
   "cell_type": "markdown",
   "metadata": {},
   "source": [
    "This section forms the neutronics model by combining the 3D model, the plasma source and some assigned materials. Additionally, the tallies to record the heating are specified. There are a few different methods of converting a CAD model into a neutronics model. Each method has pros and cons.\n",
    "\n",
    "The rector can also be converted from stl or stp to h5m format which is the 3D geometry format used by DAGMC to represent neutronics geometry.\n",
    "\n",
    "stl-to-h5m can convert stl files to a h5m geometry\n",
    "https://github.com/fusion-energy/stl_to_h5m\n",
    "\n",
    "cad-to-h5m can convert stp files to h5m geometry\n",
    "https://github.com/fusion-energy/cad_to_h5m"
   ]
  },
  {
   "cell_type": "code",
   "execution_count": null,
   "metadata": {},
   "outputs": [],
   "source": [
    "from stl_to_h5m import stl_to_h5m\n",
    "\n",
    "stl_to_h5m(\n",
    "    files_with_tags=[\n",
    "        ('plasma.stl', 'plasma'),\n",
    "        ('blanket.stl', 'blanket')\n",
    "    ],\n",
    "    h5m_filename='dagmc.h5m',\n",
    ")"
   ]
  },
  {
   "cell_type": "markdown",
   "metadata": {},
   "source": [
    "The model can now be simulated in OpenMC. OpenMC is imported along with some convenience packages"
   ]
  },
  {
   "cell_type": "code",
   "execution_count": null,
   "metadata": {},
   "outputs": [],
   "source": [
    "import openmc\n",
    "import openmc_dagmc_wrapper as odw\n",
    "import openmc_plasma_source as ops"
   ]
  },
  {
   "cell_type": "markdown",
   "metadata": {},
   "source": [
    "The following code makes use of the previously created neutronics geometry (h5m file) and assigns actual materials to the material tags. Sets simulation intensity and specifies the neutronics results to record (know as tallies)."
   ]
  },
  {
   "cell_type": "code",
   "execution_count": null,
   "metadata": {},
   "outputs": [],
   "source": [
    "# this links the material tags in the dagmc h5m file with materials.\n",
    "# these materials are input as strings so they will be looked up in the\n",
    "# neutronics material maker package\n",
    "material_tag_to_material_dict = {\n",
    "    'plasma':'DT_plasma',\n",
    "    'blanket':'Li4SiO4',\n",
    "}\n",
    "\n",
    "geometry = odw.Geometry(h5m_filename='dagmc.h5m')\n",
    "\n",
    "materials = odw.Materials(\n",
    "    h5m_filename='dagmc.h5m',\n",
    "    correspondence_dict=material_tag_to_material_dict\n",
    ")\n",
    "\n",
    "tally1 = odw.CellTally(\n",
    "    tally_type=\"heating\",\n",
    "    target=\"blanket\",\n",
    "    materials=materials\n",
    ")\n",
    "\n",
    "tallies = openmc.Tallies([tally1])\n",
    "\n",
    "# odw.FusionSettings is the same as openmc.settings but it just sets the mode to fixed source and inactive batches to zero\n",
    "settings = odw.FusionSettings()\n",
    "settings.batches = 1\n",
    "settings.particles = 100\n",
    "\n",
    "# assigns a ring source of DT energy neutrons to the source using the\n",
    "# openmc_plasma_source package\n",
    "settings.source = ops.FusionRingSource(fuel=\"DT\", radius=350)\n",
    "\n",
    "my_model = openmc.Model(\n",
    "    materials=materials, geometry=geometry, settings=settings, tallies=tallies\n",
    ")\n",
    "\n",
    "# starts the simulation and gets the filename of the output file produced\n",
    "statepoint_file = my_model.run()"
   ]
  },
  {
   "cell_type": "markdown",
   "metadata": {},
   "source": [
    "Extracting the resulting tally value from the statepoint file"
   ]
  },
  {
   "cell_type": "code",
   "execution_count": null,
   "metadata": {},
   "outputs": [],
   "source": [
    "sp = openmc.StatePoint(statepoint_file)\n",
    "\n",
    "heating_tally = sp.get_tally(name='blanket_heating')\n",
    "\n",
    "# this returns the tally\n",
    "heating_tally.get_values()"
   ]
  },
  {
   "cell_type": "markdown",
   "metadata": {},
   "source": [
    "**Learning Outcomes from Task 11**\n",
    "\n",
    "- Neutronics simulations can be performed by combining CAD models, neutron sources and material definitions."
   ]
  },
  {
   "cell_type": "code",
   "execution_count": null,
   "metadata": {},
   "outputs": [],
   "source": [
    "import openmc_post_processor as opp\n",
    "\n",
    "opp.get_tally_units(heating_tally)"
   ]
  },
  {
   "cell_type": "code",
   "execution_count": null,
   "metadata": {},
   "outputs": [],
   "source": [
    "opp.process_tally(\n",
    "    heating_tally,\n",
    "    required_units=\"MeV/simulated_particle\"\n",
    ")"
   ]
  },
  {
   "cell_type": "code",
   "execution_count": null,
   "metadata": {},
   "outputs": [],
   "source": []
  }
 ],
 "metadata": {
  "kernelspec": {
   "display_name": "Python 3 (ipykernel)",
   "language": "python",
   "name": "python3"
  },
  "language_info": {
   "codemirror_mode": {
    "name": "ipython",
    "version": 3
   },
   "file_extension": ".py",
   "mimetype": "text/x-python",
   "name": "python",
   "nbconvert_exporter": "python",
   "pygments_lexer": "ipython3",
   "version": "3.8.11"
  }
 },
 "nbformat": 4,
 "nbformat_minor": 4
}
