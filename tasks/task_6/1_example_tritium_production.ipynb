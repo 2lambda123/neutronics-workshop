{
 "cells": [
  {
   "cell_type": "markdown",
   "metadata": {},
   "source": [
    "# Performs a simulation and obtains the Tritium Breeding Ratio (TBR)\n",
    "\n",
    "Simple sphere model model with a breeder material and a tritum production tally."
   ]
  },
  {
   "cell_type": "markdown",
   "metadata": {},
   "source": [
    "This section makes the geometry, materials and settings for the neutronics model"
   ]
  },
  {
   "cell_type": "code",
   "execution_count": null,
   "metadata": {},
   "outputs": [],
   "source": [
    "import openmc\n",
    "import json\n",
    "import os\n",
    "\n",
    "# MATERIALS\n",
    "\n",
    "breeder_material = openmc.Material(1, \"PbLi\")  # Pb84.2Li15.8\n",
    "breeder_material.add_element('Pb', 84.2, percent_type='ao')\n",
    "breeder_material.add_element('Li', 15.8, percent_type='ao', enrichment=50.0, enrichment_target='Li6', enrichment_type='ao')  # 50% enriched\n",
    "breeder_material.set_density('atom/b-cm', 3.2720171e-2)  # around 11 g/cm3\n",
    "\n",
    "\n",
    "steel = openmc.Material(name='steel')\n",
    "steel.set_density('g/cm3', 7.75)\n",
    "steel.add_element('Fe', 0.95, percent_type='wo')\n",
    "steel.add_element('C', 0.05, percent_type='wo')\n",
    "\n",
    "mats = openmc.Materials([breeder_material, steel])\n",
    "\n",
    "\n",
    "# GEOMETRY\n",
    "\n",
    "# surfaces\n",
    "vessel_inner = openmc.Sphere(r=500)\n",
    "first_wall_outer_surface = openmc.Sphere(r=510)\n",
    "breeder_blanket_outer_surface = openmc.Sphere(r=610, boundary_type='vacuum')\n",
    "\n",
    "\n",
    "# cells\n",
    "inner_vessel_region = -vessel_inner\n",
    "inner_vessel_cell = openmc.Cell(region=inner_vessel_region)\n",
    "\n",
    "first_wall_region = -first_wall_outer_surface & +vessel_inner\n",
    "first_wall_cell = openmc.Cell(region=first_wall_region)\n",
    "first_wall_cell.fill = steel\n",
    "\n",
    "breeder_blanket_region = +first_wall_outer_surface & -breeder_blanket_outer_surface\n",
    "breeder_blanket_cell = openmc.Cell(region=breeder_blanket_region)\n",
    "breeder_blanket_cell.fill = breeder_material\n",
    "\n",
    "universe = openmc.Universe(cells=[inner_vessel_cell, first_wall_cell, breeder_blanket_cell])\n",
    "geom = openmc.Geometry(universe)\n",
    "\n",
    "\n",
    "# SIMULATION SETTINGS\n",
    "\n",
    "# Instantiate a Settings object\n",
    "sett = openmc.Settings()\n",
    "sett.batches = 10\n",
    "sett.inactive = 0\n",
    "sett.particles = 500\n",
    "sett.run_mode = 'fixed source'\n",
    "\n",
    "# Create a DT point source\n",
    "source = openmc.Source()\n",
    "source.space = openmc.stats.Point((0, 0, 0))\n",
    "source.angle = openmc.stats.Isotropic()\n",
    "source.energy = openmc.stats.Discrete([14e6], [1])\n",
    "sett.source = source\n",
    "\n",
    "\n",
    "tallies = openmc.Tallies()\n",
    "\n",
    "# added a cell tally for tritium production\n",
    "cell_filter = openmc.CellFilter(breeder_blanket_cell)\n",
    "tbr_tally = openmc.Tally(name='TBR')\n",
    "tbr_tally.filters = [cell_filter]\n",
    "tbr_tally.scores = ['(n,Xt)']  # Where X is a wildcard character, this catches any tritium production\n",
    "tallies.append(tbr_tally)"
   ]
  },
  {
   "cell_type": "markdown",
   "metadata": {},
   "source": [
    "This section runs the simulation"
   ]
  },
  {
   "cell_type": "code",
   "execution_count": null,
   "metadata": {},
   "outputs": [],
   "source": [
    "# Run OpenMC!\n",
    "model = openmc.model.Model(geom, mats, sett, tallies)\n",
    "!rm *.h5\n",
    "sp_filename = model.run()"
   ]
  },
  {
   "cell_type": "markdown",
   "metadata": {},
   "source": [
    "This section loads up the output file and extracts the simulation result"
   ]
  },
  {
   "cell_type": "code",
   "execution_count": null,
   "metadata": {},
   "outputs": [],
   "source": [
    "# open the results file\n",
    "sp = openmc.StatePoint(sp_filename)\n",
    "\n",
    "# access the tally using pandas dataframes\n",
    "tbr_tally = sp.get_tally(name='TBR')\n",
    "df = tbr_tally.get_pandas_dataframe()\n",
    "\n",
    "tbr_tally_result = df['mean'].sum()\n",
    "tbr_tally_std_dev = df['std. dev.'].sum()\n",
    "\n",
    "# print results\n",
    "print('The tritium breeding ratio was found, TBR = ', tbr_tally_result)\n",
    "print('Standard deviation on the tbr tally is ', tbr_tally_std_dev)"
   ]
  }
 ],
 "metadata": {
  "kernelspec": {
   "display_name": "Python 3",
   "language": "python",
   "name": "python3"
  },
  "language_info": {
   "codemirror_mode": {
    "name": "ipython",
    "version": 3
   },
   "file_extension": ".py",
   "mimetype": "text/x-python",
   "name": "python",
   "nbconvert_exporter": "python",
   "pygments_lexer": "ipython3",
   "version": "3.8.3"
  }
 },
 "nbformat": 4,
 "nbformat_minor": 4
}
