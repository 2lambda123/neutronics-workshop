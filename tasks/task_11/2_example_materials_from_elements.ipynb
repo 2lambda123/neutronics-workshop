{
 "cells": [
  {
   "cell_type": "code",
   "execution_count": null,
   "metadata": {},
   "outputs": [],
   "source": [
    "import openmc\n",
    "\n",
    "# Making water from elements\n",
    "\n",
    "water_from_elements = openmc.Material(name='water_from_elements')\n",
    "water_from_elements.add_element('H', 2.0, percent_type='ao')\n",
    "water_from_elements.add_element('O', 1.0, percent_type='ao')\n",
    "water_from_elements.set_density('g/cm3', 0.99821)\n",
    "\n",
    "print(water_from_elements)\n",
    "\n",
    "\n",
    "# Making Li4SiO4 from elements\n",
    "\n",
    "# add Li4SiO4 here\n",
    "\n",
    "# Li4SiO4_from_elements = openmc.Material(name='Li4SiO4_from_elements')\n",
    "# Li4SiO4_from_elements.add_element.....\n",
    "# Li4SiO4_from_elements.set_density.....\n",
    "# print(Li4SiO4_from_elements)\n",
    "\n",
    "\n",
    "# Making enriched Li4SiO4 from elements\n",
    "\n",
    "enriched_Li4SiO4_from_elements = openmc.Material(name='enriched_Li4SiO4_from_elements')\n",
    "enriched_Li4SiO4_from_elements.add_element('Li', 4.0, percent_type='ao', enrichment=60, enrichment_target='Li6', enrichment_type='ao')\n",
    "enriched_Li4SiO4_from_elements.add_element('Si', 1.0, percent_type='ao')\n",
    "enriched_Li4SiO4_from_elements.add_element('O', 4.0, percent_type='ao')\n",
    "enriched_Li4SiO4_from_elements.set_density('g/cm3', 2.32)  # this would actually be lower than 2.32 g/cm3 but this would need calculating\n",
    "\n",
    "# print(enriched_Li4SiO4_isotope_element)\n"
   ]
  }
 ],
 "metadata": {
  "kernelspec": {
   "display_name": "Python 3",
   "language": "python",
   "name": "python3"
  }
 },
 "nbformat": 4,
 "nbformat_minor": 4
}
