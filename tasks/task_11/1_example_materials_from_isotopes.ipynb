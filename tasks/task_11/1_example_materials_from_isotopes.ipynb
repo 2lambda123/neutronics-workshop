{
 "cells": [
  {
   "cell_type": "code",
   "execution_count": null,
   "metadata": {},
   "outputs": [],
   "source": [
    "import openmc\n",
    "from openmc.data import *  # this imports the NATURAL_ABUNDANCE dictionary\n",
    "\n",
    "\n",
    "# Making water from isotopes\n",
    "\n",
    "# specify material object\n",
    "water_from_isotopes = openmc.Material(name='water_from_isotopes')\n",
    "\n",
    "# add isotopes to material object\n",
    "water_from_isotopes.add_nuclide('H1', 2.0*NATURAL_ABUNDANCE['H1'], percent_type='ao')\n",
    "water_from_isotopes.add_nuclide('H2', 2.0*NATURAL_ABUNDANCE['H2'], percent_type='ao')\n",
    "water_from_isotopes.add_nuclide('O16', NATURAL_ABUNDANCE['O16'], percent_type='ao')\n",
    "water_from_isotopes.add_nuclide('O17', NATURAL_ABUNDANCE['O17'], percent_type='ao')\n",
    "water_from_isotopes.add_nuclide('O18', NATURAL_ABUNDANCE['O18'], percent_type='ao')\n",
    "\n",
    "# set material density\n",
    "water_from_isotopes.set_density('g/cm3', 0.99821)\n",
    "\n",
    "print(water_from_isotopes)\n",
    "\n",
    "\n",
    "# Making Li4SiO4 from isotopes\n",
    "\n",
    "# add Li4SiO4 here\n",
    "\n",
    "# Li4SiO4_from_isotopes = openmc.Material(name='Li4SiO4_from_isotopes')\n",
    "# Li4SiO4_from_isotopes.add_nuclide......\n",
    "# Li4SiO4_from_isotopes.set_density......\n",
    "# print(Li4SiO4_from_isotopes)\n",
    "\n",
    "\n",
    "# Making enriched Li4SiO4 from isotopes\n",
    "\n",
    "enrichment_fraction = 0.6\n",
    "\n",
    "enriched_Li4SiO4_isotope = openmc.Material(name='enriched_Li4SiO4_isotope')\n",
    "enriched_Li4SiO4_isotope.add_nuclide('Li6', 4.0*enrichment_fraction, percent_type='ao')\n",
    "enriched_Li4SiO4_isotope.add_nuclide('Li7', 4.0*(1-enrichment_fraction), percent_type='ao')\n",
    "enriched_Li4SiO4_isotope.add_nuclide('Si28', NATURAL_ABUNDANCE['Si28'], percent_type='ao')\n",
    "enriched_Li4SiO4_isotope.add_nuclide('Si29', NATURAL_ABUNDANCE['Si29'], percent_type='ao')\n",
    "enriched_Li4SiO4_isotope.add_nuclide('Si30', NATURAL_ABUNDANCE['Si30'], percent_type='ao')\n",
    "enriched_Li4SiO4_isotope.add_nuclide('O16', 4.0*NATURAL_ABUNDANCE['O16'], percent_type='ao')\n",
    "enriched_Li4SiO4_isotope.add_nuclide('O17', 4.0*NATURAL_ABUNDANCE['O17'], percent_type='ao')\n",
    "enriched_Li4SiO4_isotope.add_nuclide('O18', 4.0*NATURAL_ABUNDANCE['O18'], percent_type='ao')\n",
    "enriched_Li4SiO4_isotope.set_density('g/cm3', 2.32)  # this would be lower than 2.32 but this would need calculating\n",
    "\n",
    "# print(enriched_Li4SiO4_isotope)\n"
   ]
  },
  {
   "cell_type": "code",
   "execution_count": null,
   "metadata": {},
   "outputs": [],
   "source": []
  }
 ],
 "metadata": {
  "kernelspec": {
   "display_name": "Python 3",
   "language": "python",
   "name": "python3"
  },
  "language_info": {
   "codemirror_mode": {
    "name": "ipython",
    "version": 3
   },
   "file_extension": ".py",
   "mimetype": "text/x-python",
   "name": "python",
   "nbconvert_exporter": "python",
   "pygments_lexer": "ipython3",
   "version": "3.6.9"
  }
 },
 "nbformat": 4,
 "nbformat_minor": 4
}
