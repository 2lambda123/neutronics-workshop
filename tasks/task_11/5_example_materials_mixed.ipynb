{
 "cells": [
  {
   "cell_type": "markdown",
   "metadata": {},
   "source": [
    "There are several different ways of making mixed materials. You can combine:\n",
    "\n",
    "- Mix openmc.Material() objects together using openmc.Material.mix_materials()\n",
    "\n",
    "- Mix openmc.Material() objects together with neutronics_material_maker.Material() objects using openmc.Material.mix_materials()\n",
    "\n",
    "- Mix openmc.Material() objects together using neutronics_material_maker.MultiMaterial()\n",
    "\n",
    "- Mix openmc.Material() objects together with neutronics_material_maker.Material() objects using neutronics_material_maker.MultiMaterial()\n",
    "\n",
    "Personally I use a combination of these depending on the task. The benefit of using the neutronics_material_maker is that we could use a standard definition for materials and density is calculated automatically (as a function of pressure, temperture and enrichment)."
   ]
  },
  {
   "cell_type": "code",
   "execution_count": null,
   "metadata": {},
   "outputs": [],
   "source": [
    "\n",
    "import openmc\n",
    "from neutronics_material_maker import Material, MultiMaterial\n"
   ]
  },
  {
   "cell_type": "code",
   "execution_count": null,
   "metadata": {},
   "outputs": [],
   "source": [
    "# - Mix openmc.Material() objects together using openmc.Material.mix_materials()\n",
    "\n",
    "wc_material = openmc.Material()\n",
    "wc_material.add_element('W', 0.5)\n",
    "wc_material.add_element('C', 0.5)\n",
    "wc_material.set_density('g/cm3', 18.)\n",
    "\n",
    "h20_material = openmc.Material()\n",
    "h20_material.add_elements_from_formula('H2O')\n",
    "h20_material.set_density('g/cm3', 1.)\n",
    "\n",
    "Li4SiO4_material = openmc.Material()\n",
    "Li4SiO4_material.add_elements_from_formula('Li4SiO4', enrichment_target='Li6', enrichment=60)\n",
    "Li4SiO4_material.set_density('g/cm3', 2.3)\n",
    "\n",
    "mixed_material_1 = openmc.Material.mix_materials(name='mixed_material',      # name of homogeneous material\n",
    "                                                 materials=[wc_material,\n",
    "                                                            h20_material,\n",
    "                                                            Li4SiO4_material],\n",
    "                                                 fracs=[0.7, 0.2, 0.1],           # list of combination fractions for each neutronics material\n",
    "                                                 percent_type='vo')          # combination fraction type\n",
    "mixed_material_1"
   ]
  },
  {
   "cell_type": "code",
   "execution_count": null,
   "metadata": {},
   "outputs": [],
   "source": [
    "# - Mix openmc.Material() objects together with neutronics_material_maker.Material() objects using openmc.Material.mix_materials()\n",
    "\n",
    "wc_material = openmc.Material()\n",
    "wc_material.add_element('W', 0.5)\n",
    "wc_material.add_element('C', 0.5)\n",
    "wc_material.set_density('g/cm3', 18.)\n",
    "\n",
    "h20_material = openmc.Material()\n",
    "h20_material.add_elements_from_formula('H2O')\n",
    "h20_material.set_density('g/cm3', 1.)\n",
    "\n",
    "Li4SiO4_material = Material('Li4SiO4', enrichment=60).openmc_material\n",
    "\n",
    "mixed_material_2 = openmc.Material.mix_materials(name='mixed_material',      # name of homogeneous material\n",
    "                                                 materials=[                 # list of neutronics materials\n",
    "                                                    wc_material,\n",
    "                                                    h20_material, \n",
    "                                                    Li4SiO4_material\n",
    "                                                    ],\n",
    "                                                 fracs=[0.7, 0.2, 0.1],           # list of combination fractions for each neutronics material\n",
    "                                                 percent_type='vo')          # combination fraction type\n",
    "mixed_material_2\n"
   ]
  },
  {
   "cell_type": "code",
   "execution_count": null,
   "metadata": {},
   "outputs": [],
   "source": [
    "# - Mix openmc.Material() objects together using neutronics_material_maker.MultiMaterial()\n",
    "\n",
    "wc_material = Material('WC').openmc_material\n",
    "h20_material = Material('H2O', temperature_in_C=500, pressure_in_Pa=80000).openmc_material\n",
    "Li4SiO4_material = Material('Li4SiO4', enrichment=60).openmc_material\n",
    "\n",
    "mixed_material_3 = MultiMaterial(material_tag='mixed_material',      # name of homogeneous material\n",
    "                                 materials=[                 # list of neutronics materials\n",
    "                                            wc_material,\n",
    "                                            h20_material, \n",
    "                                            Li4SiO4_material\n",
    "                                           ],\n",
    "                                            fracs=[0.7, 0.2, 0.1],           # list of combination fractions for each neutronics material\n",
    "                                            percent_type='vo')          # combination fraction type\n",
    "mixed_material_3.openmc_material"
   ]
  },
  {
   "cell_type": "code",
   "execution_count": null,
   "metadata": {},
   "outputs": [],
   "source": [
    "# - Mix openmc.Material() objects together with neutronics_material_maker.Material() objects using neutronics_material_maker.MultiMaterial()\n",
    "\n",
    "wc_material = openmc.Material()\n",
    "wc_material.add_element('W', 0.5)\n",
    "wc_material.add_element('C', 0.5)\n",
    "wc_material.set_density('g/cm3', 18.)\n",
    "\n",
    "h20_material = Material('H2O', temperature_in_C=500, pressure_in_Pa=80000).openmc_material\n",
    "Li4SiO4_material = Material('Li4SiO4', enrichment=60).openmc_material\n",
    "\n",
    "mixed_material_3 = MultiMaterial(material_tag='mixed_material',      # name of homogeneous material\n",
    "                                 materials=[                 # list of neutronics materials\n",
    "                                            wc_material,\n",
    "                                            h20_material, \n",
    "                                            Li4SiO4_material\n",
    "                                           ],\n",
    "                                            fracs=[0.7, 0.2, 0.1],           # list of combination fractions for each neutronics material\n",
    "                                            percent_type='vo')          # combination fraction type\n",
    "mixed_material_3.openmc_material\n"
   ]
  }
 ],
 "metadata": {
  "kernelspec": {
   "display_name": "Python 3",
   "language": "python",
   "name": "python3"
  },
  "language_info": {
   "codemirror_mode": {
    "name": "ipython",
    "version": 3
   },
   "file_extension": ".py",
   "mimetype": "text/x-python",
   "name": "python",
   "nbconvert_exporter": "python",
   "pygments_lexer": "ipython3",
   "version": "3.6.9"
  }
 },
 "nbformat": 4,
 "nbformat_minor": 4
}
