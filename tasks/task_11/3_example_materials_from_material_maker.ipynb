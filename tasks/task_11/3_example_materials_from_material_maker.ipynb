{
 "cells": [
  {
   "cell_type": "code",
   "execution_count": null,
   "metadata": {},
   "outputs": [],
   "source": [
    "\n",
    "from neutronics_material_maker import Material\n",
    "\n",
    "# Some materials require arguments to correctly calculate material properties\n",
    "\n",
    "# Water requires 'temperature' and 'pressure' arguments to be passed\n",
    "\n",
    "# the following command creates a Material() object using the neutronics_material_maker\n",
    "\n",
    "water = Material('H2O', temperature_in_C=25, pressure_in_Pa=100000)  # atmospheric\n",
    "\n",
    "print(type(water))\n",
    "print(water)\n",
    "\n",
    "\n",
    "# the following command converts Material() objects into neutronics materials which can be used in OpenMC\n",
    "\n",
    "water_openmc_material_object = water.openmc_material\n",
    "# this is equivalent to:\n",
    "\n",
    "# water_openmc_material_object = Material('H2O', temperature_in_C=25, pressure_in_Pa=100000).openmc_material\n",
    "\n",
    "print(type(water_openmc_material_object))\n",
    "print(water_openmc_material_object)\n",
    "\n",
    "\n",
    "# Some materials can also take arguments which adjust material properties\n",
    "\n",
    "# Lithium Orthosilicate (Li4SiO4) can take arguments of 'enrichment', 'enrichment_target', 'enrichment_type' and 'packing_fraction'\n",
    "# Note: for some lithium crystals, 'enrichment_target' and 'enrichment_type' are defined by default, but can be changed\n",
    "\n",
    "default_Li4SiO4 = Material('Li4SiO4').openmc_material\n",
    "print(default_Li4SiO4)\n",
    "\n",
    "# the following command creates Li4SiO4 with respect to given arguments but uses the default values for enrichment_target and enrichment_type\n",
    "enriched_and_packed_Li4SiO4 = Material('Li4SiO4', enrichment=60, packing_fraction=0.64).openmc_material   # enrichment_target='Li6', enrichment_type='ao' defined by default\n",
    "print(enriched_and_packed_Li4SiO4)\n",
    "\n",
    "# the following commant creates Li4SiO4 with respect to given arguments but specifies enrichment_target and enrichment_type explicitly\n",
    "enriched_and_packed_Li4SiO4_2 = Material('Li4SiO4', enrichment=60, enrichment_target='Li6', enrichment_type='wo', packing_fraction=0.64)\n",
    "print(enriched_and_packed_Li4SiO4_2)\n",
    "\n",
    "\n",
    "# Neutronics materials can be inspected to extract material properties\n",
    "# Densities are calculated for some materials using the CoolProp package\n",
    "\n",
    "print('Water density = ' + str(water_openmc_material_object.density))\n",
    "print('Default Li4SiO4 density = ' + str(default_Li4SiO4.density))\n",
    "print('Enriched and Packed Li4SiO4 density = ' + str(enriched_and_packed_Li4SiO4.density))\n"
   ]
  },
  {
   "cell_type": "code",
   "execution_count": null,
   "metadata": {},
   "outputs": [],
   "source": []
  }
 ],
 "metadata": {
  "kernelspec": {
   "display_name": "Python 3",
   "language": "python",
   "name": "python3"
  },
  "language_info": {
   "codemirror_mode": {
    "name": "ipython",
    "version": 3
   },
   "file_extension": ".py",
   "mimetype": "text/x-python",
   "name": "python",
   "nbconvert_exporter": "python",
   "pygments_lexer": "ipython3",
   "version": "3.6.9"
  }
 },
 "nbformat": 4,
 "nbformat_minor": 4
}
