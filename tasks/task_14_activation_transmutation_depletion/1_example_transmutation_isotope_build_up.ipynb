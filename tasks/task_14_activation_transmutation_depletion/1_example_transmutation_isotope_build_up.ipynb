{
 "cells": [
  {
   "cell_type": "markdown",
   "id": "cc29c481-66a0-4cb1-9bbd-2062e84ac1bb",
   "metadata": {},
   "source": [
    "This example simulates the build up of activate products within a material under neutron irradiation. The subsequent decay of unstable isotopes is also simulated."
   ]
  },
  {
   "cell_type": "markdown",
   "id": "d4ccbdf3-2acc-45e8-8ece-62e5efb08dd0",
   "metadata": {},
   "source": [
    "This first cell imports the packages needed, not the extra import openmc.deplete import"
   ]
  },
  {
   "cell_type": "code",
   "execution_count": null,
   "id": "79109819-dc17-4406-a9b7-0a870668ef9c",
   "metadata": {},
   "outputs": [],
   "source": [
    "import openmc\n",
    "import openmc.deplete\n",
    "import matplotlib.pyplot as plt\n",
    "import math"
   ]
  },
  {
   "cell_type": "markdown",
   "id": "c0e736bb-6e0b-4825-811d-c4683dd6b65c",
   "metadata": {},
   "source": [
    "This section creates the geometry and the cells.\n",
    "Note that it it necessary to set the volume of the material or cell.\n",
    "This is so that the depletion code can find the number of atoms within the cell given the material composition, material density and volume."
   ]
  },
  {
   "cell_type": "code",
   "execution_count": null,
   "id": "23f9d871-3ed2-41c1-99b6-c3fa2b59e36e",
   "metadata": {},
   "outputs": [],
   "source": [
    "\n",
    "iron_sphere_radius = 250\n",
    "\n",
    "# MATERIALS\n",
    "\n",
    "mats = openmc.Materials()\n",
    "\n",
    "# makes a simple material from Iron\n",
    "my_material = openmc.Material(name=\"my_material\") \n",
    "my_material.add_nuclide('Co59', 1, percent_type='ao')\n",
    "my_material.set_density('g/cm3', 7.7)\n",
    "my_material.volume = (4/3) * math.pi * iron_sphere_radius**3\n",
    "my_material.depletable = True\n",
    "\n",
    "materials = openmc.Materials([my_material])\n",
    "materials.export_to_xml()\n",
    "\n",
    "\n",
    "# GEOMETRY\n",
    "\n",
    "# surfaces\n",
    "sph1 = openmc.Sphere(r=iron_sphere_radius, boundary_type='vacuum')\n",
    "\n",
    "# cells, makes a simple sphere cell\n",
    "shield_cell = openmc.Cell(region=-sph1)\n",
    "shield_cell.fill = my_material\n",
    "shield_cell.volume = (4/3) * math.pi * sph1.r**3\n",
    "\n",
    "# sets the geometry to the universe that contains just the one cell\n",
    "universe = openmc.Universe(cells=[shield_cell])\n",
    "geometry = openmc.Geometry(universe)\n",
    "\n"
   ]
  },
  {
   "cell_type": "markdown",
   "id": "9c02c01d-c0ac-42dc-8167-add037e1b68c",
   "metadata": {},
   "source": [
    "This section defines the neutron source term to use and the settings"
   ]
  },
  {
   "cell_type": "code",
   "execution_count": null,
   "id": "6f19a174-bec2-4a88-be89-d156db142521",
   "metadata": {},
   "outputs": [],
   "source": [
    "# creates a 14MeV neutron point source\n",
    "source = openmc.Source()\n",
    "source.space = openmc.stats.Point((0, 0, 0))\n",
    "source.angle = openmc.stats.Isotropic()\n",
    "source.energy = openmc.stats.Discrete([14e6], [1])\n",
    "source.particles = 'neutron'\n",
    "\n",
    "# SETTINGS\n",
    "\n",
    "# Instantiate a Settings object\n",
    "settings = openmc.Settings()\n",
    "settings.batches = 2\n",
    "settings.inactive = 0\n",
    "settings.particles = 5000\n",
    "settings.source = source\n",
    "settings.run_mode = 'fixed source'\n",
    "\n",
    "\n",
    "tallies = openmc.Tallies()\n",
    "geometry.export_to_xml()\n",
    "settings.export_to_xml()\n",
    "# tallies.export_to_xml()  # running in depletion mode doesn't need the tallies to be written out\n",
    "materials.export_to_xml()\n",
    "model = openmc.model.Model(geometry, materials, settings, tallies)"
   ]
  },
  {
   "cell_type": "markdown",
   "id": "74ad9236-6cbf-41e0-940d-a686588a4e3b",
   "metadata": {},
   "source": [
    "This is the depletion specific part of the model setup.\n",
    "Here we:\n",
    "\n",
    "    specify the chain file, this tells openmc the decay paths between isotopes including proabilities of different routes and half lives\n",
    "\n",
    "    set the time steps and corresponding source rates "
   ]
  },
  {
   "cell_type": "code",
   "execution_count": null,
   "id": "56bec744-20f2-405b-97d8-9c31a47d53e9",
   "metadata": {},
   "outputs": [],
   "source": [
    "# This chain_endfb71 file was downloaded using the download_nndc_chain script that is included in the openmc_data package https://github.com/openmc-data-storage/openmc_data\\n\",\n",
    "# this file tells openmc the decay paths between isotopes including probabilities of different routes and half lives\n",
    "chain_filename = '/tasks/task_14_activation_transmutation_depletion/chain-nndc-b7.1.xml'\n",
    "operator = openmc.deplete.Operator(\n",
    "    model=model,\n",
    "    chain_file=chain_filename,\n",
    "    normalization_mode=\"source-rate\",  # set for fixed source simulation, otherwise defaults to fission simulation\n",
    "    dilute_initial=0  # set to zero to avoid adding small amounts of isotopes, defaults to adding small amounts of fissionable isotopes\n",
    ")\n",
    "\n",
    "\n",
    "operator = openmc.deplete.Operator(model, chain_filename)\n",
    "\n",
    "# 1e9 neutrons per second for 5 years then 5 years of no neutrons (shut down cooling time)\n",
    "time_steps = [365*24*60*60] * 5 + [365*24*60*60] * 5\n",
    "source_rates = [1e9]*5 + [0] * 5\n",
    "\n",
    "# PredictorIntegrator has been selected as the depletion operator for this example as it is a fast first order Integrator\n",
    "# OpenMC offers several time-integration algorithms https://docs.openmc.org/en/stable/pythonapi/deplete.html#primary-api\\n\",\n",
    "# CF4Integrator should normally be selected as it appears to be the most accurate https://dspace.mit.edu/handle/1721.1/113721\\n\",\n",
    "integrator = openmc.deplete.PredictorIntegrator(\n",
    "    operator=operator, timesteps=time_steps,source_rates=source_rates\n",
    ")\n",
    "\n",
    "integrator.integrate()\n"
   ]
  },
  {
   "cell_type": "markdown",
   "id": "2cb387d1-d9bb-45bb-89ff-dea703fa3c3e",
   "metadata": {},
   "source": [
    "This section extracts the results of the depletion simulation from the h5 file and gets the amount of Cobolt 60 (Co60) in the material at each of the time steps"
   ]
  },
  {
   "cell_type": "code",
   "execution_count": null,
   "id": "da98efe3-c303-48e0-9928-09a74f7cfa0a",
   "metadata": {},
   "outputs": [],
   "source": [
    "results = openmc.deplete.ResultsList.from_hdf5(\"depletion_results.h5\")\n",
    "\n",
    "times, number_of_co60_atoms = results.get_atoms(my_material, 'Co60')"
   ]
  },
  {
   "cell_type": "markdown",
   "id": "072b7db4-e37c-47bd-9c59-40f2a5a85e83",
   "metadata": {},
   "source": [
    "This section plots the results"
   ]
  },
  {
   "cell_type": "code",
   "execution_count": null,
   "id": "3a133961-9485-4f95-ace1-4138cf6f5029",
   "metadata": {},
   "outputs": [],
   "source": [
    "import matplotlib.pyplot as plt\n",
    "\n",
    "fig, ax = plt.subplots()\n",
    "ax.plot(times, number_of_co60_atoms)\n",
    "\n",
    "ax.set(xlabel='time (s)', ylabel='Number of atoms',\n",
    "       title='Build up of atoms saturates when decay is equal to activation this occurs at circa 5 half lives')\n",
    "ax.grid()\n",
    "plt.savefig('atoms.png')\n",
    "plt.show()"
   ]
  }
 ],
 "metadata": {
  "kernelspec": {
   "display_name": "Python 3.8.12 ('paramak_dev')",
   "language": "python",
   "name": "python3"
  },
  "language_info": {
   "codemirror_mode": {
    "name": "ipython",
    "version": 3
   },
   "file_extension": ".py",
   "mimetype": "text/x-python",
   "name": "python",
   "nbconvert_exporter": "python",
   "pygments_lexer": "ipython3",
   "version": "3.8.12"
  },
  "vscode": {
   "interpreter": {
    "hash": "c47dabf1cc2568b64caa04441372f68f02228a3c450a6b1274acdfdc3a93f19e"
   }
  }
 },
 "nbformat": 4,
 "nbformat_minor": 5
}
