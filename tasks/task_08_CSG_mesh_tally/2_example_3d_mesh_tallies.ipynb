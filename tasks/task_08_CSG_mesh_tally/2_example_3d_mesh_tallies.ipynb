{
 "cells": [
  {
   "cell_type": "markdown",
   "metadata": {},
   "source": [
    "# Part 2 - 3D mesh tallies\n",
    "\n",
    "Mesh tallies can also be used to visualise neutron interactions spatially throughout a geometry in 3D.\n",
    "\n",
    "This notebook allows users to create a simple geometry from a few different materials and plot the results of a 3D regular mesh tally applied to the geometry."
   ]
  },
  {
   "cell_type": "markdown",
   "metadata": {},
   "source": [
    "This first code block defines the model geometry, materials and neutron source."
   ]
  },
  {
   "cell_type": "code",
   "execution_count": 1,
   "metadata": {
    "scrolled": true
   },
   "outputs": [],
   "source": [
    "import openmc\n",
    "import os\n",
    "\n",
    "# MATERIALS\n",
    "\n",
    "breeder_material = openmc.Material(1, \"PbLi\")   # Pb84.2Li15.8\n",
    "breeder_material.add_element('Pb', 84.2, percent_type='ao')\n",
    "breeder_material.add_element('Li', 15.8, percent_type='ao', enrichment=7.0, enrichment_target='Li6', enrichment_type='ao')   # natural enrichment = 7% Li6\n",
    "breeder_material.set_density('atom/b-cm', 3.2720171e-2)   # around 11 g/cm3\n",
    "\n",
    "copper = openmc.Material(name='Copper')\n",
    "copper.set_density('g/cm3', 8.5)\n",
    "copper.add_element('Cu', 1.0)\n",
    "\n",
    "eurofer = openmc.Material(name='iron')\n",
    "eurofer.set_density('g/cm3', 7.75)\n",
    "eurofer.add_element('Fe', 89.067, percent_type='wo')\n",
    "\n",
    "mats = openmc.Materials([breeder_material, eurofer, copper])\n",
    "\n",
    "\n",
    "# GEOMETRY\n",
    "\n",
    "# surfaces\n",
    "central_sol_surface = openmc.ZCylinder(r=100)\n",
    "central_shield_outer_surface = openmc.ZCylinder(r=110)\n",
    "vessel_inner_surface = openmc.Sphere(r=500)\n",
    "first_wall_outer_surface = openmc.Sphere(r=510)\n",
    "breeder_blanket_outer_surface = openmc.Sphere(r=610, boundary_type='vacuum')\n",
    "\n",
    "# cells\n",
    "central_sol_region = -central_sol_surface & -breeder_blanket_outer_surface\n",
    "central_sol_cell = openmc.Cell(region=central_sol_region)\n",
    "central_sol_cell.fill = copper\n",
    "\n",
    "central_shield_region = +central_sol_surface & -central_shield_outer_surface & -breeder_blanket_outer_surface\n",
    "central_shield_cell = openmc.Cell(region=central_shield_region)\n",
    "central_shield_cell.fill = eurofer\n",
    "\n",
    "inner_vessel_region = -vessel_inner_surface & +central_shield_outer_surface\n",
    "inner_vessel_cell = openmc.Cell(region=inner_vessel_region)\n",
    "# no material set as default is vacuum\n",
    "\n",
    "first_wall_region = -first_wall_outer_surface & +vessel_inner_surface\n",
    "first_wall_cell = openmc.Cell(region=first_wall_region)\n",
    "first_wall_cell.fill = eurofer\n",
    "\n",
    "breeder_blanket_region = +first_wall_outer_surface & -breeder_blanket_outer_surface & +central_shield_outer_surface\n",
    "breeder_blanket_cell = openmc.Cell(region=breeder_blanket_region)\n",
    "breeder_blanket_cell.fill = breeder_material\n",
    "\n",
    "universe = openmc.Universe(cells=[central_sol_cell, central_shield_cell, inner_vessel_cell, first_wall_cell, breeder_blanket_cell])\n",
    "geom = openmc.Geometry(universe)\n",
    "\n",
    "\n",
    "# SIMULATION SETTINGS\n",
    "\n",
    "# Instantiate a Settings object\n",
    "sett = openmc.Settings()\n",
    "batches = 2\n",
    "sett.batches = batches\n",
    "sett.inactive = 0\n",
    "sett.particles = 5000\n",
    "sett.run_mode = 'fixed source'\n",
    "\n",
    "# Create a DT point source\n",
    "source = openmc.Source()\n",
    "source.angle = openmc.stats.Isotropic()\n",
    "source.energy = openmc.stats.Discrete([14e6], [1])\n",
    "source.space = openmc.stats.Point((150, 150, 0))\n",
    "\n",
    "sett.source = source"
   ]
  },
  {
   "cell_type": "markdown",
   "metadata": {},
   "source": [
    "This code block creates a 3D regular mesh between two coordinates with a specified resolution in each axis."
   ]
  },
  {
   "cell_type": "code",
   "execution_count": 2,
   "metadata": {},
   "outputs": [],
   "source": [
    "mesh = openmc.RegularMesh(mesh_id=1)  # note the mesh_id is set to 1, this is needed later\n",
    "\n",
    "mesh.dimension = [100, 50, 100]  # number of mesh cells in each dimension (resolution)\n",
    "\n",
    "mesh.lower_left = [-750, 0, -750]  # x,y,z coordinates\n",
    "mesh.upper_right = [750, 750, 750]  # x,y,z coordinates"
   ]
  },
  {
   "cell_type": "markdown",
   "metadata": {},
   "source": [
    "This code block creates two tallies on the mesh to record heating and tritium production."
   ]
  },
  {
   "cell_type": "code",
   "execution_count": 3,
   "metadata": {},
   "outputs": [],
   "source": [
    "tallies = openmc.Tallies()\n",
    "# Create mesh filter for tally\n",
    "mesh_filter = openmc.MeshFilter(mesh)\n",
    "\n",
    "# Create flux mesh tally to score flux\n",
    "mesh_tally = openmc.Tally(tally_id=1, name='tbr_on_mesh')  # note the tally_id is specified\n",
    "mesh_tally.filters = [mesh_filter]\n",
    "mesh_tally.scores = ['(n,Xt)']\n",
    "tallies.append(mesh_tally)\n",
    "\n",
    "# Create flux mesh tally to score flux\n",
    "mesh_tally = openmc.Tally(tally_id=2, name='heating_on_mesh')  # note the tally_id is specified\n",
    "mesh_tally.filters = [mesh_filter]\n",
    "mesh_tally.scores = ['heating']\n",
    "tallies.append(mesh_tally)"
   ]
  },
  {
   "cell_type": "markdown",
   "metadata": {},
   "source": [
    "This next code block performs the simulation."
   ]
  },
  {
   "cell_type": "code",
   "execution_count": 4,
   "metadata": {},
   "outputs": [
    {
     "name": "stdout",
     "output_type": "stream",
     "text": [
      "                                %%%%%%%%%%%%%%%\n",
      "                           %%%%%%%%%%%%%%%%%%%%%%%%\n",
      "                        %%%%%%%%%%%%%%%%%%%%%%%%%%%%%%\n",
      "                      %%%%%%%%%%%%%%%%%%%%%%%%%%%%%%%%%%\n",
      "                    %%%%%%%%%%%%%%%%%%%%%%%%%%%%%%%%%%%%%%\n",
      "                   %%%%%%%%%%%%%%%%%%%%%%%%%%%%%%%%%%%%%%%%\n",
      "                                    %%%%%%%%%%%%%%%%%%%%%%%%\n",
      "                                     %%%%%%%%%%%%%%%%%%%%%%%%\n",
      "                 ###############      %%%%%%%%%%%%%%%%%%%%%%%%\n",
      "                ##################     %%%%%%%%%%%%%%%%%%%%%%%\n",
      "                ###################     %%%%%%%%%%%%%%%%%%%%%%%\n",
      "                ####################     %%%%%%%%%%%%%%%%%%%%%%\n",
      "                #####################     %%%%%%%%%%%%%%%%%%%%%\n",
      "                ######################     %%%%%%%%%%%%%%%%%%%%\n",
      "                #######################     %%%%%%%%%%%%%%%%%%\n",
      "                 #######################     %%%%%%%%%%%%%%%%%\n",
      "                 ######################     %%%%%%%%%%%%%%%%%\n",
      "                  ####################     %%%%%%%%%%%%%%%%%\n",
      "                    #################     %%%%%%%%%%%%%%%%%\n",
      "                     ###############     %%%%%%%%%%%%%%%%\n",
      "                       ############     %%%%%%%%%%%%%%%\n",
      "                          ########     %%%%%%%%%%%%%%\n",
      "                                      %%%%%%%%%%%\n",
      "\n",
      "                   | The OpenMC Monte Carlo Code\n",
      "         Copyright | 2011-2021 MIT and OpenMC contributors\n",
      "           License | https://docs.openmc.org/en/latest/license.html\n",
      "           Version | 0.13.0-dev\n",
      "          Git SHA1 | 209fdd86ed14a16d4b73e9c44de8a9710a898e64\n",
      "         Date/Time | 2021-12-16 23:39:48\n",
      "     MPI Processes | 1\n",
      "    OpenMP Threads | 8\n",
      "\n",
      " Reading settings XML file...\n",
      " Reading cross sections XML file...\n",
      " Reading materials XML file...\n",
      " Reading geometry XML file...\n",
      " Reading Pb204 from\n",
      " /home/jshim/nuc_data/cross_section_data/ENDFB-7.1-NNDC_Pb204.h5\n",
      " Reading Pb206 from\n",
      " /home/jshim/nuc_data/cross_section_data/ENDFB-7.1-NNDC_Pb206.h5\n",
      " Reading Pb207 from\n",
      " /home/jshim/nuc_data/cross_section_data/ENDFB-7.1-NNDC_Pb207.h5\n",
      " Reading Pb208 from\n",
      " /home/jshim/nuc_data/cross_section_data/ENDFB-7.1-NNDC_Pb208.h5\n",
      " Reading Li6 from /home/jshim/nuc_data/cross_section_data/ENDFB-7.1-NNDC_Li6.h5\n",
      " Reading Li7 from /home/jshim/nuc_data/cross_section_data/ENDFB-7.1-NNDC_Li7.h5\n",
      " Reading Cu63 from\n",
      " /home/jshim/nuc_data/cross_section_data/ENDFB-7.1-NNDC_Cu63.h5\n",
      " Reading Cu65 from\n",
      " /home/jshim/nuc_data/cross_section_data/ENDFB-7.1-NNDC_Cu65.h5\n",
      " Reading Fe54 from\n",
      " /home/jshim/nuc_data/cross_section_data/ENDFB-7.1-NNDC_Fe54.h5\n",
      " Reading Fe56 from\n",
      " /home/jshim/nuc_data/cross_section_data/ENDFB-7.1-NNDC_Fe56.h5\n",
      " Reading Fe57 from\n",
      " /home/jshim/nuc_data/cross_section_data/ENDFB-7.1-NNDC_Fe57.h5\n",
      " Reading Fe58 from\n",
      " /home/jshim/nuc_data/cross_section_data/ENDFB-7.1-NNDC_Fe58.h5\n",
      " Minimum neutron data temperature: 294.0 K\n",
      " Maximum neutron data temperature: 294.0 K\n",
      " Reading tallies XML file...\n",
      " Preparing distributed cell instances...\n",
      " Writing summary.h5 file...\n",
      " Maximum neutron transport energy: 20000000.0 eV for Li6\n",
      "\n",
      " ===============>     FIXED SOURCE TRANSPORT SIMULATION     <===============\n",
      "\n",
      " Simulating batch 1\n",
      " Simulating batch 2\n",
      " Creating state point statepoint.2.h5...\n",
      "\n",
      " =======================>     TIMING STATISTICS     <=======================\n",
      "\n",
      " Total time for initialization     = 1.3385e+00 seconds\n",
      "   Reading cross sections          = 1.3248e+00 seconds\n",
      " Total time in simulation          = 1.1286e+00 seconds\n",
      "   Time in transport only          = 1.0857e+00 seconds\n",
      "   Time in active batches          = 1.1286e+00 seconds\n",
      "   Time accumulating tallies       = 3.7870e-03 seconds\n",
      "   Time writing statepoints        = 3.8630e-02 seconds\n",
      " Total time for finalization       = 1.1894e+00 seconds\n",
      " Total time elapsed                = 3.6703e+00 seconds\n",
      " Calculation Rate (active)         = 8860.26 particles/second\n",
      "\n",
      " ============================>     RESULTS     <============================\n",
      "\n",
      " Leakage Fraction            = 0.15340 +/- 0.00220\n",
      "\n"
     ]
    }
   ],
   "source": [
    "# deletes old statepoint and summary files\n",
    "!rm s*.h5\n",
    "\n",
    "# Run OpenMC!\n",
    "model = openmc.model.Model(geom, mats, sett, tallies)\n",
    "sp_filename = model.run()"
   ]
  },
  {
   "cell_type": "markdown",
   "metadata": {},
   "source": [
    "This code block runs a python function which extracts the mesh tally data from the statepoint.h5 file and saves it as a vtk file."
   ]
  },
  {
   "cell_type": "code",
   "execution_count": 6,
   "metadata": {},
   "outputs": [
    {
     "name": "stdout",
     "output_type": "stream",
     "text": [
      "tally.size 500000\n",
      "tally [0. 0. 0. ... 0. 0. 0.]\n",
      "Writing tbr_tally_on_mesh.vtk\n",
      "tally.size 500000\n",
      "tally [0. 0. 0. ... 0. 0. 0.]\n",
      "Writing heating_tally_on_mesh.vtk\n"
     ]
    },
    {
     "data": {
      "text/plain": [
       "'heating_tally_on_mesh.vtk'"
      ]
     },
     "execution_count": 6,
     "metadata": {},
     "output_type": "execute_result"
    }
   ],
   "source": [
    "from openmc_mesh_tally_to_vtk import write_mesh_tally_to_vtk\n",
    "\n",
    "\n",
    "# loads up the output file from the simulation\n",
    "statepoint = openmc.StatePoint('statepoint.2.h5')\n",
    "\n",
    "# extracts the mesh tally by name\n",
    "my_tally = statepoint.get_tally(name='tbr_on_mesh')\n",
    "\n",
    "# converts the tally result into a VTK file\n",
    "write_mesh_tally_to_vtk(\n",
    "    tally=my_tally,\n",
    "    filename = \"tbr_tally_on_mesh.vtk\",\n",
    ")\n",
    "\n",
    "\n",
    "# extracts the mesh tally by name\n",
    "my_tally = statepoint.get_tally(name='heating_on_mesh')\n",
    "\n",
    "# converts the tally result into a VTK file\n",
    "write_mesh_tally_to_vtk(\n",
    "    tally=my_tally,\n",
    "    filename = \"heating_tally_on_mesh.vtk\",\n",
    ")"
   ]
  },
  {
   "cell_type": "markdown",
   "metadata": {},
   "source": [
    "The next code block generates download links to the 3D vtk files created.\n",
    "\n",
    "Click on the links to download the vtk files onto your base computer and open them with a VTK file reader such as Paraview or Visit.\n",
    "\n",
    "Paraview can be downloaded here: https://www.paraview.org/download/.\n",
    "Visit can be downloaded here: https://wci.llnl.gov/simulation/computer-codes/visit/downloads."
   ]
  },
  {
   "cell_type": "code",
   "execution_count": 7,
   "metadata": {},
   "outputs": [
    {
     "data": {
      "text/html": [
       "<a href='heating_tally_on_mesh.vtk' target='_blank'>heating_tally_on_mesh.vtk</a><br>"
      ],
      "text/plain": [
       "/home/jshim/neutronics-workshop/tasks/task_08_CSG_mesh_tally/heating_tally_on_mesh.vtk"
      ]
     },
     "metadata": {},
     "output_type": "display_data"
    },
    {
     "data": {
      "text/html": [
       "<a href='tbr_tally_on_mesh.vtk' target='_blank'>tbr_tally_on_mesh.vtk</a><br>"
      ],
      "text/plain": [
       "/home/jshim/neutronics-workshop/tasks/task_08_CSG_mesh_tally/tbr_tally_on_mesh.vtk"
      ]
     },
     "metadata": {},
     "output_type": "display_data"
    }
   ],
   "source": [
    "from IPython.display import FileLink\n",
    "display(FileLink('heating_tally_on_mesh.vtk'))\n",
    "display(FileLink('tbr_tally_on_mesh.vtk'))"
   ]
  },
  {
   "cell_type": "markdown",
   "metadata": {},
   "source": [
    "**Learning Outcomes for Part 2:**\n",
    "\n",
    "- Mesh tallies can be used in neutronics simulations to measure a variety of different reactions such as neutron absorption, tritium production and flux.\n",
    "- How neutrons are dissipated around the reactor."
   ]
  }
 ],
 "metadata": {
  "kernelspec": {
   "display_name": "Python 3 (ipykernel)",
   "language": "python",
   "name": "python3"
  },
  "language_info": {
   "codemirror_mode": {
    "name": "ipython",
    "version": 3
   },
   "file_extension": ".py",
   "mimetype": "text/x-python",
   "name": "python",
   "nbconvert_exporter": "python",
   "pygments_lexer": "ipython3",
   "version": "3.8.11"
  }
 },
 "nbformat": 4,
 "nbformat_minor": 4
}
