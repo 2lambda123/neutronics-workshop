{
 "cells": [
  {
   "cell_type": "markdown",
   "metadata": {},
   "source": [
    "# 3D mesh tallies\n",
    "\n",
    "This example makes a simple geometry from a few different materials and plots a 3D regular mesh tally of the results.\n",
    "\n",
    "A mesh tally allows a visual inspection of the neutron behaviour spatially throughout the geometry.\n",
    "\n",
    "The geometry is subdivided into many rectangles and the neutron behaviour is recorded (tallied) by the simulation in each of the small rectangles.\n",
    "\n",
    "The resulting vtk can be viewed to see the 3D tally."
   ]
  },
  {
   "cell_type": "code",
   "execution_count": null,
   "metadata": {
    "scrolled": true
   },
   "outputs": [],
   "source": [
    "import openmc\n",
    "import os\n",
    "\n",
    "# MATERIALS\n",
    "\n",
    "breeder_material = openmc.Material(1, \"PbLi\")   # Pb84.2Li15.8\n",
    "breeder_material.add_element('Pb', 84.2, percent_type='ao')\n",
    "breeder_material.add_element('Li', 15.8, percent_type='ao', enrichment=7.0, enrichment_target='Li6', enrichment_type='ao')   # natural enrichment = 7% Li6\n",
    "breeder_material.set_density('atom/b-cm', 3.2720171e-2)   # around 11 g/cm3\n",
    "\n",
    "copper = openmc.Material(name='Copper')\n",
    "copper.set_density('g/cm3', 8.5)\n",
    "copper.add_element('Cu', 1.0)\n",
    "\n",
    "eurofer = openmc.Material(name='iron')\n",
    "eurofer.set_density('g/cm3', 7.75)\n",
    "eurofer.add_element('Fe', 89.067, percent_type='wo')\n",
    "\n",
    "mats = openmc.Materials([breeder_material, eurofer, copper])\n",
    "\n",
    "\n",
    "# GEOMETRY\n",
    "\n",
    "# surfaces\n",
    "central_sol_surface = openmc.ZCylinder(r=100)\n",
    "central_shield_outer_surface = openmc.ZCylinder(r=110)\n",
    "vessel_inner_surface = openmc.Sphere(r=500)\n",
    "first_wall_outer_surface = openmc.Sphere(r=510)\n",
    "breeder_blanket_outer_surface = openmc.Sphere(r=610, boundary_type='vacuum')\n",
    "\n",
    "# cells\n",
    "central_sol_region = -central_sol_surface & -breeder_blanket_outer_surface\n",
    "central_sol_cell = openmc.Cell(region=central_sol_region)\n",
    "central_sol_cell.fill = copper\n",
    "\n",
    "central_shield_region = +central_sol_surface & -central_shield_outer_surface & -breeder_blanket_outer_surface\n",
    "central_shield_cell = openmc.Cell(region=central_shield_region)\n",
    "central_shield_cell.fill = eurofer\n",
    "\n",
    "inner_vessel_region = -vessel_inner_surface & +central_shield_outer_surface\n",
    "inner_vessel_cell = openmc.Cell(region=inner_vessel_region)\n",
    "# no material set as default is vacuum\n",
    "\n",
    "first_wall_region = -first_wall_outer_surface & +vessel_inner_surface\n",
    "first_wall_cell = openmc.Cell(region=first_wall_region)\n",
    "first_wall_cell.fill = eurofer\n",
    "\n",
    "breeder_blanket_region = +first_wall_outer_surface & -breeder_blanket_outer_surface & +central_shield_outer_surface\n",
    "breeder_blanket_cell = openmc.Cell(region=breeder_blanket_region)\n",
    "breeder_blanket_cell.fill = breeder_material\n",
    "\n",
    "universe = openmc.Universe(cells=[central_sol_cell, central_shield_cell, inner_vessel_cell, first_wall_cell, breeder_blanket_cell])\n",
    "geom = openmc.Geometry(universe)\n",
    "\n",
    "\n",
    "# SIMULATION SETTINGS\n",
    "\n",
    "# Instantiate a Settings object\n",
    "sett = openmc.Settings()\n",
    "batches = 2\n",
    "sett.batches = batches\n",
    "sett.inactive = 0\n",
    "sett.particles = 5000\n",
    "sett.run_mode = 'fixed source'\n",
    "\n",
    "# Create a DT point source\n",
    "source = openmc.Source()\n",
    "source.angle = openmc.stats.Isotropic()\n",
    "source.energy = openmc.stats.Discrete([14e6], [1])\n",
    "source.space = openmc.stats.Point((150, 150, 0))\n",
    "\n",
    "sett.source = source"
   ]
  },
  {
   "cell_type": "markdown",
   "metadata": {},
   "source": [
    "This section creates a 3D regular mesh from one coordinate to another coordinate with a specificed resolution in each axis."
   ]
  },
  {
   "cell_type": "code",
   "execution_count": null,
   "metadata": {},
   "outputs": [],
   "source": [
    "mesh = openmc.RegularMesh(mesh_id=1)  # note the mesh_id is set to 1, this is needed later\n",
    "\n",
    "mesh.dimension = [100, 50, 100]  # width, depth, height\n",
    "\n",
    "mesh.lower_left = [-750, 0, -750]  # x,y,z coordinates\n",
    "mesh.upper_right = [750, 750, 750]  # x,y,z coordinates\n",
    "\n",
    "\n"
   ]
  },
  {
   "cell_type": "markdown",
   "metadata": {},
   "source": [
    "This section creates two tallies on the previously created mesh and records heating and tritium production"
   ]
  },
  {
   "cell_type": "code",
   "execution_count": null,
   "metadata": {},
   "outputs": [],
   "source": [
    "tallies = openmc.Tallies()\n",
    "# Create mesh filter for tally\n",
    "mesh_filter = openmc.MeshFilter(mesh)\n",
    "\n",
    "# Create flux mesh tally to score flux\n",
    "mesh_tally = openmc.Tally(tally_id=1, name='tbr_on_mesh')  # note the tally_id is specified\n",
    "mesh_tally.filters = [mesh_filter]\n",
    "mesh_tally.scores = ['(n,Xt)']\n",
    "tallies.append(mesh_tally)\n",
    "\n",
    "# Create flux mesh tally to score flux\n",
    "mesh_tally = openmc.Tally(tally_id=2, name='heating_on_mesh')  # note the tally_id is specified\n",
    "mesh_tally.filters = [mesh_filter]\n",
    "mesh_tally.scores = ['heating']\n",
    "tallies.append(mesh_tally)\n"
   ]
  },
  {
   "cell_type": "markdown",
   "metadata": {},
   "source": [
    "This performs the simulation"
   ]
  },
  {
   "cell_type": "code",
   "execution_count": null,
   "metadata": {},
   "outputs": [],
   "source": [
    "# deletes old statepoint and sumary files\n",
    "!rm s*.h5\n",
    "\n",
    "# Run OpenMC!\n",
    "model = openmc.model.Model(geom, mats, sett, tallies)\n",
    "sp_filename = model.run()"
   ]
  },
  {
   "cell_type": "markdown",
   "metadata": {},
   "source": [
    "This command runs a python function that is able to extract mesh tally data from the statepoint.h5 file and save the mesh tally as a vtk file"
   ]
  },
  {
   "cell_type": "code",
   "execution_count": null,
   "metadata": {},
   "outputs": [],
   "source": [
    "from statepoint_to_vtk import initiate_mesh\n",
    "\n",
    "initiate_mesh(\n",
    "    statepoint_filename=sp_filename,\n",
    "    tally_name='tbr_on_mesh',\n",
    "    output_filename='tbr_tally_on_mesh.vtk',\n",
    "    mesh_id=1,  # note the mesh_id from earlier is used\n",
    "    tally_id=1  # note the tally_id from earlier is used\n",
    ")\n",
    "\n",
    "initiate_mesh(\n",
    "    statepoint_filename=sp_filename,\n",
    "    tally_name='heating_on_mesh',\n",
    "    output_filename='heating_tally_on_mesh.vtk',\n",
    "    mesh_id=1,  # note the mesh_id from earlier is used\n",
    "    tally_id=2 # note the tally_id from earlier is used\n",
    ")"
   ]
  },
  {
   "cell_type": "markdown",
   "metadata": {},
   "source": [
    "This next command generates a download link to the 3d vtk file generated.\n",
    "\n",
    "Click on the link to download the vtk file onto your base computer and open it with  a VTK file reader such as Paraview or Visit\n",
    "\n",
    "Paraview can be downloaded here https://www.paraview.org/download/\n",
    "Visit can be downloaded here https://wci.llnl.gov/simulation/computer-codes/visit/downloads"
   ]
  },
  {
   "cell_type": "code",
   "execution_count": null,
   "metadata": {},
   "outputs": [],
   "source": [
    "from IPython.display import FileLink\n",
    "display(FileLink('heating_tally_on_mesh.vtk'))\n",
    "display(FileLink('tbr_tally_on_mesh.vtk'))"
   ]
  }
 ],
 "metadata": {
  "kernelspec": {
   "display_name": "Python 3",
   "language": "python",
   "name": "python3"
  },
  "language_info": {
   "codemirror_mode": {
    "name": "ipython",
    "version": 3
   },
   "file_extension": ".py",
   "mimetype": "text/x-python",
   "name": "python",
   "nbconvert_exporter": "python",
   "pygments_lexer": "ipython3",
   "version": "3.8.3"
  }
 },
 "nbformat": 4,
 "nbformat_minor": 4
}
