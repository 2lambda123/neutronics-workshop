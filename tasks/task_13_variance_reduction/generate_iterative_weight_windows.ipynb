{
 "cells": [
  {
   "cell_type": "markdown",
   "id": "d4d248c5-e7cd-428f-b099-061a1328853e",
   "metadata": {},
   "source": [
    "# variance reduction techniques\n",
    "\n",
    "## Iteratively create and utilising a wight window to accelerate the deep shielding simulations"
   ]
  },
  {
   "cell_type": "markdown",
   "id": "7b02559d-a4f3-4e6f-83f4-1aa030bf59f5",
   "metadata": {},
   "source": [
    "This example implements the Magic method of weight window generation. The theory of weight windows and the method are best described by the paper here https://scientific-publications.ukaea.uk/wp-content/uploads/Published/INTERN1.pdf\n",
    "\n",
    "In this tutorial we shall focus on generating a weight window to accelerate the simulation of particles through a shield. Then using that weight window to generate a new weight window and repeating the process to obtain a final weight window.\n",
    "\n",
    "First we must make a model. This is kept as simple as possible as the focus of this notebook is on generating and then using a weight window.\n",
    "\n",
    "The model is a single sphere of 200 cm radius filled with water and containing a 14MeV point source in the center"
   ]
  },
  {
   "cell_type": "code",
   "execution_count": null,
   "id": "779490fe-0dfe-4523-982a-3881eff46e80",
   "metadata": {},
   "outputs": [],
   "source": [
    "import openmc\n",
    "import openmc_weight_window_generator\n",
    "# this is a minimal package that adds some functionality to openmc, namely it adds:\n",
    "# - openmc.StatePoint.generate_wws which we use in a previous task\n",
    "# - openmc.Model.generate_wws_magic_method which we use in this task\n",
    "\n",
    "\n",
    "# creates a shielding material\n",
    "water = openmc.Material(name='Water')\n",
    "water.set_density('g/cc', 1.0)\n",
    "water.add_element('H', 2)\n",
    "water.add_element('O', 1)\n",
    "materials = openmc.Materials([water])\n",
    "\n",
    "sphere1 = openmc.Sphere(r=200, boundary_type='vacuum')\n",
    "\n",
    "region1 = -sphere1\n",
    "\n",
    "cell1 = openmc.Cell(fill=water, region=region1)\n",
    "\n",
    "geometry = openmc.Geometry([cell1])\n",
    "\n",
    "source = openmc.Source()\n",
    "source.space = openmc.stats.Point((0.0, 0.0, 0.0))\n",
    "source.angle = openmc.stats.Isotropic()\n",
    "source.energy = openmc.stats.Discrete([14e6], [1.0])\n",
    "source.particle = 'neutron'\n",
    "\n",
    "my_settings = openmc.Settings()\n",
    "my_settings.run_mode = 'fixed source'\n",
    "my_settings.source = source\n",
    "my_settings.particles = 10000\n",
    "my_settings.batches = 10\n",
    "# the mesh tallies produce large tallies.out files so this output setting avoids writing the tallies.out and saves time\n",
    "my_settings.output = {'tallies': False}\n",
    "\n",
    "model = openmc.Model(geometry, materials, my_settings)"
   ]
  },
  {
   "cell_type": "markdown",
   "id": "980c9abe-cb26-4bf8-998d-08bc46b0cac7",
   "metadata": {},
   "source": [
    "Now we can plot the simple geometry"
   ]
  },
  {
   "cell_type": "code",
   "execution_count": null,
   "id": "da6728e8-a947-4dee-8e20-04a980019d33",
   "metadata": {},
   "outputs": [],
   "source": [
    "import matplotlib.pyplot as plt\n",
    "plt.figure(figsize=(10,10))\n",
    "model.geometry.root_universe.plot(width=(400, 400), pixels=(600, 600))\n",
    "plt.show()"
   ]
  },
  {
   "cell_type": "markdown",
   "id": "c3a3547e-f9d7-4b53-806b-0c84648e4df6",
   "metadata": {},
   "source": [
    "Now we shall add a regular mesh tally over the the geometry.\n",
    "\n",
    "The mesh will be used to record the neutron flux in each mesh voxel"
   ]
  },
  {
   "cell_type": "code",
   "execution_count": null,
   "id": "44dba5ef-ec9c-4280-8fc1-b9191b5c62ea",
   "metadata": {},
   "outputs": [],
   "source": [
    "mesh = openmc.RegularMesh()\n",
    "mesh.lower_left = model.geometry.bounding_box[0]\n",
    "mesh.upper_right = model.geometry.bounding_box[1]\n",
    "mesh.dimension = (50, 50, 50)\n",
    "\n",
    "mesh_filter = openmc.MeshFilter(mesh)\n",
    "\n",
    "flux_tally = openmc.Tally(name='flux tally')\n",
    "flux_tally.filters = [mesh_filter]\n",
    "flux_tally.scores = ['flux']\n",
    "\n",
    "# adds the mesh tally to the model\n",
    "model.tallies = [flux_tally]\n",
    "\n",
    "output_file = model.run()"
   ]
  },
  {
   "cell_type": "markdown",
   "id": "a2404758-0b31-442f-84c5-9e5cc2a455c3",
   "metadata": {},
   "source": [
    "Now we can plot the flux and the standard deviation of the flux tally to see how far into the shield the neutrons got. "
   ]
  },
  {
   "cell_type": "code",
   "execution_count": null,
   "id": "a5997678-95a6-4178-99d2-b66df38cfc1c",
   "metadata": {},
   "outputs": [],
   "source": [
    "from matplotlib.colors import LogNorm\n",
    "\n",
    "with openmc.StatePoint(output_file) as sp:\n",
    "    flux_tally = sp.get_tally(id=flux_tally.id)\n",
    "\n",
    "llc, urc = model.geometry.bounding_box\n",
    "\n",
    "fig,  (ax1, ax2) = plt.subplots(1,2)\n",
    "fig.suptitle('Flux and std. dev. without weight window')\n",
    "\n",
    "slice_index = int(mesh.dimension[-1]/2)\n",
    "\n",
    "# create a plot of the mean values\n",
    "flux_mean = flux_tally.mean.reshape(*mesh.dimension)\n",
    "img1 = ax1.imshow(flux_mean[slice_index], origin='lower', extent=(llc[0], urc[0], llc[1], urc[1]), norm=LogNorm())\n",
    "ax1.set_title('Flux Mean')\n",
    "plt.colorbar(img1, ax=ax1, fraction=0.046)\n",
    "img1.set_clim(vmin=1e-30, vmax=1.0)\n",
    "\n",
    "# create a plot of the flux relative error\n",
    "flux_rel_err = flux_tally.get_values(value='rel_err').reshape(*mesh.dimension)\n",
    "img2 = ax2.imshow(flux_rel_err[slice_index], origin='lower', extent=(llc[0], urc[0], llc[1], urc[1]))\n",
    "ax2.set_title('Flux Rel. Err.')\n",
    "plt.colorbar(img2, ax=ax2, fraction=0.046)\n",
    "# ax2.set_colorbar(img2, ax=ax2)\n",
    "img2.set_clim(vmin=0.0, vmax=1.0)\n",
    "\n",
    "plt.show()"
   ]
  },
  {
   "cell_type": "markdown",
   "id": "e8bc03db-f38b-4c85-ae11-f222f4fe80c7",
   "metadata": {},
   "source": [
    "Now we shall run the simulation several times, with each iteration we shall use the flux tally to produce a weight window. Then the weight window will be used in the subsequent simulation."
   ]
  },
  {
   "cell_type": "code",
   "execution_count": null,
   "id": "5194f55d-ab70-44d5-a7c7-5dbb3f6efa8f",
   "metadata": {},
   "outputs": [],
   "source": [
    "model.generate_wws_magic_method(tally=flux_tally, iterations=5, max_split=500_000)"
   ]
  },
  {
   "cell_type": "markdown",
   "id": "76c22db3-6959-4ea7-b819-3ba49ac19eab",
   "metadata": {},
   "source": [
    "Now we can plot the flux and the standard deviation of the flux tally to see how far into the shield the neutrons got. "
   ]
  },
  {
   "cell_type": "code",
   "execution_count": null,
   "id": "6b81b0c7-6313-43fc-895c-55494870508d",
   "metadata": {},
   "outputs": [],
   "source": [
    "from matplotlib.colors import LogNorm\n",
    "\n",
    "with openmc.StatePoint(output_file) as sp:\n",
    "    flux_tally = sp.get_tally(id=flux_tally.id)\n",
    "\n",
    "llc, urc = model.geometry.bounding_box\n",
    "\n",
    "fig,  (ax1, ax2) = plt.subplots(1,2)\n",
    "fig.suptitle('Flux and std. dev. without weight window')\n",
    "\n",
    "slice_index = int(mesh.dimension[-1]/2)\n",
    "\n",
    "# create a plot of the mean values\n",
    "flux_mean = flux_tally.mean.reshape(*mesh.dimension)\n",
    "img1 = ax1.imshow(flux_mean[slice_index], origin='lower', extent=(llc[0], urc[0], llc[1], urc[1]), norm=LogNorm())\n",
    "ax1.set_title('Flux Mean')\n",
    "plt.colorbar(img1, ax=ax1, fraction=0.046)\n",
    "img1.set_clim(vmin=1e-30, vmax=1.0)\n",
    "\n",
    "# create a plot of the flux relative error\n",
    "flux_rel_err = flux_tally.get_values(value='rel_err').reshape(*mesh.dimension)\n",
    "img2 = ax2.imshow(flux_rel_err[slice_index], origin='lower', extent=(llc[0], urc[0], llc[1], urc[1]))\n",
    "ax2.set_title('Flux Rel. Err.')\n",
    "plt.colorbar(img2, ax=ax2, fraction=0.046)\n",
    "# ax2.set_colorbar(img2, ax=ax2)\n",
    "img2.set_clim(vmin=0.0, vmax=1.0)\n",
    "\n",
    "plt.show()"
   ]
  }
 ],
 "metadata": {
  "kernelspec": {
   "display_name": "Python 3 (ipykernel)",
   "language": "python",
   "name": "python3"
  },
  "language_info": {
   "codemirror_mode": {
    "name": "ipython",
    "version": 3
   },
   "file_extension": ".py",
   "mimetype": "text/x-python",
   "name": "python",
   "nbconvert_exporter": "python",
   "pygments_lexer": "ipython3",
   "version": "3.8.13"
  }
 },
 "nbformat": 4,
 "nbformat_minor": 5
}
