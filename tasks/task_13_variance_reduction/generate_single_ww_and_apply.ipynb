{
 "cells": [
  {
   "attachments": {},
   "cell_type": "markdown",
   "id": "72e0b25d-e541-4e8d-8805-b984374ee53d",
   "metadata": {},
   "source": [
    "# variance reduction techniques\n",
    "\n",
    "## Creating and utilising a wight window to accelerate the deep shielding simulations"
   ]
  },
  {
   "attachments": {},
   "cell_type": "markdown",
   "id": "f00eddb1-1e3a-4973-ba0c-d8feeb2a6704",
   "metadata": {},
   "source": [
    "This example implements a single step of the Magic method of weight window generation. The theory of weight windows and the method are best described by the paper here https://scientific-publications.ukaea.uk/wp-content/uploads/Published/INTERN1.pdf\n",
    "\n",
    "In this tutorial we shall focus on generating a weight window to accelerate the simulation of particles through a shield.\n",
    "\n",
    "First we must make a model. This is kept as simple as possible as the focus of this notebook is on generating and then using a weight window.\n",
    "\n",
    "The model is a single sphere of 200 cm radius filled with water and containing a 14MeV point source in the center"
   ]
  },
  {
   "cell_type": "code",
   "execution_count": 3,
   "id": "3448d1db-4328-42e3-8960-50d53896f541",
   "metadata": {},
   "outputs": [],
   "source": [
    "import openmc\n",
    "\n",
    "# creates a shielding material\n",
    "water = openmc.Material(name='Water')\n",
    "water.set_density('g/cc', 1.0)\n",
    "water.add_element('H', 2)\n",
    "water.add_element('O', 1)\n",
    "materials = openmc.Materials([water])\n",
    "\n",
    "sphere1 = openmc.Sphere(r=200, boundary_type='vacuum')\n",
    "\n",
    "region1 = -sphere1\n",
    "\n",
    "cell1 = openmc.Cell(fill=water, region=region1)\n",
    "\n",
    "geometry = openmc.Geometry([cell1])\n",
    "\n",
    "source = openmc.Source()\n",
    "source.space = openmc.stats.Point((0.0, 0.0, 0.0))\n",
    "source.angle = openmc.stats.Isotropic()\n",
    "source.energy = openmc.stats.Discrete([14e6], [1.0])\n",
    "source.particle = 'neutron'\n",
    "\n",
    "my_settings = openmc.Settings()\n",
    "my_settings.run_mode = 'fixed source'\n",
    "my_settings.source = source\n",
    "my_settings.particles = 10000\n",
    "my_settings.batches = 10\n",
    "# the mesh tallies produce large tallies.out files so this output setting avoids writing the tallies.out and saves time\n",
    "my_settings.output = {'tallies': False}\n",
    "\n",
    "model = openmc.model.Model(geometry, materials, my_settings)"
   ]
  },
  {
   "attachments": {},
   "cell_type": "markdown",
   "id": "8179e89a-304b-4684-91a9-8a908b75e8cd",
   "metadata": {},
   "source": [
    "Now we can plot the simple geometry"
   ]
  },
  {
   "cell_type": "code",
   "execution_count": 4,
   "id": "47cb21c7-0afa-446c-9a6b-76c8dfb2f93e",
   "metadata": {},
   "outputs": [
    {
     "data": {
      "image/png": "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",
      "text/plain": [
       "<Figure size 258.065x259.74 with 1 Axes>"
      ]
     },
     "metadata": {},
     "output_type": "display_data"
    }
   ],
   "source": [
    "import matplotlib.pyplot as plt\n",
<<<<<<< HEAD
    "\n",
    "model.geometry.root_universe.plot()\n",
=======
    "plt.figure(figsize=(10,10))\n",
    "model.geometry.root_universe.plot(pixels=(600, 600))\n",
>>>>>>> develop
    "plt.show()"
   ]
  },
  {
   "attachments": {},
   "cell_type": "markdown",
   "id": "424b234c-48a2-4d1b-b374-f69430e464db",
   "metadata": {},
   "source": [
    "Now we shall add a regular mesh tally over the the geometry.\n",
    "\n",
    "The mesh will be used to record the neutron flux in each mesh voxel"
   ]
  },
  {
   "cell_type": "code",
   "execution_count": 5,
   "id": "a72dc5e3-cb8e-41c2-9cfb-f8f7489c7f44",
   "metadata": {},
   "outputs": [],
   "source": [
    "mesh = openmc.RegularMesh()\n",
    "mesh.lower_left = model.geometry.bounding_box[0]\n",
    "mesh.upper_right = model.geometry.bounding_box[1]\n",
    "mesh.dimension = (50, 50, 50)\n",
    "\n",
    "mesh_filter = openmc.MeshFilter(mesh)\n",
    "\n",
    "flux_tally_for_ww = openmc.Tally(name='flux tally')\n",
    "flux_tally_for_ww.filters = [mesh_filter]\n",
    "flux_tally_for_ww.scores = ['flux']\n",
    "\n",
    "# adds the mesh tally to the model\n",
    "model.tallies = [flux_tally_for_ww]"
   ]
  },
  {
   "attachments": {},
   "cell_type": "markdown",
   "id": "026db00f",
   "metadata": {},
   "source": [
    "Now we shall run the simulation in analog mode"
   ]
  },
  {
   "cell_type": "code",
   "execution_count": 6,
   "id": "35f3c771",
   "metadata": {},
   "outputs": [
    {
     "name": "stdout",
     "output_type": "stream",
     "text": [
      "                                %%%%%%%%%%%%%%%\n",
      "                           %%%%%%%%%%%%%%%%%%%%%%%%\n",
      "                        %%%%%%%%%%%%%%%%%%%%%%%%%%%%%%\n",
      "                      %%%%%%%%%%%%%%%%%%%%%%%%%%%%%%%%%%\n",
      "                    %%%%%%%%%%%%%%%%%%%%%%%%%%%%%%%%%%%%%%\n",
      "                   %%%%%%%%%%%%%%%%%%%%%%%%%%%%%%%%%%%%%%%%\n",
      "                                    %%%%%%%%%%%%%%%%%%%%%%%%\n",
      "                                     %%%%%%%%%%%%%%%%%%%%%%%%\n",
      "                 ###############      %%%%%%%%%%%%%%%%%%%%%%%%\n",
      "                ##################     %%%%%%%%%%%%%%%%%%%%%%%\n",
      "                ###################     %%%%%%%%%%%%%%%%%%%%%%%\n",
      "                ####################     %%%%%%%%%%%%%%%%%%%%%%\n",
      "                #####################     %%%%%%%%%%%%%%%%%%%%%\n",
      "                ######################     %%%%%%%%%%%%%%%%%%%%\n",
      "                #######################     %%%%%%%%%%%%%%%%%%\n",
      "                 #######################     %%%%%%%%%%%%%%%%%\n",
      "                 ######################     %%%%%%%%%%%%%%%%%\n",
      "                  ####################     %%%%%%%%%%%%%%%%%\n",
      "                    #################     %%%%%%%%%%%%%%%%%\n",
      "                     ###############     %%%%%%%%%%%%%%%%\n",
      "                       ############     %%%%%%%%%%%%%%%\n",
      "                          ########     %%%%%%%%%%%%%%\n",
      "                                      %%%%%%%%%%%\n",
      "\n",
      "                 | The OpenMC Monte Carlo Code\n",
      "       Copyright | 2011-2023 MIT, UChicago Argonne LLC, and contributors\n",
      "         License | https://docs.openmc.org/en/latest/license.html\n",
      "         Version | 0.13.4-dev\n",
      "        Git SHA1 | 610a5d8c3485034626ce54ce87a88eaa8071cc23\n",
      "       Date/Time | 2023-06-10 22:35:39\n",
      "  OpenMP Threads | 8\n",
      "\n",
      " Reading model XML file './model.xml' ...\n",
      " WARNING: Other XML file input(s) are present. These files may be ignored in\n",
      "          favor of the ./model.xml file.\n",
      " Reading cross sections XML file...\n",
      " Reading H1 from /home/j/nndc-b8.0-hdf5/endfb-viii.0-hdf5/neutron/H1.h5\n",
      " Reading H2 from /home/j/nndc-b8.0-hdf5/endfb-viii.0-hdf5/neutron/H2.h5\n",
      " Reading O16 from /home/j/nndc-b8.0-hdf5/endfb-viii.0-hdf5/neutron/O16.h5\n",
      " Reading O17 from /home/j/nndc-b8.0-hdf5/endfb-viii.0-hdf5/neutron/O17.h5\n",
      " Reading O18 from /home/j/nndc-b8.0-hdf5/endfb-viii.0-hdf5/neutron/O18.h5\n",
      " Minimum neutron data temperature: 294 K\n",
      " Maximum neutron data temperature: 294 K\n",
      " Preparing distributed cell instances...\n",
      " Writing summary.h5 file...\n",
      " Maximum neutron transport energy: 20000000 eV for H1\n",
      "\n",
      " ===============>     FIXED SOURCE TRANSPORT SIMULATION     <===============\n",
      "\n",
      " Simulating batch 1\n",
      " Simulating batch 2\n",
      " Simulating batch 3\n",
      " Simulating batch 4\n",
      " Simulating batch 5\n",
      " Simulating batch 6\n",
      " Simulating batch 7\n",
      " Simulating batch 8\n",
      " Simulating batch 9\n",
      " Simulating batch 10\n",
      " Creating state point statepoint.10.h5...\n",
      "\n",
      " =======================>     TIMING STATISTICS     <=======================\n",
      "\n",
      " Total time for initialization     = 1.0914e-01 seconds\n",
      "   Reading cross sections          = 9.7824e-02 seconds\n",
      " Total time in simulation          = 2.8342e+00 seconds\n",
      "   Time in transport only          = 2.7873e+00 seconds\n",
      "   Time in active batches          = 2.8342e+00 seconds\n",
      "   Time accumulating tallies       = 3.3279e-02 seconds\n",
      "   Time writing statepoints        = 1.1546e-02 seconds\n",
      " Total time for finalization       = 3.3200e-07 seconds\n",
      " Total time elapsed                = 2.9460e+00 seconds\n",
      " Calculation Rate (active)         = 35283.5 particles/second\n",
      "\n",
      " ============================>     RESULTS     <============================\n",
      "\n",
      " Leakage Fraction            = 0.00000 +/- 0.00000\n",
      "\n"
     ]
    }
   ],
   "source": [
    "output_file = model.run()"
   ]
  },
  {
   "attachments": {},
   "cell_type": "markdown",
   "id": "0918a61e",
   "metadata": {},
   "source": []
  },
  {
   "cell_type": "code",
   "execution_count": 7,
   "id": "7ff1e1b1",
   "metadata": {},
   "outputs": [
    {
     "name": "stdout",
     "output_type": "stream",
     "text": [
      "(50, 50, 50)\n"
     ]
    },
    {
     "data": {
      "image/png": "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",
      "text/plain": [
       "<Figure size 640x480 with 1 Axes>"
      ]
     },
     "metadata": {},
     "output_type": "display_data"
    }
   ],
   "source": [
    "with openmc.StatePoint(output_file) as sp:\n",
    "    flux_tally_result = sp.get_tally(id=flux_tally_for_ww.id)\n",
    "flux_tally_result = flux_tally_result.get_reshaped_data(expand_dims=True).squeeze()\n",
    "print(flux_tally_result.shape)\n",
    "from matplotlib.colors import LogNorm\n",
    "plt.imshow(flux_tally_result[:,25,:], norm=LogNorm())\n",
    "plt.show()"
   ]
  },
  {
   "attachments": {},
   "cell_type": "markdown",
   "id": "458867ab-5b7b-400a-bbf4-c290988a99da",
   "metadata": {},
   "source": [
    "Now we shall run the simulation and record flux in each mesh voxel"
   ]
  },
  {
   "cell_type": "code",
   "execution_count": 8,
   "id": "1c5b84c7-0fe5-48d5-b2b7-58ce8cea57f1",
   "metadata": {},
   "outputs": [
    {
     "name": "stdout",
     "output_type": "stream",
     "text": [
      "                                %%%%%%%%%%%%%%%\n",
      "                           %%%%%%%%%%%%%%%%%%%%%%%%\n",
      "                        %%%%%%%%%%%%%%%%%%%%%%%%%%%%%%\n",
      "                      %%%%%%%%%%%%%%%%%%%%%%%%%%%%%%%%%%\n",
      "                    %%%%%%%%%%%%%%%%%%%%%%%%%%%%%%%%%%%%%%\n",
      "                   %%%%%%%%%%%%%%%%%%%%%%%%%%%%%%%%%%%%%%%%\n",
      "                                    %%%%%%%%%%%%%%%%%%%%%%%%\n",
      "                                     %%%%%%%%%%%%%%%%%%%%%%%%\n",
      "                 ###############      %%%%%%%%%%%%%%%%%%%%%%%%\n",
      "                ##################     %%%%%%%%%%%%%%%%%%%%%%%\n",
      "                ###################     %%%%%%%%%%%%%%%%%%%%%%%\n",
      "                ####################     %%%%%%%%%%%%%%%%%%%%%%\n",
      "                #####################     %%%%%%%%%%%%%%%%%%%%%\n",
      "                ######################     %%%%%%%%%%%%%%%%%%%%\n",
      "                #######################     %%%%%%%%%%%%%%%%%%\n",
      "                 #######################     %%%%%%%%%%%%%%%%%\n",
      "                 ######################     %%%%%%%%%%%%%%%%%\n",
      "                  ####################     %%%%%%%%%%%%%%%%%\n",
      "                    #################     %%%%%%%%%%%%%%%%%\n",
      "                     ###############     %%%%%%%%%%%%%%%%\n",
      "                       ############     %%%%%%%%%%%%%%%\n",
      "                          ########     %%%%%%%%%%%%%%\n",
      "                                      %%%%%%%%%%%\n",
      "\n",
      "                 | The OpenMC Monte Carlo Code\n",
      "       Copyright | 2011-2023 MIT, UChicago Argonne LLC, and contributors\n",
      "         License | https://docs.openmc.org/en/latest/license.html\n",
      "         Version | 0.13.4-dev\n",
      "        Git SHA1 | 610a5d8c3485034626ce54ce87a88eaa8071cc23\n",
      "       Date/Time | 2023-06-10 22:35:42\n",
      "  OpenMP Threads | 8\n",
      "\n",
      " Reading model XML file './model.xml' ...\n",
      " Reading cross sections XML file...\n",
      " Reading H1 from /home/j/nndc-b8.0-hdf5/endfb-viii.0-hdf5/neutron/H1.h5\n",
      " Reading H2 from /home/j/nndc-b8.0-hdf5/endfb-viii.0-hdf5/neutron/H2.h5\n",
      " Reading O16 from /home/j/nndc-b8.0-hdf5/endfb-viii.0-hdf5/neutron/O16.h5\n",
      " Reading O17 from /home/j/nndc-b8.0-hdf5/endfb-viii.0-hdf5/neutron/O17.h5\n",
      " Reading O18 from /home/j/nndc-b8.0-hdf5/endfb-viii.0-hdf5/neutron/O18.h5\n",
      " Minimum neutron data temperature: 294 K\n",
      " Maximum neutron data temperature: 294 K\n",
      " Preparing distributed cell instances...\n",
      " Writing summary.h5 file...\n",
      " Maximum neutron transport energy: 20000000 eV for H1\n",
      "\n",
      " ===============>     FIXED SOURCE TRANSPORT SIMULATION     <===============\n",
      "\n",
      " Simulating batch 1\n"
     ]
    },
    {
     "name": "stderr",
     "output_type": "stream",
     "text": [
      " WARNING: Other XML file input(s) are present. These files may be ignored in\n",
      "          favor of the ./model.xml file.\n"
     ]
    },
    {
     "name": "stdout",
     "output_type": "stream",
     "text": [
      " Simulating batch 2\n",
      " Simulating batch 3\n",
      " Simulating batch 4\n",
      " Simulating batch 5\n",
      " Simulating batch 6\n",
      " Simulating batch 7\n",
      " Simulating batch 8\n",
      " Simulating batch 9\n",
      " Simulating batch 10\n",
      " Creating state point statepoint.10.h5...\n",
      "\n",
      " =======================>     TIMING STATISTICS     <=======================\n",
      "\n",
      " Total time for initialization     = 1.2083e-01 seconds\n",
      "   Reading cross sections          = 1.0993e-01 seconds\n",
      " Total time in simulation          = 2.9952e+00 seconds\n",
      "   Time in transport only          = 2.9737e+00 seconds\n",
      "   Time in active batches          = 2.9952e+00 seconds\n",
      "   Time accumulating tallies       = 4.5944e-03 seconds\n",
      "   Time writing statepoints        = 1.3561e-02 seconds\n",
      " Total time for finalization       = 1.4840e-06 seconds\n",
      " Total time elapsed                = 3.1186e+00 seconds\n",
      " Calculation Rate (active)         = 33386.2 particles/second\n",
      "\n",
      " ============================>     RESULTS     <============================\n",
      "\n",
      " Leakage Fraction            = 0.00000 +/- 0.00000\n",
      "\n"
     ]
    }
   ],
   "source": [
    "model.export_to_xml()\n",
    "import openmc.lib\n",
    "\n",
    "\n",
    "with openmc.lib.run_in_memory():\n",
    "\n",
    "    tally = openmc.lib.tallies[1]  # points to empty tally reference\n",
    "    wws = openmc.lib.WeightWindows.from_tally(tally)\n",
    "    \n",
    "    #first run\n",
    "    openmc.lib.run()\n",
    "\n",
    "    wws.update_magic(tally)  # tally now has meaning information\n",
    "    openmc.lib.settings.weight_windows_on = True\n",
    "\n",
    "    # export the weight windows to a h5 file for loading and plotting later\n",
    "    openmc.lib.export_weight_windows(filename='weight_windows.h5')\n",
    "\n",
    "    # second run\n",
    "    openmc.lib.run()\n"
   ]
  },
  {
   "cell_type": "code",
   "execution_count": 11,
   "id": "7389fc33",
   "metadata": {},
   "outputs": [
    {
     "ename": "OutOfBoundsError",
     "evalue": "Index in tallies array is out of bounds.",
     "output_type": "error",
     "traceback": [
      "\u001b[0;31m---------------------------------------------------------------------------\u001b[0m",
      "\u001b[0;31mOutOfBoundsError\u001b[0m                          Traceback (most recent call last)",
      "Cell \u001b[0;32mIn[11], line 1\u001b[0m\n\u001b[0;32m----> 1\u001b[0m ww_tally\u001b[39m.\u001b[39;49mmean\n\u001b[1;32m      2\u001b[0m \u001b[39m# slice_of_tally_values = ww_tally.mean.reshape(mesh.dimension)[:,25,:]\u001b[39;00m\n\u001b[1;32m      3\u001b[0m \u001b[39m# plt.imshow(slice_of_tally_values)\u001b[39;00m\n",
      "File \u001b[0;32m~/openmc/openmc/lib/tally.py:309\u001b[0m, in \u001b[0;36mTally.mean\u001b[0;34m(self)\u001b[0m\n\u001b[1;32m    307\u001b[0m \u001b[39m@property\u001b[39m\n\u001b[1;32m    308\u001b[0m \u001b[39mdef\u001b[39;00m \u001b[39mmean\u001b[39m(\u001b[39mself\u001b[39m):\n\u001b[0;32m--> 309\u001b[0m     n \u001b[39m=\u001b[39m \u001b[39mself\u001b[39;49m\u001b[39m.\u001b[39;49mnum_realizations\n\u001b[1;32m    310\u001b[0m     sum_ \u001b[39m=\u001b[39m \u001b[39mself\u001b[39m\u001b[39m.\u001b[39mresults[:, :, \u001b[39m1\u001b[39m]\n\u001b[1;32m    311\u001b[0m     \u001b[39mif\u001b[39;00m n \u001b[39m>\u001b[39m \u001b[39m0\u001b[39m:\n",
      "File \u001b[0;32m~/openmc/openmc/lib/tally.py:333\u001b[0m, in \u001b[0;36mTally.num_realizations\u001b[0;34m(self)\u001b[0m\n\u001b[1;32m    330\u001b[0m \u001b[39m@property\u001b[39m\n\u001b[1;32m    331\u001b[0m \u001b[39mdef\u001b[39;00m \u001b[39mnum_realizations\u001b[39m(\u001b[39mself\u001b[39m):\n\u001b[1;32m    332\u001b[0m     n \u001b[39m=\u001b[39m c_int32()\n\u001b[0;32m--> 333\u001b[0m     _dll\u001b[39m.\u001b[39;49mopenmc_tally_get_n_realizations(\u001b[39mself\u001b[39;49m\u001b[39m.\u001b[39;49m_index, n)\n\u001b[1;32m    334\u001b[0m     \u001b[39mreturn\u001b[39;00m n\u001b[39m.\u001b[39mvalue\n",
      "File \u001b[0;32m~/openmc/openmc/lib/error.py:23\u001b[0m, in \u001b[0;36m_error_handler\u001b[0;34m(err, func, args)\u001b[0m\n\u001b[1;32m     21\u001b[0m     \u001b[39mraise\u001b[39;00m exc\u001b[39m.\u001b[39mAllocationError(msg)\n\u001b[1;32m     22\u001b[0m \u001b[39melif\u001b[39;00m err \u001b[39m==\u001b[39m errcode(\u001b[39m'\u001b[39m\u001b[39mOPENMC_E_OUT_OF_BOUNDS\u001b[39m\u001b[39m'\u001b[39m):\n\u001b[0;32m---> 23\u001b[0m     \u001b[39mraise\u001b[39;00m exc\u001b[39m.\u001b[39mOutOfBoundsError(msg)\n\u001b[1;32m     24\u001b[0m \u001b[39melif\u001b[39;00m err \u001b[39m==\u001b[39m errcode(\u001b[39m'\u001b[39m\u001b[39mOPENMC_E_INVALID_ARGUMENT\u001b[39m\u001b[39m'\u001b[39m):\n\u001b[1;32m     25\u001b[0m     \u001b[39mraise\u001b[39;00m exc\u001b[39m.\u001b[39mInvalidArgumentError(msg)\n",
      "\u001b[0;31mOutOfBoundsError\u001b[0m: Index in tallies array is out of bounds."
     ]
    }
   ],
   "source": [
    "# ww_tally.mean\n",
    "# slice_of_tally_values = ww_tally.mean.reshape(mesh.dimension)[:,25,:]\n",
    "# plt.imshow(slice_of_tally_values)"
   ]
  },
  {
   "attachments": {},
   "cell_type": "markdown",
   "id": "ae7160a8",
   "metadata": {},
   "source": []
  },
  {
   "cell_type": "code",
   "execution_count": null,
   "id": "4b112488",
   "metadata": {},
   "outputs": [],
   "source": []
  },
  {
   "attachments": {},
   "cell_type": "markdown",
   "id": "e54d695d-1f35-477c-8506-fcbca57b179a",
   "metadata": {},
   "source": [
    "Now we can plot the flux and the standard deviation of the flux tally to see how far into the shield the neutrons got. "
   ]
  },
  {
   "cell_type": "code",
   "execution_count": null,
   "id": "0494f6db-ec78-43f2-a6be-c4c55c7e7d0a",
   "metadata": {},
   "outputs": [],
   "source": [
    "from matplotlib.colors import LogNorm\n",
    "\n",
    "with openmc.StatePoint(f'statepoint.{my_settings.batches}.h5') as sp:\n",
    "    flux_tally_result = sp.get_tally(id=flux_tally_for_ww.id)\n",
    "\n",
    "\n",
    "fig,  (ax1, ax2) = plt.subplots(1,2)\n",
    "fig.suptitle('Flux and std. dev. without weight window')\n",
    "\n",
    "slice_index = int(mesh.dimension[-1]/2)\n",
    "\n",
    "# create a plot of the mean values\n",
    "flux_mean = flux_tally.mean.reshape(*mesh.dimension)\n",
    "img1 = ax1.imshow(flux_mean[slice_index], origin='lower', extent=(llc[0], urc[0], llc[1], urc[1]), norm=LogNorm())\n",
    "ax1.set_title('Flux Mean')\n",
    "plt.colorbar(img1, ax=ax1, fraction=0.046)\n",
    "img1.set_clim(vmin=1e-30, vmax=1.0)\n",
    "\n",
    "# create a plot of the flux relative error\n",
    "flux_rel_err = flux_tally.get_values(value='rel_err').reshape(*mesh.dimension)\n",
    "img2 = ax2.imshow(flux_rel_err[slice_index], origin='lower', extent=(llc[0], urc[0], llc[1], urc[1]))\n",
    "ax2.set_title('Flux Rel. Err.')\n",
    "plt.colorbar(img2, ax=ax2, fraction=0.046)\n",
    "# ax2.set_colorbar(img2, ax=ax2)\n",
    "img2.set_clim(vmin=0.0, vmax=1.0)\n",
    "\n",
    "plt.show()"
   ]
  },
  {
   "attachments": {},
   "cell_type": "markdown",
   "id": "f0b0c196-0829-4b36-abec-8fec944c8f2b",
   "metadata": {},
   "source": []
  },
  {
   "attachments": {},
   "cell_type": "markdown",
   "id": "cfb6e00c-aada-4951-9cdf-022477defa6c",
   "metadata": {},
   "source": [
    "The weight window generated uses the same mesh as the flux tally, uses the flux to generate lower_ww_bounds, sets the upper_bound_ratio to 5 (rule of thumb used here) and sets the max_split to 1_000_000. These can all be changed to customise the weight window but are reasonable defaults.\n",
    "\n",
    "We can plot the lower_ww_bounds of the generated weight window to see how it changes over the geometry"
   ]
  },
  {
   "cell_type": "code",
   "execution_count": null,
   "id": "c2cc0474-ab96-4db9-a261-ff0b1fe9256b",
   "metadata": {},
   "outputs": [],
   "source": [
    "plt.imshow(weight_windows[0].lower_ww_bounds[slice_index], origin='lower', extent=(llc[0], urc[0], llc[1], urc[1]), norm=LogNorm())\n",
    "plt.title('lower_ww_bounds')\n",
    "plt.colorbar()"
   ]
  },
  {
   "attachments": {},
   "cell_type": "markdown",
   "id": "02af110d-9ea2-4782-a355-bbd6822cc394",
   "metadata": {},
   "source": [
    "Now we can rerun the simulation but this time using the weight window to push the particles further into the geometry"
   ]
  },
  {
   "cell_type": "code",
   "execution_count": null,
   "id": "4c5f7fda-870f-4c84-8820-e87966de2ae0",
   "metadata": {},
   "outputs": [],
   "source": [
    "#deletes the old output files\n",
    "!rm summary.h5\n",
    "!rm statepoint.*.h5\n",
    "\n",
    "\n",
    "model.settings.weight_windows = weight_windows\n",
    "model.settings.max_split = 1_000 # might want to increase this to 1_000_000 and get a better result \n",
    "model.run()"
   ]
  },
  {
   "attachments": {},
   "cell_type": "markdown",
   "id": "4eee750a-8913-4dcc-a528-fcea1b74a854",
   "metadata": {},
   "source": [
    "We can now plot the flux and standard devation of the flux for the simulation that used weight windows and see that the particles penetrated further into the shield and that the standard deviation has been reduced."
   ]
  },
  {
   "cell_type": "code",
   "execution_count": null,
   "id": "fb2b523c-f925-4670-927b-22ce695de56e",
   "metadata": {},
   "outputs": [],
   "source": [
    "with openmc.StatePoint(output_file) as sp:\n",
    "    flux_tally = sp.get_tally(id=flux_tally.id)\n",
    "\n",
    "fig,  (ax1, ax2) = plt.subplots(1,2)\n",
    "fig.tight_layout() \n",
    "fig.suptitle('Flux and std. dev. with weight window')\n",
    "\n",
    "# create a plot of the mean values\n",
    "flux_mean = flux_tally.mean.reshape(*mesh.dimension)\n",
    "img1 = ax1.imshow(flux_mean[slice_index], origin='lower', extent=(llc[0], urc[0], llc[1], urc[1]), norm=LogNorm())\n",
    "ax1.set_title('Flux Mean')\n",
    "plt.colorbar(img1, ax=ax1, fraction=0.046)\n",
    "img1.set_clim(vmin=1e-30, vmax=1.0)\n",
    "\n",
    "# create a plot of the flux relative error\n",
    "flux_rel_err = flux_tally.get_values(value='rel_err').reshape(*mesh.dimension)\n",
    "img2 = ax2.imshow(flux_rel_err[slice_index], origin='lower', extent=(llc[0], urc[0], llc[1], urc[1]))\n",
    "ax2.set_title('Flux Rel. Err.')\n",
    "plt.colorbar(img2, ax=ax2, fraction=0.046)\n",
    "# ax2.set_colorbar(img2, ax=ax2)\n",
    "img2.set_clim(vmin=0.0, vmax=1.0)\n",
    "\n",
    "plt.show()"
   ]
  },
  {
   "attachments": {},
   "cell_type": "markdown",
   "id": "2285d40b-2e8e-4f52-ac14-c742599cf08f",
   "metadata": {},
   "source": [
    "Notice that the particles now get further into the shielding and the error has been reduce across the simulation.\n",
    "\n",
    "This is not exactly a fair comparison as the second simulation takes a little longer to run. To make it fairer we could use a trigger to stop each simulation after the same amount of time. However that would complicate the example."
   ]
  },
  {
   "attachments": {},
   "cell_type": "markdown",
   "id": "4e9a1ae6-7ab7-4bdb-be1a-39fa6a8ca4c2",
   "metadata": {},
   "source": [
    "Learning Outcomes:\n",
    "* Weight windows can be useful for accelerating deep shielding simulations where particles\n",
    "* Weight windows can be generated from a neutron flux field\n",
    "* The MAGIC method is a popular method of generating weight windows"
   ]
  },
  {
   "cell_type": "code",
   "execution_count": null,
   "id": "91d6b1bb-8b69-46fb-9a09-91727db67c29",
   "metadata": {},
   "outputs": [],
   "source": []
  }
 ],
 "metadata": {
  "kernelspec": {
   "display_name": "Python 3 (ipykernel)",
   "language": "python",
   "name": "python3"
  },
  "language_info": {
   "codemirror_mode": {
    "name": "ipython",
    "version": 3
   },
   "file_extension": ".py",
   "mimetype": "text/x-python",
   "name": "python",
   "nbconvert_exporter": "python",
   "pygments_lexer": "ipython3",
   "version": "3.10.10"
  }
 },
 "nbformat": 4,
 "nbformat_minor": 5
}
