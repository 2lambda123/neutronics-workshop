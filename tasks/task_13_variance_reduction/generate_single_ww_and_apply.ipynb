{
 "cells": [
  {
   "attachments": {},
   "cell_type": "markdown",
   "id": "72e0b25d-e541-4e8d-8805-b984374ee53d",
   "metadata": {},
   "source": [
    "# variance reduction techniques\n",
    "\n",
    "## Creating and utilising a wight window to accelerate the deep shielding simulations"
   ]
  },
  {
   "attachments": {},
   "cell_type": "markdown",
   "id": "f00eddb1-1e3a-4973-ba0c-d8feeb2a6704",
   "metadata": {},
   "source": [
    "This example implements a single step of the Magic method of weight window generation. The theory of weight windows and the method are best described by the paper here https://scientific-publications.ukaea.uk/wp-content/uploads/Published/INTERN1.pdf\n",
    "\n",
    "In this tutorial we shall focus on generating a weight window to accelerate the simulation of particles through a shield.\n",
    "\n",
    "First we must make a model. This is kept as simple as possible as the focus of this notebook is on generating and then using a weight window.\n",
    "\n",
    "The model is a single sphere of 200 cm radius filled with water and containing a 14MeV point source in the center"
   ]
  },
  {
   "cell_type": "code",
   "execution_count": 2,
   "id": "3448d1db-4328-42e3-8960-50d53896f541",
   "metadata": {},
   "outputs": [],
   "source": [
    "import openmc\n",
    "\n",
    "# creates a shielding material\n",
    "water = openmc.Material(name='Water')\n",
    "water.set_density('g/cc', 1.0)\n",
    "water.add_element('H', 2)\n",
    "water.add_element('O', 1)\n",
    "materials = openmc.Materials([water])\n",
    "\n",
    "sphere1 = openmc.Sphere(r=200, boundary_type='vacuum')\n",
    "\n",
    "region1 = -sphere1\n",
    "\n",
    "cell1 = openmc.Cell(fill=water, region=region1)\n",
    "\n",
    "geometry = openmc.Geometry([cell1])\n",
    "\n",
    "source = openmc.Source()\n",
    "source.space = openmc.stats.Point((0.0, 0.0, 0.0))\n",
    "source.angle = openmc.stats.Isotropic()\n",
    "source.energy = openmc.stats.Discrete([14e6], [1.0])\n",
    "source.particle = 'neutron'\n",
    "\n",
    "my_settings = openmc.Settings()\n",
    "my_settings.run_mode = 'fixed source'\n",
    "my_settings.source = source\n",
    "my_settings.particles = 10000\n",
    "my_settings.batches = 10\n",
    "# the mesh tallies produce large tallies.out files so this output setting avoids writing the tallies.out and saves time\n",
    "my_settings.output = {'tallies': False}\n",
    "\n",
    "model = openmc.model.Model(geometry, materials, my_settings)"
   ]
  },
  {
   "attachments": {},
   "cell_type": "markdown",
   "id": "8179e89a-304b-4684-91a9-8a908b75e8cd",
   "metadata": {},
   "source": [
    "Now we can plot the simple geometry"
   ]
  },
  {
   "cell_type": "code",
   "execution_count": 3,
   "id": "47cb21c7-0afa-446c-9a6b-76c8dfb2f93e",
   "metadata": {},
   "outputs": [
    {
     "data": {
      "text/plain": [
       "<Figure size 1000x1000 with 0 Axes>"
      ]
     },
     "metadata": {},
     "output_type": "display_data"
    },
    {
     "data": {
      "image/png": "[encoded data removed]",
      "text/plain": [
       "<Figure size 774.194x779.221 with 1 Axes>"
      ]
     },
     "metadata": {},
     "output_type": "display_data"
    }
   ],
   "source": [
    "import matplotlib.pyplot as plt\n",
    "plt.figure(figsize=(10,10))\n",
    "model.geometry.root_universe.plot(width=(400, 400), pixels=(600, 600))\n",
    "plt.show()"
   ]
  },
  {
   "attachments": {},
   "cell_type": "markdown",
   "id": "424b234c-48a2-4d1b-b374-f69430e464db",
   "metadata": {},
   "source": [
    "Now we shall add a regular mesh tally over the the geometry.\n",
    "\n",
    "The mesh will be used to record the neutron flux in each mesh voxel"
   ]
  },
  {
   "cell_type": "code",
   "execution_count": 4,
   "id": "a72dc5e3-cb8e-41c2-9cfb-f8f7489c7f44",
   "metadata": {},
   "outputs": [],
   "source": [
    "mesh = openmc.RegularMesh()\n",
    "mesh.lower_left = model.geometry.bounding_box[0]\n",
    "mesh.upper_right = model.geometry.bounding_box[1]\n",
    "mesh.dimension = (50, 50, 50)\n",
    "\n",
    "mesh_filter = openmc.MeshFilter(mesh)\n",
    "\n",
    "flux_tally_for_ww = openmc.Tally(name='flux tally')\n",
    "flux_tally_for_ww.filters = [mesh_filter]\n",
    "flux_tally_for_ww.scores = ['flux']\n",
    "\n",
    "# adds the mesh tally to the model\n",
    "model.tallies = [flux_tally_for_ww]"
   ]
  },
  {
   "attachments": {},
   "cell_type": "markdown",
   "id": "026db00f",
   "metadata": {},
   "source": [
    "Now we shall run the simulation in analog mode"
   ]
  },
  {
   "cell_type": "code",
   "execution_count": null,
   "id": "35f3c771",
   "metadata": {},
   "outputs": [],
   "source": [
    "output_file = model.run()\n"
   ]
  },
  {
   "attachments": {},
   "cell_type": "markdown",
   "id": "0918a61e",
   "metadata": {},
   "source": []
  },
  {
   "cell_type": "code",
   "execution_count": null,
   "id": "7ff1e1b1",
   "metadata": {},
   "outputs": [],
   "source": [
    "with openmc.StatePoint(output_file) as sp:\n",
    "    flux_tally_result = sp.get_tally(id=flux_tally_for_ww.id)\n",
    "plt.imshow(flux_tally.mean)\n",
    "plt.show()"
   ]
  },
  {
   "attachments": {},
   "cell_type": "markdown",
   "id": "458867ab-5b7b-400a-bbf4-c290988a99da",
   "metadata": {},
   "source": [
    "Now we shall run the simulation and record flux in each mesh voxel"
   ]
  },
  {
   "cell_type": "code",
   "execution_count": 5,
   "id": "1c5b84c7-0fe5-48d5-b2b7-58ce8cea57f1",
   "metadata": {},
   "outputs": [
    {
     "name": "stdout",
     "output_type": "stream",
     "text": [
      "                                %%%%%%%%%%%%%%%\n",
      "                           %%%%%%%%%%%%%%%%%%%%%%%%\n",
      "                        %%%%%%%%%%%%%%%%%%%%%%%%%%%%%%\n",
      "                      %%%%%%%%%%%%%%%%%%%%%%%%%%%%%%%%%%\n",
      "                    %%%%%%%%%%%%%%%%%%%%%%%%%%%%%%%%%%%%%%\n",
      "                   %%%%%%%%%%%%%%%%%%%%%%%%%%%%%%%%%%%%%%%%\n",
      "                                    %%%%%%%%%%%%%%%%%%%%%%%%\n",
      "                                     %%%%%%%%%%%%%%%%%%%%%%%%\n",
      "                 ###############      %%%%%%%%%%%%%%%%%%%%%%%%\n",
      "                ##################     %%%%%%%%%%%%%%%%%%%%%%%\n",
      "                ###################     %%%%%%%%%%%%%%%%%%%%%%%\n",
      "                ####################     %%%%%%%%%%%%%%%%%%%%%%\n",
      "                #####################     %%%%%%%%%%%%%%%%%%%%%\n",
      "                ######################     %%%%%%%%%%%%%%%%%%%%\n",
      "                #######################     %%%%%%%%%%%%%%%%%%\n",
      "                 #######################     %%%%%%%%%%%%%%%%%\n",
      "                 ######################     %%%%%%%%%%%%%%%%%\n",
      "                  ####################     %%%%%%%%%%%%%%%%%\n",
      "                    #################     %%%%%%%%%%%%%%%%%\n",
      "                     ###############     %%%%%%%%%%%%%%%%\n",
      "                       ############     %%%%%%%%%%%%%%%\n",
      "                          ########     %%%%%%%%%%%%%%\n",
      "                                      %%%%%%%%%%%\n",
      "\n",
      "                 | The OpenMC Monte Carlo Code\n",
      "       Copyright | 2011-2023 MIT, UChicago Argonne LLC, and contributors\n",
      "         License | https://docs.openmc.org/en/latest/license.html\n",
      "         Version | 0.13.4-dev\n",
      "        Git SHA1 | 610a5d8c3485034626ce54ce87a88eaa8071cc23\n",
      "       Date/Time | 2023-06-10 00:56:18\n",
      "  OpenMP Threads | 8\n",
      "\n",
      " Reading settings XML file...\n",
      " Reading cross sections XML file...\n",
      " Reading materials XML file...\n",
      " Reading geometry XML file...\n",
      " Reading H1 from /home/j/nndc-b8.0-hdf5/endfb-viii.0-hdf5/neutron/H1.h5\n",
      " Reading H2 from /home/j/nndc-b8.0-hdf5/endfb-viii.0-hdf5/neutron/H2.h5\n",
      " Reading O16 from /home/j/nndc-b8.0-hdf5/endfb-viii.0-hdf5/neutron/O16.h5\n",
      " Reading O17 from /home/j/nndc-b8.0-hdf5/endfb-viii.0-hdf5/neutron/O17.h5\n",
      " Reading O18 from /home/j/nndc-b8.0-hdf5/endfb-viii.0-hdf5/neutron/O18.h5\n",
      " Minimum neutron data temperature: 294 K\n",
      " Maximum neutron data temperature: 294 K\n",
      " Reading tallies XML file...\n",
      " Preparing distributed cell instances...\n",
      " Reading plot XML file...\n",
      " Writing summary.h5 file...\n",
      " Maximum neutron transport energy: 20000000 eV for H1\n",
      "\n",
      " ===============>     FIXED SOURCE TRANSPORT SIMULATION     <===============\n",
      "\n",
      " Simulating batch 1\n",
      " Simulating batch 2\n",
      " Simulating batch 3\n",
      " Simulating batch 4\n",
      " Simulating batch 5\n",
      " Simulating batch 6\n",
      " Simulating batch 7\n",
      " Simulating batch 8\n",
      " Simulating batch 9\n",
      " Simulating batch 10\n",
      " Creating state point statepoint.10.h5...\n",
      "\n",
      " =======================>     TIMING STATISTICS     <=======================\n",
      "\n",
      " Total time for initialization     = 1.1600e-01 seconds\n",
      "   Reading cross sections          = 1.0267e-01 seconds\n",
      " Total time in simulation          = 2.9703e+00 seconds\n",
      "   Time in transport only          = 2.9462e+00 seconds\n",
      "   Time in active batches          = 2.9703e+00 seconds\n",
      "   Time accumulating tallies       = 8.5787e-03 seconds\n",
      "   Time writing statepoints        = 1.3355e-02 seconds\n",
      " Total time for finalization       = 1.4820e-06 seconds\n",
      " Total time elapsed                = 3.0892e+00 seconds\n",
      " Calculation Rate (active)         = 33666.2 particles/second\n",
      "\n",
      " ============================>     RESULTS     <============================\n",
      "\n",
      " Leakage Fraction            = 0.00000 +/- 0.00000\n",
      "\n",
      " Maximum neutron transport energy: 20000000 eV for H1\n",
      "\n",
      " ===============>     FIXED SOURCE TRANSPORT SIMULATION     <===============\n",
      "\n",
      " Simulating batch 1\n",
      " Simulating batch 2\n",
      " Simulating batch 3\n",
      " Simulating batch 4\n",
      " Simulating batch 5\n"
     ]
    }
   ],
   "source": [
    "model.export_to_xml()\n",
    "import openmc.lib\n",
    "\n",
    "openmc.lib.init()\n",
    "\n",
    "# gets a live pointer to the mesh tally that we use to generate the \n",
    "ww_tally = openmc.lib.tallies[flux_tally_for_ww.id]\n",
    "# generates a weight window from the tally (which is currently empty)\n",
    "wws = openmc.lib.WeightWindows.from_tally(ww_tally)\n",
    "\n",
    "# runs the simulation\n",
    "openmc.lib.run()\n",
    "\n",
    "# turn the weight windows on\n",
    "openmc.lib.settings.weight_windows_on = True\n",
    "\n",
    "# updates the weight window with the latest mesh tally flux results \n",
    "# As this flux map tells us where the neutrons go we can use it to create a wight window that promotes neutron transport in areas they normally don't reach.\n",
    "wws.update_magic(ww_tally)\n",
    "\n",
    "# runs the simulation\n",
    "openmc.lib.run()\n",
    "\n",
    "openmc.lib.simulation_finalize()"
   ]
  },
  {
   "attachments": {},
   "cell_type": "markdown",
   "id": "e54d695d-1f35-477c-8506-fcbca57b179a",
   "metadata": {},
   "source": [
    "Now we can plot the flux and the standard deviation of the flux tally to see how far into the shield the neutrons got. "
   ]
  },
  {
   "cell_type": "code",
   "execution_count": null,
   "id": "0494f6db-ec78-43f2-a6be-c4c55c7e7d0a",
   "metadata": {},
   "outputs": [],
   "source": [
    "from matplotlib.colors import LogNorm\n",
    "\n",
    "with openmc.StatePoint(f'statepoint.{my_settings.batches}.h5') as sp:\n",
    "    flux_tally_result = sp.get_tally(id=flux_tally_for_ww.id)\n",
    "\n",
    "\n",
    "slice_index = int(mesh.dimension[-1]/2)\n",
    "\n",
    "# create a plot of the mean values\n",
    "flux_mean = flux_tally.mean.reshape(*mesh.dimension)\n",
    "img1 = ax1.imshow(flux_mean[slice_index], origin='lower', extent=(llc[0], urc[0], llc[1], urc[1]), norm=LogNorm())\n",
    "ax1.set_title('Flux Mean')\n",
    "plt.colorbar(img1, ax=ax1, fraction=0.046)\n",
    "img1.set_clim(vmin=1e-30, vmax=1.0)\n",
    "\n",
    "# create a plot of the flux relative error\n",
    "flux_rel_err = flux_tally.get_values(value='rel_err').reshape(*mesh.dimension)\n",
    "img2 = ax2.imshow(flux_rel_err[slice_index], origin='lower', extent=(llc[0], urc[0], llc[1], urc[1]))\n",
    "ax2.set_title('Flux Rel. Err.')\n",
    "plt.colorbar(img2, ax=ax2, fraction=0.046)\n",
    "# ax2.set_colorbar(img2, ax=ax2)\n",
    "img2.set_clim(vmin=0.0, vmax=1.0)\n",
    "\n",
    "plt.show()"
   ]
  },
  {
   "attachments": {},
   "cell_type": "markdown",
   "id": "f0b0c196-0829-4b36-abec-8fec944c8f2b",
   "metadata": {},
   "source": []
  },
  {
   "attachments": {},
   "cell_type": "markdown",
   "id": "cfb6e00c-aada-4951-9cdf-022477defa6c",
   "metadata": {},
   "source": [
    "The weight window generated uses the same mesh as the flux tally, uses the flux to generate lower_ww_bounds, sets the upper_bound_ratio to 5 (rule of thumb used here) and sets the max_split to 1_000_000. These can all be changed to customise the weight window but are reasonable defaults.\n",
    "\n",
    "We can plot the lower_ww_bounds of the generated weight window to see how it changes over the geometry"
   ]
  },
  {
   "cell_type": "code",
   "execution_count": null,
   "id": "c2cc0474-ab96-4db9-a261-ff0b1fe9256b",
   "metadata": {},
   "outputs": [],
   "source": [
    "plt.imshow(weight_windows[0].lower_ww_bounds[slice_index], origin='lower', extent=(llc[0], urc[0], llc[1], urc[1]), norm=LogNorm())\n",
    "plt.title('lower_ww_bounds')\n",
    "plt.colorbar()"
   ]
  },
  {
   "attachments": {},
   "cell_type": "markdown",
   "id": "02af110d-9ea2-4782-a355-bbd6822cc394",
   "metadata": {},
   "source": [
    "Now we can rerun the simulation but this time using the weight window to push the particles further into the geometry"
   ]
  },
  {
   "cell_type": "code",
   "execution_count": null,
   "id": "4c5f7fda-870f-4c84-8820-e87966de2ae0",
   "metadata": {},
   "outputs": [],
   "source": [
    "#deletes the old output files\n",
    "!rm summary.h5\n",
    "!rm statepoint.*.h5\n",
    "\n",
    "\n",
    "model.settings.weight_windows = weight_windows\n",
    "model.settings.max_split = 1_000 # might want to increase this to 1_000_000 and get a better result \n",
    "model.run()"
   ]
  },
  {
   "attachments": {},
   "cell_type": "markdown",
   "id": "4eee750a-8913-4dcc-a528-fcea1b74a854",
   "metadata": {},
   "source": [
    "We can now plot the flux and standard devation of the flux for the simulation that used weight windows and see that the particles penetrated further into the shield and that the standard deviation has been reduced."
   ]
  },
  {
   "cell_type": "code",
   "execution_count": null,
   "id": "fb2b523c-f925-4670-927b-22ce695de56e",
   "metadata": {},
   "outputs": [],
   "source": [
    "with openmc.StatePoint(output_file) as sp:\n",
    "    flux_tally = sp.get_tally(id=flux_tally.id)\n",
    "\n",
    "fig,  (ax1, ax2) = plt.subplots(1,2)\n",
    "fig.tight_layout() \n",
    "fig.suptitle('Flux and std. dev. with weight window')\n",
    "\n",
    "# create a plot of the mean values\n",
    "flux_mean = flux_tally.mean.reshape(*mesh.dimension)\n",
    "img1 = ax1.imshow(flux_mean[slice_index], origin='lower', extent=(llc[0], urc[0], llc[1], urc[1]), norm=LogNorm())\n",
    "ax1.set_title('Flux Mean')\n",
    "plt.colorbar(img1, ax=ax1, fraction=0.046)\n",
    "img1.set_clim(vmin=1e-30, vmax=1.0)\n",
    "\n",
    "# create a plot of the flux relative error\n",
    "flux_rel_err = flux_tally.get_values(value='rel_err').reshape(*mesh.dimension)\n",
    "img2 = ax2.imshow(flux_rel_err[slice_index], origin='lower', extent=(llc[0], urc[0], llc[1], urc[1]))\n",
    "ax2.set_title('Flux Rel. Err.')\n",
    "plt.colorbar(img2, ax=ax2, fraction=0.046)\n",
    "# ax2.set_colorbar(img2, ax=ax2)\n",
    "img2.set_clim(vmin=0.0, vmax=1.0)\n",
    "\n",
    "plt.show()"
   ]
  },
  {
   "attachments": {},
   "cell_type": "markdown",
   "id": "2285d40b-2e8e-4f52-ac14-c742599cf08f",
   "metadata": {},
   "source": [
    "Notice that the particles now get further into the shielding and the error has been reduce across the simulation.\n",
    "\n",
    "This is not exactly a fair comparison as the second simulation takes a little longer to run. To make it fairer we could use a trigger to stop each simulation after the same amount of time. However that would complicate the example."
   ]
  },
  {
   "attachments": {},
   "cell_type": "markdown",
   "id": "4e9a1ae6-7ab7-4bdb-be1a-39fa6a8ca4c2",
   "metadata": {},
   "source": [
    "Learning Outcomes:\n",
    "* Weight windows can be useful for accelerating deep shielding simulations where particles\n",
    "* Weight windows can be generated from a neutron flux field\n",
    "* The MAGIC method is a popular method of generating weight windows"
   ]
  },
  {
   "cell_type": "code",
   "execution_count": null,
   "id": "91d6b1bb-8b69-46fb-9a09-91727db67c29",
   "metadata": {},
   "outputs": [],
   "source": []
  }
 ],
 "metadata": {
  "kernelspec": {
   "display_name": "Python 3 (ipykernel)",
   "language": "python",
   "name": "python3"
  },
  "language_info": {
   "codemirror_mode": {
    "name": "ipython",
    "version": 3
   },
   "file_extension": ".py",
   "mimetype": "text/x-python",
   "name": "python",
   "nbconvert_exporter": "python",
   "pygments_lexer": "ipython3",
   "version": "3.10.10"
  }
 },
 "nbformat": 4,
 "nbformat_minor": 5
}
