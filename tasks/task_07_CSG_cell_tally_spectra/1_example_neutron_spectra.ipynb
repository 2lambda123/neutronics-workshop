{
 "cells": [
  {
   "cell_type": "markdown",
   "metadata": {},
   "source": [
    "# Part 1 - Plotting neutron energy spectra in a histogram form\n",
    "\n",
    "This example creates a simple sphere of water and tallies the neutrons in two different ways:\n",
    "\n",
    "- Neutron flux averaged across the cell.\n",
    "- Neutron current on the rear surface."
   ]
  },
  {
   "cell_type": "code",
   "execution_count": 8,
   "metadata": {},
   "outputs": [
    {
     "name": "stderr",
     "output_type": "stream",
     "text": [
      "/home/jshimwell/miniconda3/envs/openmc-dagmc/lib/python3.8/site-packages/IPython/core/display.py:724: UserWarning:\n",
      "\n",
      "Consider using IPython.display.IFrame instead\n",
      "\n"
     ]
    },
    {
     "data": {
      "text/html": [
       "<iframe width=\"560\" height=\"315\" src=\"https://www.youtube.com/embed/qHqAuqMLYPA\" frameborder=\"0\" allow=\"accelerometer; autoplay; clipboard-write; encrypted-media; gyroscope; picture-in-picture\" allowfullscreen></iframe>"
      ],
      "text/plain": [
       "<IPython.core.display.HTML object>"
      ]
     },
     "execution_count": 8,
     "metadata": {},
     "output_type": "execute_result"
    }
   ],
   "source": [
    "from IPython.display import HTML\n",
    "HTML('<iframe width=\"560\" height=\"315\" src=\"https://www.youtube.com/embed/qHqAuqMLYPA\" frameborder=\"0\" allow=\"accelerometer; autoplay; clipboard-write; encrypted-media; gyroscope; picture-in-picture\" allowfullscreen></iframe>')"
   ]
  },
  {
   "cell_type": "markdown",
   "metadata": {},
   "source": [
    "This section creates a simple material, geometry and settings. This model is used in both the neutron current tally and the neutron flux tally."
   ]
  },
  {
   "cell_type": "code",
   "execution_count": null,
   "metadata": {},
   "outputs": [],
   "source": [
    "import openmc\n",
    "\n",
    "# MATERIALS\n",
    "\n",
    "# Due to the hydrogen content water is a very good neutron moderator\n",
    "my_material = openmc.Material(name='water')\n",
    "my_material.add_element('H', 1, percent_type='ao')\n",
    "my_material.add_element('O', 2, percent_type='ao')\n",
    "my_material.set_density('g/cm3', 1)\n",
    "\n",
    "mats = openmc.Materials([my_material])\n",
    "\n",
    "\n",
    "# GEOMETRY\n",
    "\n",
    "# surfaces\n",
    "vessel_inner_surface = openmc.Sphere(r=500)\n",
    "vessel_rear_surface = openmc.Sphere(r=530)\n",
    "# Currently it is not possible to tally on boundary_type='vacuum' surfaces\n",
    "outer_surface = openmc.Sphere(r=550, boundary_type='vacuum')\n",
    "\n",
    "# cells\n",
    "inner_vessel_cell = openmc.Cell(region=-vessel_inner_surface)\n",
    "# inner_vessel_cell is filled with a void / vacuum by default\n",
    "\n",
    "blanket_cell = openmc.Cell(region=-vessel_rear_surface & +vessel_inner_surface)\n",
    "blanket_cell.fill = my_material\n",
    "\n",
    "outer_vessel_cell = openmc.Cell(region=+vessel_rear_surface & -outer_surface)\n",
    "# this is filled with a void / vacuum by default\n",
    "\n",
    "universe = openmc.Universe(cells=[inner_vessel_cell,blanket_cell, outer_vessel_cell])\n",
    "geom = openmc.Geometry(universe)\n",
    "\n",
    "\n",
    "# SIMULATION SETTINGS\n",
    "\n",
    "# Instantiate a Settings object\n",
    "sett = openmc.Settings()\n",
    "sett.batches = 10\n",
    "sett.inactive = 0 # the default is 10, which would be wasted computing for us\n",
    "sett.particles = 1000\n",
    "sett.run_mode = 'fixed source'\n",
    "\n",
    "# Create a DT point source\n",
    "source = openmc.Source()\n",
    "source.space = openmc.stats.Point((0, 0, 0))\n",
    "source.angle = openmc.stats.Isotropic()\n",
    "source.energy = openmc.stats.Discrete([14e6], [1])\n",
    "sett.source = source"
   ]
  },
  {
   "cell_type": "markdown",
   "metadata": {},
   "source": [
    "This section section adds a tally for the average neutron flux across a cell."
   ]
  },
  {
   "cell_type": "code",
   "execution_count": null,
   "metadata": {},
   "outputs": [],
   "source": [
    "#creates an empty tally object\n",
    "tallies = openmc.Tallies()\n",
    "\n",
    "# sets up filters for the tallies\n",
    "neutron_particle_filter = openmc.ParticleFilter(['neutron'])\n",
    "energy_bins = openmc.mgxs.GROUP_STRUCTURES['CCFE-709']\n",
    "energy_filter = openmc.EnergyFilter(energy_bins)\n",
    "\n",
    "\n",
    "# setup the filters for the cell tally\n",
    "cell_filter = openmc.CellFilter(blanket_cell) \n",
    "\n",
    "# create the tally\n",
    "cell_spectra_tally = openmc.Tally(name='cell_spectra_tally')\n",
    "cell_spectra_tally.scores = ['flux']\n",
    "cell_spectra_tally.filters = [cell_filter, neutron_particle_filter, energy_filter]\n",
    "tallies.append(cell_spectra_tally)"
   ]
  },
  {
   "cell_type": "markdown",
   "metadata": {},
   "source": [
    "This section adds two surface current tallies - one on the inner sphere surface and one on the outer sphere surface."
   ]
  },
  {
   "cell_type": "code",
   "execution_count": null,
   "metadata": {},
   "outputs": [],
   "source": [
    "# sets up filters for the tallies\n",
    "neutron_particle_filter = openmc.ParticleFilter(['neutron'])\n",
    "energy_bins = openmc.mgxs.GROUP_STRUCTURES['CCFE-709']\n",
    "energy_filter = openmc.EnergyFilter(energy_bins)\n",
    "\n",
    "# setup the filters for the surface tally\n",
    "front_surface_filter = openmc.SurfaceFilter(vessel_inner_surface)\n",
    "back_surface_filter = openmc.SurfaceFilter(vessel_rear_surface)\n",
    "# detects when particles across the surface\n",
    "\n",
    "front_surface_spectra_tally = openmc.Tally(name='front_surface_spectra_tally')\n",
    "front_surface_spectra_tally.scores = ['current']\n",
    "front_surface_spectra_tally.filters = [front_surface_filter, neutron_particle_filter, energy_filter]\n",
    "tallies.append(front_surface_spectra_tally)\n",
    "\n",
    "back_surface_spectra_tally = openmc.Tally(name='back_surface_spectra_tally')\n",
    "back_surface_spectra_tally.scores = ['current']\n",
    "back_surface_spectra_tally.filters = [back_surface_filter, neutron_particle_filter, energy_filter]\n",
    "tallies.append(back_surface_spectra_tally)"
   ]
  },
  {
   "cell_type": "markdown",
   "metadata": {},
   "source": [
    "This section runs the simulation."
   ]
  },
  {
   "cell_type": "code",
   "execution_count": null,
   "metadata": {},
   "outputs": [],
   "source": [
    "# combine all the required parts to make a model\n",
    "model = openmc.model.Model(geom, mats, sett, tallies)\n",
    "\n",
    "# remove old files and runs OpenMC\n",
    "!rm *.h5\n",
    "results_filename = model.run()"
   ]
  },
  {
   "cell_type": "markdown",
   "metadata": {},
   "source": [
    "This section extracts the cell tally data from the results file and plots neutron flux across the cell."
   ]
  },
  {
   "cell_type": "code",
   "execution_count": null,
   "metadata": {},
   "outputs": [],
   "source": [
    "# open the results file\n",
    "results = openmc.StatePoint(results_filename)\n",
    "\n",
    "#extracts the tally values from the simulation results\n",
    "cell_tally = results.get_tally(name='cell_spectra_tally')\n",
    "\n",
    "# imports a convenient plotting package\n",
    "from spectrum_plotter import plot_spectrum_from_tally\n",
    "\n",
    "plot_spectrum_from_tally(\n",
    "    spectrum={'front surface': cell_tally},\n",
    "    x_label = \"energy [eV]\",\n",
    "    y_label = \"flux [neutrons centimeter / source neutron]\",\n",
    "    plotting_package=\"plotly\",  # matplotlib is another option, but plotly option provides a dropdown menu for changing axis scale\n",
    ")"
   ]
  },
  {
   "cell_type": "markdown",
   "metadata": {},
   "source": [
    "This section extracts the surface tally data from the results file and plots neutron current through the inner and outer surfaces."
   ]
  },
  {
   "cell_type": "code",
   "execution_count": null,
   "metadata": {},
   "outputs": [],
   "source": [
    "# open the results file\n",
    "results = openmc.StatePoint(results_filename)\n",
    "\n",
    "#extracts the tally values from the simulation results\n",
    "back_surface_tally = results.get_tally(name='back_surface_spectra_tally')\n",
    "front_surface_tally = results.get_tally(name='front_surface_spectra_tally')\n",
    "\n",
    "# imports a convenient plotting package\n",
    "from spectrum_plotter import plot_spectrum_from_tally\n",
    "\n",
    "# import openmc_post_processor as opp\n",
    "# opp.get_tally_units(front_surface_tally)\n",
    "\n",
    "plot_spectrum_from_tally(\n",
    "    spectrum={'back_surface_tally': back_surface_tally, 'front_surface_tally':front_surface_tally},\n",
    "    x_label = \"energy [eV]\",\n",
    "    y_label = \"neutrons per source neutron\",\n",
    "    plotting_package=\"plotly\",  # matplotlib is another option, but plotly option provides a dropdown menu for changing axis scale\n",
    "    required_units = 'neutrons / source_particle'\n",
    ")"
   ]
  },
  {
   "cell_type": "markdown",
   "metadata": {},
   "source": [
    "#### Additional notes\n",
    "\n",
    "- The current tally has a direction so particles can be +ve or -ve contributors.\n",
    "- Sometimes an additional cellFromFilter is needed to detect the current in a certain direction.\n",
    "- When comparing these results with other codes it might be necessary to scale them:\n",
    "    - The OpenMC surface current needs to be divided by the surface area when comparing with MCNP.\n",
    "    - The OpenMC cell flux needs to be divided by the cell volume when comparing with MCNP.\n"
   ]
  },
  {
   "cell_type": "markdown",
   "metadata": {},
   "source": [
    "**Learning Outcomes for Part 1:**\n",
    "\n",
    "- Neutron spectra can be tallied in OpenMC using flux or current tallies, and energy bins.\n",
    "- Neutron spectra tend to be different on different surfaces and cells in the geometry."
   ]
  },
  {
   "cell_type": "code",
   "execution_count": null,
   "metadata": {},
   "outputs": [],
   "source": []
  }
 ],
 "metadata": {
  "interpreter": {
   "hash": "87fb685266cfd4d9999648262053a1e5a3f0a6cce94300cd25f6927cd6d1dd16"
  },
  "kernelspec": {
   "display_name": "Python 3 (ipykernel)",
   "language": "python",
   "name": "python3"
  },
  "language_info": {
   "codemirror_mode": {
    "name": "ipython",
    "version": 3
   },
   "file_extension": ".py",
   "mimetype": "text/x-python",
   "name": "python",
   "nbconvert_exporter": "python",
   "pygments_lexer": "ipython3",
   "version": "3.8.12"
  }
 },
 "nbformat": 4,
 "nbformat_minor": 4
}
