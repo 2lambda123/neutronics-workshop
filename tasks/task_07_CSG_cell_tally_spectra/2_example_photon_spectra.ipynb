{
 "cells": [
  {
   "cell_type": "markdown",
   "source": [
    "# Part 2 - Plotting photon energy spectra in a histogram form\n",
    "\n",
    "This example creates a simple sphere of tungsten and tallies the photons in two different ways:\n",
    "\n",
    "- Photon flux averaged across the cell\n",
    "- Photon current on the rear surface"
   ],
   "metadata": {}
  },
  {
   "cell_type": "markdown",
   "source": [
    "This section creates a simple material, geometry and settings. This model is used in both the photon current tally and photon flux tally."
   ],
   "metadata": {}
  },
  {
   "cell_type": "code",
   "execution_count": null,
   "source": [
    "import openmc\n",
    "\n",
    "# MATERIALS\n",
    "\n",
    "# Tungsten is a very good photon shield, partly due to its high Z number and electrons\n",
    "my_material = openmc.Material(name='tungsten')\n",
    "my_material.add_element('W', 1, percent_type='ao')\n",
    "my_material.set_density('g/cm3', 19)\n",
    "\n",
    "mats = openmc.Materials([my_material])\n",
    "\n",
    "\n",
    "# GEOMETRY\n",
    "\n",
    "# surfaces\n",
    "vessel_inner_surface = openmc.Sphere(r=500)\n",
    "vessel_rear_surface = openmc.Sphere(r=530)\n",
    "# Currently it is not possible to tally on boundary_type='vacuum' surfaces\n",
    "outer_surface = openmc.Sphere(r=550, boundary_type='vacuum')\n",
    "\n",
    "# cells\n",
    "inner_vessel_cell = openmc.Cell(region=-vessel_inner_surface)\n",
    "# inner_vessel_cell is filled with a void / vacuum by default\n",
    "\n",
    "blanket_cell = openmc.Cell(region=-vessel_rear_surface & +vessel_inner_surface)\n",
    "blanket_cell.fill = my_material\n",
    "\n",
    "outer_vessel_cell = openmc.Cell(region=+vessel_rear_surface & -outer_surface)\n",
    "# this is filled with a void / vacuum by default\n",
    "\n",
    "universe = openmc.Universe(cells=[inner_vessel_cell,blanket_cell, outer_vessel_cell])\n",
    "geom = openmc.Geometry(universe)\n",
    "\n",
    "\n",
    "# SIMULATION SETTINGS\n",
    "\n",
    "# Instantiate a Settings object\n",
    "sett = openmc.Settings()\n",
    "sett.batches = 10\n",
    "sett.inactive = 0 # the default is 10, which would be wasted computing for us\n",
    "sett.particles = 1000\n",
    "sett.run_mode = 'fixed source'\n",
    "sett.photon_transport = True  # This line is required to switch on photons tracking\n",
    "\n",
    "\n",
    "# Create a DT point source\n",
    "source = openmc.Source()\n",
    "source.space = openmc.stats.Point((0, 0, 0))\n",
    "source.angle = openmc.stats.Isotropic()\n",
    "# neutron is the default source.particle value so this line is not actually necessary for the simulation.\n",
    "# However it is added for clarity.\n",
    "# This simulation has a neutron source and those neutrons generate photons via interactions with the material.\n",
    "# The resulting photons energy spectrum is tallied, but the units are still per source netron.\n",
    "source.particle = 'neutron' \n",
    "source.energy = openmc.stats.Discrete([14e6], [1])\n",
    "sett.source = source"
   ],
   "outputs": [],
   "metadata": {}
  },
  {
   "cell_type": "markdown",
   "source": [
    "This section section adds a tally for the average photon flux across a cell."
   ],
   "metadata": {}
  },
  {
   "cell_type": "code",
   "execution_count": null,
   "source": [
    "#creates an empty tally object\n",
    "tallies = openmc.Tallies()\n",
    "\n",
    "# sets up filters for the tallies\n",
    "neutron_particle_filter = openmc.ParticleFilter(['photon'])  # note the use of photons here\n",
    "energy_filter = openmc.EnergyFilter.from_group_structure('VITAMIN-J-175')\n",
    "\n",
    "\n",
    "# setup the filters for the cell tally\n",
    "cell_filter = openmc.CellFilter(blanket_cell) \n",
    "\n",
    "# create the tally\n",
    "cell_spectra_tally = openmc.Tally(name='cell_spectra_tally')\n",
    "cell_spectra_tally.scores = ['flux']\n",
    "cell_spectra_tally.filters = [cell_filter, neutron_particle_filter, energy_filter]\n",
    "tallies.append(cell_spectra_tally)"
   ],
   "outputs": [],
   "metadata": {}
  },
  {
   "cell_type": "markdown",
   "source": [
    "This section runs the simulation."
   ],
   "metadata": {}
  },
  {
   "cell_type": "code",
   "execution_count": null,
   "source": [
    "# combine all the required parts to make a model\n",
    "model = openmc.model.Model(geom, mats, sett, tallies)\n",
    "\n",
    "# remove old files and runs OpenMC\n",
    "!rm *.h5\n",
    "results_filename = model.run()"
   ],
   "outputs": [],
   "metadata": {}
  },
  {
   "cell_type": "markdown",
   "source": [
    "This section extracts the cell tally data from the results file and plots photon flux across the cell."
   ],
   "metadata": {}
  },
  {
   "cell_type": "code",
   "execution_count": null,
   "source": [
    "# open the results file\n",
    "results = openmc.StatePoint(results_filename)\n",
    "\n",
    "#extracts the tally values from the simulation results\n",
    "cell_tally = results.get_tally(name='cell_spectra_tally')\n",
    "\n",
    "# imports a convenient plotting package\n",
    "from spectrum_plotter import plot_spectrum_from_tally\n",
    "\n",
    "plot_spectrum_from_tally(\n",
    "    spectrum={'cell tally':cell_tally},\n",
    "    x_label = \"energy [eV]\",\n",
    "    y_label = \"Photons per cm2 per source neutron\",\n",
    "    plotting_package=\"plotly\",  # matplotlib is another option, but plotly option provides a dropdown menu for changing axis scale\n",
    ")"
   ],
   "outputs": [],
   "metadata": {}
  },
  {
   "cell_type": "markdown",
   "source": [
    "- In this simulation we used the VITAMIN-J-175 energy group structure to tally neutrons in energy bins.\n",
    "- There are several group structures built into OpenMC.\n",
    "- I added the VITAMIN-J-175, CCFE-709 and UKAEA-1102 structures to the OpenMC source code - these are popular in fusion energy and it makes using them more convenient if they are in the source code.\n",
    "- OpenMC source code with other group structures can be found here: https://github.com/openmc-dev/openmc/blob/develop/openmc/mgxs/__init__.py."
   ],
   "metadata": {}
  },
  {
   "cell_type": "markdown",
   "source": [
    "**Learning Outcomes for Part 2:**\n",
    "\n",
    "- OpenMC can perform coupled neutron-photon simulations where photons are created from neutron interactions.\n",
    "- Photon spectra can be tallied in OpenMC using flux or current tallies, and energy bins."
   ],
   "metadata": {}
  },
  {
   "cell_type": "code",
   "execution_count": null,
   "source": [],
   "outputs": [],
   "metadata": {}
  }
 ],
 "metadata": {
  "kernelspec": {
   "display_name": "Python 3 (ipykernel)",
   "language": "python",
   "name": "python3"
  },
  "language_info": {
   "codemirror_mode": {
    "name": "ipython",
    "version": 3
   },
   "file_extension": ".py",
   "mimetype": "text/x-python",
   "name": "python",
   "nbconvert_exporter": "python",
   "pygments_lexer": "ipython3",
   "version": "3.8.11"
  }
 },
 "nbformat": 4,
 "nbformat_minor": 4
}